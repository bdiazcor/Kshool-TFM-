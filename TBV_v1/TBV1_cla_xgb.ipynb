{
 "cells": [
  {
   "cell_type": "code",
   "execution_count": 1,
   "metadata": {},
   "outputs": [
    {
     "data": {
      "text/html": [
       "<script>\n",
       "\n",
       "code_show=true;\n",
       "\n",
       "function code_toggle() {\n",
       "\n",
       "if (code_show){\n",
       "\n",
       "$('div.input').hide();\n",
       "\n",
       "} else {\n",
       "\n",
       "$('div.input').show();\n",
       "\n",
       "}\n",
       "\n",
       "code_show = !code_show\n",
       "\n",
       "}\n",
       "\n",
       "$( document ).ready(code_toggle);\n",
       "\n",
       "</script>\n",
       "\n",
       "<form action=\"javascript:code_toggle()\"><input type=\"submit\" value=\"Click here to toggle on/off the raw code.\"></form>"
      ],
      "text/plain": [
       "<IPython.core.display.HTML object>"
      ]
     },
     "execution_count": 1,
     "metadata": {},
     "output_type": "execute_result"
    }
   ],
   "source": [
    "from IPython.display import HTML\n",
    "HTML('''<script>\n",
    "\n",
    "code_show=true;\n",
    "\n",
    "function code_toggle() {\n",
    "\n",
    "if (code_show){\n",
    "\n",
    "$('div.input').hide();\n",
    "\n",
    "} else {\n",
    "\n",
    "$('div.input').show();\n",
    "\n",
    "}\n",
    "\n",
    "code_show = !code_show\n",
    "\n",
    "}\n",
    "\n",
    "$( document ).ready(code_toggle);\n",
    "\n",
    "</script>\n",
    "\n",
    "<form action=\"javascript:code_toggle()\"><input type=\"submit\" value=\"Click here to toggle on/off the raw code.\"></form>''')"
   ]
  },
  {
   "cell_type": "markdown",
   "metadata": {},
   "source": [
    "## 1. Import libraries"
   ]
  },
  {
   "cell_type": "code",
   "execution_count": 2,
   "metadata": {
    "scrolled": true,
    "slideshow": {
     "slide_type": "notes"
    }
   },
   "outputs": [
    {
     "name": "stdout",
     "output_type": "stream",
     "text": [
      "Populating the interactive namespace from numpy and matplotlib\n",
      "Populating the interactive namespace from numpy and matplotlib\n"
     ]
    }
   ],
   "source": [
    "import pandas as pd\n",
    "import numpy as np\n",
    "import matplotlib.pyplot as plt\n",
    "import seaborn as sns\n",
    "import os\n",
    "import sys\n",
    "import importlib\n",
    "import xgboost as xgb\n",
    "from sklearn.model_selection import cross_val_score\n",
    "from sklearn.model_selection import GridSearchCV,RandomizedSearchCV\n",
    "from sklearn.preprocessing import StandardScaler\n",
    "from sklearn.metrics import classification_report\n",
    "from sklearn.metrics import confusion_matrix, roc_curve, auc, precision_recall_curve \n",
    "from sklearn.metrics import roc_auc_score, f1_score, recall_score, precision_score\n",
    "from sklearn.pipeline import Pipeline\n",
    "import metrics\n",
    "import pickle\n",
    "%pylab inline\n",
    "pd.set_option('display.max_column',None)"
   ]
  },
  {
   "cell_type": "markdown",
   "metadata": {},
   "source": [
    "## 2. Generate dataset\n",
    "I will use the script [dataset_for_modeling.py](./dataset_for_modeling.py) that prepares the data as explained in the Exploratory Data Analysis ([Data_modeling_notebook chapter 2](./TBV1_classification_model.ipynb))"
   ]
  },
  {
   "cell_type": "code",
   "execution_count": 3,
   "metadata": {
    "scrolled": true
   },
   "outputs": [
    {
     "name": "stdout",
     "output_type": "stream",
     "text": [
      "Total sample reserved: 445\n",
      "Total population before train and test split: 8448\n",
      "X_train, y_train, X_test, y_test and data_reserved returned\n"
     ]
    }
   ],
   "source": [
    "import dataset_for_modeling"
   ]
  },
  {
   "cell_type": "code",
   "execution_count": 4,
   "metadata": {},
   "outputs": [],
   "source": [
    "X_train = dataset_for_modeling.X_train\n",
    "y_train = dataset_for_modeling.y_train\n",
    "X_test = dataset_for_modeling.X_test\n",
    "y_test = dataset_for_modeling.y_test"
   ]
  },
  {
   "cell_type": "markdown",
   "metadata": {},
   "source": [
    "## 3.  Xgboost tuning\n",
    "\n",
    "In this Notebook I am going to fine tune the XGboost hyperparameters to try to improve the result.   \n",
    "I am going to follow a similar approach, although not exhaustive, to the proposed in this article https://www.analyticsvidhya.com/blog/2016/02/complete-guide-parameter-tuning-gradient-boosting-gbm-python/:   \n",
    "\n",
    "With Gridsearch:  \n",
    "1) choose a learning rate (I will choose the default value of 0.1) and determine the optimal number of trees for this learning rate. This should range around 40-70. \n",
    "\n",
    "2) Tune tree-specific parameters for decided learning rate and number of trees. \n",
    "\n",
    "3) I test with different learning rates\n",
    "\n",
    "\n",
    "Main assumptions:   \n",
    "\n",
    "**- Managing imabalanced data**:  with class_weight \n",
    "  \n",
    "\n",
    "**- Metrics**: I will fit recall_score and plot othe important classification metrics: AUC, Roc curve, Precision & Recall curve, f1_score, Cummulative Gain and Lift (only with best estimator)\n",
    "\n",
    "\n",
    "**- Modeling Steps**:   \n",
    "1) Generate Classifier\n",
    "2) Fit   \n",
    "3) Metrics  \n",
    "4) Compare results   "
   ]
  },
  {
   "cell_type": "markdown",
   "metadata": {},
   "source": [
    "#### 1) Classifier"
   ]
  },
  {
   "cell_type": "markdown",
   "metadata": {},
   "source": [
    "**Estimator 1: clf_xgb_t1**  \n",
    "I search the optimal number of trees for learning_rate = 0.1,"
   ]
  },
  {
   "cell_type": "code",
   "execution_count": 5,
   "metadata": {
    "scrolled": true
   },
   "outputs": [
    {
     "name": "stdout",
     "output_type": "stream",
     "text": [
      "Fitting 5 folds for each of 3 candidates, totalling 15 fits\n"
     ]
    },
    {
     "name": "stderr",
     "output_type": "stream",
     "text": [
      "[Parallel(n_jobs=-1)]: Using backend LokyBackend with 2 concurrent workers.\n",
      "[Parallel(n_jobs=-1)]: Done  15 out of  15 | elapsed:    9.4s finished\n"
     ]
    },
    {
     "data": {
      "text/plain": [
       "({'classifier__n_estimators': 60}, 0.015151515151515152)"
      ]
     },
     "execution_count": 5,
     "metadata": {},
     "output_type": "execute_result"
    }
   ],
   "source": [
    "pipe_xgb =  Pipeline([('scaler',StandardScaler()),\n",
    "                     ('classifier', xgb.XGBClassifier(learning_rate = 0.1,                                                \n",
    "                                                      max_features='sqrt',\n",
    "                                                      max_depth=3,                                                 \n",
    "                                                      subsample=0.8,\n",
    "                                                      class_weight='balanced',\n",
    "                                                      booster = 'gbtree',\n",
    "                                                      random_state=42))])\n",
    "\n",
    "\n",
    "param_grid={'classifier__n_estimators':np.arange(40,70,10)}\n",
    "\n",
    "# Instanciate the classifier    \n",
    "clf_xgb_t1 = GridSearchCV(pipe_xgb, param_grid,cv = 5,\n",
    "                          iid=True,verbose=2,\n",
    "                          n_jobs = -1, \n",
    "                          scoring = 'recall')\n",
    "\n",
    "# Fit\n",
    "clf_xgb_t1.fit(X_train,y_train)\n",
    "\n",
    "# Results\n",
    "clf_xgb_t1.best_params_, clf_xgb_t1.best_score_"
   ]
  },
  {
   "cell_type": "markdown",
   "metadata": {},
   "source": [
    "**Estimator 2: clf_xgb_t2**   \n",
    "I tune tree-specific parameters for decided learning rate and number of trees. "
   ]
  },
  {
   "cell_type": "code",
   "execution_count": 6,
   "metadata": {
    "scrolled": true
   },
   "outputs": [
    {
     "name": "stdout",
     "output_type": "stream",
     "text": [
      "Fitting 5 folds for each of 12 candidates, totalling 60 fits\n"
     ]
    },
    {
     "name": "stderr",
     "output_type": "stream",
     "text": [
      "[Parallel(n_jobs=-1)]: Using backend LokyBackend with 2 concurrent workers.\n",
      "[Parallel(n_jobs=-1)]: Done  37 tasks      | elapsed:   41.0s\n",
      "[Parallel(n_jobs=-1)]: Done  60 out of  60 | elapsed:  2.3min finished\n"
     ]
    },
    {
     "data": {
      "text/plain": [
       "({'classifier__max_depth': 13, 'classifier__max_features': 'sqrt'},\n",
       " 0.12424601161283048)"
      ]
     },
     "execution_count": 6,
     "metadata": {},
     "output_type": "execute_result"
    }
   ],
   "source": [
    "pipe_xgb =  Pipeline([('scaler',StandardScaler()),\n",
    "                     ('classifier', xgb.XGBClassifier(learning_rate = 0.1,\n",
    "                                                      n_estimators = 60,\n",
    "                                                      subsample=0.8,\n",
    "                                                      class_weight='balanced',\n",
    "                                                      booster = 'gbtree',\n",
    "                                                      random_state=42))])\n",
    "\n",
    "\n",
    "param_grid={'classifier__max_depth': np.arange(3,15,2),\n",
    "            'classifier__max_features': ['sqrt','log2']}\n",
    "\n",
    "# Instanciate the classifier    \n",
    "clf_xgb_t2 = GridSearchCV(pipe_xgb, param_grid,cv = 5,\n",
    "                          iid=True,verbose=2,\n",
    "                          n_jobs = -1, \n",
    "                          scoring = 'recall')\n",
    "\n",
    "\n",
    "# Fit\n",
    "clf_xgb_t2.fit(X_train,y_train)\n",
    "\n",
    "# Results\n",
    "clf_xgb_t2.best_params_, clf_xgb_t2.best_score_"
   ]
  },
  {
   "cell_type": "markdown",
   "metadata": {},
   "source": [
    "**Estimator 3: clf_xgb_t3**   \n",
    "I tune subsample"
   ]
  },
  {
   "cell_type": "code",
   "execution_count": 7,
   "metadata": {
    "scrolled": true
   },
   "outputs": [
    {
     "name": "stdout",
     "output_type": "stream",
     "text": [
      "Fitting 5 folds for each of 6 candidates, totalling 30 fits\n"
     ]
    },
    {
     "name": "stderr",
     "output_type": "stream",
     "text": [
      "[Parallel(n_jobs=-1)]: Using backend LokyBackend with 2 concurrent workers.\n",
      "[Parallel(n_jobs=-1)]: Done  30 out of  30 | elapsed:  2.3min finished\n"
     ]
    },
    {
     "data": {
      "text/plain": [
       "({'classifier__subsample': 0.9}, 0.13030354278451692)"
      ]
     },
     "execution_count": 7,
     "metadata": {},
     "output_type": "execute_result"
    }
   ],
   "source": [
    "pipe_xgb =  Pipeline([('scaler',StandardScaler()),\n",
    "                     ('classifier', xgb.XGBClassifier(learning_rate = 0.1,\n",
    "                                                      n_estimators = 60,\n",
    "                                                      max_depth = 13,\n",
    "                                                      max_features = 'sqrt',\n",
    "                                                 #     min_samples_leaf = 20,\n",
    "                                                 #     min_samples_split = 20,                                                      \n",
    "                                                      class_weight='balanced',\n",
    "                                                      booster = 'gbtree',\n",
    "                                                      random_state=42))])\n",
    "\n",
    "param_grid={'classifier__subsample':[0.6,0.7,0.75,0.8,0.85,0.9]}\n",
    "\n",
    "\n",
    "# Instanciate the classifier          \n",
    "clf_xgb_t3 = GridSearchCV(pipe_xgb, param_grid,cv = 5,\n",
    "                          iid=True,verbose=2,\n",
    "                          n_jobs = -1, \n",
    "                          scoring = 'recall')\n",
    "\n",
    "\n",
    "# Fit\n",
    "clf_xgb_t3.fit(X_train,y_train)\n",
    "\n",
    "# Results\n",
    "clf_xgb_t3.best_params_, clf_xgb_t3.best_score_"
   ]
  },
  {
   "cell_type": "markdown",
   "metadata": {},
   "source": [
    "**Estimator 4: clf_xgb_t4**   \n",
    "Tuning learning rate"
   ]
  },
  {
   "cell_type": "code",
   "execution_count": 8,
   "metadata": {
    "scrolled": true
   },
   "outputs": [],
   "source": [
    "# Instanciate the classifier    \n",
    "clf_xgb =  Pipeline([('scaler',StandardScaler()),\n",
    "                        ('classifier', xgb.XGBClassifier(learning_rate = 0.05,\n",
    "                                                         n_estimators = 60,\n",
    "                                                         max_depth = 13,\n",
    "                                                         max_features = 'sqrt',\n",
    "                                                         subsample=0.9,\n",
    "                                                         class_weight='balanced',\n",
    "                                                         scoring = 'recall',\n",
    "                                                         booster = 'gbtree',\n",
    "                                                         random_state=42))])\n"
   ]
  },
  {
   "cell_type": "markdown",
   "metadata": {},
   "source": [
    "#### **2) Fit the model**   \n",
    "With the parameters of last estimator (clf_xgb_t4)"
   ]
  },
  {
   "cell_type": "code",
   "execution_count": 9,
   "metadata": {
    "scrolled": false
   },
   "outputs": [
    {
     "data": {
      "text/plain": [
       "Pipeline(memory=None,\n",
       "         steps=[('scaler',\n",
       "                 StandardScaler(copy=True, with_mean=True, with_std=True)),\n",
       "                ('classifier',\n",
       "                 XGBClassifier(base_score=0.5, booster='gbtree',\n",
       "                               class_weight='balanced', colsample_bylevel=1,\n",
       "                               colsample_bynode=1, colsample_bytree=1, gamma=0,\n",
       "                               learning_rate=0.05, max_delta_step=0,\n",
       "                               max_depth=13, max_features='sqrt',\n",
       "                               min_child_weight=1, missing=None,\n",
       "                               n_estimators=60, n_jobs=1, nthread=None,\n",
       "                               objective='binary:logistic', random_state=42,\n",
       "                               reg_alpha=0, reg_lambda=1, scale_pos_weight=1,\n",
       "                               scoring='recall', seed=None, silent=None,\n",
       "                               subsample=0.9, verbosity=1))],\n",
       "         verbose=False)"
      ]
     },
     "execution_count": 9,
     "metadata": {},
     "output_type": "execute_result"
    }
   ],
   "source": [
    "clf_xgb.fit(X_train,y_train)"
   ]
  },
  {
   "cell_type": "markdown",
   "metadata": {},
   "source": [
    "**3) Metrics**  \n",
    "**Confussion matrix and classification report**  \n",
    "The recall is really low but the precision is good. I will work with the optimal cut-off"
   ]
  },
  {
   "cell_type": "code",
   "execution_count": 10,
   "metadata": {
    "scrolled": true
   },
   "outputs": [
    {
     "name": "stdout",
     "output_type": "stream",
     "text": [
      "Confusion matrix:\n",
      "[[2373   13]\n",
      " [ 129   20]]\n",
      "Classification report:\n",
      "              precision    recall  f1-score   support\n",
      "\n",
      "           0       0.95      0.99      0.97      2386\n",
      "           1       0.61      0.13      0.22       149\n",
      "\n",
      "    accuracy                           0.94      2535\n",
      "   macro avg       0.78      0.56      0.60      2535\n",
      "weighted avg       0.93      0.94      0.93      2535\n",
      "\n"
     ]
    }
   ],
   "source": [
    "#predict class values\n",
    "pred_xgb = clf_xgb.predict(X_test)\n",
    "\n",
    "#confussion matrix\n",
    "metrics.plot_cm(y_test,pred_xgb)"
   ]
  },
  {
   "cell_type": "markdown",
   "metadata": {},
   "source": [
    "**Roc - Auc**   \n",
    "I get a fair AUC. The best AUC of all the models I tested to the moment"
   ]
  },
  {
   "cell_type": "code",
   "execution_count": 11,
   "metadata": {
    "scrolled": true
   },
   "outputs": [
    {
     "name": "stdout",
     "output_type": "stream",
     "text": [
      "No Skill: ROC AUC=0.500\n",
      "Xgboost: ROC AUC=0.755\n"
     ]
    },
    {
     "data": {
      "image/png": "[encoded data removed]",
      "text/plain": [
       "<Figure size 432x288 with 1 Axes>"
      ]
     },
     "metadata": {
      "needs_background": "light"
     },
     "output_type": "display_data"
    }
   ],
   "source": [
    "# predict probabilities\n",
    "xgb_prob = clf_xgb.predict_proba(X_test)\n",
    "\n",
    "# keep probabilities for the positive outcome only\n",
    "xgb_prob = xgb_prob[:,1]\n",
    "\n",
    "# calculate AUC and ROC curve\n",
    "xgb_auc_roc, xgb_fpr, xgb_tpr, _xgb_th = metrics.plot_roc_curve(y_test,xgb_prob\n",
    "                                                                ,'Xgboost')"
   ]
  },
  {
   "cell_type": "markdown",
   "metadata": {},
   "source": [
    "**Precision-recall curve**  \n",
    "Although there is a bit of overfitting. The precision-recall curve is not good (f1 score relatively low)"
   ]
  },
  {
   "cell_type": "code",
   "execution_count": 12,
   "metadata": {
    "scrolled": false
   },
   "outputs": [
    {
     "name": "stdout",
     "output_type": "stream",
     "text": [
      "Xgboost: f1=0.220 auc=0.280\n"
     ]
    },
    {
     "data": {
      "image/png": "[encoded data removed]",
      "text/plain": [
       "<Figure size 432x288 with 1 Axes>"
      ]
     },
     "metadata": {
      "needs_background": "light"
     },
     "output_type": "display_data"
    }
   ],
   "source": [
    "# precision, recall and f1\n",
    "xgb_f1, xgb_precision, xgb_recall = metrics.plot_prec_rec(y_test,pred_xgb,xgb_prob,\n",
    "                                                                   'Xgboost')"
   ]
  },
  {
   "cell_type": "markdown",
   "metadata": {},
   "source": [
    "**Roc and precision and recall curves** to check possible overfitting   \n",
    "The AUC is lower in training than in test!! It maybe because of the random choice of sets and because although I tune d the algorithm with Gridsearch and cv, the fitted classifier, doesn't include CV.  \n",
    "I have applied CV in the final results metrics but not for the construction of the Roc and precision en recall curves.  \n",
    "From precision and recall curve I can deduce that I have some overfitting."
   ]
  },
  {
   "cell_type": "code",
   "execution_count": 13,
   "metadata": {
    "scrolled": true
   },
   "outputs": [
    {
     "name": "stdout",
     "output_type": "stream",
     "text": [
      "No Skill: ROC AUC=0.500\n",
      "XGB train: ROC AUC=0.661\n"
     ]
    },
    {
     "data": {
      "image/png": "[encoded data removed]",
      "text/plain": [
       "<Figure size 432x288 with 1 Axes>"
      ]
     },
     "metadata": {
      "needs_background": "light"
     },
     "output_type": "display_data"
    }
   ],
   "source": [
    "# AUC and Roc curve for training set\n",
    "pred_train_xgb = clf_xgb.predict(X_train)\n",
    "predic_prob_train_xgb =  clf_xgb.predict_proba(X_train)[:,1]\n",
    "a, b, c, d = metrics.plot_roc_curve(y_train,pred_train_xgb, 'XGB train')"
   ]
  },
  {
   "cell_type": "code",
   "execution_count": 14,
   "metadata": {
    "scrolled": true
   },
   "outputs": [
    {
     "name": "stdout",
     "output_type": "stream",
     "text": [
      "XGB train: f1=0.475 auc=0.808\n"
     ]
    },
    {
     "data": {
      "image/png": "[encoded data removed]",
      "text/plain": [
       "<Figure size 432x288 with 1 Axes>"
      ]
     },
     "metadata": {
      "needs_background": "light"
     },
     "output_type": "display_data"
    }
   ],
   "source": [
    "# Precision and recall curve for training set\n",
    "x,y,z =metrics.plot_prec_rec(y_train,pred_train_xgb,predic_prob_train_xgb, \n",
    "                              'XGB train')"
   ]
  },
  {
   "cell_type": "markdown",
   "metadata": {},
   "source": [
    "**4) Results summary on test dataset**  "
   ]
  },
  {
   "cell_type": "code",
   "execution_count": 15,
   "metadata": {
    "scrolled": true
   },
   "outputs": [],
   "source": [
    "X = dataset_for_modeling.X\n",
    "y = dataset_for_modeling.y\n",
    "result = pd.DataFrame(index=['recall', 'auc_roc','f1'])\n",
    "result['clf_xgb'] = [cross_val_score(clf_xgb,X,y,scoring='recall',cv=5).mean(),\n",
    "                     cross_val_score(clf_xgb,X,y,scoring='roc_auc',cv=5).mean(),\n",
    "                     cross_val_score(clf_xgb,X,y,scoring='f1',cv=5).mean()]"
   ]
  },
  {
   "cell_type": "code",
   "execution_count": 16,
   "metadata": {
    "scrolled": true
   },
   "outputs": [
    {
     "data": {
      "text/html": [
       "<div>\n",
       "<style scoped>\n",
       "    .dataframe tbody tr th:only-of-type {\n",
       "        vertical-align: middle;\n",
       "    }\n",
       "\n",
       "    .dataframe tbody tr th {\n",
       "        vertical-align: top;\n",
       "    }\n",
       "\n",
       "    .dataframe thead th {\n",
       "        text-align: right;\n",
       "    }\n",
       "</style>\n",
       "<table border=\"1\" class=\"dataframe\">\n",
       "  <thead>\n",
       "    <tr style=\"text-align: right;\">\n",
       "      <th></th>\n",
       "      <th>clf_xgb</th>\n",
       "    </tr>\n",
       "  </thead>\n",
       "  <tbody>\n",
       "    <tr>\n",
       "      <th>recall</th>\n",
       "      <td>0.120833</td>\n",
       "    </tr>\n",
       "    <tr>\n",
       "      <th>auc_roc</th>\n",
       "      <td>0.745001</td>\n",
       "    </tr>\n",
       "    <tr>\n",
       "      <th>f1</th>\n",
       "      <td>0.173855</td>\n",
       "    </tr>\n",
       "  </tbody>\n",
       "</table>\n",
       "</div>"
      ],
      "text/plain": [
       "          clf_xgb\n",
       "recall   0.120833\n",
       "auc_roc  0.745001\n",
       "f1       0.173855"
      ]
     },
     "execution_count": 16,
     "metadata": {},
     "output_type": "execute_result"
    }
   ],
   "source": [
    "result"
   ]
  },
  {
   "cell_type": "markdown",
   "metadata": {},
   "source": [
    "**Additional analysis: Find Optimal cut-off**   \n",
    "To improve the recall I am going to try to look for an optimum threshold. To calculate the optimal cut-off (true positive rate - false positive rate == 0).  \n",
    "I use the function **metrics.Find_Optimal_Cutoff**.   \n",
    "The optimal cut-off is very low: 0.065"
   ]
  },
  {
   "cell_type": "code",
   "execution_count": 17,
   "metadata": {
    "scrolled": false
   },
   "outputs": [
    {
     "name": "stdout",
     "output_type": "stream",
     "text": [
      "The optimal cut-off is: 0.07\n",
      "Confusion matrix:\n",
      "[[1678  708]\n",
      " [  45  104]]\n",
      "Classification report:\n",
      "              precision    recall  f1-score   support\n",
      "\n",
      "           0       0.97      0.70      0.82      2386\n",
      "           1       0.13      0.70      0.22       149\n",
      "\n",
      "    accuracy                           0.70      2535\n",
      "   macro avg       0.55      0.70      0.52      2535\n",
      "weighted avg       0.92      0.70      0.78      2535\n",
      "\n"
     ]
    }
   ],
   "source": [
    "# Add prediction probability to dataframe\n",
    "data = pd.DataFrame()\n",
    "data['pred_proba'] = pd.Series(xgb_prob)\n",
    "\n",
    "# Find optimal probability threshold\n",
    "threshold = metrics.Find_Optimal_Cutoff(y_test,data['pred_proba'])\n",
    "\n",
    "# Find prediction to the dataframe applying threshold\n",
    "data['pred'] = data['pred_proba'].map(lambda x: 1 if x > threshold else 0)\n",
    "\n",
    "# Print confusion Matrix\n",
    "metrics.plot_cm(y_test,data['pred'])"
   ]
  },
  {
   "cell_type": "code",
   "execution_count": 18,
   "metadata": {
    "scrolled": true
   },
   "outputs": [
    {
     "name": "stdout",
     "output_type": "stream",
     "text": [
      "Xgboost optimal cutoff: f1=0.216 auc=0.280\n"
     ]
    },
    {
     "data": {
      "image/png": "[encoded data removed]",
      "text/plain": [
       "<Figure size 432x288 with 1 Axes>"
      ]
     },
     "metadata": {
      "needs_background": "light"
     },
     "output_type": "display_data"
    }
   ],
   "source": [
    "xgb_opt_f1, xgb_opt_precision, xgb_opt_recall = metrics.plot_prec_rec(y_test,data['pred'],\n",
    "                                                                      xgb_prob,\n",
    "                                                                      'Xgboost optimal cutoff')"
   ]
  },
  {
   "cell_type": "code",
   "execution_count": 19,
   "metadata": {},
   "outputs": [],
   "source": [
    "result['xgb_opt_cutoff'] = [recall_score(y_test,data['pred']),\n",
    "                            cross_val_score(clf_xgb,X,y,scoring='roc_auc',cv=5).mean(),\n",
    "                            xgb_opt_f1]"
   ]
  },
  {
   "cell_type": "code",
   "execution_count": 20,
   "metadata": {},
   "outputs": [],
   "source": [
    "result['clf_xgb_no cv'] = [recall_score(y_test,pred_xgb),\n",
    "                            cross_val_score(clf_xgb,X,y,scoring='roc_auc',cv=5).mean(),\n",
    "                            xgb_f1]"
   ]
  },
  {
   "cell_type": "markdown",
   "metadata": {},
   "source": [
    "Compare results (they are not fully comparable because the recall and f1 have not been evaluated with cross validation in the second sceario).   \n",
    "For the sake of comparison, I generate a new alternative (classifier with threshold by default = 0.5) and metrics evaluation without crossvalidation (clf_xgb_no cv).  \n",
    "No surprises. When I decrease the threshold (xgb_opt_cutoff), the recall improves at precision expense (f1 score is a bit lower)"
   ]
  },
  {
   "cell_type": "code",
   "execution_count": 21,
   "metadata": {
    "scrolled": false
   },
   "outputs": [
    {
     "data": {
      "text/html": [
       "<div>\n",
       "<style scoped>\n",
       "    .dataframe tbody tr th:only-of-type {\n",
       "        vertical-align: middle;\n",
       "    }\n",
       "\n",
       "    .dataframe tbody tr th {\n",
       "        vertical-align: top;\n",
       "    }\n",
       "\n",
       "    .dataframe thead th {\n",
       "        text-align: right;\n",
       "    }\n",
       "</style>\n",
       "<table border=\"1\" class=\"dataframe\">\n",
       "  <thead>\n",
       "    <tr style=\"text-align: right;\">\n",
       "      <th></th>\n",
       "      <th>clf_xgb</th>\n",
       "      <th>xgb_opt_cutoff</th>\n",
       "      <th>clf_xgb_no cv</th>\n",
       "    </tr>\n",
       "  </thead>\n",
       "  <tbody>\n",
       "    <tr>\n",
       "      <th>recall</th>\n",
       "      <td>0.120833</td>\n",
       "      <td>0.697987</td>\n",
       "      <td>0.134228</td>\n",
       "    </tr>\n",
       "    <tr>\n",
       "      <th>auc_roc</th>\n",
       "      <td>0.745001</td>\n",
       "      <td>0.745001</td>\n",
       "      <td>0.745001</td>\n",
       "    </tr>\n",
       "    <tr>\n",
       "      <th>f1</th>\n",
       "      <td>0.173855</td>\n",
       "      <td>0.216441</td>\n",
       "      <td>0.219780</td>\n",
       "    </tr>\n",
       "  </tbody>\n",
       "</table>\n",
       "</div>"
      ],
      "text/plain": [
       "          clf_xgb  xgb_opt_cutoff  clf_xgb_no cv\n",
       "recall   0.120833        0.697987       0.134228\n",
       "auc_roc  0.745001        0.745001       0.745001\n",
       "f1       0.173855        0.216441       0.219780"
      ]
     },
     "execution_count": 21,
     "metadata": {},
     "output_type": "execute_result"
    }
   ],
   "source": [
    "result"
   ]
  },
  {
   "cell_type": "markdown",
   "metadata": {},
   "source": [
    "Most of class 1 probabilities are around 0.1 (it explains the low optimal cut off). "
   ]
  },
  {
   "cell_type": "code",
   "execution_count": 22,
   "metadata": {
    "scrolled": false
   },
   "outputs": [
    {
     "name": "stdout",
     "output_type": "stream",
     "text": [
      "Class 1 probability distribution:\n"
     ]
    },
    {
     "data": {
      "image/png": "[encoded data removed]",
      "text/plain": [
       "<Figure size 432x288 with 1 Axes>"
      ]
     },
     "metadata": {
      "needs_background": "light"
     },
     "output_type": "display_data"
    }
   ],
   "source": [
    "print('Class 1 probability distribution:')\n",
    "data['pred_proba'].hist();"
   ]
  },
  {
   "cell_type": "code",
   "execution_count": 23,
   "metadata": {},
   "outputs": [
    {
     "name": "stdout",
     "output_type": "stream",
     "text": [
      "Class 0 probability distribution:\n"
     ]
    },
    {
     "data": {
      "image/png": "[encoded data removed]",
      "text/plain": [
       "<Figure size 432x288 with 1 Axes>"
      ]
     },
     "metadata": {
      "needs_background": "light"
     },
     "output_type": "display_data"
    }
   ],
   "source": [
    "xgb_prob2 = clf_xgb.predict_proba(X_test)\n",
    "data['pred_proba0'] = pd.Series(xgb_prob2[:,0])\n",
    "print('Class 0 probability distribution:')\n",
    "data['pred_proba0'].hist();"
   ]
  }
 ],
 "metadata": {
  "kernelspec": {
   "display_name": "Python 3",
   "language": "python",
   "name": "python3"
  },
  "language_info": {
   "codemirror_mode": {
    "name": "ipython",
    "version": 3
   },
   "file_extension": ".py",
   "mimetype": "text/x-python",
   "name": "python",
   "nbconvert_exporter": "python",
   "pygments_lexer": "ipython3",
   "version": "3.7.3"
  }
 },
 "nbformat": 4,
 "nbformat_minor": 2
}
