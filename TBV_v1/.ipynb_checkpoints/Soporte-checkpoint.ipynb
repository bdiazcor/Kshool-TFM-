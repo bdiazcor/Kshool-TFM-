{
 "cells": [
  {
   "cell_type": "markdown",
   "metadata": {},
   "source": [
    "Bucle para identificar si faltan id_locales en un fichero u otro"
   ]
  },
  {
   "cell_type": "code",
   "execution_count": null,
   "metadata": {},
   "outputs": [],
   "source": [
    "%%time\n",
    "k = 0\n",
    "falta = []\n",
    "for i in df_locales19['id_local'].unique():\n",
    "    if i in df_epi19['id_local'].unique():\n",
    "        k += 1\n",
    "        print(k, True, i)\n",
    "    else:\n",
    "        falta.append(i)\n",
    "print(k,falta)"
   ]
  },
  {
   "cell_type": "markdown",
   "metadata": {},
   "source": [
    "Función para mapear valores de una columna basado en los valores de otras dos"
   ]
  },
  {
   "cell_type": "code",
   "execution_count": null,
   "metadata": {},
   "outputs": [],
   "source": [
    "def estado(column1, column2):\n",
    "    if len(column1) != len(column2):\n",
    "        return 'Error'\n",
    "    conditions = [\n",
    "        (column1 == 'LOCAL SIN ACTIVIDAD') & \n",
    "        (column2 == 'Abierto'), \n",
    "        (column2 == 'Baja'),\n",
    "        (column2 == 'Baja PC Asociado'),\n",
    "        (column2 == 'Baja Reunificacion'),\n",
    "        (column1 == 'LOCAL SIN ACTIVIDAD') & \n",
    "        (column2 == 'En obras'),\n",
    "        (column2 == 'Cerrado'),\n",
    "        (column2 == 'Uso vivienda'),\n",
    "        (column2 == 'Abierto'),\n",
    "        (column2 == 'En obras')\n",
    "        ]\n",
    "    outputs = ['Cerrado','Cerrado','Cerrado','Cerrado','Cerrado','Cerrado','Uso vivienda','Abierto','En obras']\n",
    "    res = np.select(conditions,outputs,'Other')\n",
    "    \n",
    "    return res"
   ]
  },
  {
   "cell_type": "markdown",
   "metadata": {},
   "source": [
    "Funciones interesantes"
   ]
  },
  {
   "cell_type": "code",
   "execution_count": null,
   "metadata": {},
   "outputs": [],
   "source": [
    "grouped = df_epigrafes19.groupby(['id_distrito_local'])\n",
    "grouped.agg('count')"
   ]
  },
  {
   "cell_type": "code",
   "execution_count": null,
   "metadata": {},
   "outputs": [],
   "source": [
    "tablon = pd.merge(df_epigrafes19,df_locales19,on='id_local')"
   ]
  },
  {
   "cell_type": "code",
   "execution_count": null,
   "metadata": {},
   "outputs": [],
   "source": [
    "d3 = pd.DataFrame(tablon.dtypes)\n",
    "d3.reset_index()"
   ]
  },
  {
   "cell_type": "code",
   "execution_count": null,
   "metadata": {},
   "outputs": [],
   "source": [
    "d3.reset_index().to_csv('variables_tablon.csv')"
   ]
  },
  {
   "cell_type": "code",
   "execution_count": null,
   "metadata": {},
   "outputs": [],
   "source": [
    "import seaborn as sns #para revisión de variables\n",
    "sns.jointplot(data=df_epigrafes19, x='id_local',y='id_barrio_local',kind='kde');"
   ]
  },
  {
   "cell_type": "code",
   "execution_count": null,
   "metadata": {},
   "outputs": [],
   "source": [
    "df_epigrafes19.columns = [column.strip for column in df_epigrafes19.columns]\n",
    "df_epigrafes19.head()"
   ]
  },
  {
   "cell_type": "markdown",
   "metadata": {},
   "source": [
    "Limpiar nombres de columnas"
   ]
  },
  {
   "cell_type": "code",
   "execution_count": null,
   "metadata": {},
   "outputs": [],
   "source": [
    "import pandas as pd\n",
    "\n",
    "\n",
    "def trim_all_columns(df):\n",
    "    \"\"\"\n",
    "    Trim whitespace from ends of each value across all series in dataframe\n",
    "    \"\"\"\n",
    "    trim_strings = lambda x: x.strip() if isinstance(x, str) else x\n",
    "    return df.applymap(trim_strings)\n",
    "\n",
    "\n",
    "# simple example of trimming whitespace from data elements\n",
    "df = pd.DataFrame([['  a  ', 10], ['  c  ', 5]])\n",
    "df = trim_all_columns(df)\n",
    "print(df)\n"
   ]
  },
  {
   "cell_type": "code",
   "execution_count": null,
   "metadata": {},
   "outputs": [],
   "source": [
    "tablon.isnull().sum()"
   ]
  },
  {
   "cell_type": "code",
   "execution_count": null,
   "metadata": {},
   "outputs": [],
   "source": [
    "#Revisar si un local mantiene epigrafe e id_local durante el tiempo\n",
    "df_epi18[df_epi18['desc_epigrafe'] == 'LOCAL SIN ACTIVIDAD'].head()\n",
    "df_local19_clean[df_local19_clean['id_local'] == 10001884]\n",
    "#he hecho la prueba con el id 10001884 'Mama Teresa'"
   ]
  }
 ],
 "metadata": {
  "kernelspec": {
   "display_name": "Python 3",
   "language": "python",
   "name": "python3"
  },
  "language_info": {
   "codemirror_mode": {
    "name": "ipython",
    "version": 3
   },
   "file_extension": ".py",
   "mimetype": "text/x-python",
   "name": "python",
   "nbconvert_exporter": "python",
   "pygments_lexer": "ipython3",
   "version": "3.7.3"
  }
 },
 "nbformat": 4,
 "nbformat_minor": 2
}
