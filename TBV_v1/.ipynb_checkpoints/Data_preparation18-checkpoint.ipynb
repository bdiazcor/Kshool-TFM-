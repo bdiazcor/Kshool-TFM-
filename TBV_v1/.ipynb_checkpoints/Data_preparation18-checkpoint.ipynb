{
 "cells": [
  {
   "cell_type": "markdown",
   "metadata": {},
   "source": [
    "Preparo los datos de 2018. Lo separo en otro Notebook por simplificar. Cuando esté limpio los uno.\n",
    "Para que sea un año entero. Cojo los datos de agosto 2018"
   ]
  },
  {
   "cell_type": "code",
   "execution_count": 1,
   "metadata": {},
   "outputs": [],
   "source": [
    "import pandas as pd\n",
    "import numpy as np\n",
    "import matplotlib.pyplot as plt"
   ]
  },
  {
   "cell_type": "code",
   "execution_count": 2,
   "metadata": {},
   "outputs": [],
   "source": [
    "pd.set_option('display.max_column',None)"
   ]
  },
  {
   "cell_type": "code",
   "execution_count": 3,
   "metadata": {},
   "outputs": [
    {
     "data": {
      "text/plain": [
       "'/home/dsc/Repos/TFM-Test-your-business-viability/TBV_v1'"
      ]
     },
     "execution_count": 3,
     "metadata": {},
     "output_type": "execute_result"
    }
   ],
   "source": [
    "import os\n",
    "os.getcwd()"
   ]
  },
  {
   "cell_type": "code",
   "execution_count": 4,
   "metadata": {
    "scrolled": true
   },
   "outputs": [
    {
     "name": "stdout",
     "output_type": "stream",
     "text": [
      "total 1729400\r\n",
      "drwxrwxr-x 2 dsc dsc     4096 oct 14 20:58  .\r\n",
      "drwxrwxr-x 4 dsc dsc     4096 oct 14 07:19  ..\r\n",
      "-rw-rw-r-- 1 dsc dsc 44416536 oct 13 08:38  2014_10_cla_actividades.csv\r\n",
      "-rw-rw-r-- 1 dsc dsc 27343285 oct 13 07:45  2014_10_cla_locales.csv\r\n",
      "-rw-rw-r-- 1 dsc dsc      987 oct 13 07:45  campos_fichero_epigrafes\r\n",
      "-rw-rw-r-- 1 dsc dsc      881 oct 13 07:45  campos_fichero_locales\r\n",
      "-rw-rw-r-- 1 dsc dsc 44849866 oct 13 07:45  cla_actividades201409.csv\r\n",
      "-rw-rw-r-- 1 dsc dsc 27459122 oct 13 07:45  cla_locales201409.csv\r\n",
      "-rw-rw-r-- 1 dsc dsc  1245108 oct 13 07:45  EpigrafesActividadEconomica.pdf\r\n",
      "-rw-rw-r-- 1 dsc dsc   140800 oct 13 07:45  EpigrafesActividadEconomica.xls\r\n",
      "-rw-rw-r-- 1 dsc dsc    85504 oct 14 08:03  Epigrafes_id.xls\r\n",
      "-rw-rw-r-- 1 dsc dsc    34507 oct 13 07:45 'Estructura_DS_ FicheroCLA_LICENCIAS.pdf'\r\n",
      "-rw-rw-r-- 1 dsc dsc    36129 oct 13 07:45  Estructura_DS_FicheroCLA.pdf\r\n",
      "-rw-rw-r-- 1 dsc dsc       64 oct 14 08:00  .~lock.EpigrafesActividadEconomica.xls#\r\n",
      "-rw-rw-r-- 1 dsc dsc  5345755 oct 14 20:58  OD_epig1908.csv\r\n",
      "-rw-rw-r-- 1 dsc dsc  4282879 oct 14 20:58  OD_locales1908.csv\r\n",
      "-rw-rw-r-- 1 dsc dsc 61010410 oct 13 08:40 'OPEN DATA Licencias201808.csv'\r\n",
      "-rw-rw-r-- 1 dsc dsc 63240187 oct 13 07:45 'OPEN DATA Licencias201812.csv'\r\n",
      "-rw-rw-r-- 1 dsc dsc 67879555 oct 13 07:45 'OPEN DATA Licencias201908.csv'\r\n",
      "-rw-rw-r-- 1 dsc dsc 66936507 oct 13 08:38 'OPEN DATA Locales201508.csv'\r\n",
      "-rw-rw-r-- 1 dsc dsc 60865638 oct 13 07:45 'OPEN DATA Locales201512.csv'\r\n",
      "-rw-rw-r-- 1 dsc dsc 60899722 oct 13 08:39 'OPEN DATA Locales201608.csv'\r\n",
      "-rw-rw-r-- 1 dsc dsc 60975971 oct 13 07:45 'OPEN DATA Locales201612.csv'\r\n",
      "-rw-rw-r-- 1 dsc dsc 61233774 oct 13 08:39 'OPEN DATA Locales201708.csv'\r\n",
      "-rw-rw-r-- 1 dsc dsc 61577212 oct 13 07:45 'OPEN DATA Locales201712.csv'\r\n",
      "-rw-rw-r-- 1 dsc dsc 61917952 oct 13 08:40 'OPEN DATA Locales201808.csv'\r\n",
      "-rw-rw-r-- 1 dsc dsc 61977121 oct 13 07:45 'OPEN DATA Locales201812.csv'\r\n",
      "-rw-rw-r-- 1 dsc dsc 62266611 oct 13 07:45 'OPEN DATA Locales201908_clean.csv'\r\n",
      "-rw-rw-r-- 1 dsc dsc 62246729 oct 13 07:45 'OPEN DATA Locales201908.csv'\r\n",
      "-rw-rw-r-- 1 dsc dsc 94686700 oct 13 08:38 'OPEN DATA Locales-Epigrafes201508.csv'\r\n",
      "-rw-rw-r-- 1 dsc dsc 88157068 oct 13 07:45 'OPEN DATA Locales-Epigrafes201512.csv'\r\n",
      "-rw-rw-r-- 1 dsc dsc 89136209 oct 13 08:39 'OPEN DATA Locales-Epigrafes201608.csv'\r\n",
      "-rw-rw-r-- 1 dsc dsc 89317652 oct 13 07:45 'OPEN DATA Locales-Epigrafes201612.csv'\r\n",
      "-rw-rw-r-- 1 dsc dsc 60038619 oct 13 08:40 'OPEN DATA Locales-Epigrafes201708.csv'\r\n",
      "-rw-rw-r-- 1 dsc dsc 90503010 oct 13 07:45 'OPEN DATA Locales-Epigrafes201711.csv'\r\n",
      "-rw-rw-r-- 1 dsc dsc 91224032 oct 13 08:40 'OPEN DATA Locales-Epigrafes201808.csv'\r\n",
      "-rw-rw-r-- 1 dsc dsc 91301000 oct 13 07:45 'OPEN DATA Locales-Epigrafes201812.csv'\r\n",
      "-rw-rw-r-- 1 dsc dsc 91867252 oct 13 07:45 'OPEN DATA Locales-Epigrafes201908.csv'\r\n",
      "-rw-rw-r-- 1 dsc dsc  1165365 oct 13 07:45 'OPEN DATA Terrazas201612.csv'\r\n",
      "-rw-rw-r-- 1 dsc dsc  2177633 oct 13 07:45 'OPEN DATA Terrazas201712.csv'\r\n",
      "-rw-rw-r-- 1 dsc dsc  4224978 oct 13 08:40 'OPEN DATA Terrazas201808.csv'\r\n",
      "-rw-rw-r-- 1 dsc dsc  4291678 oct 13 07:45 'OPEN DATA Terrazas201812.csv'\r\n",
      "-rw-rw-r-- 1 dsc dsc  4428106 oct 13 07:45 'OPEN DATA Terrazas201908.csv'\r\n"
     ]
    }
   ],
   "source": [
    "folder2 = '~/Repos/TFM-Test-your-business-viability/Data/censolocales/'\n",
    "\n",
    "!ls -al {folder2}"
   ]
  },
  {
   "cell_type": "markdown",
   "metadata": {},
   "source": [
    "Files loading"
   ]
  },
  {
   "cell_type": "code",
   "execution_count": 5,
   "metadata": {},
   "outputs": [
    {
     "name": "stdout",
     "output_type": "stream",
     "text": [
      "/home/dsc/Repos/TFM-Test-your-business-viability/Data/censolocales\n"
     ]
    }
   ],
   "source": [
    "cd {folder2}"
   ]
  },
  {
   "cell_type": "code",
   "execution_count": 6,
   "metadata": {
    "scrolled": true
   },
   "outputs": [
    {
     "name": "stderr",
     "output_type": "stream",
     "text": [
      "/home/dsc/.local/lib/python3.7/site-packages/IPython/core/interactiveshell.py:3057: DtypeWarning: Columns (42,44) have mixed types. Specify dtype option on import or set low_memory=False.\n",
      "  interactivity=interactivity, compiler=compiler, result=result)\n"
     ]
    },
    {
     "name": "stdout",
     "output_type": "stream",
     "text": [
      "<class 'pandas.core.frame.DataFrame'>\n",
      "RangeIndex: 162343 entries, 0 to 162342\n",
      "Data columns (total 46 columns):\n",
      "id_local                     162343 non-null int64\n",
      "id_distrito_local            162343 non-null int64\n",
      "desc_distrito_local          162343 non-null object\n",
      "id_barrio_local              162343 non-null int64\n",
      "desc_barrio_local            162343 non-null object\n",
      "cod_barrio_local             0 non-null float64\n",
      "id_seccion_censal_local      0 non-null float64\n",
      "desc_seccion_censal_local    162343 non-null int64\n",
      "coordenada_x_local           162343 non-null object\n",
      "coordenada_y_local           162343 non-null object\n",
      "id_tipo_acceso_local         0 non-null float64\n",
      "desc_tipo_acceso_local       162343 non-null object\n",
      "id_situacion_local           0 non-null float64\n",
      "desc_situacion_local         162343 non-null object\n",
      "id_vial_edificio             162343 non-null int64\n",
      "clase_vial_edificio          162343 non-null object\n",
      "desc_vial_edificio           162343 non-null object\n",
      "id_ndp_edificio              162343 non-null int64\n",
      "id_clase_ndp_edificio        162343 non-null int64\n",
      "nom_edificio                 162343 non-null object\n",
      "num_edificio                 162343 non-null int64\n",
      "cal_edificio                 162343 non-null object\n",
      "secuencial_local_PC          162343 non-null int64\n",
      "id_vial_acceso               0 non-null float64\n",
      "clase_vial_acceso            162343 non-null object\n",
      "desc_vial_acceso             162343 non-null object\n",
      "id_ndp_acceso                162343 non-null int64\n",
      "id_clase_ndp_acceso          162343 non-null int64\n",
      "nom_acceso                   162343 non-null object\n",
      "num_acceso                   162343 non-null int64\n",
      "cal_acceso                   162343 non-null object\n",
      "coordenada_x_agrupacion      15234 non-null object\n",
      "coordenada_y_agrup           15234 non-null object\n",
      "id_agrupacion                15234 non-null float64\n",
      "nombre_agrupacion            15234 non-null object\n",
      "id_tipo_agrup                15234 non-null float64\n",
      "desc_tipo_agrup              15234 non-null object\n",
      "id_planta_agrupado           159411 non-null object\n",
      "id_local_agrupado            15143 non-null object\n",
      "rotulo                       162343 non-null object\n",
      "id_seccion                   120244 non-null object\n",
      "desc_seccion                 120244 non-null object\n",
      "id_division                  120244 non-null object\n",
      "desc_division                120244 non-null object\n",
      "id_epigrafe                  120244 non-null object\n",
      "desc_epigrafe                120243 non-null object\n",
      "dtypes: float64(7), int64(12), object(27)\n",
      "memory usage: 57.0+ MB\n"
     ]
    }
   ],
   "source": [
    "df_epi18 = pd.read_csv('OPEN DATA Locales-Epigrafes201808.csv',sep=';',encoding='latin9')\n",
    "# Epigrafes_18 \n",
    "df_epi18.info()"
   ]
  },
  {
   "cell_type": "code",
   "execution_count": 10,
   "metadata": {},
   "outputs": [
    {
     "ename": "ParserError",
     "evalue": "Error tokenizing data. C error: Expected 40 fields in line 33070, saw 79\n",
     "output_type": "error",
     "traceback": [
      "\u001b[0;31m---------------------------------------------------------------------------\u001b[0m",
      "\u001b[0;31mParserError\u001b[0m                               Traceback (most recent call last)",
      "\u001b[0;32m<ipython-input-10-e887ab1c2723>\u001b[0m in \u001b[0;36m<module>\u001b[0;34m\u001b[0m\n\u001b[0;32m----> 1\u001b[0;31m \u001b[0mdf_locales18\u001b[0m \u001b[0;34m=\u001b[0m \u001b[0mpd\u001b[0m\u001b[0;34m.\u001b[0m\u001b[0mread_csv\u001b[0m\u001b[0;34m(\u001b[0m\u001b[0;34m'OPEN DATA Locales201808.csv'\u001b[0m\u001b[0;34m,\u001b[0m\u001b[0msep\u001b[0m\u001b[0;34m=\u001b[0m\u001b[0;34m';'\u001b[0m\u001b[0;34m,\u001b[0m\u001b[0mencoding\u001b[0m\u001b[0;34m=\u001b[0m\u001b[0;34m'latin9'\u001b[0m\u001b[0;34m)\u001b[0m\u001b[0;34m\u001b[0m\u001b[0;34m\u001b[0m\u001b[0m\n\u001b[0m\u001b[1;32m      2\u001b[0m \u001b[0;31m#locales 2018\u001b[0m\u001b[0;34m\u001b[0m\u001b[0;34m\u001b[0m\u001b[0;34m\u001b[0m\u001b[0m\n\u001b[1;32m      3\u001b[0m \u001b[0mdf_locales18\u001b[0m\u001b[0;34m.\u001b[0m\u001b[0minfo\u001b[0m\u001b[0;34m(\u001b[0m\u001b[0;34m)\u001b[0m\u001b[0;34m\u001b[0m\u001b[0;34m\u001b[0m\u001b[0m\n",
      "\u001b[0;32m~/anaconda3/lib/python3.7/site-packages/pandas/io/parsers.py\u001b[0m in \u001b[0;36mparser_f\u001b[0;34m(filepath_or_buffer, sep, delimiter, header, names, index_col, usecols, squeeze, prefix, mangle_dupe_cols, dtype, engine, converters, true_values, false_values, skipinitialspace, skiprows, nrows, na_values, keep_default_na, na_filter, verbose, skip_blank_lines, parse_dates, infer_datetime_format, keep_date_col, date_parser, dayfirst, iterator, chunksize, compression, thousands, decimal, lineterminator, quotechar, quoting, escapechar, comment, encoding, dialect, tupleize_cols, error_bad_lines, warn_bad_lines, skipfooter, doublequote, delim_whitespace, low_memory, memory_map, float_precision)\u001b[0m\n\u001b[1;32m    676\u001b[0m                     skip_blank_lines=skip_blank_lines)\n\u001b[1;32m    677\u001b[0m \u001b[0;34m\u001b[0m\u001b[0m\n\u001b[0;32m--> 678\u001b[0;31m         \u001b[0;32mreturn\u001b[0m \u001b[0m_read\u001b[0m\u001b[0;34m(\u001b[0m\u001b[0mfilepath_or_buffer\u001b[0m\u001b[0;34m,\u001b[0m \u001b[0mkwds\u001b[0m\u001b[0;34m)\u001b[0m\u001b[0;34m\u001b[0m\u001b[0;34m\u001b[0m\u001b[0m\n\u001b[0m\u001b[1;32m    679\u001b[0m \u001b[0;34m\u001b[0m\u001b[0m\n\u001b[1;32m    680\u001b[0m     \u001b[0mparser_f\u001b[0m\u001b[0;34m.\u001b[0m\u001b[0m__name__\u001b[0m \u001b[0;34m=\u001b[0m \u001b[0mname\u001b[0m\u001b[0;34m\u001b[0m\u001b[0;34m\u001b[0m\u001b[0m\n",
      "\u001b[0;32m~/anaconda3/lib/python3.7/site-packages/pandas/io/parsers.py\u001b[0m in \u001b[0;36m_read\u001b[0;34m(filepath_or_buffer, kwds)\u001b[0m\n\u001b[1;32m    444\u001b[0m \u001b[0;34m\u001b[0m\u001b[0m\n\u001b[1;32m    445\u001b[0m     \u001b[0;32mtry\u001b[0m\u001b[0;34m:\u001b[0m\u001b[0;34m\u001b[0m\u001b[0;34m\u001b[0m\u001b[0m\n\u001b[0;32m--> 446\u001b[0;31m         \u001b[0mdata\u001b[0m \u001b[0;34m=\u001b[0m \u001b[0mparser\u001b[0m\u001b[0;34m.\u001b[0m\u001b[0mread\u001b[0m\u001b[0;34m(\u001b[0m\u001b[0mnrows\u001b[0m\u001b[0;34m)\u001b[0m\u001b[0;34m\u001b[0m\u001b[0;34m\u001b[0m\u001b[0m\n\u001b[0m\u001b[1;32m    447\u001b[0m     \u001b[0;32mfinally\u001b[0m\u001b[0;34m:\u001b[0m\u001b[0;34m\u001b[0m\u001b[0;34m\u001b[0m\u001b[0m\n\u001b[1;32m    448\u001b[0m         \u001b[0mparser\u001b[0m\u001b[0;34m.\u001b[0m\u001b[0mclose\u001b[0m\u001b[0;34m(\u001b[0m\u001b[0;34m)\u001b[0m\u001b[0;34m\u001b[0m\u001b[0;34m\u001b[0m\u001b[0m\n",
      "\u001b[0;32m~/anaconda3/lib/python3.7/site-packages/pandas/io/parsers.py\u001b[0m in \u001b[0;36mread\u001b[0;34m(self, nrows)\u001b[0m\n\u001b[1;32m   1034\u001b[0m                 \u001b[0;32mraise\u001b[0m \u001b[0mValueError\u001b[0m\u001b[0;34m(\u001b[0m\u001b[0;34m'skipfooter not supported for iteration'\u001b[0m\u001b[0;34m)\u001b[0m\u001b[0;34m\u001b[0m\u001b[0;34m\u001b[0m\u001b[0m\n\u001b[1;32m   1035\u001b[0m \u001b[0;34m\u001b[0m\u001b[0m\n\u001b[0;32m-> 1036\u001b[0;31m         \u001b[0mret\u001b[0m \u001b[0;34m=\u001b[0m \u001b[0mself\u001b[0m\u001b[0;34m.\u001b[0m\u001b[0m_engine\u001b[0m\u001b[0;34m.\u001b[0m\u001b[0mread\u001b[0m\u001b[0;34m(\u001b[0m\u001b[0mnrows\u001b[0m\u001b[0;34m)\u001b[0m\u001b[0;34m\u001b[0m\u001b[0;34m\u001b[0m\u001b[0m\n\u001b[0m\u001b[1;32m   1037\u001b[0m \u001b[0;34m\u001b[0m\u001b[0m\n\u001b[1;32m   1038\u001b[0m         \u001b[0;31m# May alter columns / col_dict\u001b[0m\u001b[0;34m\u001b[0m\u001b[0;34m\u001b[0m\u001b[0;34m\u001b[0m\u001b[0m\n",
      "\u001b[0;32m~/anaconda3/lib/python3.7/site-packages/pandas/io/parsers.py\u001b[0m in \u001b[0;36mread\u001b[0;34m(self, nrows)\u001b[0m\n\u001b[1;32m   1846\u001b[0m     \u001b[0;32mdef\u001b[0m \u001b[0mread\u001b[0m\u001b[0;34m(\u001b[0m\u001b[0mself\u001b[0m\u001b[0;34m,\u001b[0m \u001b[0mnrows\u001b[0m\u001b[0;34m=\u001b[0m\u001b[0;32mNone\u001b[0m\u001b[0;34m)\u001b[0m\u001b[0;34m:\u001b[0m\u001b[0;34m\u001b[0m\u001b[0;34m\u001b[0m\u001b[0m\n\u001b[1;32m   1847\u001b[0m         \u001b[0;32mtry\u001b[0m\u001b[0;34m:\u001b[0m\u001b[0;34m\u001b[0m\u001b[0;34m\u001b[0m\u001b[0m\n\u001b[0;32m-> 1848\u001b[0;31m             \u001b[0mdata\u001b[0m \u001b[0;34m=\u001b[0m \u001b[0mself\u001b[0m\u001b[0;34m.\u001b[0m\u001b[0m_reader\u001b[0m\u001b[0;34m.\u001b[0m\u001b[0mread\u001b[0m\u001b[0;34m(\u001b[0m\u001b[0mnrows\u001b[0m\u001b[0;34m)\u001b[0m\u001b[0;34m\u001b[0m\u001b[0;34m\u001b[0m\u001b[0m\n\u001b[0m\u001b[1;32m   1849\u001b[0m         \u001b[0;32mexcept\u001b[0m \u001b[0mStopIteration\u001b[0m\u001b[0;34m:\u001b[0m\u001b[0;34m\u001b[0m\u001b[0;34m\u001b[0m\u001b[0m\n\u001b[1;32m   1850\u001b[0m             \u001b[0;32mif\u001b[0m \u001b[0mself\u001b[0m\u001b[0;34m.\u001b[0m\u001b[0m_first_chunk\u001b[0m\u001b[0;34m:\u001b[0m\u001b[0;34m\u001b[0m\u001b[0;34m\u001b[0m\u001b[0m\n",
      "\u001b[0;32mpandas/_libs/parsers.pyx\u001b[0m in \u001b[0;36mpandas._libs.parsers.TextReader.read\u001b[0;34m()\u001b[0m\n",
      "\u001b[0;32mpandas/_libs/parsers.pyx\u001b[0m in \u001b[0;36mpandas._libs.parsers.TextReader._read_low_memory\u001b[0;34m()\u001b[0m\n",
      "\u001b[0;32mpandas/_libs/parsers.pyx\u001b[0m in \u001b[0;36mpandas._libs.parsers.TextReader._read_rows\u001b[0;34m()\u001b[0m\n",
      "\u001b[0;32mpandas/_libs/parsers.pyx\u001b[0m in \u001b[0;36mpandas._libs.parsers.TextReader._tokenize_rows\u001b[0;34m()\u001b[0m\n",
      "\u001b[0;32mpandas/_libs/parsers.pyx\u001b[0m in \u001b[0;36mpandas._libs.parsers.raise_parser_error\u001b[0;34m()\u001b[0m\n",
      "\u001b[0;31mParserError\u001b[0m: Error tokenizing data. C error: Expected 40 fields in line 33070, saw 79\n"
     ]
    }
   ],
   "source": [
    "df_locales18 = pd.read_csv('OPEN DATA Locales201808.csv',sep=';',encoding='latin9')\n",
    "#locales 2018\n",
    "df_locales18.info()"
   ]
  },
  {
   "cell_type": "markdown",
   "metadata": {},
   "source": [
    "Mismo error que con el fichero de 2019. Separadores duplicados. Lo corrijo en línea de comandos y genero el fichero 'OPEN DATA Locales201808_clean.csv'"
   ]
  },
  {
   "cell_type": "code",
   "execution_count": 9,
   "metadata": {
    "scrolled": true
   },
   "outputs": [
    {
     "name": "stdout",
     "output_type": "stream",
     "text": [
      "<class 'pandas.core.frame.DataFrame'>\n",
      "RangeIndex: 146594 entries, 0 to 146593\n",
      "Data columns (total 40 columns):\n",
      "id_local                     146594 non-null int64\n",
      "id_distrito_local            146594 non-null int64\n",
      "desc_distrito_local          146594 non-null object\n",
      "id_barrio_local              146594 non-null int64\n",
      "desc_barrio_local            146594 non-null object\n",
      "cod_barrio_local             0 non-null float64\n",
      "id_seccion_censal_local      0 non-null float64\n",
      "desc_seccion_censal_local    146594 non-null int64\n",
      "coordenada_x_local           146594 non-null object\n",
      "coordenada_y_local           146594 non-null object\n",
      "id_tipo_acceso_local         0 non-null float64\n",
      "desc_tipo_acceso_local       146594 non-null object\n",
      "id_situacion_local           146594 non-null int64\n",
      "desc_situacion_local         146594 non-null object\n",
      "id_vial_edificio             0 non-null float64\n",
      "clase_vial_edificio          146594 non-null object\n",
      "desc_vial_edificio           146594 non-null object\n",
      "id_ndp_edificio              146594 non-null int64\n",
      "id_clase_ndp_edificio        146594 non-null int64\n",
      "nom_edificio                 146594 non-null object\n",
      "num_edificio                 146594 non-null int64\n",
      "cal_edificio                 146594 non-null object\n",
      "secuencial_local_PC          146594 non-null int64\n",
      "id_vial_acceso               0 non-null float64\n",
      "clase_vial_acceso            146594 non-null object\n",
      "desc_vial_acceso             146594 non-null object\n",
      "id_ndp_acceso                146594 non-null int64\n",
      "id_clase_ndp_acceso          146594 non-null int64\n",
      "nom_acceso                   146594 non-null object\n",
      "num_acceso                   146594 non-null int64\n",
      "cal_acceso                   146594 non-null object\n",
      "coordenada_x_agrupacion      13837 non-null object\n",
      "coordenada_y_agrup           13837 non-null object\n",
      "id_agrupacion                13837 non-null float64\n",
      "nombre_agrupacion            13837 non-null object\n",
      "id_tipo_agrup                13837 non-null float64\n",
      "desc_tipo_agrup              13837 non-null object\n",
      "id_planta_agrupado           143996 non-null object\n",
      "id_local_agrupado            13752 non-null object\n",
      "rotulo                       146594 non-null object\n",
      "dtypes: float64(7), int64(12), object(21)\n",
      "memory usage: 44.7+ MB\n"
     ]
    }
   ],
   "source": [
    "df_locales18 = pd.read_csv('OPEN DATA Locales201808_clean.csv',sep=';',encoding='latin9')\n",
    "#locales 2018\n",
    "df_locales18.info()"
   ]
  },
  {
   "cell_type": "code",
   "execution_count": 11,
   "metadata": {},
   "outputs": [
    {
     "name": "stderr",
     "output_type": "stream",
     "text": [
      "/home/dsc/.local/lib/python3.7/site-packages/IPython/core/interactiveshell.py:3057: DtypeWarning: Columns (41,43) have mixed types. Specify dtype option on import or set low_memory=False.\n",
      "  interactivity=interactivity, compiler=compiler, result=result)\n"
     ]
    },
    {
     "name": "stdout",
     "output_type": "stream",
     "text": [
      "<class 'pandas.core.frame.DataFrame'>\n",
      "RangeIndex: 109110 entries, 0 to 109109\n",
      "Data columns (total 46 columns):\n",
      "id_local                        109110 non-null int64\n",
      "id_distrito_local               109110 non-null int64\n",
      "desc_distrito_local             109110 non-null object\n",
      "id_barrio_local                 109110 non-null int64\n",
      "desc_barrio_local               109110 non-null object\n",
      "cod_barrio_local                109110 non-null int64\n",
      "id_seccion_censal_local         109110 non-null int64\n",
      "desc_seccion_censal_local       109110 non-null int64\n",
      "coordenada_x_local              109110 non-null object\n",
      "coordenada_y_local              109110 non-null object\n",
      "id_tipo_acceso_local            109110 non-null int64\n",
      "desc_tipo_acceso_local          109110 non-null object\n",
      "id_situacion_local              109110 non-null int64\n",
      "desc_situacion_local            109110 non-null object\n",
      "id_ndp_edificio                 109110 non-null int64\n",
      "id_clase_ndp_edificio           109110 non-null int64\n",
      "id_vial_edificio                109110 non-null int64\n",
      "clase_vial_edificio             109110 non-null object\n",
      "desc_vial_edificio              109110 non-null object\n",
      "nom_edificio                    109110 non-null object\n",
      "num_edificio                    109110 non-null int64\n",
      "cal_edificio                    109110 non-null object\n",
      "secuencial_local_PC             109110 non-null int64\n",
      "id_ndp_acceso                   109110 non-null int64\n",
      "id_clase_ndp_acceso             109110 non-null int64\n",
      "id_vial_acceso                  109110 non-null int64\n",
      "clase_vial_acceso               109110 non-null object\n",
      "desc_vial_acceso                109110 non-null object\n",
      "nom_acceso                      109110 non-null object\n",
      "num_acceso                      109110 non-null int64\n",
      "cal_acceso                      109110 non-null object\n",
      "coordenada_x_agrupacion         6806 non-null object\n",
      "coordenada_y_agrupacion         6806 non-null object\n",
      "id_agrupacion                   109110 non-null int64\n",
      "nombre_agrupacion               109110 non-null object\n",
      "id_tipo_agrup                   109110 non-null int64\n",
      "desc_tipo_agrup                 109110 non-null object\n",
      "id_planta_agrupado              108846 non-null object\n",
      "id_local_agrupado               6796 non-null object\n",
      "rotulo                          109110 non-null object\n",
      "ref_licencia                    109110 non-null object\n",
      "id_tipo_licencia                109110 non-null object\n",
      "desc_tipo_licencia              109110 non-null object\n",
      "id_tipo_situacion_licencia      109110 non-null object\n",
      "desc_tipo_situacion_licencia    109110 non-null object\n",
      "Fecha_Dec_Lic                   109107 non-null object\n",
      "dtypes: int64(19), object(27)\n",
      "memory usage: 38.3+ MB\n"
     ]
    }
   ],
   "source": [
    "df_licences18 = pd.read_csv('OPEN DATA Licencias201808.csv',sep=';')\n",
    "# licencias_18\n",
    "df_licences18.info()"
   ]
  },
  {
   "cell_type": "markdown",
   "metadata": {},
   "source": [
    "En 2018 los locales son aparentemente correctos en una primera revision. Voy a comprobar que son los mismos id"
   ]
  },
  {
   "cell_type": "code",
   "execution_count": 17,
   "metadata": {},
   "outputs": [
    {
     "data": {
      "text/plain": [
       "((162343, 46), (146594, 40))"
      ]
     },
     "execution_count": 17,
     "metadata": {},
     "output_type": "execute_result"
    }
   ],
   "source": [
    "df_epi18.shape, df_locales18.shape"
   ]
  },
  {
   "cell_type": "code",
   "execution_count": 13,
   "metadata": {},
   "outputs": [
    {
     "data": {
      "text/plain": [
       "146594"
      ]
     },
     "execution_count": 13,
     "metadata": {},
     "output_type": "execute_result"
    }
   ],
   "source": [
    "len(df_epi18['id_local'].unique())"
   ]
  },
  {
   "cell_type": "code",
   "execution_count": 12,
   "metadata": {},
   "outputs": [
    {
     "data": {
      "text/plain": [
       "146594"
      ]
     },
     "execution_count": 12,
     "metadata": {},
     "output_type": "execute_result"
    }
   ],
   "source": [
    "len(df_locales18['id_local'].unique())"
   ]
  },
  {
   "cell_type": "code",
   "execution_count": 19,
   "metadata": {},
   "outputs": [],
   "source": [
    "df_local18_com = df_locales18.merge(df_epi18, how= 'outer', on=['id_local'])"
   ]
  },
  {
   "cell_type": "code",
   "execution_count": 20,
   "metadata": {},
   "outputs": [
    {
     "data": {
      "text/plain": [
       "146594"
      ]
     },
     "execution_count": 20,
     "metadata": {},
     "output_type": "execute_result"
    }
   ],
   "source": [
    "len(df_local18_com['id_local'].unique()) #todos los ids coinciden"
   ]
  },
  {
   "cell_type": "markdown",
   "metadata": {},
   "source": [
    "Lo logico es que me quede sólo con las columnas situacion local y de epigrafes. Vere si una referencia se mantiene en el tiempo o si se reutiliza"
   ]
  },
  {
   "cell_type": "code",
   "execution_count": 23,
   "metadata": {},
   "outputs": [
    {
     "data": {
      "text/html": [
       "<div>\n",
       "<style scoped>\n",
       "    .dataframe tbody tr th:only-of-type {\n",
       "        vertical-align: middle;\n",
       "    }\n",
       "\n",
       "    .dataframe tbody tr th {\n",
       "        vertical-align: top;\n",
       "    }\n",
       "\n",
       "    .dataframe thead th {\n",
       "        text-align: right;\n",
       "    }\n",
       "</style>\n",
       "<table border=\"1\" class=\"dataframe\">\n",
       "  <thead>\n",
       "    <tr style=\"text-align: right;\">\n",
       "      <th></th>\n",
       "      <th>id_local</th>\n",
       "      <th>id_distrito_local</th>\n",
       "      <th>desc_distrito_local</th>\n",
       "      <th>id_barrio_local</th>\n",
       "      <th>desc_barrio_local</th>\n",
       "      <th>cod_barrio_local</th>\n",
       "      <th>id_seccion_censal_local</th>\n",
       "      <th>desc_seccion_censal_local</th>\n",
       "      <th>coordenada_x_local</th>\n",
       "      <th>coordenada_y_local</th>\n",
       "      <th>id_tipo_acceso_local</th>\n",
       "      <th>desc_tipo_acceso_local</th>\n",
       "      <th>id_situacion_local</th>\n",
       "      <th>desc_situacion_local</th>\n",
       "      <th>id_vial_edificio</th>\n",
       "      <th>clase_vial_edificio</th>\n",
       "      <th>desc_vial_edificio</th>\n",
       "      <th>id_ndp_edificio</th>\n",
       "      <th>id_clase_ndp_edificio</th>\n",
       "      <th>nom_edificio</th>\n",
       "      <th>num_edificio</th>\n",
       "      <th>cal_edificio</th>\n",
       "      <th>secuencial_local_PC</th>\n",
       "      <th>id_vial_acceso</th>\n",
       "      <th>clase_vial_acceso</th>\n",
       "      <th>desc_vial_acceso</th>\n",
       "      <th>id_ndp_acceso</th>\n",
       "      <th>id_clase_ndp_acceso</th>\n",
       "      <th>nom_acceso</th>\n",
       "      <th>num_acceso</th>\n",
       "      <th>cal_acceso</th>\n",
       "      <th>coordenada_x_agrupacion</th>\n",
       "      <th>coordenada_y_agrup</th>\n",
       "      <th>id_agrupacion</th>\n",
       "      <th>nombre_agrupacion</th>\n",
       "      <th>id_tipo_agrup</th>\n",
       "      <th>desc_tipo_agrup</th>\n",
       "      <th>id_planta_agrupado</th>\n",
       "      <th>id_local_agrupado</th>\n",
       "      <th>rotulo</th>\n",
       "      <th>id_seccion</th>\n",
       "      <th>desc_seccion</th>\n",
       "      <th>id_division</th>\n",
       "      <th>desc_division</th>\n",
       "      <th>id_epigrafe</th>\n",
       "      <th>desc_epigrafe</th>\n",
       "    </tr>\n",
       "  </thead>\n",
       "  <tbody>\n",
       "    <tr>\n",
       "      <th>113</th>\n",
       "      <td>10001884</td>\n",
       "      <td>1</td>\n",
       "      <td>CENTRO</td>\n",
       "      <td>103</td>\n",
       "      <td>CORTES</td>\n",
       "      <td>NaN</td>\n",
       "      <td>NaN</td>\n",
       "      <td>69</td>\n",
       "      <td>440407,59</td>\n",
       "      <td>4474033,53</td>\n",
       "      <td>NaN</td>\n",
       "      <td>Puerta Calle</td>\n",
       "      <td>NaN</td>\n",
       "      <td>Abierto</td>\n",
       "      <td>276100</td>\n",
       "      <td>CALLE</td>\n",
       "      <td>ESPOZ Y MINA                                  ...</td>\n",
       "      <td>11003816</td>\n",
       "      <td>1</td>\n",
       "      <td>NUM</td>\n",
       "      <td>32</td>\n",
       "      <td></td>\n",
       "      <td>20</td>\n",
       "      <td>NaN</td>\n",
       "      <td>CALLE</td>\n",
       "      <td>ESPOZ Y MINA                                  ...</td>\n",
       "      <td>11003816</td>\n",
       "      <td>1</td>\n",
       "      <td>NUM</td>\n",
       "      <td>32</td>\n",
       "      <td></td>\n",
       "      <td>NaN</td>\n",
       "      <td>NaN</td>\n",
       "      <td>NaN</td>\n",
       "      <td>NaN</td>\n",
       "      <td>NaN</td>\n",
       "      <td>NaN</td>\n",
       "      <td>PB</td>\n",
       "      <td>NaN</td>\n",
       "      <td>MAMA TERESA</td>\n",
       "      <td>Z</td>\n",
       "      <td>SIN ACTIVIDAD</td>\n",
       "      <td>00</td>\n",
       "      <td>SIN ACTIVIDAD</td>\n",
       "      <td>000000</td>\n",
       "      <td>LOCAL SIN ACTIVIDAD</td>\n",
       "    </tr>\n",
       "    <tr>\n",
       "      <th>142</th>\n",
       "      <td>10001291</td>\n",
       "      <td>1</td>\n",
       "      <td>CENTRO</td>\n",
       "      <td>104</td>\n",
       "      <td>JUSTICIA</td>\n",
       "      <td>NaN</td>\n",
       "      <td>NaN</td>\n",
       "      <td>79</td>\n",
       "      <td>440989,59</td>\n",
       "      <td>4474974,52</td>\n",
       "      <td>NaN</td>\n",
       "      <td>Puerta Calle</td>\n",
       "      <td>NaN</td>\n",
       "      <td>Abierto</td>\n",
       "      <td>94000</td>\n",
       "      <td>CALLE</td>\n",
       "      <td>BARQUILLO                                     ...</td>\n",
       "      <td>11004725</td>\n",
       "      <td>1</td>\n",
       "      <td>NUM</td>\n",
       "      <td>33</td>\n",
       "      <td></td>\n",
       "      <td>10</td>\n",
       "      <td>NaN</td>\n",
       "      <td>CALLE</td>\n",
       "      <td>BARQUILLO                                     ...</td>\n",
       "      <td>11004725</td>\n",
       "      <td>1</td>\n",
       "      <td>NUM</td>\n",
       "      <td>33</td>\n",
       "      <td></td>\n",
       "      <td>NaN</td>\n",
       "      <td>NaN</td>\n",
       "      <td>NaN</td>\n",
       "      <td>NaN</td>\n",
       "      <td>NaN</td>\n",
       "      <td>NaN</td>\n",
       "      <td>PB</td>\n",
       "      <td>NaN</td>\n",
       "      <td>MADRID HIFI</td>\n",
       "      <td>Z</td>\n",
       "      <td>SIN ACTIVIDAD</td>\n",
       "      <td>00</td>\n",
       "      <td>SIN ACTIVIDAD</td>\n",
       "      <td>000000</td>\n",
       "      <td>LOCAL SIN ACTIVIDAD</td>\n",
       "    </tr>\n",
       "    <tr>\n",
       "      <th>249</th>\n",
       "      <td>10002553</td>\n",
       "      <td>1</td>\n",
       "      <td>CENTRO</td>\n",
       "      <td>101</td>\n",
       "      <td>PALACIO</td>\n",
       "      <td>NaN</td>\n",
       "      <td>NaN</td>\n",
       "      <td>11</td>\n",
       "      <td>439713,59</td>\n",
       "      <td>4473738,53</td>\n",
       "      <td>NaN</td>\n",
       "      <td>Puerta Calle</td>\n",
       "      <td>NaN</td>\n",
       "      <td>Abierto</td>\n",
       "      <td>32600</td>\n",
       "      <td>CALLE</td>\n",
       "      <td>ALMENDRO                                      ...</td>\n",
       "      <td>20147740</td>\n",
       "      <td>1</td>\n",
       "      <td>NUM</td>\n",
       "      <td>25</td>\n",
       "      <td></td>\n",
       "      <td>10</td>\n",
       "      <td>NaN</td>\n",
       "      <td>CALLE</td>\n",
       "      <td>ALMENDRO                                      ...</td>\n",
       "      <td>20147740</td>\n",
       "      <td>1</td>\n",
       "      <td>NUM</td>\n",
       "      <td>25</td>\n",
       "      <td></td>\n",
       "      <td>NaN</td>\n",
       "      <td>NaN</td>\n",
       "      <td>NaN</td>\n",
       "      <td>NaN</td>\n",
       "      <td>NaN</td>\n",
       "      <td>NaN</td>\n",
       "      <td>PB</td>\n",
       "      <td>NaN</td>\n",
       "      <td>SIN ACTIVIDAD</td>\n",
       "      <td>Z</td>\n",
       "      <td>SIN ACTIVIDAD</td>\n",
       "      <td>00</td>\n",
       "      <td>SIN ACTIVIDAD</td>\n",
       "      <td>000000</td>\n",
       "      <td>LOCAL SIN ACTIVIDAD</td>\n",
       "    </tr>\n",
       "    <tr>\n",
       "      <th>266</th>\n",
       "      <td>10002670</td>\n",
       "      <td>1</td>\n",
       "      <td>CENTRO</td>\n",
       "      <td>104</td>\n",
       "      <td>JUSTICIA</td>\n",
       "      <td>NaN</td>\n",
       "      <td>NaN</td>\n",
       "      <td>73</td>\n",
       "      <td>441046,59</td>\n",
       "      <td>4474879,52</td>\n",
       "      <td>NaN</td>\n",
       "      <td>Puerta Calle</td>\n",
       "      <td>NaN</td>\n",
       "      <td>Abierto</td>\n",
       "      <td>33000</td>\n",
       "      <td>CALLE</td>\n",
       "      <td>ALMIRANTE                                     ...</td>\n",
       "      <td>11004182</td>\n",
       "      <td>1</td>\n",
       "      <td>NUM</td>\n",
       "      <td>6</td>\n",
       "      <td></td>\n",
       "      <td>10</td>\n",
       "      <td>NaN</td>\n",
       "      <td>CALLE</td>\n",
       "      <td>ALMIRANTE                                     ...</td>\n",
       "      <td>11004182</td>\n",
       "      <td>1</td>\n",
       "      <td>NUM</td>\n",
       "      <td>6</td>\n",
       "      <td></td>\n",
       "      <td>NaN</td>\n",
       "      <td>NaN</td>\n",
       "      <td>NaN</td>\n",
       "      <td>NaN</td>\n",
       "      <td>NaN</td>\n",
       "      <td>NaN</td>\n",
       "      <td>PB</td>\n",
       "      <td>NaN</td>\n",
       "      <td>ALMIRANTE SEIS</td>\n",
       "      <td>Z</td>\n",
       "      <td>SIN ACTIVIDAD</td>\n",
       "      <td>00</td>\n",
       "      <td>SIN ACTIVIDAD</td>\n",
       "      <td>000000</td>\n",
       "      <td>LOCAL SIN ACTIVIDAD</td>\n",
       "    </tr>\n",
       "    <tr>\n",
       "      <th>315</th>\n",
       "      <td>10003036</td>\n",
       "      <td>1</td>\n",
       "      <td>CENTRO</td>\n",
       "      <td>105</td>\n",
       "      <td>UNIVERSIDAD</td>\n",
       "      <td>NaN</td>\n",
       "      <td>NaN</td>\n",
       "      <td>112</td>\n",
       "      <td>439744,6</td>\n",
       "      <td>4474977,54</td>\n",
       "      <td>NaN</td>\n",
       "      <td>Puerta Calle</td>\n",
       "      <td>NaN</td>\n",
       "      <td>Abierto</td>\n",
       "      <td>342950</td>\n",
       "      <td>CALLE</td>\n",
       "      <td>GRAN VIA                                      ...</td>\n",
       "      <td>11006813</td>\n",
       "      <td>1</td>\n",
       "      <td>NUM</td>\n",
       "      <td>78</td>\n",
       "      <td></td>\n",
       "      <td>30</td>\n",
       "      <td>NaN</td>\n",
       "      <td>CALLE</td>\n",
       "      <td>GRAN VIA                                      ...</td>\n",
       "      <td>11006813</td>\n",
       "      <td>1</td>\n",
       "      <td>NUM</td>\n",
       "      <td>78</td>\n",
       "      <td></td>\n",
       "      <td>NaN</td>\n",
       "      <td>NaN</td>\n",
       "      <td>NaN</td>\n",
       "      <td>NaN</td>\n",
       "      <td>NaN</td>\n",
       "      <td>NaN</td>\n",
       "      <td>PB</td>\n",
       "      <td>NaN</td>\n",
       "      <td>JUGUETES A 10 EUROS</td>\n",
       "      <td>Z</td>\n",
       "      <td>SIN ACTIVIDAD</td>\n",
       "      <td>00</td>\n",
       "      <td>SIN ACTIVIDAD</td>\n",
       "      <td>000000</td>\n",
       "      <td>LOCAL SIN ACTIVIDAD</td>\n",
       "    </tr>\n",
       "  </tbody>\n",
       "</table>\n",
       "</div>"
      ],
      "text/plain": [
       "     id_local  id_distrito_local   desc_distrito_local  id_barrio_local  \\\n",
       "113  10001884                  1  CENTRO                            103   \n",
       "142  10001291                  1  CENTRO                            104   \n",
       "249  10002553                  1  CENTRO                            101   \n",
       "266  10002670                  1  CENTRO                            104   \n",
       "315  10003036                  1  CENTRO                            105   \n",
       "\n",
       "        desc_barrio_local  cod_barrio_local  id_seccion_censal_local  \\\n",
       "113  CORTES                             NaN                      NaN   \n",
       "142  JUSTICIA                           NaN                      NaN   \n",
       "249  PALACIO                            NaN                      NaN   \n",
       "266  JUSTICIA                           NaN                      NaN   \n",
       "315  UNIVERSIDAD                        NaN                      NaN   \n",
       "\n",
       "     desc_seccion_censal_local coordenada_x_local coordenada_y_local  \\\n",
       "113                         69          440407,59         4474033,53   \n",
       "142                         79          440989,59         4474974,52   \n",
       "249                         11          439713,59         4473738,53   \n",
       "266                         73          441046,59         4474879,52   \n",
       "315                        112           439744,6         4474977,54   \n",
       "\n",
       "     id_tipo_acceso_local desc_tipo_acceso_local  id_situacion_local  \\\n",
       "113                   NaN           Puerta Calle                 NaN   \n",
       "142                   NaN           Puerta Calle                 NaN   \n",
       "249                   NaN           Puerta Calle                 NaN   \n",
       "266                   NaN           Puerta Calle                 NaN   \n",
       "315                   NaN           Puerta Calle                 NaN   \n",
       "\n",
       "    desc_situacion_local  id_vial_edificio       clase_vial_edificio  \\\n",
       "113              Abierto            276100  CALLE                      \n",
       "142              Abierto             94000  CALLE                      \n",
       "249              Abierto             32600  CALLE                      \n",
       "266              Abierto             33000  CALLE                      \n",
       "315              Abierto            342950  CALLE                      \n",
       "\n",
       "                                    desc_vial_edificio  id_ndp_edificio  \\\n",
       "113  ESPOZ Y MINA                                  ...         11003816   \n",
       "142  BARQUILLO                                     ...         11004725   \n",
       "249  ALMENDRO                                      ...         20147740   \n",
       "266  ALMIRANTE                                     ...         11004182   \n",
       "315  GRAN VIA                                      ...         11006813   \n",
       "\n",
       "     id_clase_ndp_edificio nom_edificio  num_edificio cal_edificio  \\\n",
       "113                      1          NUM            32                \n",
       "142                      1          NUM            33                \n",
       "249                      1          NUM            25                \n",
       "266                      1          NUM             6                \n",
       "315                      1          NUM            78                \n",
       "\n",
       "     secuencial_local_PC  id_vial_acceso         clase_vial_acceso  \\\n",
       "113                   20             NaN  CALLE                      \n",
       "142                   10             NaN  CALLE                      \n",
       "249                   10             NaN  CALLE                      \n",
       "266                   10             NaN  CALLE                      \n",
       "315                   30             NaN  CALLE                      \n",
       "\n",
       "                                      desc_vial_acceso  id_ndp_acceso  \\\n",
       "113  ESPOZ Y MINA                                  ...       11003816   \n",
       "142  BARQUILLO                                     ...       11004725   \n",
       "249  ALMENDRO                                      ...       20147740   \n",
       "266  ALMIRANTE                                     ...       11004182   \n",
       "315  GRAN VIA                                      ...       11006813   \n",
       "\n",
       "     id_clase_ndp_acceso nom_acceso  num_acceso cal_acceso  \\\n",
       "113                    1        NUM          32              \n",
       "142                    1        NUM          33              \n",
       "249                    1        NUM          25              \n",
       "266                    1        NUM           6              \n",
       "315                    1        NUM          78              \n",
       "\n",
       "    coordenada_x_agrupacion coordenada_y_agrup  id_agrupacion  \\\n",
       "113                     NaN                NaN            NaN   \n",
       "142                     NaN                NaN            NaN   \n",
       "249                     NaN                NaN            NaN   \n",
       "266                     NaN                NaN            NaN   \n",
       "315                     NaN                NaN            NaN   \n",
       "\n",
       "    nombre_agrupacion  id_tipo_agrup desc_tipo_agrup id_planta_agrupado  \\\n",
       "113               NaN            NaN             NaN                 PB   \n",
       "142               NaN            NaN             NaN                 PB   \n",
       "249               NaN            NaN             NaN                 PB   \n",
       "266               NaN            NaN             NaN                 PB   \n",
       "315               NaN            NaN             NaN                 PB   \n",
       "\n",
       "    id_local_agrupado               rotulo id_seccion   desc_seccion  \\\n",
       "113               NaN          MAMA TERESA          Z  SIN ACTIVIDAD   \n",
       "142               NaN          MADRID HIFI          Z  SIN ACTIVIDAD   \n",
       "249               NaN        SIN ACTIVIDAD          Z  SIN ACTIVIDAD   \n",
       "266               NaN       ALMIRANTE SEIS          Z  SIN ACTIVIDAD   \n",
       "315               NaN  JUGUETES A 10 EUROS          Z  SIN ACTIVIDAD   \n",
       "\n",
       "    id_division  desc_division id_epigrafe        desc_epigrafe  \n",
       "113          00  SIN ACTIVIDAD      000000  LOCAL SIN ACTIVIDAD  \n",
       "142          00  SIN ACTIVIDAD      000000  LOCAL SIN ACTIVIDAD  \n",
       "249          00  SIN ACTIVIDAD      000000  LOCAL SIN ACTIVIDAD  \n",
       "266          00  SIN ACTIVIDAD      000000  LOCAL SIN ACTIVIDAD  \n",
       "315          00  SIN ACTIVIDAD      000000  LOCAL SIN ACTIVIDAD  "
      ]
     },
     "execution_count": 23,
     "metadata": {},
     "output_type": "execute_result"
    }
   ],
   "source": [
    "df_epi18[df_epi18['desc_epigrafe'] == 'LOCAL SIN ACTIVIDAD'].head()"
   ]
  },
  {
   "cell_type": "code",
   "execution_count": 21,
   "metadata": {},
   "outputs": [],
   "source": [
    "df_local18_d = df_locales18.drop(['cod_barrio_local', 'id_seccion_censal_local', 'id_tipo_acceso_local', 'id_vial_acceso', \n",
    "                               'id_vial_edificio', 'coordenada_x_agrupacion', 'coordenada_y_agrup',\n",
    "                                  'id_agrupacion','nombre_agrupacion', \n",
    "                               'id_tipo_agrup', 'desc_tipo_agrup', 'id_planta_agrupado', \n",
    "                               'id_local_agrupado', 'cal_acceso'], axis  = 1)\n",
    "\n",
    "df_epi18_d = df_epi18.drop(['id_distrito_local', 'desc_distrito_local', 'id_barrio_local', \n",
    "                            'desc_barrio_local', 'cod_barrio_local','id_seccion_censal_local',\n",
    "                            'desc_seccion_censal_local', \n",
    "                            'coordenada_x_local', 'coordenada_y_local', \n",
    "                            'id_tipo_acceso_local', 'desc_tipo_acceso_local', \n",
    "                            'id_situacion_local', 'desc_situacion_local', \n",
    "                            'clase_vial_edificio', 'desc_vial_edificio', 'id_ndp_edificio',\n",
    "                            'id_clase_ndp_edificio', 'nom_edificio', 'num_edificio', \n",
    "                            'cal_edificio', 'secuencial_local_PC', \n",
    "                            'id_vial_acceso', 'clase_vial_acceso', 'desc_vial_acceso', \n",
    "                            'id_ndp_acceso', 'id_clase_ndp_acceso', 'nom_acceso', \n",
    "                            'num_acceso', 'coordenada_x_agrupacion', 'coordenada_y_agrup',\n",
    "                            'id_agrupacion', 'id_planta_agrupado', 'id_local_agrupado',\n",
    "                            'cal_acceso','rotulo'], axis  = 1)"
   ]
  },
  {
   "cell_type": "code",
   "execution_count": null,
   "metadata": {},
   "outputs": [],
   "source": []
  },
  {
   "cell_type": "code",
   "execution_count": null,
   "metadata": {},
   "outputs": [],
   "source": []
  },
  {
   "cell_type": "code",
   "execution_count": null,
   "metadata": {},
   "outputs": [],
   "source": []
  },
  {
   "cell_type": "code",
   "execution_count": null,
   "metadata": {},
   "outputs": [],
   "source": []
  },
  {
   "cell_type": "code",
   "execution_count": null,
   "metadata": {},
   "outputs": [],
   "source": []
  },
  {
   "cell_type": "code",
   "execution_count": null,
   "metadata": {},
   "outputs": [],
   "source": []
  },
  {
   "cell_type": "code",
   "execution_count": null,
   "metadata": {},
   "outputs": [],
   "source": []
  },
  {
   "cell_type": "code",
   "execution_count": null,
   "metadata": {},
   "outputs": [],
   "source": []
  }
 ],
 "metadata": {
  "kernelspec": {
   "display_name": "Python 3",
   "language": "python",
   "name": "python3"
  },
  "language_info": {
   "codemirror_mode": {
    "name": "ipython",
    "version": 3
   },
   "file_extension": ".py",
   "mimetype": "text/x-python",
   "name": "python",
   "nbconvert_exporter": "python",
   "pygments_lexer": "ipython3",
   "version": "3.7.3"
  }
 },
 "nbformat": 4,
 "nbformat_minor": 2
}
