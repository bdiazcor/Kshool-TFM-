{
 "cells": [
  {
   "cell_type": "code",
   "execution_count": 1,
   "metadata": {},
   "outputs": [
    {
     "name": "stdout",
     "output_type": "stream",
     "text": [
      "Populating the interactive namespace from numpy and matplotlib\n"
     ]
    }
   ],
   "source": [
    "import pandas as pd\n",
    "import numpy as np\n",
    "import matplotlib.pyplot as plt\n",
    "import seaborn as sns\n",
    "import os\n",
    "import sys\n",
    "import importlib\n",
    "import clean_functions as cl\n",
    "import geopy\n",
    "import utm\n",
    "%pylab inline\n",
    "pd.set_option('display.max_column',None)"
   ]
  },
  {
   "cell_type": "markdown",
   "metadata": {},
   "source": [
    "## Data gathering\n",
    "Data gathering:\n",
    "- Activities files (from 2015 - 2019, Ayuntamiento Madrid)\n",
    "- Madrid population database (1st january 2019, Ayuntamiento Madrid)\n",
    "- Madrid floating population (16-22 april 2018, Private source)"
   ]
  },
  {
   "cell_type": "code",
   "execution_count": 2,
   "metadata": {
    "scrolled": true
   },
   "outputs": [
    {
     "data": {
      "text/plain": [
       "'/home/dsc/Python_notebooks/TFM/TBV/TBV_v1'"
      ]
     },
     "execution_count": 2,
     "metadata": {},
     "output_type": "execute_result"
    }
   ],
   "source": [
    "os.getcwd()"
   ]
  },
  {
   "cell_type": "markdown",
   "metadata": {},
   "source": [
    "### Activities file: \n",
    "Data from madrid.es open data portal: https://datos.madrid.es/portal/site/egob/menuitem.c05c1f754a33a9fbe4b2e4b284f1a5a0/?vgnextoid=23160329ff639410VgnVCM2000000c205a0aRCRD&vgnextchannel=374512b9ace9f310VgnVCM100000171f5a0aRCRD&vgnextfmt=default   \n",
    "We load the file into memory as a pandas dataframe. Files are uncompressed.   \n",
    "Careful with separators: some cleaning through Command Line has beeen necessary to remove \"ambigous separators\": clean versions of the files.   \n",
    "Encoding is Latin9 (although in documentation UTF8 is mentioned).      \n",
    "After checking all files available in Madrid web portal (locals, licences and activities (== epigrafes in Spanish), I will work over epigrafes file that contains all the locals and status.   \n",
    "Since the study is being done on a yearly basis and 2019 data is only available till Sep'19, I will use the September versions for all the files   \n",
    "I decided not use 2014 file since doesn'thave the same fields as the others and goes further in time.  "
   ]
  },
  {
   "cell_type": "code",
   "execution_count": 3,
   "metadata": {
    "scrolled": true
   },
   "outputs": [
    {
     "name": "stderr",
     "output_type": "stream",
     "text": [
      "/home/dsc/.local/lib/python3.7/site-packages/IPython/core/interactiveshell.py:3057: DtypeWarning: Columns (42,44) have mixed types. Specify dtype option on import or set low_memory=False.\n",
      "  interactivity=interactivity, compiler=compiler, result=result)\n"
     ]
    }
   ],
   "source": [
    "# 2019 data. A clean version is needed to correct wrong separators via command line\n",
    "df_epi19 = pd.read_csv('Data/censolocales/OPEN DATA Locales-Epigrafes201909_clean.csv',sep=';',encoding='latin9')\n",
    "# 2018 data. A clean version is needed to correct wrong separators via command line\n",
    "df_epi18 = pd.read_csv('Data/censolocales/OPEN DATA Locales-Epigrafes201809_clean.csv',sep=';',encoding='latin9')\n",
    "# 2017 data. September file was corrupted (many NaN). I will use Nov. file instead\n",
    "df_epi17 = pd.read_csv('Data/censolocales/OPEN DATA Locales-Epigrafes201711_clean.csv',sep=';',encoding='latin9')\n",
    "# 2016 data. This file is ok, no clean version is needed.\n",
    "df_epi16 = pd.read_csv('Data/censolocales/OPEN DATA Locales-Epigrafes201609.csv',sep=';',encoding='latin9')\n",
    "# 2015 data. This file is ok, no clean version is needed.\n",
    "df_epi15 = pd.read_csv('Data/censolocales/OPEN DATA Locales-Epigrafes201509.csv',sep=';',encoding='latin9')"
   ]
  },
  {
   "cell_type": "markdown",
   "metadata": {},
   "source": [
    "Each new year file contains the locals of previous years and the new that year. All of the have the same columns"
   ]
  },
  {
   "cell_type": "code",
   "execution_count": 5,
   "metadata": {},
   "outputs": [
    {
     "data": {
      "text/plain": [
       "((163355, 46), (162467, 46), (161097, 46), (159604, 46), (157206, 46))"
      ]
     },
     "execution_count": 5,
     "metadata": {},
     "output_type": "execute_result"
    }
   ],
   "source": [
    "df_epi19.shape, df_epi18.shape, df_epi17.shape, df_epi16.shape, df_epi15.shape"
   ]
  },
  {
   "cell_type": "code",
   "execution_count": 6,
   "metadata": {},
   "outputs": [
    {
     "data": {
      "text/plain": [
       "Index(['id_local', 'id_distrito_local', 'desc_distrito_local',\n",
       "       'id_barrio_local', 'desc_barrio_local', 'cod_barrio_local',\n",
       "       'id_seccion_censal_local', 'desc_seccion_censal_local',\n",
       "       'coordenada_x_local', 'coordenada_y_local', 'id_tipo_acceso_local',\n",
       "       'desc_tipo_acceso_local', 'id_situacion_local', 'desc_situacion_local',\n",
       "       'id_vial_edificio', 'clase_vial_edificio', 'desc_vial_edificio',\n",
       "       'id_ndp_edificio', 'id_clase_ndp_edificio', 'nom_edificio',\n",
       "       'num_edificio', 'cal_edificio', 'secuencial_local_PC', 'id_vial_acceso',\n",
       "       'clase_vial_acceso', 'desc_vial_acceso', 'id_ndp_acceso',\n",
       "       'id_clase_ndp_acceso', 'nom_acceso', 'num_acceso', 'cal_acceso',\n",
       "       'coordenada_x_agrupacion', 'coordenada_y_agrup', 'id_agrupacion',\n",
       "       'nombre_agrupacion', 'id_tipo_agrup', 'desc_tipo_agrup',\n",
       "       'id_planta_agrupado', 'id_local_agrupado', 'rotulo', 'id_seccion',\n",
       "       'desc_seccion', 'id_division', 'desc_division', 'id_epigrafe',\n",
       "       'desc_epigrafe'],\n",
       "      dtype='object')"
      ]
     },
     "execution_count": 6,
     "metadata": {},
     "output_type": "execute_result"
    }
   ],
   "source": [
    "df_epi19.columns"
   ]
  },
  {
   "cell_type": "code",
   "execution_count": 7,
   "metadata": {},
   "outputs": [
    {
     "data": {
      "text/html": [
       "<div>\n",
       "<style scoped>\n",
       "    .dataframe tbody tr th:only-of-type {\n",
       "        vertical-align: middle;\n",
       "    }\n",
       "\n",
       "    .dataframe tbody tr th {\n",
       "        vertical-align: top;\n",
       "    }\n",
       "\n",
       "    .dataframe thead th {\n",
       "        text-align: right;\n",
       "    }\n",
       "</style>\n",
       "<table border=\"1\" class=\"dataframe\">\n",
       "  <thead>\n",
       "    <tr style=\"text-align: right;\">\n",
       "      <th></th>\n",
       "      <th>id_local</th>\n",
       "      <th>id_distrito_local</th>\n",
       "      <th>desc_distrito_local</th>\n",
       "      <th>id_barrio_local</th>\n",
       "      <th>desc_barrio_local</th>\n",
       "      <th>cod_barrio_local</th>\n",
       "      <th>id_seccion_censal_local</th>\n",
       "      <th>desc_seccion_censal_local</th>\n",
       "      <th>coordenada_x_local</th>\n",
       "      <th>coordenada_y_local</th>\n",
       "      <th>id_tipo_acceso_local</th>\n",
       "      <th>desc_tipo_acceso_local</th>\n",
       "      <th>id_situacion_local</th>\n",
       "      <th>desc_situacion_local</th>\n",
       "      <th>id_vial_edificio</th>\n",
       "      <th>clase_vial_edificio</th>\n",
       "      <th>desc_vial_edificio</th>\n",
       "      <th>id_ndp_edificio</th>\n",
       "      <th>id_clase_ndp_edificio</th>\n",
       "      <th>nom_edificio</th>\n",
       "      <th>num_edificio</th>\n",
       "      <th>cal_edificio</th>\n",
       "      <th>secuencial_local_PC</th>\n",
       "      <th>id_vial_acceso</th>\n",
       "      <th>clase_vial_acceso</th>\n",
       "      <th>desc_vial_acceso</th>\n",
       "      <th>id_ndp_acceso</th>\n",
       "      <th>id_clase_ndp_acceso</th>\n",
       "      <th>nom_acceso</th>\n",
       "      <th>num_acceso</th>\n",
       "      <th>cal_acceso</th>\n",
       "      <th>coordenada_x_agrupacion</th>\n",
       "      <th>coordenada_y_agrup</th>\n",
       "      <th>id_agrupacion</th>\n",
       "      <th>nombre_agrupacion</th>\n",
       "      <th>id_tipo_agrup</th>\n",
       "      <th>desc_tipo_agrup</th>\n",
       "      <th>id_planta_agrupado</th>\n",
       "      <th>id_local_agrupado</th>\n",
       "      <th>rotulo</th>\n",
       "      <th>id_seccion</th>\n",
       "      <th>desc_seccion</th>\n",
       "      <th>id_division</th>\n",
       "      <th>desc_division</th>\n",
       "      <th>id_epigrafe</th>\n",
       "      <th>desc_epigrafe</th>\n",
       "    </tr>\n",
       "  </thead>\n",
       "  <tbody>\n",
       "    <tr>\n",
       "      <th>0</th>\n",
       "      <td>270440895</td>\n",
       "      <td>3</td>\n",
       "      <td>RETIRO</td>\n",
       "      <td>304</td>\n",
       "      <td>IBIZA</td>\n",
       "      <td>NaN</td>\n",
       "      <td>NaN</td>\n",
       "      <td>55</td>\n",
       "      <td>0</td>\n",
       "      <td>0</td>\n",
       "      <td>NaN</td>\n",
       "      <td>Agrupado</td>\n",
       "      <td>NaN</td>\n",
       "      <td>Abierto</td>\n",
       "      <td>370400</td>\n",
       "      <td>CALLE</td>\n",
       "      <td>IBIZA                                         ...</td>\n",
       "      <td>11012388</td>\n",
       "      <td>1</td>\n",
       "      <td>NUM</td>\n",
       "      <td>8</td>\n",
       "      <td></td>\n",
       "      <td>0</td>\n",
       "      <td>NaN</td>\n",
       "      <td>CALLE</td>\n",
       "      <td>IBIZA                                         ...</td>\n",
       "      <td>11012388</td>\n",
       "      <td>1</td>\n",
       "      <td>NUM</td>\n",
       "      <td>8</td>\n",
       "      <td></td>\n",
       "      <td>442533,58</td>\n",
       "      <td>4474389,51</td>\n",
       "      <td>99000191.0</td>\n",
       "      <td>MERCADO MUNICIPAL DE IBIZA</td>\n",
       "      <td>12.0</td>\n",
       "      <td>Mercado Municipal</td>\n",
       "      <td>PB</td>\n",
       "      <td>7</td>\n",
       "      <td>BAR HERMANOS BENAYAS</td>\n",
       "      <td>I</td>\n",
       "      <td>HOSTELERIA</td>\n",
       "      <td>56</td>\n",
       "      <td>SERVICIOS DE COMIDAS Y BEBIDAS</td>\n",
       "      <td>563005</td>\n",
       "      <td>BAR SIN COCINA</td>\n",
       "    </tr>\n",
       "    <tr>\n",
       "      <th>1</th>\n",
       "      <td>270440899</td>\n",
       "      <td>5</td>\n",
       "      <td>CHAMARTIN</td>\n",
       "      <td>502</td>\n",
       "      <td>PROSPERIDAD</td>\n",
       "      <td>NaN</td>\n",
       "      <td>NaN</td>\n",
       "      <td>23</td>\n",
       "      <td>443460,59</td>\n",
       "      <td>4477604,5</td>\n",
       "      <td>NaN</td>\n",
       "      <td>Puerta Calle</td>\n",
       "      <td>NaN</td>\n",
       "      <td>Abierto</td>\n",
       "      <td>210200</td>\n",
       "      <td>CALLE</td>\n",
       "      <td>CORAZON DE MARIA                              ...</td>\n",
       "      <td>20138306</td>\n",
       "      <td>1</td>\n",
       "      <td>NUM</td>\n",
       "      <td>57</td>\n",
       "      <td></td>\n",
       "      <td>20</td>\n",
       "      <td>NaN</td>\n",
       "      <td>CALLE</td>\n",
       "      <td>CORAZON DE MARIA                              ...</td>\n",
       "      <td>20138306</td>\n",
       "      <td>1</td>\n",
       "      <td>NUM</td>\n",
       "      <td>57</td>\n",
       "      <td></td>\n",
       "      <td>NaN</td>\n",
       "      <td>NaN</td>\n",
       "      <td>NaN</td>\n",
       "      <td>NaN</td>\n",
       "      <td>NaN</td>\n",
       "      <td>NaN</td>\n",
       "      <td>PB</td>\n",
       "      <td>NaN</td>\n",
       "      <td>LA PARRILLA BERENGUER</td>\n",
       "      <td>I</td>\n",
       "      <td>HOSTELERIA</td>\n",
       "      <td>56</td>\n",
       "      <td>SERVICIOS DE COMIDAS Y BEBIDAS</td>\n",
       "      <td>561005</td>\n",
       "      <td>BAR CON COCINA</td>\n",
       "    </tr>\n",
       "  </tbody>\n",
       "</table>\n",
       "</div>"
      ],
      "text/plain": [
       "    id_local  id_distrito_local   desc_distrito_local  id_barrio_local  \\\n",
       "0  270440895                  3  RETIRO                            304   \n",
       "1  270440899                  5  CHAMARTIN                         502   \n",
       "\n",
       "      desc_barrio_local  cod_barrio_local  id_seccion_censal_local  \\\n",
       "0  IBIZA                              NaN                      NaN   \n",
       "1  PROSPERIDAD                        NaN                      NaN   \n",
       "\n",
       "   desc_seccion_censal_local coordenada_x_local coordenada_y_local  \\\n",
       "0                         55                  0                  0   \n",
       "1                         23          443460,59          4477604,5   \n",
       "\n",
       "   id_tipo_acceso_local desc_tipo_acceso_local  id_situacion_local  \\\n",
       "0                   NaN               Agrupado                 NaN   \n",
       "1                   NaN           Puerta Calle                 NaN   \n",
       "\n",
       "  desc_situacion_local  id_vial_edificio       clase_vial_edificio  \\\n",
       "0              Abierto            370400  CALLE                      \n",
       "1              Abierto            210200  CALLE                      \n",
       "\n",
       "                                  desc_vial_edificio  id_ndp_edificio  \\\n",
       "0  IBIZA                                         ...         11012388   \n",
       "1  CORAZON DE MARIA                              ...         20138306   \n",
       "\n",
       "   id_clase_ndp_edificio nom_edificio  num_edificio cal_edificio  \\\n",
       "0                      1          NUM             8                \n",
       "1                      1          NUM            57                \n",
       "\n",
       "   secuencial_local_PC  id_vial_acceso         clase_vial_acceso  \\\n",
       "0                    0             NaN  CALLE                      \n",
       "1                   20             NaN  CALLE                      \n",
       "\n",
       "                                    desc_vial_acceso  id_ndp_acceso  \\\n",
       "0  IBIZA                                         ...       11012388   \n",
       "1  CORAZON DE MARIA                              ...       20138306   \n",
       "\n",
       "   id_clase_ndp_acceso nom_acceso  num_acceso cal_acceso  \\\n",
       "0                    1        NUM           8              \n",
       "1                    1        NUM          57              \n",
       "\n",
       "  coordenada_x_agrupacion coordenada_y_agrup  id_agrupacion  \\\n",
       "0               442533,58         4474389,51     99000191.0   \n",
       "1                     NaN                NaN            NaN   \n",
       "\n",
       "            nombre_agrupacion  id_tipo_agrup    desc_tipo_agrup  \\\n",
       "0  MERCADO MUNICIPAL DE IBIZA           12.0  Mercado Municipal   \n",
       "1                         NaN            NaN                NaN   \n",
       "\n",
       "  id_planta_agrupado id_local_agrupado                 rotulo id_seccion  \\\n",
       "0                 PB                 7   BAR HERMANOS BENAYAS          I   \n",
       "1                 PB               NaN  LA PARRILLA BERENGUER          I   \n",
       "\n",
       "  desc_seccion id_division                   desc_division id_epigrafe  \\\n",
       "0   HOSTELERIA          56  SERVICIOS DE COMIDAS Y BEBIDAS      563005   \n",
       "1   HOSTELERIA          56  SERVICIOS DE COMIDAS Y BEBIDAS      561005   \n",
       "\n",
       "    desc_epigrafe  \n",
       "0  BAR SIN COCINA  \n",
       "1  BAR CON COCINA  "
      ]
     },
     "execution_count": 7,
     "metadata": {},
     "output_type": "execute_result"
    }
   ],
   "source": [
    "df_epi19.head(2)"
   ]
  },
  {
   "cell_type": "markdown",
   "metadata": {},
   "source": [
    "There are more rows in the files than unique locals. This is because the same local can be licenced with one or more activities"
   ]
  },
  {
   "cell_type": "code",
   "execution_count": 8,
   "metadata": {},
   "outputs": [
    {
     "data": {
      "text/plain": [
       "(147344, 146607, 145752, 144920, 144048)"
      ]
     },
     "execution_count": 8,
     "metadata": {},
     "output_type": "execute_result"
    }
   ],
   "source": [
    "len(df_epi19['id_local'].unique()), len(df_epi18['id_local'].unique()), len(df_epi17['id_local'].unique()),\\\n",
    "len(df_epi16['id_local'].unique()),len(df_epi15['id_local'].unique())"
   ]
  },
  {
   "cell_type": "markdown",
   "metadata": {},
   "source": [
    "### Madrid Population database\n",
    "Data from madrid.es open data portal: https://datos.madrid.es/portal/site/egob/menuitem.c05c1f754a33a9fbe4b2e4b284f1a5a0/?vgnextoid=1d755cde99be2410VgnVCM1000000b205a0aRCRD&vgnextchannel=374512b9ace9f310VgnVCM100000171f5a0aRCRD&vgnextfmt=default"
   ]
  },
  {
   "cell_type": "code",
   "execution_count": 9,
   "metadata": {},
   "outputs": [
    {
     "data": {
      "text/plain": [
       "id_distrito_local                                                           int64\n",
       "distrito                                                                   object\n",
       "Población                                                                   int64\n",
       "Hombre                                                                      int64\n",
       "Mujeres                                                                     int64\n",
       "Densidad (Habitantes / Ha.)                                               float64\n",
       "Edad promedio                                                             float64\n",
       "Total Hogares                                                               int64\n",
       "Españoles                                                                   int64\n",
       "Extranjeros                                                                 int64\n",
       "Mixtos                                                                      int64\n",
       "Una mujer sola de 16 a 64 años                                              int64\n",
       "Un hombre solo de 16 a 64 años                                              int64\n",
       "Una mujer sola de 65 o más años                                             int64\n",
       "Un hombre solo de 65 o más años                                             int64\n",
       "Una mujer adulta  con uno o más menores                                     int64\n",
       "Un hombre adulto  con uno o más menores                                     int64\n",
       "Dos adultos de 16 a 64 años, sin menores                                    int64\n",
       "Dos adultos, uno al menos de 65 o más años, sin menores                     int64\n",
       "Dos adultos y un menor                                                      int64\n",
       "Dos adultos y dos menores                                                   int64\n",
       "Dos adultos y tres o más menores                                            int64\n",
       "Dos adultos de 35 años o más, otro de 16 a 34 años, sin menores             int64\n",
       "Dos adultos de 35 años o más, otro de 16 a 34 años y un menor               int64\n",
       "Dos adultos de 35 años o más, otro de 16 a 34 años y dos o más menores      int64\n",
       "Otro hogar de tres adultos, con o sin menores                               int64\n",
       "Dos adultos de 35 años o más, dos de 16 a 34 años, sin menores              int64\n",
       "Dos adultos de 35 años o más, dos de 16 a 34 años y un menor                int64\n",
       "Dos adultos de 35 años o más, dos  de 16 a 34 años y dos o más menores      int64\n",
       "Otro hogar de cuatro adultos, con o sin menores                             int64\n",
       "Cinco o más adultos, con o sin menores                                      int64\n",
       "Hogar con 15 ó más habitantes                                               int64\n",
       "Hogares con menores solos                                                   int64\n",
       "dtype: object"
      ]
     },
     "execution_count": 9,
     "metadata": {},
     "output_type": "execute_result"
    }
   ],
   "source": [
    "#Madrid population main KPIs\n",
    "df1 = pd.read_excel('Data/censopob/censo_Madrid_distrito.xlsx')\n",
    "df1.head()\n",
    "df1.dtypes"
   ]
  },
  {
   "cell_type": "markdown",
   "metadata": {},
   "source": [
    "### Madrid floating population\n",
    "Info from Kineo. Floating population in Madrid Districts from 14-22 of april 2018"
   ]
  },
  {
   "cell_type": "code",
   "execution_count": 10,
   "metadata": {},
   "outputs": [
    {
     "data": {
      "text/plain": [
       "id_distrito_local                      int64\n",
       "España fuera barrio dia laboral        int64\n",
       "Extranjero fuera barrio dia laboral    int64\n",
       "Total fuera barrio dia laboral         int64\n",
       "España fuera barrio fin semana         int64\n",
       "Extranjero fuera barrio fin semana     int64\n",
       "Total fuera barrio fin semana          int64\n",
       "Total barrio dia laboral               int64\n",
       "Total barrio fin semana                int64\n",
       "Total trabajo dia laboral              int64\n",
       "Total trabajo fin semana               int64\n",
       "dtype: object"
      ]
     },
     "execution_count": 10,
     "metadata": {},
     "output_type": "execute_result"
    }
   ],
   "source": [
    "# Floating_population\n",
    "df2 = pd.read_excel('Data/PF/PF_diaria_norm.xlsx')\n",
    "df2.head()\n",
    "df2.dtypes"
   ]
  },
  {
   "cell_type": "markdown",
   "metadata": {},
   "source": [
    "## Data cleaning\n",
    "- NaN treatment\n",
    "- Status normalization\n",
    "- UTM Coordinates - geographic coordinates conversion\n",
    "- Distance beetween locals calculation\n",
    "- Merge in a single DataFrame\n",
    "- Selection of activities based on target sample\n",
    "\n",
    "I have created a modules script (clean_functions.py) with the main functions used"
   ]
  },
  {
   "cell_type": "code",
   "execution_count": 182,
   "metadata": {},
   "outputs": [
    {
     "data": {
      "text/plain": [
       "<module 'clean_functions' from '/home/dsc/Python_notebooks/TFM/TBV/TBV_v1/clean_functions.py'>"
      ]
     },
     "execution_count": 182,
     "metadata": {},
     "output_type": "execute_result"
    }
   ],
   "source": [
    "import importlib\n",
    "import clean_functions as cl\n",
    "importlib.reload(cl)"
   ]
  },
  {
   "cell_type": "markdown",
   "metadata": {},
   "source": [
    "### NaN treatment\n",
    "- NaN should be locals with no activity ('rotulo' == SIN ACTIVIDAD).  \n",
    "- A couple of 'rotulo' values are wrong in origin file. I correct that in origin.\n",
    "- I will drop activities == 'LOCAL SIN ACTIVIDAD' because I can't known the activity in advance for the study.   \n",
    "- I regularize the locals that don't belong to a group (desc_tipo_acceso_local == NaN) with the right values (not group)\n",
    "- I fill in the column id_situation local that is empty in activities file (although fill in in locals file)\n",
    "Most of the functions are in the script: clean_functions.py"
   ]
  },
  {
   "cell_type": "code",
   "execution_count": 128,
   "metadata": {},
   "outputs": [
    {
     "data": {
      "text/html": [
       "<div>\n",
       "<style scoped>\n",
       "    .dataframe tbody tr th:only-of-type {\n",
       "        vertical-align: middle;\n",
       "    }\n",
       "\n",
       "    .dataframe tbody tr th {\n",
       "        vertical-align: top;\n",
       "    }\n",
       "\n",
       "    .dataframe thead th {\n",
       "        text-align: right;\n",
       "    }\n",
       "</style>\n",
       "<table border=\"1\" class=\"dataframe\">\n",
       "  <thead>\n",
       "    <tr style=\"text-align: right;\">\n",
       "      <th></th>\n",
       "      <th>id_local</th>\n",
       "      <th>id_distrito_local</th>\n",
       "      <th>desc_distrito_local</th>\n",
       "      <th>id_barrio_local</th>\n",
       "      <th>desc_barrio_local</th>\n",
       "      <th>cod_barrio_local</th>\n",
       "      <th>id_seccion_censal_local</th>\n",
       "      <th>desc_seccion_censal_local</th>\n",
       "      <th>coordenada_x_local</th>\n",
       "      <th>coordenada_y_local</th>\n",
       "      <th>id_tipo_acceso_local</th>\n",
       "      <th>desc_tipo_acceso_local</th>\n",
       "      <th>id_situacion_local</th>\n",
       "      <th>desc_situacion_local</th>\n",
       "      <th>id_vial_edificio</th>\n",
       "      <th>clase_vial_edificio</th>\n",
       "      <th>desc_vial_edificio</th>\n",
       "      <th>id_ndp_edificio</th>\n",
       "      <th>id_clase_ndp_edificio</th>\n",
       "      <th>nom_edificio</th>\n",
       "      <th>num_edificio</th>\n",
       "      <th>cal_edificio</th>\n",
       "      <th>secuencial_local_PC</th>\n",
       "      <th>id_vial_acceso</th>\n",
       "      <th>clase_vial_acceso</th>\n",
       "      <th>desc_vial_acceso</th>\n",
       "      <th>id_ndp_acceso</th>\n",
       "      <th>id_clase_ndp_acceso</th>\n",
       "      <th>nom_acceso</th>\n",
       "      <th>num_acceso</th>\n",
       "      <th>cal_acceso</th>\n",
       "      <th>coordenada_x_agrupacion</th>\n",
       "      <th>coordenada_y_agrup</th>\n",
       "      <th>id_agrupacion</th>\n",
       "      <th>nombre_agrupacion</th>\n",
       "      <th>id_tipo_agrup</th>\n",
       "      <th>desc_tipo_agrup</th>\n",
       "      <th>id_planta_agrupado</th>\n",
       "      <th>id_local_agrupado</th>\n",
       "      <th>id_seccion</th>\n",
       "      <th>desc_seccion</th>\n",
       "      <th>id_division</th>\n",
       "      <th>desc_division</th>\n",
       "      <th>id_epigrafe</th>\n",
       "      <th>desc_epigrafe</th>\n",
       "      <th>conc</th>\n",
       "    </tr>\n",
       "    <tr>\n",
       "      <th>rotulo</th>\n",
       "      <th></th>\n",
       "      <th></th>\n",
       "      <th></th>\n",
       "      <th></th>\n",
       "      <th></th>\n",
       "      <th></th>\n",
       "      <th></th>\n",
       "      <th></th>\n",
       "      <th></th>\n",
       "      <th></th>\n",
       "      <th></th>\n",
       "      <th></th>\n",
       "      <th></th>\n",
       "      <th></th>\n",
       "      <th></th>\n",
       "      <th></th>\n",
       "      <th></th>\n",
       "      <th></th>\n",
       "      <th></th>\n",
       "      <th></th>\n",
       "      <th></th>\n",
       "      <th></th>\n",
       "      <th></th>\n",
       "      <th></th>\n",
       "      <th></th>\n",
       "      <th></th>\n",
       "      <th></th>\n",
       "      <th></th>\n",
       "      <th></th>\n",
       "      <th></th>\n",
       "      <th></th>\n",
       "      <th></th>\n",
       "      <th></th>\n",
       "      <th></th>\n",
       "      <th></th>\n",
       "      <th></th>\n",
       "      <th></th>\n",
       "      <th></th>\n",
       "      <th></th>\n",
       "      <th></th>\n",
       "      <th></th>\n",
       "      <th></th>\n",
       "      <th></th>\n",
       "      <th></th>\n",
       "      <th></th>\n",
       "      <th></th>\n",
       "    </tr>\n",
       "  </thead>\n",
       "  <tbody>\n",
       "    <tr>\n",
       "      <th>SIN ACTIVIDAD</th>\n",
       "      <td>41276</td>\n",
       "      <td>41276</td>\n",
       "      <td>41276</td>\n",
       "      <td>41276</td>\n",
       "      <td>41276</td>\n",
       "      <td>0</td>\n",
       "      <td>0</td>\n",
       "      <td>41276</td>\n",
       "      <td>41276</td>\n",
       "      <td>41276</td>\n",
       "      <td>0</td>\n",
       "      <td>41276</td>\n",
       "      <td>0</td>\n",
       "      <td>41276</td>\n",
       "      <td>41276</td>\n",
       "      <td>41276</td>\n",
       "      <td>41276</td>\n",
       "      <td>41276</td>\n",
       "      <td>41276</td>\n",
       "      <td>41276</td>\n",
       "      <td>41276</td>\n",
       "      <td>41276</td>\n",
       "      <td>41276</td>\n",
       "      <td>0</td>\n",
       "      <td>41276</td>\n",
       "      <td>41276</td>\n",
       "      <td>41276</td>\n",
       "      <td>41276</td>\n",
       "      <td>41276</td>\n",
       "      <td>41276</td>\n",
       "      <td>41276</td>\n",
       "      <td>3017</td>\n",
       "      <td>3017</td>\n",
       "      <td>3017</td>\n",
       "      <td>3017</td>\n",
       "      <td>3017</td>\n",
       "      <td>3017</td>\n",
       "      <td>41072</td>\n",
       "      <td>2992</td>\n",
       "      <td>0</td>\n",
       "      <td>0</td>\n",
       "      <td>0</td>\n",
       "      <td>0</td>\n",
       "      <td>0</td>\n",
       "      <td>0</td>\n",
       "      <td>41276</td>\n",
       "    </tr>\n",
       "  </tbody>\n",
       "</table>\n",
       "</div>"
      ],
      "text/plain": [
       "               id_local  id_distrito_local  desc_distrito_local  \\\n",
       "rotulo                                                            \n",
       "SIN ACTIVIDAD     41276              41276                41276   \n",
       "\n",
       "               id_barrio_local  desc_barrio_local  cod_barrio_local  \\\n",
       "rotulo                                                                \n",
       "SIN ACTIVIDAD            41276              41276                 0   \n",
       "\n",
       "               id_seccion_censal_local  desc_seccion_censal_local  \\\n",
       "rotulo                                                              \n",
       "SIN ACTIVIDAD                        0                      41276   \n",
       "\n",
       "               coordenada_x_local  coordenada_y_local  id_tipo_acceso_local  \\\n",
       "rotulo                                                                        \n",
       "SIN ACTIVIDAD               41276               41276                     0   \n",
       "\n",
       "               desc_tipo_acceso_local  id_situacion_local  \\\n",
       "rotulo                                                      \n",
       "SIN ACTIVIDAD                   41276                   0   \n",
       "\n",
       "               desc_situacion_local  id_vial_edificio  clase_vial_edificio  \\\n",
       "rotulo                                                                       \n",
       "SIN ACTIVIDAD                 41276             41276                41276   \n",
       "\n",
       "               desc_vial_edificio  id_ndp_edificio  id_clase_ndp_edificio  \\\n",
       "rotulo                                                                      \n",
       "SIN ACTIVIDAD               41276            41276                  41276   \n",
       "\n",
       "               nom_edificio  num_edificio  cal_edificio  secuencial_local_PC  \\\n",
       "rotulo                                                                         \n",
       "SIN ACTIVIDAD         41276         41276         41276                41276   \n",
       "\n",
       "               id_vial_acceso  clase_vial_acceso  desc_vial_acceso  \\\n",
       "rotulo                                                               \n",
       "SIN ACTIVIDAD               0              41276             41276   \n",
       "\n",
       "               id_ndp_acceso  id_clase_ndp_acceso  nom_acceso  num_acceso  \\\n",
       "rotulo                                                                      \n",
       "SIN ACTIVIDAD          41276                41276       41276       41276   \n",
       "\n",
       "               cal_acceso  coordenada_x_agrupacion  coordenada_y_agrup  \\\n",
       "rotulo                                                                   \n",
       "SIN ACTIVIDAD       41276                     3017                3017   \n",
       "\n",
       "               id_agrupacion  nombre_agrupacion  id_tipo_agrup  \\\n",
       "rotulo                                                           \n",
       "SIN ACTIVIDAD           3017               3017           3017   \n",
       "\n",
       "               desc_tipo_agrup  id_planta_agrupado  id_local_agrupado  \\\n",
       "rotulo                                                                  \n",
       "SIN ACTIVIDAD             3017               41072               2992   \n",
       "\n",
       "               id_seccion  desc_seccion  id_division  desc_division  \\\n",
       "rotulo                                                                \n",
       "SIN ACTIVIDAD           0             0            0              0   \n",
       "\n",
       "               id_epigrafe  desc_epigrafe   conc  \n",
       "rotulo                                            \n",
       "SIN ACTIVIDAD            0              0  41276  "
      ]
     },
     "execution_count": 128,
     "metadata": {},
     "output_type": "execute_result"
    }
   ],
   "source": [
    "df_epi19[df_epi19.desc_epigrafe.isnull()].groupby('rotulo').count()"
   ]
  },
  {
   "cell_type": "code",
   "execution_count": 129,
   "metadata": {},
   "outputs": [
    {
     "data": {
      "text/html": [
       "<div>\n",
       "<style scoped>\n",
       "    .dataframe tbody tr th:only-of-type {\n",
       "        vertical-align: middle;\n",
       "    }\n",
       "\n",
       "    .dataframe tbody tr th {\n",
       "        vertical-align: top;\n",
       "    }\n",
       "\n",
       "    .dataframe thead th {\n",
       "        text-align: right;\n",
       "    }\n",
       "</style>\n",
       "<table border=\"1\" class=\"dataframe\">\n",
       "  <thead>\n",
       "    <tr style=\"text-align: right;\">\n",
       "      <th></th>\n",
       "      <th>id_local</th>\n",
       "      <th>id_distrito_local</th>\n",
       "      <th>desc_distrito_local</th>\n",
       "      <th>id_barrio_local</th>\n",
       "      <th>desc_barrio_local</th>\n",
       "      <th>cod_barrio_local</th>\n",
       "      <th>id_seccion_censal_local</th>\n",
       "      <th>desc_seccion_censal_local</th>\n",
       "      <th>coordenada_x_local</th>\n",
       "      <th>coordenada_y_local</th>\n",
       "      <th>id_tipo_acceso_local</th>\n",
       "      <th>desc_tipo_acceso_local</th>\n",
       "      <th>id_situacion_local</th>\n",
       "      <th>desc_situacion_local</th>\n",
       "      <th>id_vial_edificio</th>\n",
       "      <th>clase_vial_edificio</th>\n",
       "      <th>desc_vial_edificio</th>\n",
       "      <th>id_ndp_edificio</th>\n",
       "      <th>id_clase_ndp_edificio</th>\n",
       "      <th>nom_edificio</th>\n",
       "      <th>num_edificio</th>\n",
       "      <th>cal_edificio</th>\n",
       "      <th>secuencial_local_PC</th>\n",
       "      <th>id_vial_acceso</th>\n",
       "      <th>clase_vial_acceso</th>\n",
       "      <th>desc_vial_acceso</th>\n",
       "      <th>id_ndp_acceso</th>\n",
       "      <th>id_clase_ndp_acceso</th>\n",
       "      <th>nom_acceso</th>\n",
       "      <th>num_acceso</th>\n",
       "      <th>cal_acceso</th>\n",
       "      <th>coordenada_x_agrupacion</th>\n",
       "      <th>coordenada_y_agrup</th>\n",
       "      <th>id_agrupacion</th>\n",
       "      <th>nombre_agrupacion</th>\n",
       "      <th>id_tipo_agrup</th>\n",
       "      <th>desc_tipo_agrup</th>\n",
       "      <th>id_planta_agrupado</th>\n",
       "      <th>id_local_agrupado</th>\n",
       "      <th>id_seccion</th>\n",
       "      <th>desc_seccion</th>\n",
       "      <th>id_division</th>\n",
       "      <th>desc_division</th>\n",
       "      <th>id_epigrafe</th>\n",
       "      <th>desc_epigrafe</th>\n",
       "      <th>conc</th>\n",
       "    </tr>\n",
       "    <tr>\n",
       "      <th>rotulo</th>\n",
       "      <th></th>\n",
       "      <th></th>\n",
       "      <th></th>\n",
       "      <th></th>\n",
       "      <th></th>\n",
       "      <th></th>\n",
       "      <th></th>\n",
       "      <th></th>\n",
       "      <th></th>\n",
       "      <th></th>\n",
       "      <th></th>\n",
       "      <th></th>\n",
       "      <th></th>\n",
       "      <th></th>\n",
       "      <th></th>\n",
       "      <th></th>\n",
       "      <th></th>\n",
       "      <th></th>\n",
       "      <th></th>\n",
       "      <th></th>\n",
       "      <th></th>\n",
       "      <th></th>\n",
       "      <th></th>\n",
       "      <th></th>\n",
       "      <th></th>\n",
       "      <th></th>\n",
       "      <th></th>\n",
       "      <th></th>\n",
       "      <th></th>\n",
       "      <th></th>\n",
       "      <th></th>\n",
       "      <th></th>\n",
       "      <th></th>\n",
       "      <th></th>\n",
       "      <th></th>\n",
       "      <th></th>\n",
       "      <th></th>\n",
       "      <th></th>\n",
       "      <th></th>\n",
       "      <th></th>\n",
       "      <th></th>\n",
       "      <th></th>\n",
       "      <th></th>\n",
       "      <th></th>\n",
       "      <th></th>\n",
       "      <th></th>\n",
       "    </tr>\n",
       "  </thead>\n",
       "  <tbody>\n",
       "    <tr>\n",
       "      <th>SIN ACTIVIDAD</th>\n",
       "      <td>42051</td>\n",
       "      <td>42051</td>\n",
       "      <td>42051</td>\n",
       "      <td>42051</td>\n",
       "      <td>42051</td>\n",
       "      <td>0</td>\n",
       "      <td>0</td>\n",
       "      <td>42051</td>\n",
       "      <td>42051</td>\n",
       "      <td>42051</td>\n",
       "      <td>0</td>\n",
       "      <td>42051</td>\n",
       "      <td>0</td>\n",
       "      <td>42051</td>\n",
       "      <td>42051</td>\n",
       "      <td>42051</td>\n",
       "      <td>42051</td>\n",
       "      <td>42051</td>\n",
       "      <td>42051</td>\n",
       "      <td>42051</td>\n",
       "      <td>42051</td>\n",
       "      <td>42051</td>\n",
       "      <td>42051</td>\n",
       "      <td>0</td>\n",
       "      <td>42051</td>\n",
       "      <td>42051</td>\n",
       "      <td>42051</td>\n",
       "      <td>42051</td>\n",
       "      <td>42051</td>\n",
       "      <td>42051</td>\n",
       "      <td>42051</td>\n",
       "      <td>3056</td>\n",
       "      <td>3056</td>\n",
       "      <td>3056</td>\n",
       "      <td>3056</td>\n",
       "      <td>3056</td>\n",
       "      <td>3056</td>\n",
       "      <td>41840</td>\n",
       "      <td>3031</td>\n",
       "      <td>0</td>\n",
       "      <td>0</td>\n",
       "      <td>0</td>\n",
       "      <td>0</td>\n",
       "      <td>0</td>\n",
       "      <td>0</td>\n",
       "      <td>42051</td>\n",
       "    </tr>\n",
       "  </tbody>\n",
       "</table>\n",
       "</div>"
      ],
      "text/plain": [
       "               id_local  id_distrito_local  desc_distrito_local  \\\n",
       "rotulo                                                            \n",
       "SIN ACTIVIDAD     42051              42051                42051   \n",
       "\n",
       "               id_barrio_local  desc_barrio_local  cod_barrio_local  \\\n",
       "rotulo                                                                \n",
       "SIN ACTIVIDAD            42051              42051                 0   \n",
       "\n",
       "               id_seccion_censal_local  desc_seccion_censal_local  \\\n",
       "rotulo                                                              \n",
       "SIN ACTIVIDAD                        0                      42051   \n",
       "\n",
       "               coordenada_x_local  coordenada_y_local  id_tipo_acceso_local  \\\n",
       "rotulo                                                                        \n",
       "SIN ACTIVIDAD               42051               42051                     0   \n",
       "\n",
       "               desc_tipo_acceso_local  id_situacion_local  \\\n",
       "rotulo                                                      \n",
       "SIN ACTIVIDAD                   42051                   0   \n",
       "\n",
       "               desc_situacion_local  id_vial_edificio  clase_vial_edificio  \\\n",
       "rotulo                                                                       \n",
       "SIN ACTIVIDAD                 42051             42051                42051   \n",
       "\n",
       "               desc_vial_edificio  id_ndp_edificio  id_clase_ndp_edificio  \\\n",
       "rotulo                                                                      \n",
       "SIN ACTIVIDAD               42051            42051                  42051   \n",
       "\n",
       "               nom_edificio  num_edificio  cal_edificio  secuencial_local_PC  \\\n",
       "rotulo                                                                         \n",
       "SIN ACTIVIDAD         42051         42051         42051                42051   \n",
       "\n",
       "               id_vial_acceso  clase_vial_acceso  desc_vial_acceso  \\\n",
       "rotulo                                                               \n",
       "SIN ACTIVIDAD               0              42051             42051   \n",
       "\n",
       "               id_ndp_acceso  id_clase_ndp_acceso  nom_acceso  num_acceso  \\\n",
       "rotulo                                                                      \n",
       "SIN ACTIVIDAD          42051                42051       42051       42051   \n",
       "\n",
       "               cal_acceso  coordenada_x_agrupacion  coordenada_y_agrup  \\\n",
       "rotulo                                                                   \n",
       "SIN ACTIVIDAD       42051                     3056                3056   \n",
       "\n",
       "               id_agrupacion  nombre_agrupacion  id_tipo_agrup  \\\n",
       "rotulo                                                           \n",
       "SIN ACTIVIDAD           3056               3056           3056   \n",
       "\n",
       "               desc_tipo_agrup  id_planta_agrupado  id_local_agrupado  \\\n",
       "rotulo                                                                  \n",
       "SIN ACTIVIDAD             3056               41840               3031   \n",
       "\n",
       "               id_seccion  desc_seccion  id_division  desc_division  \\\n",
       "rotulo                                                                \n",
       "SIN ACTIVIDAD           0             0            0              0   \n",
       "\n",
       "               id_epigrafe  desc_epigrafe   conc  \n",
       "rotulo                                            \n",
       "SIN ACTIVIDAD            0              0  42051  "
      ]
     },
     "execution_count": 129,
     "metadata": {},
     "output_type": "execute_result"
    }
   ],
   "source": [
    "df_epi18[df_epi18.desc_epigrafe.isnull()].groupby('rotulo').count()"
   ]
  },
  {
   "cell_type": "code",
   "execution_count": 130,
   "metadata": {},
   "outputs": [
    {
     "data": {
      "text/html": [
       "<div>\n",
       "<style scoped>\n",
       "    .dataframe tbody tr th:only-of-type {\n",
       "        vertical-align: middle;\n",
       "    }\n",
       "\n",
       "    .dataframe tbody tr th {\n",
       "        vertical-align: top;\n",
       "    }\n",
       "\n",
       "    .dataframe thead th {\n",
       "        text-align: right;\n",
       "    }\n",
       "</style>\n",
       "<table border=\"1\" class=\"dataframe\">\n",
       "  <thead>\n",
       "    <tr style=\"text-align: right;\">\n",
       "      <th></th>\n",
       "      <th>id_local</th>\n",
       "      <th>id_distrito_local</th>\n",
       "      <th>desc_distrito_local</th>\n",
       "      <th>id_barrio_local</th>\n",
       "      <th>desc_barrio_local</th>\n",
       "      <th>cod_barrio_local</th>\n",
       "      <th>id_seccion_censal_local</th>\n",
       "      <th>desc_seccion_censal_local</th>\n",
       "      <th>coordenada_x_local</th>\n",
       "      <th>coordenada_y_local</th>\n",
       "      <th>id_tipo_acceso_local</th>\n",
       "      <th>desc_tipo_acceso_local</th>\n",
       "      <th>id_situacion_local</th>\n",
       "      <th>desc_situacion_local</th>\n",
       "      <th>id_vial_edificio</th>\n",
       "      <th>clase_vial_edificio</th>\n",
       "      <th>desc_vial_edificio</th>\n",
       "      <th>id_ndp_edificio</th>\n",
       "      <th>id_clase_ndp_edificio</th>\n",
       "      <th>nom_edificio</th>\n",
       "      <th>num_edificio</th>\n",
       "      <th>cal_edificio</th>\n",
       "      <th>secuencial_local_PC</th>\n",
       "      <th>id_vial_acceso</th>\n",
       "      <th>clase_vial_acceso</th>\n",
       "      <th>desc_vial_acceso</th>\n",
       "      <th>id_ndp_acceso</th>\n",
       "      <th>id_clase_ndp_acceso</th>\n",
       "      <th>nom_acceso</th>\n",
       "      <th>num_acceso</th>\n",
       "      <th>cal_acceso</th>\n",
       "      <th>coordenada_x_agrupacion</th>\n",
       "      <th>coordenada_y_agrup</th>\n",
       "      <th>id_agrupacion</th>\n",
       "      <th>nombre_agrupacion</th>\n",
       "      <th>id_tipo_agrup</th>\n",
       "      <th>desc_tipo_agrup</th>\n",
       "      <th>id_planta_agrupado</th>\n",
       "      <th>id_local_agrupado</th>\n",
       "      <th>id_seccion</th>\n",
       "      <th>desc_seccion</th>\n",
       "      <th>id_division</th>\n",
       "      <th>desc_division</th>\n",
       "      <th>id_epigrafe</th>\n",
       "      <th>desc_epigrafe</th>\n",
       "      <th>conc</th>\n",
       "    </tr>\n",
       "    <tr>\n",
       "      <th>rotulo</th>\n",
       "      <th></th>\n",
       "      <th></th>\n",
       "      <th></th>\n",
       "      <th></th>\n",
       "      <th></th>\n",
       "      <th></th>\n",
       "      <th></th>\n",
       "      <th></th>\n",
       "      <th></th>\n",
       "      <th></th>\n",
       "      <th></th>\n",
       "      <th></th>\n",
       "      <th></th>\n",
       "      <th></th>\n",
       "      <th></th>\n",
       "      <th></th>\n",
       "      <th></th>\n",
       "      <th></th>\n",
       "      <th></th>\n",
       "      <th></th>\n",
       "      <th></th>\n",
       "      <th></th>\n",
       "      <th></th>\n",
       "      <th></th>\n",
       "      <th></th>\n",
       "      <th></th>\n",
       "      <th></th>\n",
       "      <th></th>\n",
       "      <th></th>\n",
       "      <th></th>\n",
       "      <th></th>\n",
       "      <th></th>\n",
       "      <th></th>\n",
       "      <th></th>\n",
       "      <th></th>\n",
       "      <th></th>\n",
       "      <th></th>\n",
       "      <th></th>\n",
       "      <th></th>\n",
       "      <th></th>\n",
       "      <th></th>\n",
       "      <th></th>\n",
       "      <th></th>\n",
       "      <th></th>\n",
       "      <th></th>\n",
       "      <th></th>\n",
       "    </tr>\n",
       "  </thead>\n",
       "  <tbody>\n",
       "    <tr>\n",
       "      <th>SIN ACTIVIDAD</th>\n",
       "      <td>42527</td>\n",
       "      <td>42527</td>\n",
       "      <td>42527</td>\n",
       "      <td>42527</td>\n",
       "      <td>42527</td>\n",
       "      <td>0</td>\n",
       "      <td>0</td>\n",
       "      <td>42527</td>\n",
       "      <td>42527</td>\n",
       "      <td>42527</td>\n",
       "      <td>0</td>\n",
       "      <td>42527</td>\n",
       "      <td>0</td>\n",
       "      <td>42527</td>\n",
       "      <td>42527</td>\n",
       "      <td>42527</td>\n",
       "      <td>42527</td>\n",
       "      <td>42527</td>\n",
       "      <td>42527</td>\n",
       "      <td>42527</td>\n",
       "      <td>42527</td>\n",
       "      <td>42527</td>\n",
       "      <td>42527</td>\n",
       "      <td>0</td>\n",
       "      <td>42527</td>\n",
       "      <td>42527</td>\n",
       "      <td>42527</td>\n",
       "      <td>42527</td>\n",
       "      <td>42527</td>\n",
       "      <td>42527</td>\n",
       "      <td>42527</td>\n",
       "      <td>3060</td>\n",
       "      <td>3060</td>\n",
       "      <td>3060</td>\n",
       "      <td>3060</td>\n",
       "      <td>3060</td>\n",
       "      <td>3060</td>\n",
       "      <td>42298</td>\n",
       "      <td>3035</td>\n",
       "      <td>0</td>\n",
       "      <td>0</td>\n",
       "      <td>0</td>\n",
       "      <td>0</td>\n",
       "      <td>0</td>\n",
       "      <td>0</td>\n",
       "      <td>42527</td>\n",
       "    </tr>\n",
       "  </tbody>\n",
       "</table>\n",
       "</div>"
      ],
      "text/plain": [
       "               id_local  id_distrito_local  desc_distrito_local  \\\n",
       "rotulo                                                            \n",
       "SIN ACTIVIDAD     42527              42527                42527   \n",
       "\n",
       "               id_barrio_local  desc_barrio_local  cod_barrio_local  \\\n",
       "rotulo                                                                \n",
       "SIN ACTIVIDAD            42527              42527                 0   \n",
       "\n",
       "               id_seccion_censal_local  desc_seccion_censal_local  \\\n",
       "rotulo                                                              \n",
       "SIN ACTIVIDAD                        0                      42527   \n",
       "\n",
       "               coordenada_x_local  coordenada_y_local  id_tipo_acceso_local  \\\n",
       "rotulo                                                                        \n",
       "SIN ACTIVIDAD               42527               42527                     0   \n",
       "\n",
       "               desc_tipo_acceso_local  id_situacion_local  \\\n",
       "rotulo                                                      \n",
       "SIN ACTIVIDAD                   42527                   0   \n",
       "\n",
       "               desc_situacion_local  id_vial_edificio  clase_vial_edificio  \\\n",
       "rotulo                                                                       \n",
       "SIN ACTIVIDAD                 42527             42527                42527   \n",
       "\n",
       "               desc_vial_edificio  id_ndp_edificio  id_clase_ndp_edificio  \\\n",
       "rotulo                                                                      \n",
       "SIN ACTIVIDAD               42527            42527                  42527   \n",
       "\n",
       "               nom_edificio  num_edificio  cal_edificio  secuencial_local_PC  \\\n",
       "rotulo                                                                         \n",
       "SIN ACTIVIDAD         42527         42527         42527                42527   \n",
       "\n",
       "               id_vial_acceso  clase_vial_acceso  desc_vial_acceso  \\\n",
       "rotulo                                                               \n",
       "SIN ACTIVIDAD               0              42527             42527   \n",
       "\n",
       "               id_ndp_acceso  id_clase_ndp_acceso  nom_acceso  num_acceso  \\\n",
       "rotulo                                                                      \n",
       "SIN ACTIVIDAD          42527                42527       42527       42527   \n",
       "\n",
       "               cal_acceso  coordenada_x_agrupacion  coordenada_y_agrup  \\\n",
       "rotulo                                                                   \n",
       "SIN ACTIVIDAD       42527                     3060                3060   \n",
       "\n",
       "               id_agrupacion  nombre_agrupacion  id_tipo_agrup  \\\n",
       "rotulo                                                           \n",
       "SIN ACTIVIDAD           3060               3060           3060   \n",
       "\n",
       "               desc_tipo_agrup  id_planta_agrupado  id_local_agrupado  \\\n",
       "rotulo                                                                  \n",
       "SIN ACTIVIDAD             3060               42298               3035   \n",
       "\n",
       "               id_seccion  desc_seccion  id_division  desc_division  \\\n",
       "rotulo                                                                \n",
       "SIN ACTIVIDAD           0             0            0              0   \n",
       "\n",
       "               id_epigrafe  desc_epigrafe   conc  \n",
       "rotulo                                            \n",
       "SIN ACTIVIDAD            0              0  42527  "
      ]
     },
     "execution_count": 130,
     "metadata": {},
     "output_type": "execute_result"
    }
   ],
   "source": [
    "df_epi17[df_epi17.desc_epigrafe.isnull()].groupby('rotulo').count()"
   ]
  },
  {
   "cell_type": "code",
   "execution_count": 131,
   "metadata": {},
   "outputs": [
    {
     "data": {
      "text/html": [
       "<div>\n",
       "<style scoped>\n",
       "    .dataframe tbody tr th:only-of-type {\n",
       "        vertical-align: middle;\n",
       "    }\n",
       "\n",
       "    .dataframe tbody tr th {\n",
       "        vertical-align: top;\n",
       "    }\n",
       "\n",
       "    .dataframe thead th {\n",
       "        text-align: right;\n",
       "    }\n",
       "</style>\n",
       "<table border=\"1\" class=\"dataframe\">\n",
       "  <thead>\n",
       "    <tr style=\"text-align: right;\">\n",
       "      <th></th>\n",
       "      <th>id_local</th>\n",
       "      <th>id_distrito_local</th>\n",
       "      <th>desc_distrito_local</th>\n",
       "      <th>id_barrio_local</th>\n",
       "      <th>desc_barrio_local</th>\n",
       "      <th>cod_barrio_local</th>\n",
       "      <th>id_seccion_censal_local</th>\n",
       "      <th>desc_seccion_censal_local</th>\n",
       "      <th>coordenada_x_local</th>\n",
       "      <th>coordenada_y_local</th>\n",
       "      <th>id_tipo_acceso_local</th>\n",
       "      <th>desc_tipo_acceso_local</th>\n",
       "      <th>id_situacion_local</th>\n",
       "      <th>desc_situacion_local</th>\n",
       "      <th>id_vial_edificio</th>\n",
       "      <th>clase_vial_edificio</th>\n",
       "      <th>desc_vial_edificio</th>\n",
       "      <th>id_ndp_edificio</th>\n",
       "      <th>id_clase_ndp_edificio</th>\n",
       "      <th>nom_edificio</th>\n",
       "      <th>num_edificio</th>\n",
       "      <th>cal_edificio</th>\n",
       "      <th>secuencial_local_PC</th>\n",
       "      <th>id_vial_acceso</th>\n",
       "      <th>clase_vial_acceso</th>\n",
       "      <th>desc_vial_acceso</th>\n",
       "      <th>id_ndp_acceso</th>\n",
       "      <th>id_clase_ndp_acceso</th>\n",
       "      <th>nom_acceso</th>\n",
       "      <th>num_acceso</th>\n",
       "      <th>cal_acceso</th>\n",
       "      <th>coordenada_x_agrupacion</th>\n",
       "      <th>coordenada_y_agrup</th>\n",
       "      <th>id_agrupacion</th>\n",
       "      <th>nombre_agrupacion</th>\n",
       "      <th>id_tipo_agrup</th>\n",
       "      <th>desc_tipo_agrup</th>\n",
       "      <th>id_planta_agrupado</th>\n",
       "      <th>id_local_agrupado</th>\n",
       "      <th>id_seccion</th>\n",
       "      <th>desc_seccion</th>\n",
       "      <th>id_division</th>\n",
       "      <th>desc_division</th>\n",
       "      <th>id_epigrafe</th>\n",
       "      <th>desc_epigrafe</th>\n",
       "      <th>conc</th>\n",
       "    </tr>\n",
       "    <tr>\n",
       "      <th>rotulo</th>\n",
       "      <th></th>\n",
       "      <th></th>\n",
       "      <th></th>\n",
       "      <th></th>\n",
       "      <th></th>\n",
       "      <th></th>\n",
       "      <th></th>\n",
       "      <th></th>\n",
       "      <th></th>\n",
       "      <th></th>\n",
       "      <th></th>\n",
       "      <th></th>\n",
       "      <th></th>\n",
       "      <th></th>\n",
       "      <th></th>\n",
       "      <th></th>\n",
       "      <th></th>\n",
       "      <th></th>\n",
       "      <th></th>\n",
       "      <th></th>\n",
       "      <th></th>\n",
       "      <th></th>\n",
       "      <th></th>\n",
       "      <th></th>\n",
       "      <th></th>\n",
       "      <th></th>\n",
       "      <th></th>\n",
       "      <th></th>\n",
       "      <th></th>\n",
       "      <th></th>\n",
       "      <th></th>\n",
       "      <th></th>\n",
       "      <th></th>\n",
       "      <th></th>\n",
       "      <th></th>\n",
       "      <th></th>\n",
       "      <th></th>\n",
       "      <th></th>\n",
       "      <th></th>\n",
       "      <th></th>\n",
       "      <th></th>\n",
       "      <th></th>\n",
       "      <th></th>\n",
       "      <th></th>\n",
       "      <th></th>\n",
       "      <th></th>\n",
       "    </tr>\n",
       "  </thead>\n",
       "  <tbody>\n",
       "    <tr>\n",
       "      <th>SIN ACTIVIDAD</th>\n",
       "      <td>43549</td>\n",
       "      <td>43549</td>\n",
       "      <td>43549</td>\n",
       "      <td>43549</td>\n",
       "      <td>43549</td>\n",
       "      <td>0</td>\n",
       "      <td>0</td>\n",
       "      <td>43549</td>\n",
       "      <td>43549</td>\n",
       "      <td>43549</td>\n",
       "      <td>0</td>\n",
       "      <td>43549</td>\n",
       "      <td>0</td>\n",
       "      <td>43549</td>\n",
       "      <td>43549</td>\n",
       "      <td>43549</td>\n",
       "      <td>43549</td>\n",
       "      <td>43549</td>\n",
       "      <td>43549</td>\n",
       "      <td>43549</td>\n",
       "      <td>43549</td>\n",
       "      <td>43549</td>\n",
       "      <td>43549</td>\n",
       "      <td>0</td>\n",
       "      <td>43549</td>\n",
       "      <td>43549</td>\n",
       "      <td>43549</td>\n",
       "      <td>43549</td>\n",
       "      <td>43549</td>\n",
       "      <td>43549</td>\n",
       "      <td>43549</td>\n",
       "      <td>3005</td>\n",
       "      <td>3005</td>\n",
       "      <td>3005</td>\n",
       "      <td>3005</td>\n",
       "      <td>3005</td>\n",
       "      <td>3005</td>\n",
       "      <td>2882</td>\n",
       "      <td>2981</td>\n",
       "      <td>0</td>\n",
       "      <td>0</td>\n",
       "      <td>0</td>\n",
       "      <td>0</td>\n",
       "      <td>0</td>\n",
       "      <td>0</td>\n",
       "      <td>43549</td>\n",
       "    </tr>\n",
       "  </tbody>\n",
       "</table>\n",
       "</div>"
      ],
      "text/plain": [
       "               id_local  id_distrito_local  desc_distrito_local  \\\n",
       "rotulo                                                            \n",
       "SIN ACTIVIDAD     43549              43549                43549   \n",
       "\n",
       "               id_barrio_local  desc_barrio_local  cod_barrio_local  \\\n",
       "rotulo                                                                \n",
       "SIN ACTIVIDAD            43549              43549                 0   \n",
       "\n",
       "               id_seccion_censal_local  desc_seccion_censal_local  \\\n",
       "rotulo                                                              \n",
       "SIN ACTIVIDAD                        0                      43549   \n",
       "\n",
       "               coordenada_x_local  coordenada_y_local  id_tipo_acceso_local  \\\n",
       "rotulo                                                                        \n",
       "SIN ACTIVIDAD               43549               43549                     0   \n",
       "\n",
       "               desc_tipo_acceso_local  id_situacion_local  \\\n",
       "rotulo                                                      \n",
       "SIN ACTIVIDAD                   43549                   0   \n",
       "\n",
       "               desc_situacion_local  id_vial_edificio  clase_vial_edificio  \\\n",
       "rotulo                                                                       \n",
       "SIN ACTIVIDAD                 43549             43549                43549   \n",
       "\n",
       "               desc_vial_edificio  id_ndp_edificio  id_clase_ndp_edificio  \\\n",
       "rotulo                                                                      \n",
       "SIN ACTIVIDAD               43549            43549                  43549   \n",
       "\n",
       "               nom_edificio  num_edificio  cal_edificio  secuencial_local_PC  \\\n",
       "rotulo                                                                         \n",
       "SIN ACTIVIDAD         43549         43549         43549                43549   \n",
       "\n",
       "               id_vial_acceso  clase_vial_acceso  desc_vial_acceso  \\\n",
       "rotulo                                                               \n",
       "SIN ACTIVIDAD               0              43549             43549   \n",
       "\n",
       "               id_ndp_acceso  id_clase_ndp_acceso  nom_acceso  num_acceso  \\\n",
       "rotulo                                                                      \n",
       "SIN ACTIVIDAD          43549                43549       43549       43549   \n",
       "\n",
       "               cal_acceso  coordenada_x_agrupacion  coordenada_y_agrup  \\\n",
       "rotulo                                                                   \n",
       "SIN ACTIVIDAD       43549                     3005                3005   \n",
       "\n",
       "               id_agrupacion  nombre_agrupacion  id_tipo_agrup  \\\n",
       "rotulo                                                           \n",
       "SIN ACTIVIDAD           3005               3005           3005   \n",
       "\n",
       "               desc_tipo_agrup  id_planta_agrupado  id_local_agrupado  \\\n",
       "rotulo                                                                  \n",
       "SIN ACTIVIDAD             3005                2882               2981   \n",
       "\n",
       "               id_seccion  desc_seccion  id_division  desc_division  \\\n",
       "rotulo                                                                \n",
       "SIN ACTIVIDAD           0             0            0              0   \n",
       "\n",
       "               id_epigrafe  desc_epigrafe   conc  \n",
       "rotulo                                            \n",
       "SIN ACTIVIDAD            0              0  43549  "
      ]
     },
     "execution_count": 131,
     "metadata": {},
     "output_type": "execute_result"
    }
   ],
   "source": [
    "df_epi16[df_epi16.desc_epigrafe.isnull()].groupby('rotulo').count()"
   ]
  },
  {
   "cell_type": "code",
   "execution_count": 132,
   "metadata": {
    "scrolled": true
   },
   "outputs": [
    {
     "data": {
      "text/html": [
       "<div>\n",
       "<style scoped>\n",
       "    .dataframe tbody tr th:only-of-type {\n",
       "        vertical-align: middle;\n",
       "    }\n",
       "\n",
       "    .dataframe tbody tr th {\n",
       "        vertical-align: top;\n",
       "    }\n",
       "\n",
       "    .dataframe thead th {\n",
       "        text-align: right;\n",
       "    }\n",
       "</style>\n",
       "<table border=\"1\" class=\"dataframe\">\n",
       "  <thead>\n",
       "    <tr style=\"text-align: right;\">\n",
       "      <th></th>\n",
       "      <th>id_local</th>\n",
       "      <th>id_distrito_local</th>\n",
       "      <th>desc_distrito_local</th>\n",
       "      <th>id_barrio_local</th>\n",
       "      <th>desc_barrio_local</th>\n",
       "      <th>cod_barrio_local</th>\n",
       "      <th>id_seccion_censal_local</th>\n",
       "      <th>desc_seccion_censal_local</th>\n",
       "      <th>coordenada_x_local</th>\n",
       "      <th>coordenada_y_local</th>\n",
       "      <th>id_tipo_acceso_local</th>\n",
       "      <th>desc_tipo_acceso_local</th>\n",
       "      <th>id_situacion_local</th>\n",
       "      <th>desc_situacion_local</th>\n",
       "      <th>id_vial_edificio</th>\n",
       "      <th>clase_vial_edificio</th>\n",
       "      <th>desc_vial_edificio</th>\n",
       "      <th>id_ndp_edificio</th>\n",
       "      <th>id_clase_ndp_edificio</th>\n",
       "      <th>nom_edificio</th>\n",
       "      <th>num_edificio</th>\n",
       "      <th>cal_edificio</th>\n",
       "      <th>secuencial_local_PC</th>\n",
       "      <th>id_vial_acceso</th>\n",
       "      <th>clase_vial_acceso</th>\n",
       "      <th>desc_vial_acceso</th>\n",
       "      <th>id_ndp_acceso</th>\n",
       "      <th>id_clase_ndp_acceso</th>\n",
       "      <th>nom_acceso</th>\n",
       "      <th>num_acceso</th>\n",
       "      <th>cal_acceso</th>\n",
       "      <th>coordenada_x_agrupacion</th>\n",
       "      <th>coordenada_y_agrup</th>\n",
       "      <th>id_agrupacion</th>\n",
       "      <th>nombre_agrupacion</th>\n",
       "      <th>id_tipo_agrup</th>\n",
       "      <th>desc_tipo_agrup</th>\n",
       "      <th>id_planta_agrupado</th>\n",
       "      <th>id_local_agrupado</th>\n",
       "      <th>id_seccion</th>\n",
       "      <th>desc_seccion</th>\n",
       "      <th>id_division</th>\n",
       "      <th>desc_division</th>\n",
       "      <th>id_epigrafe</th>\n",
       "      <th>desc_epigrafe</th>\n",
       "      <th>conc</th>\n",
       "    </tr>\n",
       "    <tr>\n",
       "      <th>rotulo</th>\n",
       "      <th></th>\n",
       "      <th></th>\n",
       "      <th></th>\n",
       "      <th></th>\n",
       "      <th></th>\n",
       "      <th></th>\n",
       "      <th></th>\n",
       "      <th></th>\n",
       "      <th></th>\n",
       "      <th></th>\n",
       "      <th></th>\n",
       "      <th></th>\n",
       "      <th></th>\n",
       "      <th></th>\n",
       "      <th></th>\n",
       "      <th></th>\n",
       "      <th></th>\n",
       "      <th></th>\n",
       "      <th></th>\n",
       "      <th></th>\n",
       "      <th></th>\n",
       "      <th></th>\n",
       "      <th></th>\n",
       "      <th></th>\n",
       "      <th></th>\n",
       "      <th></th>\n",
       "      <th></th>\n",
       "      <th></th>\n",
       "      <th></th>\n",
       "      <th></th>\n",
       "      <th></th>\n",
       "      <th></th>\n",
       "      <th></th>\n",
       "      <th></th>\n",
       "      <th></th>\n",
       "      <th></th>\n",
       "      <th></th>\n",
       "      <th></th>\n",
       "      <th></th>\n",
       "      <th></th>\n",
       "      <th></th>\n",
       "      <th></th>\n",
       "      <th></th>\n",
       "      <th></th>\n",
       "      <th></th>\n",
       "      <th></th>\n",
       "    </tr>\n",
       "  </thead>\n",
       "  <tbody>\n",
       "    <tr>\n",
       "      <th>SIN ACTIVIDAD</th>\n",
       "      <td>44915</td>\n",
       "      <td>44915</td>\n",
       "      <td>44915</td>\n",
       "      <td>44915</td>\n",
       "      <td>44915</td>\n",
       "      <td>0</td>\n",
       "      <td>0</td>\n",
       "      <td>44915</td>\n",
       "      <td>44915</td>\n",
       "      <td>44915</td>\n",
       "      <td>0</td>\n",
       "      <td>44915</td>\n",
       "      <td>0</td>\n",
       "      <td>44915</td>\n",
       "      <td>44915</td>\n",
       "      <td>44915</td>\n",
       "      <td>44915</td>\n",
       "      <td>44915</td>\n",
       "      <td>44915</td>\n",
       "      <td>44915</td>\n",
       "      <td>44915</td>\n",
       "      <td>44915</td>\n",
       "      <td>44915</td>\n",
       "      <td>0</td>\n",
       "      <td>44915</td>\n",
       "      <td>44915</td>\n",
       "      <td>44915</td>\n",
       "      <td>44915</td>\n",
       "      <td>44915</td>\n",
       "      <td>44915</td>\n",
       "      <td>44915</td>\n",
       "      <td>3066</td>\n",
       "      <td>3066</td>\n",
       "      <td>3066</td>\n",
       "      <td>3066</td>\n",
       "      <td>3066</td>\n",
       "      <td>3066</td>\n",
       "      <td>2940</td>\n",
       "      <td>3037</td>\n",
       "      <td>0</td>\n",
       "      <td>0</td>\n",
       "      <td>0</td>\n",
       "      <td>0</td>\n",
       "      <td>0</td>\n",
       "      <td>0</td>\n",
       "      <td>44915</td>\n",
       "    </tr>\n",
       "  </tbody>\n",
       "</table>\n",
       "</div>"
      ],
      "text/plain": [
       "               id_local  id_distrito_local  desc_distrito_local  \\\n",
       "rotulo                                                            \n",
       "SIN ACTIVIDAD     44915              44915                44915   \n",
       "\n",
       "               id_barrio_local  desc_barrio_local  cod_barrio_local  \\\n",
       "rotulo                                                                \n",
       "SIN ACTIVIDAD            44915              44915                 0   \n",
       "\n",
       "               id_seccion_censal_local  desc_seccion_censal_local  \\\n",
       "rotulo                                                              \n",
       "SIN ACTIVIDAD                        0                      44915   \n",
       "\n",
       "               coordenada_x_local  coordenada_y_local  id_tipo_acceso_local  \\\n",
       "rotulo                                                                        \n",
       "SIN ACTIVIDAD               44915               44915                     0   \n",
       "\n",
       "               desc_tipo_acceso_local  id_situacion_local  \\\n",
       "rotulo                                                      \n",
       "SIN ACTIVIDAD                   44915                   0   \n",
       "\n",
       "               desc_situacion_local  id_vial_edificio  clase_vial_edificio  \\\n",
       "rotulo                                                                       \n",
       "SIN ACTIVIDAD                 44915             44915                44915   \n",
       "\n",
       "               desc_vial_edificio  id_ndp_edificio  id_clase_ndp_edificio  \\\n",
       "rotulo                                                                      \n",
       "SIN ACTIVIDAD               44915            44915                  44915   \n",
       "\n",
       "               nom_edificio  num_edificio  cal_edificio  secuencial_local_PC  \\\n",
       "rotulo                                                                         \n",
       "SIN ACTIVIDAD         44915         44915         44915                44915   \n",
       "\n",
       "               id_vial_acceso  clase_vial_acceso  desc_vial_acceso  \\\n",
       "rotulo                                                               \n",
       "SIN ACTIVIDAD               0              44915             44915   \n",
       "\n",
       "               id_ndp_acceso  id_clase_ndp_acceso  nom_acceso  num_acceso  \\\n",
       "rotulo                                                                      \n",
       "SIN ACTIVIDAD          44915                44915       44915       44915   \n",
       "\n",
       "               cal_acceso  coordenada_x_agrupacion  coordenada_y_agrup  \\\n",
       "rotulo                                                                   \n",
       "SIN ACTIVIDAD       44915                     3066                3066   \n",
       "\n",
       "               id_agrupacion  nombre_agrupacion  id_tipo_agrup  \\\n",
       "rotulo                                                           \n",
       "SIN ACTIVIDAD           3066               3066           3066   \n",
       "\n",
       "               desc_tipo_agrup  id_planta_agrupado  id_local_agrupado  \\\n",
       "rotulo                                                                  \n",
       "SIN ACTIVIDAD             3066                2940               3037   \n",
       "\n",
       "               id_seccion  desc_seccion  id_division  desc_division  \\\n",
       "rotulo                                                                \n",
       "SIN ACTIVIDAD           0             0            0              0   \n",
       "\n",
       "               id_epigrafe  desc_epigrafe   conc  \n",
       "rotulo                                            \n",
       "SIN ACTIVIDAD            0              0  44915  "
      ]
     },
     "execution_count": 132,
     "metadata": {},
     "output_type": "execute_result"
    }
   ],
   "source": [
    "df_epi15[df_epi15.desc_epigrafe.isnull()].groupby('rotulo').count()"
   ]
  },
  {
   "cell_type": "markdown",
   "metadata": {},
   "source": [
    "New column: 'conc': concat('rotulo','desc_vial_acceso') to identify unique locals\n",
    "All this with function **cl.new_col**"
   ]
  },
  {
   "cell_type": "code",
   "execution_count": 133,
   "metadata": {},
   "outputs": [],
   "source": [
    "df_epi19 = cl.new_col(df_epi19)\n",
    "df_epi18 = cl.new_col(df_epi18)\n",
    "df_epi17 = cl.new_col(df_epi17)\n",
    "df_epi16 = cl.new_col(df_epi16)\n",
    "df_epi15 = cl.new_col(df_epi15)"
   ]
  },
  {
   "cell_type": "code",
   "execution_count": 134,
   "metadata": {},
   "outputs": [
    {
     "name": "stdout",
     "output_type": "stream",
     "text": [
      "<class 'pandas.core.frame.DataFrame'>\n",
      "RangeIndex: 157206 entries, 0 to 157205\n",
      "Data columns (total 47 columns):\n",
      "id_local                     157206 non-null int64\n",
      "id_distrito_local            157206 non-null int64\n",
      "desc_distrito_local          157206 non-null object\n",
      "id_barrio_local              157206 non-null int64\n",
      "desc_barrio_local            157206 non-null object\n",
      "cod_barrio_local             0 non-null float64\n",
      "id_seccion_censal_local      0 non-null float64\n",
      "desc_seccion_censal_local    157206 non-null int64\n",
      "coordenada_x_local           157206 non-null float64\n",
      "coordenada_y_local           157206 non-null float64\n",
      "id_tipo_acceso_local         0 non-null float64\n",
      "desc_tipo_acceso_local       157206 non-null object\n",
      "id_situacion_local           0 non-null float64\n",
      "desc_situacion_local         157206 non-null object\n",
      "id_vial_edificio             157206 non-null int64\n",
      "clase_vial_edificio          157206 non-null object\n",
      "desc_vial_edificio           157206 non-null object\n",
      "id_ndp_edificio              157206 non-null int64\n",
      "id_clase_ndp_edificio        157206 non-null int64\n",
      "nom_edificio                 157206 non-null object\n",
      "num_edificio                 157206 non-null int64\n",
      "cal_edificio                 157206 non-null object\n",
      "secuencial_local_PC          157206 non-null int64\n",
      "id_vial_acceso               0 non-null float64\n",
      "clase_vial_acceso            157206 non-null object\n",
      "desc_vial_acceso             157206 non-null object\n",
      "id_ndp_acceso                157206 non-null int64\n",
      "id_clase_ndp_acceso          157206 non-null int64\n",
      "nom_acceso                   157206 non-null object\n",
      "num_acceso                   157206 non-null int64\n",
      "cal_acceso                   157206 non-null object\n",
      "coordenada_x_agrupacion      14157 non-null float64\n",
      "coordenada_y_agrup           14157 non-null float64\n",
      "id_agrupacion                14157 non-null float64\n",
      "nombre_agrupacion            14157 non-null object\n",
      "id_tipo_agrup                14157 non-null float64\n",
      "desc_tipo_agrup              14157 non-null object\n",
      "id_planta_agrupado           13039 non-null object\n",
      "id_local_agrupado            14020 non-null object\n",
      "rotulo                       157206 non-null object\n",
      "id_seccion                   112291 non-null object\n",
      "desc_seccion                 112291 non-null object\n",
      "id_division                  112291 non-null object\n",
      "desc_division                112291 non-null object\n",
      "id_epigrafe                  112291 non-null object\n",
      "desc_epigrafe                112291 non-null object\n",
      "conc                         157206 non-null object\n",
      "dtypes: float64(11), int64(12), object(24)\n",
      "memory usage: 56.4+ MB\n"
     ]
    }
   ],
   "source": [
    "df_epi15.info()"
   ]
  },
  {
   "cell_type": "code",
   "execution_count": 135,
   "metadata": {},
   "outputs": [],
   "source": [
    "df_epi19_cl = df_epi19.copy()\n",
    "df_epi18_cl = df_epi18.copy()\n",
    "df_epi17_cl = df_epi17.copy()\n",
    "df_epi16_cl = df_epi16.copy()\n",
    "df_epi15_cl = df_epi15.copy()"
   ]
  },
  {
   "cell_type": "markdown",
   "metadata": {},
   "source": [
    "I unify all 'Baja*' and 'LOCAL SIN ACTIVIDAD' status with 'Cerrado' state for all the years DataFrames:\n",
    "- status that contains 'Baja' \n",
    "- those locals with 'desc epigrafe' == 'LOCAL SIN ACTIVIDAD'   \n",
    "\n",
    "For this I will use **cl.estado** function."
   ]
  },
  {
   "cell_type": "code",
   "execution_count": 136,
   "metadata": {},
   "outputs": [
    {
     "data": {
      "text/plain": [
       "Abierto               117830\n",
       "Cerrado                34738\n",
       "Uso vivienda            6473\n",
       "Baja Reunificacion      2444\n",
       "Baja                    1018\n",
       "En obras                 841\n",
       "Baja PC Asociado          11\n",
       "Name: desc_situacion_local, dtype: int64"
      ]
     },
     "execution_count": 136,
     "metadata": {},
     "output_type": "execute_result"
    }
   ],
   "source": [
    "df_epi19_cl['desc_situacion_local'].value_counts()"
   ]
  },
  {
   "cell_type": "code",
   "execution_count": 137,
   "metadata": {},
   "outputs": [],
   "source": [
    "df_epi19_cl['desc_sit_loc_modif'] = cl.estado(df_epi19_cl['desc_epigrafe'],df_epi19_cl['desc_situacion_local'])\n",
    "df_epi18_cl['desc_sit_loc_modif'] = cl.estado(df_epi18_cl['desc_epigrafe'],df_epi18_cl['desc_situacion_local'])\n",
    "df_epi17_cl['desc_sit_loc_modif'] = cl.estado(df_epi17_cl['desc_epigrafe'],df_epi17_cl['desc_situacion_local'])\n",
    "df_epi16_cl['desc_sit_loc_modif'] = cl.estado(df_epi16_cl['desc_epigrafe'],df_epi16_cl['desc_situacion_local'])\n",
    "df_epi15_cl['desc_sit_loc_modif'] = cl.estado(df_epi15_cl['desc_epigrafe'],df_epi15_cl['desc_situacion_local'])"
   ]
  },
  {
   "cell_type": "code",
   "execution_count": 138,
   "metadata": {
    "scrolled": true
   },
   "outputs": [
    {
     "data": {
      "text/plain": [
       "Abierto         116704\n",
       "Cerrado          39337\n",
       "Uso vivienda      6473\n",
       "En obras           841\n",
       "Name: desc_sit_loc_modif, dtype: int64"
      ]
     },
     "execution_count": 138,
     "metadata": {},
     "output_type": "execute_result"
    }
   ],
   "source": [
    "df_epi19_cl['desc_sit_loc_modif'].value_counts()"
   ]
  },
  {
   "cell_type": "markdown",
   "metadata": {},
   "source": [
    "I fill NaN with module **cl.na** according to Epigrafes nomenclature (https://datos.madrid.es/FWProjects/egob/Catalogo/Economia/Ficheros/Estructura_DS_FicheroCLA.pdf):   \n",
    "- Locales with 'rotulo' == 'SIN ACTIVIDAD'.\n",
    "- I regularize the locals that do not belong to a group and are null\n",
    "- I fill in the column id_situation local that is null in the Activities file with **cl.id_sit** function\n",
    "\n",
    "I do this for 2019 DataFrame since it is going to be the baseline to merge with the status of the previous years"
   ]
  },
  {
   "cell_type": "code",
   "execution_count": 139,
   "metadata": {},
   "outputs": [],
   "source": [
    "df_epi19_cl_d = cl.na(df_epi19_cl)"
   ]
  },
  {
   "cell_type": "markdown",
   "metadata": {},
   "source": [
    "For all DataFrames (2015 to 2018) but 2019, I drop most of the columns and just keep columns_of_interest=['id_local','conc','desc_sit_loc_modif'] to merge in the final DataFrame . I do this with function: **cl.col_rest**."
   ]
  },
  {
   "cell_type": "code",
   "execution_count": 140,
   "metadata": {},
   "outputs": [],
   "source": [
    "df_epi18_cl_d = cl.col_rest(df_epi18_cl)\n",
    "df_epi17_cl_d = cl.col_rest(df_epi17_cl)\n",
    "df_epi16_cl_d = cl.col_rest(df_epi16_cl)\n",
    "df_epi15_cl_d = cl.col_rest(df_epi15_cl)"
   ]
  },
  {
   "cell_type": "markdown",
   "metadata": {},
   "source": [
    "I check there are no duplicates and reset_index with function **cl.reset** before final merge"
   ]
  },
  {
   "cell_type": "code",
   "execution_count": 141,
   "metadata": {},
   "outputs": [],
   "source": [
    "#drop duplicates\n",
    "df_epi15_cl_d.drop_duplicates(inplace = True)\n",
    "df_epi16_cl_d.drop_duplicates(inplace = True)\n",
    "df_epi17_cl_d.drop_duplicates(inplace = True)\n",
    "df_epi18_cl_d.drop_duplicates(inplace = True)\n",
    "df_epi19_cl_d.drop_duplicates(inplace = True)\n",
    "\n",
    "#id_local ordered and reset index\n",
    "cl.reset(df_epi15_cl_d)\n",
    "cl.reset(df_epi16_cl_d)\n",
    "cl.reset(df_epi17_cl_d)\n",
    "cl.reset(df_epi18_cl_d)\n",
    "cl.reset(df_epi19_cl_d);"
   ]
  },
  {
   "cell_type": "markdown",
   "metadata": {},
   "source": [
    "And check that there are no nulls"
   ]
  },
  {
   "cell_type": "code",
   "execution_count": 142,
   "metadata": {},
   "outputs": [
    {
     "name": "stdout",
     "output_type": "stream",
     "text": [
      "<class 'pandas.core.frame.DataFrame'>\n",
      "RangeIndex: 163355 entries, 0 to 163354\n",
      "Data columns (total 30 columns):\n",
      "id_local                   163355 non-null int64\n",
      "id_distrito_local          163355 non-null int64\n",
      "desc_distrito_local        163355 non-null object\n",
      "id_barrio_local            163355 non-null int64\n",
      "desc_barrio_local          163355 non-null object\n",
      "coordenada_x_local         163355 non-null object\n",
      "coordenada_y_local         163355 non-null object\n",
      "desc_tipo_acceso_local     163355 non-null object\n",
      "id_situacion_local         163355 non-null float64\n",
      "desc_situacion_local       163355 non-null object\n",
      "clase_vial_acceso          163355 non-null object\n",
      "desc_vial_acceso           163355 non-null object\n",
      "nom_acceso                 163355 non-null object\n",
      "num_acceso                 163355 non-null int64\n",
      "cal_acceso                 163355 non-null object\n",
      "coordenada_x_agrupacion    163355 non-null object\n",
      "coordenada_y_agrup         163355 non-null object\n",
      "id_agrupacion              163355 non-null float64\n",
      "nombre_agrupacion          163355 non-null object\n",
      "id_tipo_agrup              163355 non-null float64\n",
      "desc_tipo_agrup            163355 non-null object\n",
      "rotulo                     163355 non-null object\n",
      "id_seccion                 163355 non-null object\n",
      "desc_seccion               163355 non-null object\n",
      "id_division                163355 non-null object\n",
      "desc_division              163355 non-null object\n",
      "id_epigrafe                163355 non-null object\n",
      "desc_epigrafe              163355 non-null object\n",
      "conc                       163355 non-null object\n",
      "desc_sit_loc_modif         163355 non-null object\n",
      "dtypes: float64(3), int64(4), object(23)\n",
      "memory usage: 37.4+ MB\n"
     ]
    }
   ],
   "source": [
    "df_epi19_cl_d.info()"
   ]
  },
  {
   "cell_type": "code",
   "execution_count": 143,
   "metadata": {},
   "outputs": [
    {
     "name": "stdout",
     "output_type": "stream",
     "text": [
      "<class 'pandas.core.frame.DataFrame'>\n",
      "RangeIndex: 146623 entries, 0 to 146622\n",
      "Data columns (total 3 columns):\n",
      "id_local              146623 non-null int64\n",
      "conc                  146623 non-null object\n",
      "desc_sit_loc_modif    146623 non-null object\n",
      "dtypes: int64(1), object(2)\n",
      "memory usage: 3.4+ MB\n"
     ]
    }
   ],
   "source": [
    "df_epi18_cl_d.info()"
   ]
  },
  {
   "cell_type": "code",
   "execution_count": 144,
   "metadata": {},
   "outputs": [
    {
     "name": "stdout",
     "output_type": "stream",
     "text": [
      "<class 'pandas.core.frame.DataFrame'>\n",
      "RangeIndex: 145770 entries, 0 to 145769\n",
      "Data columns (total 3 columns):\n",
      "id_local              145770 non-null int64\n",
      "conc                  145770 non-null object\n",
      "desc_sit_loc_modif    145770 non-null object\n",
      "dtypes: int64(1), object(2)\n",
      "memory usage: 3.3+ MB\n"
     ]
    }
   ],
   "source": [
    "df_epi17_cl_d.info()"
   ]
  },
  {
   "cell_type": "code",
   "execution_count": 145,
   "metadata": {
    "scrolled": true
   },
   "outputs": [
    {
     "name": "stdout",
     "output_type": "stream",
     "text": [
      "<class 'pandas.core.frame.DataFrame'>\n",
      "RangeIndex: 144936 entries, 0 to 144935\n",
      "Data columns (total 3 columns):\n",
      "id_local              144936 non-null int64\n",
      "conc                  144936 non-null object\n",
      "desc_sit_loc_modif    144936 non-null object\n",
      "dtypes: int64(1), object(2)\n",
      "memory usage: 3.3+ MB\n"
     ]
    }
   ],
   "source": [
    "df_epi16_cl_d.info()"
   ]
  },
  {
   "cell_type": "code",
   "execution_count": 146,
   "metadata": {},
   "outputs": [
    {
     "name": "stdout",
     "output_type": "stream",
     "text": [
      "<class 'pandas.core.frame.DataFrame'>\n",
      "RangeIndex: 144057 entries, 0 to 144056\n",
      "Data columns (total 3 columns):\n",
      "id_local              144057 non-null int64\n",
      "conc                  144057 non-null object\n",
      "desc_sit_loc_modif    144057 non-null object\n",
      "dtypes: int64(1), object(2)\n",
      "memory usage: 3.3+ MB\n"
     ]
    }
   ],
   "source": [
    "df_epi15_cl_d.info()"
   ]
  },
  {
   "cell_type": "markdown",
   "metadata": {},
   "source": [
    "I join all the info in a single Dataframe"
   ]
  },
  {
   "cell_type": "code",
   "execution_count": 147,
   "metadata": {},
   "outputs": [],
   "source": [
    "columns_to_merge = ['id_local','conc']"
   ]
  },
  {
   "cell_type": "code",
   "execution_count": 148,
   "metadata": {},
   "outputs": [
    {
     "data": {
      "text/plain": [
       "((144954, 4), 144920, 144920)"
      ]
     },
     "execution_count": 148,
     "metadata": {},
     "output_type": "execute_result"
    }
   ],
   "source": [
    "df_local16 = df_epi16_cl_d.merge(df_epi15_cl_d, how= 'left', \n",
    "                                    on=columns_to_merge,\n",
    "                                    suffixes=('_16','_15'))\n",
    "df_local16.shape, len(df_local16['id_local'].unique()), len(df_epi16_cl_d['id_local'].unique())"
   ]
  },
  {
   "cell_type": "code",
   "execution_count": 149,
   "metadata": {},
   "outputs": [
    {
     "data": {
      "text/plain": [
       "((145831, 5), 145752, 145752)"
      ]
     },
     "execution_count": 149,
     "metadata": {},
     "output_type": "execute_result"
    }
   ],
   "source": [
    "df_local17 = df_epi17_cl_d.merge(df_local16, how= 'left', \n",
    "                                    on=columns_to_merge,\n",
    "                                    suffixes=('_17','_16'))\n",
    "df_local17.shape, len(df_local17['id_local'].unique()), len(df_epi17_cl_d['id_local'].unique())"
   ]
  },
  {
   "cell_type": "code",
   "execution_count": 150,
   "metadata": {},
   "outputs": [
    {
     "data": {
      "text/plain": [
       "((146752, 6), 146607, 146607)"
      ]
     },
     "execution_count": 150,
     "metadata": {},
     "output_type": "execute_result"
    }
   ],
   "source": [
    "df_local18 = df_epi18_cl_d.merge(df_local17, how= 'left', \n",
    "                                    on=columns_to_merge,\n",
    "                                    suffixes=('_18','_17'))\n",
    "df_local18.shape, len(df_local18['id_local'].unique()), len(df_epi18_cl_d['id_local'].unique())"
   ]
  },
  {
   "cell_type": "code",
   "execution_count": 188,
   "metadata": {},
   "outputs": [
    {
     "data": {
      "text/plain": [
       "((163652, 34), 147344, 147344)"
      ]
     },
     "execution_count": 188,
     "metadata": {},
     "output_type": "execute_result"
    }
   ],
   "source": [
    "df_local19 = df_epi19_cl_d.merge(df_local18, how= 'left', \n",
    "                                    on=columns_to_merge,\n",
    "                                    suffixes=('_19','_18'))\n",
    "names = df_local19.columns.tolist()\n",
    "names[names.index('desc_sit_loc_modif')] = 'desc_sit_loc_modif_19'\n",
    "df_local19.columns = names\n",
    "df_local19.shape, len(df_local19['id_local'].unique()), len(df_epi19_cl_d['id_local'].unique())"
   ]
  },
  {
   "cell_type": "code",
   "execution_count": 152,
   "metadata": {},
   "outputs": [
    {
     "data": {
      "text/plain": [
       "Index(['id_local', 'id_distrito_local', 'desc_distrito_local',\n",
       "       'id_barrio_local', 'desc_barrio_local', 'coordenada_x_local',\n",
       "       'coordenada_y_local', 'desc_tipo_acceso_local', 'id_situacion_local',\n",
       "       'desc_situacion_local', 'clase_vial_acceso', 'desc_vial_acceso',\n",
       "       'nom_acceso', 'num_acceso', 'cal_acceso', 'coordenada_x_agrupacion',\n",
       "       'coordenada_y_agrup', 'id_agrupacion', 'nombre_agrupacion',\n",
       "       'id_tipo_agrup', 'desc_tipo_agrup', 'rotulo', 'id_seccion',\n",
       "       'desc_seccion', 'id_division', 'desc_division', 'id_epigrafe',\n",
       "       'desc_epigrafe', 'conc', 'desc_sit_loc_modif_19',\n",
       "       'desc_sit_loc_modif_18', 'desc_sit_loc_modif_17',\n",
       "       'desc_sit_loc_modif_16', 'desc_sit_loc_modif_15'],\n",
       "      dtype='object')"
      ]
     },
     "execution_count": 152,
     "metadata": {},
     "output_type": "execute_result"
    }
   ],
   "source": [
    "df_local19.columns"
   ]
  },
  {
   "cell_type": "code",
   "execution_count": 153,
   "metadata": {},
   "outputs": [
    {
     "name": "stdout",
     "output_type": "stream",
     "text": [
      "<class 'pandas.core.frame.DataFrame'>\n",
      "Int64Index: 163652 entries, 0 to 163651\n",
      "Data columns (total 34 columns):\n",
      "id_local                   163652 non-null int64\n",
      "id_distrito_local          163652 non-null int64\n",
      "desc_distrito_local        163652 non-null object\n",
      "id_barrio_local            163652 non-null int64\n",
      "desc_barrio_local          163652 non-null object\n",
      "coordenada_x_local         163652 non-null object\n",
      "coordenada_y_local         163652 non-null object\n",
      "desc_tipo_acceso_local     163652 non-null object\n",
      "id_situacion_local         163652 non-null float64\n",
      "desc_situacion_local       163652 non-null object\n",
      "clase_vial_acceso          163652 non-null object\n",
      "desc_vial_acceso           163652 non-null object\n",
      "nom_acceso                 163652 non-null object\n",
      "num_acceso                 163652 non-null int64\n",
      "cal_acceso                 163652 non-null object\n",
      "coordenada_x_agrupacion    163652 non-null object\n",
      "coordenada_y_agrup         163652 non-null object\n",
      "id_agrupacion              163652 non-null float64\n",
      "nombre_agrupacion          163652 non-null object\n",
      "id_tipo_agrup              163652 non-null float64\n",
      "desc_tipo_agrup            163652 non-null object\n",
      "rotulo                     163652 non-null object\n",
      "id_seccion                 163652 non-null object\n",
      "desc_seccion               163652 non-null object\n",
      "id_division                163652 non-null object\n",
      "desc_division              163652 non-null object\n",
      "id_epigrafe                163652 non-null object\n",
      "desc_epigrafe              163652 non-null object\n",
      "conc                       163652 non-null object\n",
      "desc_sit_loc_modif_19      163652 non-null object\n",
      "desc_sit_loc_modif_18      154941 non-null object\n",
      "desc_sit_loc_modif_17      147802 non-null object\n",
      "desc_sit_loc_modif_16      136799 non-null object\n",
      "desc_sit_loc_modif_15      130263 non-null object\n",
      "dtypes: float64(3), int64(4), object(27)\n",
      "memory usage: 43.7+ MB\n"
     ]
    }
   ],
   "source": [
    "df_local19.info()"
   ]
  },
  {
   "cell_type": "markdown",
   "metadata": {},
   "source": [
    "I see that some numeric columns have 'object' type ('id_epigrafe', 'id_division'). I drop non numeric values (PTECO1 == 'no activity pending to code') and unify the type"
   ]
  },
  {
   "cell_type": "code",
   "execution_count": 189,
   "metadata": {},
   "outputs": [
    {
     "data": {
      "text/plain": [
       "array([56, 56, 56, ..., 33, 64, 64])"
      ]
     },
     "execution_count": 189,
     "metadata": {},
     "output_type": "execute_result"
    }
   ],
   "source": [
    "df_local19_f = df_local19[(df_local19.id_epigrafe != 'PTECO1')]\n",
    "cl.reset(df_local19_f);\n",
    "cols = ['id_division','id_epigrafe']\n",
    "df_local19_f.loc[:,cols] = df_local19_f.loc[:,cols].applymap(np.int64);\n",
    "df_local19_f.id_division.values"
   ]
  },
  {
   "cell_type": "markdown",
   "metadata": {},
   "source": [
    "Finally, I drop locals with 'LOCAL SIN ACTIVIDAD' description"
   ]
  },
  {
   "cell_type": "code",
   "execution_count": 190,
   "metadata": {},
   "outputs": [],
   "source": [
    "df_local19_f = df_local19_f[df_local19_f.desc_epigrafe != 'LOCAL SIN ACTIVIDAD']"
   ]
  },
  {
   "cell_type": "code",
   "execution_count": 191,
   "metadata": {},
   "outputs": [
    {
     "data": {
      "text/html": [
       "<div>\n",
       "<style scoped>\n",
       "    .dataframe tbody tr th:only-of-type {\n",
       "        vertical-align: middle;\n",
       "    }\n",
       "\n",
       "    .dataframe tbody tr th {\n",
       "        vertical-align: top;\n",
       "    }\n",
       "\n",
       "    .dataframe thead th {\n",
       "        text-align: right;\n",
       "    }\n",
       "</style>\n",
       "<table border=\"1\" class=\"dataframe\">\n",
       "  <thead>\n",
       "    <tr style=\"text-align: right;\">\n",
       "      <th></th>\n",
       "      <th>id_local</th>\n",
       "      <th>id_distrito_local</th>\n",
       "      <th>desc_distrito_local</th>\n",
       "      <th>id_barrio_local</th>\n",
       "      <th>desc_barrio_local</th>\n",
       "      <th>coordenada_x_local</th>\n",
       "      <th>coordenada_y_local</th>\n",
       "      <th>desc_tipo_acceso_local</th>\n",
       "      <th>id_situacion_local</th>\n",
       "      <th>desc_situacion_local</th>\n",
       "      <th>clase_vial_acceso</th>\n",
       "      <th>desc_vial_acceso</th>\n",
       "      <th>nom_acceso</th>\n",
       "      <th>num_acceso</th>\n",
       "      <th>cal_acceso</th>\n",
       "      <th>coordenada_x_agrupacion</th>\n",
       "      <th>coordenada_y_agrup</th>\n",
       "      <th>id_agrupacion</th>\n",
       "      <th>nombre_agrupacion</th>\n",
       "      <th>id_tipo_agrup</th>\n",
       "      <th>desc_tipo_agrup</th>\n",
       "      <th>rotulo</th>\n",
       "      <th>id_seccion</th>\n",
       "      <th>desc_seccion</th>\n",
       "      <th>id_division</th>\n",
       "      <th>desc_division</th>\n",
       "      <th>id_epigrafe</th>\n",
       "      <th>desc_epigrafe</th>\n",
       "      <th>conc</th>\n",
       "      <th>desc_sit_loc_modif_19</th>\n",
       "      <th>desc_sit_loc_modif_18</th>\n",
       "      <th>desc_sit_loc_modif_17</th>\n",
       "      <th>desc_sit_loc_modif_16</th>\n",
       "      <th>desc_sit_loc_modif_15</th>\n",
       "    </tr>\n",
       "  </thead>\n",
       "  <tbody>\n",
       "    <tr>\n",
       "      <th>185</th>\n",
       "      <td>10001291</td>\n",
       "      <td>1</td>\n",
       "      <td>CENTRO</td>\n",
       "      <td>104</td>\n",
       "      <td>JUSTICIA</td>\n",
       "      <td>440989,59</td>\n",
       "      <td>4474974,52</td>\n",
       "      <td>Puerta Calle</td>\n",
       "      <td>1.0</td>\n",
       "      <td>Abierto</td>\n",
       "      <td>CALLE</td>\n",
       "      <td>BARQUILLO                                     ...</td>\n",
       "      <td>NUM</td>\n",
       "      <td>33</td>\n",
       "      <td></td>\n",
       "      <td>0</td>\n",
       "      <td>0</td>\n",
       "      <td>-1.0</td>\n",
       "      <td>SIN AGRUPACION</td>\n",
       "      <td>-1.0</td>\n",
       "      <td>SIN AGRUPACION</td>\n",
       "      <td>OFELIA</td>\n",
       "      <td>Z</td>\n",
       "      <td>SIN ACTIVIDAD</td>\n",
       "      <td>00</td>\n",
       "      <td>SIN ACTIVIDAD</td>\n",
       "      <td>000000</td>\n",
       "      <td>LOCAL SIN ACTIVIDAD</td>\n",
       "      <td>OFELIA-BARQUILLO-33</td>\n",
       "      <td>Cerrado</td>\n",
       "      <td>NaN</td>\n",
       "      <td>NaN</td>\n",
       "      <td>NaN</td>\n",
       "      <td>NaN</td>\n",
       "    </tr>\n",
       "    <tr>\n",
       "      <th>205</th>\n",
       "      <td>10001407</td>\n",
       "      <td>1</td>\n",
       "      <td>CENTRO</td>\n",
       "      <td>103</td>\n",
       "      <td>CORTES</td>\n",
       "      <td>440572,59</td>\n",
       "      <td>4474192,53</td>\n",
       "      <td>Puerta Calle</td>\n",
       "      <td>1.0</td>\n",
       "      <td>Abierto</td>\n",
       "      <td>CALLE</td>\n",
       "      <td>PRINCIPE                                      ...</td>\n",
       "      <td>NUM</td>\n",
       "      <td>4</td>\n",
       "      <td></td>\n",
       "      <td>0</td>\n",
       "      <td>0</td>\n",
       "      <td>-1.0</td>\n",
       "      <td>SIN AGRUPACION</td>\n",
       "      <td>-1.0</td>\n",
       "      <td>SIN AGRUPACION</td>\n",
       "      <td>GRIGNOLINO</td>\n",
       "      <td>Z</td>\n",
       "      <td>SIN ACTIVIDAD</td>\n",
       "      <td>00</td>\n",
       "      <td>SIN ACTIVIDAD</td>\n",
       "      <td>000000</td>\n",
       "      <td>LOCAL SIN ACTIVIDAD</td>\n",
       "      <td>GRIGNOLINO-PRINCIPE-4</td>\n",
       "      <td>Cerrado</td>\n",
       "      <td>Abierto</td>\n",
       "      <td>Abierto</td>\n",
       "      <td>Abierto</td>\n",
       "      <td>Abierto</td>\n",
       "    </tr>\n",
       "    <tr>\n",
       "      <th>363</th>\n",
       "      <td>10001884</td>\n",
       "      <td>1</td>\n",
       "      <td>CENTRO</td>\n",
       "      <td>103</td>\n",
       "      <td>CORTES</td>\n",
       "      <td>440407,59</td>\n",
       "      <td>4474033,53</td>\n",
       "      <td>Puerta Calle</td>\n",
       "      <td>1.0</td>\n",
       "      <td>Abierto</td>\n",
       "      <td>CALLE</td>\n",
       "      <td>ESPOZ Y MINA                                  ...</td>\n",
       "      <td>NUM</td>\n",
       "      <td>32</td>\n",
       "      <td></td>\n",
       "      <td>0</td>\n",
       "      <td>0</td>\n",
       "      <td>-1.0</td>\n",
       "      <td>SIN AGRUPACION</td>\n",
       "      <td>-1.0</td>\n",
       "      <td>SIN AGRUPACION</td>\n",
       "      <td>MAMA TERESA</td>\n",
       "      <td>Z</td>\n",
       "      <td>SIN ACTIVIDAD</td>\n",
       "      <td>00</td>\n",
       "      <td>SIN ACTIVIDAD</td>\n",
       "      <td>000000</td>\n",
       "      <td>LOCAL SIN ACTIVIDAD</td>\n",
       "      <td>MAMA TERESA-ESPOZ Y MINA-32</td>\n",
       "      <td>Cerrado</td>\n",
       "      <td>Cerrado</td>\n",
       "      <td>Abierto</td>\n",
       "      <td>Abierto</td>\n",
       "      <td>Abierto</td>\n",
       "    </tr>\n",
       "    <tr>\n",
       "      <th>417</th>\n",
       "      <td>10002055</td>\n",
       "      <td>1</td>\n",
       "      <td>CENTRO</td>\n",
       "      <td>105</td>\n",
       "      <td>UNIVERSIDAD</td>\n",
       "      <td>440379,59</td>\n",
       "      <td>4474640,53</td>\n",
       "      <td>Puerta Calle</td>\n",
       "      <td>1.0</td>\n",
       "      <td>Abierto</td>\n",
       "      <td>CALLE</td>\n",
       "      <td>GRAN VIA                                      ...</td>\n",
       "      <td>NUM</td>\n",
       "      <td>30</td>\n",
       "      <td>B</td>\n",
       "      <td>0</td>\n",
       "      <td>0</td>\n",
       "      <td>-1.0</td>\n",
       "      <td>SIN AGRUPACION</td>\n",
       "      <td>-1.0</td>\n",
       "      <td>SIN AGRUPACION</td>\n",
       "      <td>STARBUCKS</td>\n",
       "      <td>Z</td>\n",
       "      <td>SIN ACTIVIDAD</td>\n",
       "      <td>00</td>\n",
       "      <td>SIN ACTIVIDAD</td>\n",
       "      <td>000000</td>\n",
       "      <td>LOCAL SIN ACTIVIDAD</td>\n",
       "      <td>STARBUCKS-GRAN VIA-30</td>\n",
       "      <td>Cerrado</td>\n",
       "      <td>Cerrado</td>\n",
       "      <td>Cerrado</td>\n",
       "      <td>Abierto</td>\n",
       "      <td>Abierto</td>\n",
       "    </tr>\n",
       "    <tr>\n",
       "      <th>428</th>\n",
       "      <td>10002079</td>\n",
       "      <td>1</td>\n",
       "      <td>CENTRO</td>\n",
       "      <td>101</td>\n",
       "      <td>PALACIO</td>\n",
       "      <td>439958,6</td>\n",
       "      <td>4474681,53</td>\n",
       "      <td>Puerta Calle</td>\n",
       "      <td>1.0</td>\n",
       "      <td>Abierto</td>\n",
       "      <td>CALLE</td>\n",
       "      <td>SILVA                                         ...</td>\n",
       "      <td>NUM</td>\n",
       "      <td>4</td>\n",
       "      <td></td>\n",
       "      <td>0</td>\n",
       "      <td>0</td>\n",
       "      <td>-1.0</td>\n",
       "      <td>SIN AGRUPACION</td>\n",
       "      <td>-1.0</td>\n",
       "      <td>SIN AGRUPACION</td>\n",
       "      <td>TANKAS LA BOUTIQUE DEL CAFE\"\"</td>\n",
       "      <td>Z</td>\n",
       "      <td>SIN ACTIVIDAD</td>\n",
       "      <td>00</td>\n",
       "      <td>SIN ACTIVIDAD</td>\n",
       "      <td>000000</td>\n",
       "      <td>LOCAL SIN ACTIVIDAD</td>\n",
       "      <td>TANKAS LA BOUTIQUE DEL CAFE\"\"-SILVA-4</td>\n",
       "      <td>Cerrado</td>\n",
       "      <td>Cerrado</td>\n",
       "      <td>Cerrado</td>\n",
       "      <td>Abierto</td>\n",
       "      <td>Abierto</td>\n",
       "    </tr>\n",
       "  </tbody>\n",
       "</table>\n",
       "</div>"
      ],
      "text/plain": [
       "     id_local  id_distrito_local   desc_distrito_local  id_barrio_local  \\\n",
       "185  10001291                  1  CENTRO                            104   \n",
       "205  10001407                  1  CENTRO                            103   \n",
       "363  10001884                  1  CENTRO                            103   \n",
       "417  10002055                  1  CENTRO                            105   \n",
       "428  10002079                  1  CENTRO                            101   \n",
       "\n",
       "        desc_barrio_local coordenada_x_local coordenada_y_local  \\\n",
       "185  JUSTICIA                      440989,59         4474974,52   \n",
       "205  CORTES                        440572,59         4474192,53   \n",
       "363  CORTES                        440407,59         4474033,53   \n",
       "417  UNIVERSIDAD                   440379,59         4474640,53   \n",
       "428  PALACIO                        439958,6         4474681,53   \n",
       "\n",
       "    desc_tipo_acceso_local  id_situacion_local desc_situacion_local  \\\n",
       "185           Puerta Calle                 1.0              Abierto   \n",
       "205           Puerta Calle                 1.0              Abierto   \n",
       "363           Puerta Calle                 1.0              Abierto   \n",
       "417           Puerta Calle                 1.0              Abierto   \n",
       "428           Puerta Calle                 1.0              Abierto   \n",
       "\n",
       "            clase_vial_acceso  \\\n",
       "185  CALLE                      \n",
       "205  CALLE                      \n",
       "363  CALLE                      \n",
       "417  CALLE                      \n",
       "428  CALLE                      \n",
       "\n",
       "                                      desc_vial_acceso nom_acceso  num_acceso  \\\n",
       "185  BARQUILLO                                     ...        NUM          33   \n",
       "205  PRINCIPE                                      ...        NUM           4   \n",
       "363  ESPOZ Y MINA                                  ...        NUM          32   \n",
       "417  GRAN VIA                                      ...        NUM          30   \n",
       "428  SILVA                                         ...        NUM           4   \n",
       "\n",
       "    cal_acceso coordenada_x_agrupacion coordenada_y_agrup  id_agrupacion  \\\n",
       "185                                  0                  0           -1.0   \n",
       "205                                  0                  0           -1.0   \n",
       "363                                  0                  0           -1.0   \n",
       "417          B                       0                  0           -1.0   \n",
       "428                                  0                  0           -1.0   \n",
       "\n",
       "    nombre_agrupacion  id_tipo_agrup desc_tipo_agrup  \\\n",
       "185    SIN AGRUPACION           -1.0  SIN AGRUPACION   \n",
       "205    SIN AGRUPACION           -1.0  SIN AGRUPACION   \n",
       "363    SIN AGRUPACION           -1.0  SIN AGRUPACION   \n",
       "417    SIN AGRUPACION           -1.0  SIN AGRUPACION   \n",
       "428    SIN AGRUPACION           -1.0  SIN AGRUPACION   \n",
       "\n",
       "                            rotulo id_seccion   desc_seccion id_division  \\\n",
       "185                         OFELIA          Z  SIN ACTIVIDAD          00   \n",
       "205                     GRIGNOLINO          Z  SIN ACTIVIDAD          00   \n",
       "363                    MAMA TERESA          Z  SIN ACTIVIDAD          00   \n",
       "417                      STARBUCKS          Z  SIN ACTIVIDAD          00   \n",
       "428  TANKAS LA BOUTIQUE DEL CAFE\"\"          Z  SIN ACTIVIDAD          00   \n",
       "\n",
       "     desc_division id_epigrafe        desc_epigrafe  \\\n",
       "185  SIN ACTIVIDAD      000000  LOCAL SIN ACTIVIDAD   \n",
       "205  SIN ACTIVIDAD      000000  LOCAL SIN ACTIVIDAD   \n",
       "363  SIN ACTIVIDAD      000000  LOCAL SIN ACTIVIDAD   \n",
       "417  SIN ACTIVIDAD      000000  LOCAL SIN ACTIVIDAD   \n",
       "428  SIN ACTIVIDAD      000000  LOCAL SIN ACTIVIDAD   \n",
       "\n",
       "                                      conc desc_sit_loc_modif_19  \\\n",
       "185                    OFELIA-BARQUILLO-33               Cerrado   \n",
       "205                  GRIGNOLINO-PRINCIPE-4               Cerrado   \n",
       "363            MAMA TERESA-ESPOZ Y MINA-32               Cerrado   \n",
       "417                  STARBUCKS-GRAN VIA-30               Cerrado   \n",
       "428  TANKAS LA BOUTIQUE DEL CAFE\"\"-SILVA-4               Cerrado   \n",
       "\n",
       "    desc_sit_loc_modif_18 desc_sit_loc_modif_17 desc_sit_loc_modif_16  \\\n",
       "185                   NaN                   NaN                   NaN   \n",
       "205               Abierto               Abierto               Abierto   \n",
       "363               Cerrado               Abierto               Abierto   \n",
       "417               Cerrado               Cerrado               Abierto   \n",
       "428               Cerrado               Cerrado               Abierto   \n",
       "\n",
       "    desc_sit_loc_modif_15  \n",
       "185                   NaN  \n",
       "205               Abierto  \n",
       "363               Abierto  \n",
       "417               Abierto  \n",
       "428               Abierto  "
      ]
     },
     "execution_count": 191,
     "metadata": {},
     "output_type": "execute_result"
    }
   ],
   "source": [
    "# Y me guardo los locales sin actividad que tengo geoposicionados\n",
    "df_no_act = df_local19[(df_local19.desc_epigrafe == 'LOCAL SIN ACTIVIDAD') & (df_local19.coordenada_x_local != 0)]\n",
    "len(df_local19[(df_local19.desc_epigrafe == 'LOCAL SIN ACTIVIDAD') & (df_local19.coordenada_x_local != 0)])\n",
    "df_no_act.head()"
   ]
  },
  {
   "cell_type": "markdown",
   "metadata": {},
   "source": [
    "## Feature engineering, data visualization and statistics\n",
    "### In v1: \n",
    "- target variable: I have two functions: **cl.target** (open and close in one or various year) and **cl.target2** (closed in the last n years starting from year_i).   \n",
    "   I select the second one to have more '1's. The data is not good as I could check with an \"in the field check out\" that some of the locals that appears as 'Abierto' in the file and currently closed\n",
    "- number of activities per local\n",
    "- total number on locals per zone\n",
    "- variation between opne and close per local (not representative after the study)\n",
    "- number of locals of th same type/activity within a distance   \n",
    "\n",
    "### In future versions:\n",
    "- I will do a web scrapping in Google Places to check wether I can improve the quality of the target variable"
   ]
  },
  {
   "cell_type": "markdown",
   "metadata": {},
   "source": [
    "Variables open and closed each year with **cl.sit_year**.  \n",
    "I compare the situation of every local with the previous years ('Cerrado' for closed and 'NaN' for open).   \n",
    "Example:\n",
    "\n",
    "     cond1 = ((df_.desc_sit_loc_modif_19 == 'Cerrado') |\n",
    "                                 (df_.desc_sit_loc_modif_19 == 'Uso vivienda'))     \n",
    "                                 \n",
    "     cond2 = ((df_.desc_sit_loc_modif_18 != 'Cerrado') |\n",
    "                                 df.desc_sit_loc_modif_18.isnull())   \n",
    "                                 \n",
    "     cond3 = ((df_.desc_sit_loc_modif_19.notnull()) &\n",
    "                                 (df_.desc_sit_loc_modif_18.isnull()))   \n",
    " \n",
    "    df_['cerrado_19'] = np.where(cond1 & cond2, 1 ,0)   \n",
    "    df_['abierto_19'] = np.where(cond3, 1 ,0)"
   ]
  },
  {
   "cell_type": "code",
   "execution_count": 192,
   "metadata": {},
   "outputs": [],
   "source": [
    "df_local19_f = cl.sit_year(df_local19_f)"
   ]
  },
  {
   "cell_type": "code",
   "execution_count": 193,
   "metadata": {},
   "outputs": [
    {
     "data": {
      "text/plain": [
       "716"
      ]
     },
     "execution_count": 193,
     "metadata": {},
     "output_type": "execute_result"
    }
   ],
   "source": [
    "len(df_local19_f[df_local19_f.id_epigrafe == 474201])"
   ]
  },
  {
   "cell_type": "code",
   "execution_count": 194,
   "metadata": {},
   "outputs": [
    {
     "data": {
      "text/plain": [
       "716"
      ]
     },
     "execution_count": 194,
     "metadata": {},
     "output_type": "execute_result"
    }
   ],
   "source": [
    "len(df_local19_f[df_local19_f.desc_epigrafe == 'COMERCIO AL POR MENOR DE PRODUCTOS DE TELEFONIA Y TELECOMUNICACIONES'])"
   ]
  },
  {
   "cell_type": "code",
   "execution_count": 195,
   "metadata": {},
   "outputs": [
    {
     "data": {
      "text/html": [
       "<div>\n",
       "<style scoped>\n",
       "    .dataframe tbody tr th:only-of-type {\n",
       "        vertical-align: middle;\n",
       "    }\n",
       "\n",
       "    .dataframe tbody tr th {\n",
       "        vertical-align: top;\n",
       "    }\n",
       "\n",
       "    .dataframe thead th {\n",
       "        text-align: right;\n",
       "    }\n",
       "</style>\n",
       "<table border=\"1\" class=\"dataframe\">\n",
       "  <thead>\n",
       "    <tr style=\"text-align: right;\">\n",
       "      <th></th>\n",
       "      <th>id_local</th>\n",
       "      <th>id_distrito_local</th>\n",
       "      <th>desc_distrito_local</th>\n",
       "      <th>id_barrio_local</th>\n",
       "      <th>desc_barrio_local</th>\n",
       "      <th>coordenada_x_local</th>\n",
       "      <th>coordenada_y_local</th>\n",
       "      <th>desc_tipo_acceso_local</th>\n",
       "      <th>id_situacion_local</th>\n",
       "      <th>desc_situacion_local</th>\n",
       "      <th>clase_vial_acceso</th>\n",
       "      <th>desc_vial_acceso</th>\n",
       "      <th>nom_acceso</th>\n",
       "      <th>num_acceso</th>\n",
       "      <th>cal_acceso</th>\n",
       "      <th>coordenada_x_agrupacion</th>\n",
       "      <th>coordenada_y_agrup</th>\n",
       "      <th>id_agrupacion</th>\n",
       "      <th>nombre_agrupacion</th>\n",
       "      <th>id_tipo_agrup</th>\n",
       "      <th>desc_tipo_agrup</th>\n",
       "      <th>rotulo</th>\n",
       "      <th>id_seccion</th>\n",
       "      <th>desc_seccion</th>\n",
       "      <th>id_division</th>\n",
       "      <th>desc_division</th>\n",
       "      <th>desc_epigrafe</th>\n",
       "      <th>conc</th>\n",
       "      <th>desc_sit_loc_modif_19</th>\n",
       "      <th>desc_sit_loc_modif_18</th>\n",
       "      <th>desc_sit_loc_modif_17</th>\n",
       "      <th>desc_sit_loc_modif_16</th>\n",
       "      <th>desc_sit_loc_modif_15</th>\n",
       "      <th>cerrado_19</th>\n",
       "      <th>abierto_19</th>\n",
       "      <th>cerrado_18</th>\n",
       "      <th>abierto_18</th>\n",
       "      <th>cerrado_17</th>\n",
       "      <th>abierto_17</th>\n",
       "      <th>cerrado_16</th>\n",
       "      <th>abierto_16</th>\n",
       "    </tr>\n",
       "    <tr>\n",
       "      <th>id_epigrafe</th>\n",
       "      <th></th>\n",
       "      <th></th>\n",
       "      <th></th>\n",
       "      <th></th>\n",
       "      <th></th>\n",
       "      <th></th>\n",
       "      <th></th>\n",
       "      <th></th>\n",
       "      <th></th>\n",
       "      <th></th>\n",
       "      <th></th>\n",
       "      <th></th>\n",
       "      <th></th>\n",
       "      <th></th>\n",
       "      <th></th>\n",
       "      <th></th>\n",
       "      <th></th>\n",
       "      <th></th>\n",
       "      <th></th>\n",
       "      <th></th>\n",
       "      <th></th>\n",
       "      <th></th>\n",
       "      <th></th>\n",
       "      <th></th>\n",
       "      <th></th>\n",
       "      <th></th>\n",
       "      <th></th>\n",
       "      <th></th>\n",
       "      <th></th>\n",
       "      <th></th>\n",
       "      <th></th>\n",
       "      <th></th>\n",
       "      <th></th>\n",
       "      <th></th>\n",
       "      <th></th>\n",
       "      <th></th>\n",
       "      <th></th>\n",
       "      <th></th>\n",
       "      <th></th>\n",
       "      <th></th>\n",
       "      <th></th>\n",
       "    </tr>\n",
       "  </thead>\n",
       "  <tbody>\n",
       "    <tr>\n",
       "      <th>474201</th>\n",
       "      <td>716</td>\n",
       "      <td>716</td>\n",
       "      <td>716</td>\n",
       "      <td>716</td>\n",
       "      <td>716</td>\n",
       "      <td>716</td>\n",
       "      <td>716</td>\n",
       "      <td>716</td>\n",
       "      <td>716</td>\n",
       "      <td>716</td>\n",
       "      <td>716</td>\n",
       "      <td>716</td>\n",
       "      <td>716</td>\n",
       "      <td>716</td>\n",
       "      <td>716</td>\n",
       "      <td>716</td>\n",
       "      <td>716</td>\n",
       "      <td>716</td>\n",
       "      <td>716</td>\n",
       "      <td>716</td>\n",
       "      <td>716</td>\n",
       "      <td>716</td>\n",
       "      <td>716</td>\n",
       "      <td>716</td>\n",
       "      <td>716</td>\n",
       "      <td>716</td>\n",
       "      <td>716</td>\n",
       "      <td>716</td>\n",
       "      <td>716</td>\n",
       "      <td>644</td>\n",
       "      <td>597</td>\n",
       "      <td>517</td>\n",
       "      <td>450</td>\n",
       "      <td>716</td>\n",
       "      <td>716</td>\n",
       "      <td>716</td>\n",
       "      <td>716</td>\n",
       "      <td>716</td>\n",
       "      <td>716</td>\n",
       "      <td>716</td>\n",
       "      <td>716</td>\n",
       "    </tr>\n",
       "  </tbody>\n",
       "</table>\n",
       "</div>"
      ],
      "text/plain": [
       "             id_local  id_distrito_local  desc_distrito_local  \\\n",
       "id_epigrafe                                                     \n",
       "474201            716                716                  716   \n",
       "\n",
       "             id_barrio_local  desc_barrio_local  coordenada_x_local  \\\n",
       "id_epigrafe                                                           \n",
       "474201                   716                716                 716   \n",
       "\n",
       "             coordenada_y_local  desc_tipo_acceso_local  id_situacion_local  \\\n",
       "id_epigrafe                                                                   \n",
       "474201                      716                     716                 716   \n",
       "\n",
       "             desc_situacion_local  clase_vial_acceso  desc_vial_acceso  \\\n",
       "id_epigrafe                                                              \n",
       "474201                        716                716               716   \n",
       "\n",
       "             nom_acceso  num_acceso  cal_acceso  coordenada_x_agrupacion  \\\n",
       "id_epigrafe                                                                \n",
       "474201              716         716         716                      716   \n",
       "\n",
       "             coordenada_y_agrup  id_agrupacion  nombre_agrupacion  \\\n",
       "id_epigrafe                                                         \n",
       "474201                      716            716                716   \n",
       "\n",
       "             id_tipo_agrup  desc_tipo_agrup  rotulo  id_seccion  desc_seccion  \\\n",
       "id_epigrafe                                                                     \n",
       "474201                 716              716     716         716           716   \n",
       "\n",
       "             id_division  desc_division  desc_epigrafe  conc  \\\n",
       "id_epigrafe                                                    \n",
       "474201               716            716            716   716   \n",
       "\n",
       "             desc_sit_loc_modif_19  desc_sit_loc_modif_18  \\\n",
       "id_epigrafe                                                 \n",
       "474201                         716                    644   \n",
       "\n",
       "             desc_sit_loc_modif_17  desc_sit_loc_modif_16  \\\n",
       "id_epigrafe                                                 \n",
       "474201                         597                    517   \n",
       "\n",
       "             desc_sit_loc_modif_15  cerrado_19  abierto_19  cerrado_18  \\\n",
       "id_epigrafe                                                              \n",
       "474201                         450         716         716         716   \n",
       "\n",
       "             abierto_18  cerrado_17  abierto_17  cerrado_16  abierto_16  \n",
       "id_epigrafe                                                              \n",
       "474201              716         716         716         716         716  "
      ]
     },
     "execution_count": 195,
     "metadata": {},
     "output_type": "execute_result"
    }
   ],
   "source": [
    "df_local19_f[df_local19_f.desc_epigrafe == 'COMERCIO AL POR MENOR DE PRODUCTOS DE TELEFONIA Y TELECOMUNICACIONES'].groupby('id_epigrafe').count()"
   ]
  },
  {
   "cell_type": "code",
   "execution_count": 171,
   "metadata": {
    "scrolled": true
   },
   "outputs": [
    {
     "data": {
      "text/plain": [
       "Index(['id_local', 'id_distrito_local', 'desc_distrito_local',\n",
       "       'id_barrio_local', 'desc_barrio_local', 'coordenada_x_local',\n",
       "       'coordenada_y_local', 'desc_tipo_acceso_local', 'id_situacion_local',\n",
       "       'desc_situacion_local', 'clase_vial_acceso', 'desc_vial_acceso',\n",
       "       'nom_acceso', 'num_acceso', 'cal_acceso', 'coordenada_x_agrupacion',\n",
       "       'coordenada_y_agrup', 'id_agrupacion', 'nombre_agrupacion',\n",
       "       'id_tipo_agrup', 'desc_tipo_agrup', 'rotulo', 'id_seccion',\n",
       "       'desc_seccion', 'id_division', 'desc_division', 'id_epigrafe',\n",
       "       'desc_epigrafe', 'conc', 'desc_sit_loc_modif_19',\n",
       "       'desc_sit_loc_modif_18', 'desc_sit_loc_modif_17',\n",
       "       'desc_sit_loc_modif_16', 'desc_sit_loc_modif_15', 'cerrado_19',\n",
       "       'abierto_19', 'cerrado_18', 'abierto_18', 'cerrado_17', 'abierto_17',\n",
       "       'cerrado_16', 'abierto_16'],\n",
       "      dtype='object')"
      ]
     },
     "execution_count": 171,
     "metadata": {},
     "output_type": "execute_result"
    }
   ],
   "source": [
    "df_local19_f.columns"
   ]
  },
  {
   "cell_type": "markdown",
   "metadata": {},
   "source": [
    "I generate a target variable: locals opened and closed in less that 2 years since 2016 but I don have enough '1s' (less than 0,3%)"
   ]
  },
  {
   "cell_type": "code",
   "execution_count": 196,
   "metadata": {
    "scrolled": true
   },
   "outputs": [
    {
     "name": "stdout",
     "output_type": "stream",
     "text": [
      "2\n",
      "2016\n"
     ]
    },
    {
     "data": {
      "text/plain": [
       "0.0029703789508522256"
      ]
     },
     "execution_count": 196,
     "metadata": {},
     "output_type": "execute_result"
    }
   ],
   "source": [
    "# I generate a target variable: locals opened and closed in less that 2 years since 2016 but I don't have enough '1s'\n",
    "df_local19_ft2 = cl.target(df_local19_f,2,2016)\n",
    "df_local19_ft2.head()\n",
    "len(df_local19_ft2[df_local19_ft2.target == 1])/len(df_local19_ft2)"
   ]
  },
  {
   "cell_type": "markdown",
   "metadata": {},
   "source": [
    "So, I generate an new target variable: activities closed since 2017   \n",
    "I have still a very umbalanced dataset. I will manage it in the modelling phase"
   ]
  },
  {
   "cell_type": "code",
   "execution_count": 197,
   "metadata": {
    "scrolled": false
   },
   "outputs": [
    {
     "data": {
      "text/plain": [
       "0.02329968558662916"
      ]
     },
     "execution_count": 197,
     "metadata": {},
     "output_type": "execute_result"
    }
   ],
   "source": [
    "df_local19_ft = cl.target2(df_local19_f,3)\n",
    "df_local19_ft.head()\n",
    "len(df_local19_ft[df_local19_ft.target == 1])/len(df_local19_ft)"
   ]
  },
  {
   "cell_type": "markdown",
   "metadata": {},
   "source": [
    "Now I standardize the activity. Those activities with less than median(#locals/activity) in Madrid, are assigned the activity == 'OTRAS ACTIVIDADES'. I generate new variables:   \n",
    "- desc_act_norm: desc_epigrafe + 'OTRAS ACTIVIDADES' for activities below median(#locals/activity) == 82\n",
    "- id_act_norm: id_epigrafe + 999999 for activities below median(#locals/activity) == 82"
   ]
  },
  {
   "cell_type": "code",
   "execution_count": 198,
   "metadata": {
    "scrolled": true
   },
   "outputs": [
    {
     "data": {
      "text/plain": [
       "(count     439.000000\n",
       " mean      275.307517\n",
       " std       599.497471\n",
       " min         1.000000\n",
       " 25%        19.000000\n",
       " 50%        82.000000\n",
       " 75%       253.500000\n",
       " max      5260.000000\n",
       " Name: id_epigrafe, dtype: float64, 82.0)"
      ]
     },
     "execution_count": 198,
     "metadata": {},
     "output_type": "execute_result"
    }
   ],
   "source": [
    "df_local19_ft.id_epigrafe.value_counts().describe(), df_local19_ft.id_epigrafe.value_counts().median()"
   ]
  },
  {
   "cell_type": "code",
   "execution_count": 199,
   "metadata": {},
   "outputs": [],
   "source": [
    "df_local19_ft.id_epigrafe.value_counts().describe(), df_local19_ft.id_epigrafe.value_counts().median()\n",
    "act = df_local19_ft.desc_epigrafe.value_counts()[df_local19_ft.desc_epigrafe.value_counts() < df_local19_ft.id_epigrafe.value_counts().median()].index\n",
    "df_local19_ft['desc_act_norm'] = df_local19_ft.apply(lambda x: cl.norm_act(x['desc_epigrafe'],act),axis=1)\n",
    "df_local19_ft.loc[:,'id_act_norm'] = df_local19_ft.apply(lambda x: cl.norm_id_act(x['desc_epigrafe'],x['id_epigrafe'],act),axis=1)"
   ]
  },
  {
   "cell_type": "code",
   "execution_count": 214,
   "metadata": {},
   "outputs": [
    {
     "data": {
      "text/plain": [
       "(5594, 0.023954236682159458)"
      ]
     },
     "execution_count": 214,
     "metadata": {},
     "output_type": "execute_result"
    }
   ],
   "source": [
    "#I have classified 5594 locals as 'OTRAS ACTIVIDADES'\n",
    "# The target vs total in group 'Other activities' is aprox. mean()\n",
    "df_oa = df_local19_ft[df_local19_ft.desc_act_norm == 'OTRAS ACTIVIDADES']\n",
    "len(df_oa), len(df_oa[df_oa.target == 1])/len(df_oa)"
   ]
  },
  {
   "cell_type": "code",
   "execution_count": 202,
   "metadata": {
    "scrolled": true
   },
   "outputs": [
    {
     "data": {
      "text/plain": [
       "Index(['id_local', 'id_distrito_local', 'desc_distrito_local',\n",
       "       'id_barrio_local', 'desc_barrio_local', 'coordenada_x_local',\n",
       "       'coordenada_y_local', 'desc_tipo_acceso_local', 'id_situacion_local',\n",
       "       'desc_situacion_local', 'clase_vial_acceso', 'desc_vial_acceso',\n",
       "       'nom_acceso', 'num_acceso', 'cal_acceso', 'coordenada_x_agrupacion',\n",
       "       'coordenada_y_agrup', 'id_agrupacion', 'nombre_agrupacion',\n",
       "       'id_tipo_agrup', 'desc_tipo_agrup', 'rotulo', 'id_seccion',\n",
       "       'desc_seccion', 'id_division', 'desc_division', 'id_epigrafe',\n",
       "       'desc_epigrafe', 'conc', 'desc_sit_loc_modif_19',\n",
       "       'desc_sit_loc_modif_18', 'desc_sit_loc_modif_17',\n",
       "       'desc_sit_loc_modif_16', 'desc_sit_loc_modif_15', 'cerrado_19',\n",
       "       'abierto_19', 'cerrado_18', 'abierto_18', 'cerrado_17', 'abierto_17',\n",
       "       'cerrado_16', 'abierto_16', 'target', 'desc_act_norm', 'id_act_norm'],\n",
       "      dtype='object')"
      ]
     },
     "execution_count": 202,
     "metadata": {},
     "output_type": "execute_result"
    }
   ],
   "source": [
    "df_local19_ft.columns"
   ]
  },
  {
   "cell_type": "markdown",
   "metadata": {},
   "source": [
    "# CONTROL BORRAR "
   ]
  },
  {
   "cell_type": "code",
   "execution_count": 213,
   "metadata": {},
   "outputs": [
    {
     "data": {
      "text/plain": [
       "(716, 0.029329608938547486)"
      ]
     },
     "execution_count": 213,
     "metadata": {},
     "output_type": "execute_result"
    }
   ],
   "source": [
    "df_tel = df_local19_ft[df_local19_ft.id_epigrafe==474201]\n",
    "len(df_tel),len(df_tel[df_tel.target==1])/len(df_tel)"
   ]
  },
  {
   "cell_type": "markdown",
   "metadata": {},
   "source": [
    "I filter activities with have more target values for modeling: % of ones vs total > 5%"
   ]
  },
  {
   "cell_type": "code",
   "execution_count": 215,
   "metadata": {},
   "outputs": [
    {
     "data": {
      "text/html": [
       "<div>\n",
       "<style scoped>\n",
       "    .dataframe tbody tr th:only-of-type {\n",
       "        vertical-align: middle;\n",
       "    }\n",
       "\n",
       "    .dataframe tbody tr th {\n",
       "        vertical-align: top;\n",
       "    }\n",
       "\n",
       "    .dataframe thead th {\n",
       "        text-align: right;\n",
       "    }\n",
       "</style>\n",
       "<table border=\"1\" class=\"dataframe\">\n",
       "  <thead>\n",
       "    <tr style=\"text-align: right;\">\n",
       "      <th></th>\n",
       "      <th>act_count</th>\n",
       "      <th>ones</th>\n",
       "      <th>perc</th>\n",
       "      <th>id</th>\n",
       "    </tr>\n",
       "  </thead>\n",
       "  <tbody>\n",
       "    <tr>\n",
       "      <th>COMERCIO AL POR MENOR DE ANIMALES DE COMPAÑIA</th>\n",
       "      <td>88</td>\n",
       "      <td>14.0</td>\n",
       "      <td>0.159091</td>\n",
       "      <td>477603</td>\n",
       "    </tr>\n",
       "    <tr>\n",
       "      <th>TRATAMIENTO HIGIENICO DE ANIMALES (PELUQUERIAS)</th>\n",
       "      <td>217</td>\n",
       "      <td>30.0</td>\n",
       "      <td>0.138249</td>\n",
       "      <td>960902</td>\n",
       "    </tr>\n",
       "    <tr>\n",
       "      <th>COMERCIO AL POR MENOR DE CASQUERIA</th>\n",
       "      <td>140</td>\n",
       "      <td>14.0</td>\n",
       "      <td>0.100000</td>\n",
       "      <td>472207</td>\n",
       "    </tr>\n",
       "    <tr>\n",
       "      <th>CENTROS DE JUEGOS O CELEBRACIONES INFANTILES SIN COCINA</th>\n",
       "      <td>122</td>\n",
       "      <td>11.0</td>\n",
       "      <td>0.090164</td>\n",
       "      <td>932002</td>\n",
       "    </tr>\n",
       "    <tr>\n",
       "      <th>CLINICA VETERINARIA SIN TRATAMIENTO HIGIENICO</th>\n",
       "      <td>104</td>\n",
       "      <td>9.0</td>\n",
       "      <td>0.086538</td>\n",
       "      <td>750003</td>\n",
       "    </tr>\n",
       "    <tr>\n",
       "      <th>COMERCIO AL POR MENOR DE CARNICERIA-CHARCUTERIA</th>\n",
       "      <td>232</td>\n",
       "      <td>20.0</td>\n",
       "      <td>0.086207</td>\n",
       "      <td>472203</td>\n",
       "    </tr>\n",
       "    <tr>\n",
       "      <th>CENTROS DE CUIDADO INFANTIL</th>\n",
       "      <td>89</td>\n",
       "      <td>7.0</td>\n",
       "      <td>0.078652</td>\n",
       "      <td>851003</td>\n",
       "    </tr>\n",
       "    <tr>\n",
       "      <th>COMERCIO AL POR MENOR DE ARTICULOS DEPORTIVOS</th>\n",
       "      <td>324</td>\n",
       "      <td>25.0</td>\n",
       "      <td>0.077160</td>\n",
       "      <td>476403</td>\n",
       "    </tr>\n",
       "    <tr>\n",
       "      <th>COMERCIO AL POR MENOR DE COMPLEMENTOS Y ALIMENTOS PARA ANIMALES DE COMPAÑIA</th>\n",
       "      <td>240</td>\n",
       "      <td>17.0</td>\n",
       "      <td>0.070833</td>\n",
       "      <td>477602</td>\n",
       "    </tr>\n",
       "    <tr>\n",
       "      <th>REPARACION DE OTROS EFECTOS PERSONALES Y ARTICULOS DE USO DOMESTICO N.C.O.P.</th>\n",
       "      <td>429</td>\n",
       "      <td>30.0</td>\n",
       "      <td>0.069930</td>\n",
       "      <td>952005</td>\n",
       "    </tr>\n",
       "    <tr>\n",
       "      <th>COMERCIO AL POR MENOR DE PESCADOS Y MARISCOS SIN OBRADOR</th>\n",
       "      <td>902</td>\n",
       "      <td>62.0</td>\n",
       "      <td>0.068736</td>\n",
       "      <td>472302</td>\n",
       "    </tr>\n",
       "    <tr>\n",
       "      <th>ESTABLECIMIENTOS DE VENTA DE PLATOS PREPARADOS CON OBRADOR</th>\n",
       "      <td>795</td>\n",
       "      <td>54.0</td>\n",
       "      <td>0.067925</td>\n",
       "      <td>472407</td>\n",
       "    </tr>\n",
       "    <tr>\n",
       "      <th>CENTROS DE TATUAJE Y/O ANILLADO</th>\n",
       "      <td>248</td>\n",
       "      <td>16.0</td>\n",
       "      <td>0.064516</td>\n",
       "      <td>960901</td>\n",
       "    </tr>\n",
       "    <tr>\n",
       "      <th>CENTROS DE BRONCEADO</th>\n",
       "      <td>254</td>\n",
       "      <td>16.0</td>\n",
       "      <td>0.062992</td>\n",
       "      <td>960205</td>\n",
       "    </tr>\n",
       "    <tr>\n",
       "      <th>COMERCIO AL POR MENOR DE AVES, HUEVOS Y CAZA SIN OBRADOR</th>\n",
       "      <td>826</td>\n",
       "      <td>52.0</td>\n",
       "      <td>0.062954</td>\n",
       "      <td>472206</td>\n",
       "    </tr>\n",
       "    <tr>\n",
       "      <th>COMERCIO AL POR MAYOR FRUTAS, VERDURAS Y DERIVADOS</th>\n",
       "      <td>246</td>\n",
       "      <td>15.0</td>\n",
       "      <td>0.060976</td>\n",
       "      <td>463101</td>\n",
       "    </tr>\n",
       "    <tr>\n",
       "      <th>COMERCIO AL POR MENOR DE CARNICERIA-SALCHICHERIA</th>\n",
       "      <td>432</td>\n",
       "      <td>26.0</td>\n",
       "      <td>0.060185</td>\n",
       "      <td>472204</td>\n",
       "    </tr>\n",
       "    <tr>\n",
       "      <th>COMERCIO AL POR MENOR DE CHARCUTERIA</th>\n",
       "      <td>1064</td>\n",
       "      <td>64.0</td>\n",
       "      <td>0.060150</td>\n",
       "      <td>472202</td>\n",
       "    </tr>\n",
       "    <tr>\n",
       "      <th>COMERCIO AL POR MENOR DE JUEGOS Y JUGUETES</th>\n",
       "      <td>253</td>\n",
       "      <td>15.0</td>\n",
       "      <td>0.059289</td>\n",
       "      <td>476501</td>\n",
       "    </tr>\n",
       "    <tr>\n",
       "      <th>COMERCIO AL POR MENOR DE CARNICERIA</th>\n",
       "      <td>1125</td>\n",
       "      <td>66.0</td>\n",
       "      <td>0.058667</td>\n",
       "      <td>472201</td>\n",
       "    </tr>\n",
       "    <tr>\n",
       "      <th>COMERCIO AL POR MENOR DE AVES, HUEVOS Y CAZA CON OBRADOR</th>\n",
       "      <td>172</td>\n",
       "      <td>10.0</td>\n",
       "      <td>0.058140</td>\n",
       "      <td>472205</td>\n",
       "    </tr>\n",
       "    <tr>\n",
       "      <th>ACTIVIDADES DE LOS GIMNASIOS</th>\n",
       "      <td>699</td>\n",
       "      <td>40.0</td>\n",
       "      <td>0.057225</td>\n",
       "      <td>931008</td>\n",
       "    </tr>\n",
       "    <tr>\n",
       "      <th>COMERCIO AL POR MENOR DE PAN Y PRODUCTOS DE PANADERIA Y BOLLERIA SIN OBRADOR</th>\n",
       "      <td>746</td>\n",
       "      <td>39.0</td>\n",
       "      <td>0.052279</td>\n",
       "      <td>472402</td>\n",
       "    </tr>\n",
       "    <tr>\n",
       "      <th>COMERCIO AL POR MENOR DE PASTELERIA, CONFITERIA, REPOSTERIA CON OBRADOR-BARRA DEGUSTACION</th>\n",
       "      <td>357</td>\n",
       "      <td>18.0</td>\n",
       "      <td>0.050420</td>\n",
       "      <td>472403</td>\n",
       "    </tr>\n",
       "    <tr>\n",
       "      <th>COMERCIO AL POR MENOR DE  PASTELERIA, CONFITERIA, REPOSTERIA CON OBRADOR-SIN BARRA DEGUSTACION</th>\n",
       "      <td>399</td>\n",
       "      <td>20.0</td>\n",
       "      <td>0.050125</td>\n",
       "      <td>472404</td>\n",
       "    </tr>\n",
       "  </tbody>\n",
       "</table>\n",
       "</div>"
      ],
      "text/plain": [
       "                                                    act_count  ones      perc  \\\n",
       "COMERCIO AL POR MENOR DE ANIMALES DE COMPAÑIA              88  14.0  0.159091   \n",
       "TRATAMIENTO HIGIENICO DE ANIMALES (PELUQUERIAS)           217  30.0  0.138249   \n",
       "COMERCIO AL POR MENOR DE CASQUERIA                        140  14.0  0.100000   \n",
       "CENTROS DE JUEGOS O CELEBRACIONES INFANTILES SI...        122  11.0  0.090164   \n",
       "CLINICA VETERINARIA SIN TRATAMIENTO HIGIENICO             104   9.0  0.086538   \n",
       "COMERCIO AL POR MENOR DE CARNICERIA-CHARCUTERIA           232  20.0  0.086207   \n",
       "CENTROS DE CUIDADO INFANTIL                                89   7.0  0.078652   \n",
       "COMERCIO AL POR MENOR DE ARTICULOS DEPORTIVOS             324  25.0  0.077160   \n",
       "COMERCIO AL POR MENOR DE COMPLEMENTOS Y ALIMENT...        240  17.0  0.070833   \n",
       "REPARACION DE OTROS EFECTOS PERSONALES Y ARTICU...        429  30.0  0.069930   \n",
       "COMERCIO AL POR MENOR DE PESCADOS Y MARISCOS SI...        902  62.0  0.068736   \n",
       "ESTABLECIMIENTOS DE VENTA DE PLATOS PREPARADOS ...        795  54.0  0.067925   \n",
       "CENTROS DE TATUAJE Y/O ANILLADO                           248  16.0  0.064516   \n",
       "CENTROS DE BRONCEADO                                      254  16.0  0.062992   \n",
       "COMERCIO AL POR MENOR DE AVES, HUEVOS Y CAZA SI...        826  52.0  0.062954   \n",
       "COMERCIO AL POR MAYOR FRUTAS, VERDURAS Y DERIVADOS        246  15.0  0.060976   \n",
       "COMERCIO AL POR MENOR DE CARNICERIA-SALCHICHERIA          432  26.0  0.060185   \n",
       "COMERCIO AL POR MENOR DE CHARCUTERIA                     1064  64.0  0.060150   \n",
       "COMERCIO AL POR MENOR DE JUEGOS Y JUGUETES                253  15.0  0.059289   \n",
       "COMERCIO AL POR MENOR DE CARNICERIA                      1125  66.0  0.058667   \n",
       "COMERCIO AL POR MENOR DE AVES, HUEVOS Y CAZA CO...        172  10.0  0.058140   \n",
       "ACTIVIDADES DE LOS GIMNASIOS                              699  40.0  0.057225   \n",
       "COMERCIO AL POR MENOR DE PAN Y PRODUCTOS DE PAN...        746  39.0  0.052279   \n",
       "COMERCIO AL POR MENOR DE PASTELERIA, CONFITERIA...        357  18.0  0.050420   \n",
       "COMERCIO AL POR MENOR DE  PASTELERIA, CONFITERI...        399  20.0  0.050125   \n",
       "\n",
       "                                                        id  \n",
       "COMERCIO AL POR MENOR DE ANIMALES DE COMPAÑIA       477603  \n",
       "TRATAMIENTO HIGIENICO DE ANIMALES (PELUQUERIAS)     960902  \n",
       "COMERCIO AL POR MENOR DE CASQUERIA                  472207  \n",
       "CENTROS DE JUEGOS O CELEBRACIONES INFANTILES SI...  932002  \n",
       "CLINICA VETERINARIA SIN TRATAMIENTO HIGIENICO       750003  \n",
       "COMERCIO AL POR MENOR DE CARNICERIA-CHARCUTERIA     472203  \n",
       "CENTROS DE CUIDADO INFANTIL                         851003  \n",
       "COMERCIO AL POR MENOR DE ARTICULOS DEPORTIVOS       476403  \n",
       "COMERCIO AL POR MENOR DE COMPLEMENTOS Y ALIMENT...  477602  \n",
       "REPARACION DE OTROS EFECTOS PERSONALES Y ARTICU...  952005  \n",
       "COMERCIO AL POR MENOR DE PESCADOS Y MARISCOS SI...  472302  \n",
       "ESTABLECIMIENTOS DE VENTA DE PLATOS PREPARADOS ...  472407  \n",
       "CENTROS DE TATUAJE Y/O ANILLADO                     960901  \n",
       "CENTROS DE BRONCEADO                                960205  \n",
       "COMERCIO AL POR MENOR DE AVES, HUEVOS Y CAZA SI...  472206  \n",
       "COMERCIO AL POR MAYOR FRUTAS, VERDURAS Y DERIVADOS  463101  \n",
       "COMERCIO AL POR MENOR DE CARNICERIA-SALCHICHERIA    472204  \n",
       "COMERCIO AL POR MENOR DE CHARCUTERIA                472202  \n",
       "COMERCIO AL POR MENOR DE JUEGOS Y JUGUETES          476501  \n",
       "COMERCIO AL POR MENOR DE CARNICERIA                 472201  \n",
       "COMERCIO AL POR MENOR DE AVES, HUEVOS Y CAZA CO...  472205  \n",
       "ACTIVIDADES DE LOS GIMNASIOS                        931008  \n",
       "COMERCIO AL POR MENOR DE PAN Y PRODUCTOS DE PAN...  472402  \n",
       "COMERCIO AL POR MENOR DE PASTELERIA, CONFITERIA...  472403  \n",
       "COMERCIO AL POR MENOR DE  PASTELERIA, CONFITERI...  472404  "
      ]
     },
     "execution_count": 215,
     "metadata": {},
     "output_type": "execute_result"
    }
   ],
   "source": [
    "id_act_fil = cl.act_filter_id_norm(df_local19_ft,0,0.05)\n",
    "desc_act_fil = cl.act_filter_desc_norm(df_local19_ft,0,0.05)\n",
    "for i in desc_act_fil.index.values:\n",
    "       desc_act_fil.loc[desc_act_fil2.index == i,'id'] = df_local19_ft.loc[df_local19_ft.desc_epigrafe == i].id_epigrafe.unique()[0]\n",
    "desc_act_fil['id'] = desc_act_fil['id'].apply(np.int)\n",
    "desc_act_fil"
   ]
  },
  {
   "cell_type": "code",
   "execution_count": 216,
   "metadata": {
    "scrolled": true
   },
   "outputs": [
    {
     "data": {
      "text/plain": [
       "(25, 690.0, 10503)"
      ]
     },
     "execution_count": 216,
     "metadata": {},
     "output_type": "execute_result"
    }
   ],
   "source": [
    "len(desc_act_fil),desc_act_fil.ones.sum(),desc_act_fil.act_count.sum()"
   ]
  },
  {
   "cell_type": "markdown",
   "metadata": {},
   "source": [
    "They are 25 activities. I have improved the % of ones vs ceros in the Dataframe (fron 2,4% to 6,5%). I will start with this"
   ]
  },
  {
   "cell_type": "code",
   "execution_count": 217,
   "metadata": {
    "scrolled": true
   },
   "outputs": [
    {
     "data": {
      "text/plain": [
       "0.06569551556698086"
      ]
     },
     "execution_count": 217,
     "metadata": {},
     "output_type": "execute_result"
    }
   ],
   "source": [
    "desc_act_fil.ones.sum()/desc_act_fil.act_count.sum()"
   ]
  },
  {
   "cell_type": "markdown",
   "metadata": {},
   "source": [
    "I with do the first modeling with these activities (desc_act_fil.id.values)"
   ]
  },
  {
   "cell_type": "code",
   "execution_count": 218,
   "metadata": {},
   "outputs": [],
   "source": [
    "id_epig_keep = desc_act_fil.id.values\n",
    "#id_epig_keep = 474201"
   ]
  },
  {
   "cell_type": "code",
   "execution_count": 222,
   "metadata": {
    "scrolled": true
   },
   "outputs": [
    {
     "data": {
      "text/plain": [
       "((10503, 45), 8717, 25)"
      ]
     },
     "execution_count": 222,
     "metadata": {},
     "output_type": "execute_result"
    }
   ],
   "source": [
    "df_locals = df_local19_ft[df_local19_ft.id_act_norm.isin(id_epig_keep)]\n",
    "#df_locals = df_local19_ft[df_local19_ft.id_act_norm == id_epig_keep]\n",
    "cl.reset(df_locals)\n",
    "df_locals.shape, len(df_locals.id_local.unique()), len(id_epig_keep)"
   ]
  },
  {
   "cell_type": "code",
   "execution_count": 221,
   "metadata": {
    "scrolled": true
   },
   "outputs": [
    {
     "data": {
      "text/plain": [
       "COMERCIO AL POR MENOR DE CARNICERIA                                                               1125\n",
       "COMERCIO AL POR MENOR DE CHARCUTERIA                                                              1064\n",
       "COMERCIO AL POR MENOR DE PESCADOS Y MARISCOS SIN OBRADOR                                           902\n",
       "COMERCIO AL POR MENOR DE AVES, HUEVOS Y CAZA SIN OBRADOR                                           826\n",
       "ESTABLECIMIENTOS DE VENTA DE PLATOS PREPARADOS CON OBRADOR                                         795\n",
       "COMERCIO AL POR MENOR DE PAN Y PRODUCTOS DE PANADERIA Y BOLLERIA SIN OBRADOR                       746\n",
       "ACTIVIDADES DE LOS GIMNASIOS                                                                       699\n",
       "COMERCIO AL POR MENOR DE CARNICERIA-SALCHICHERIA                                                   432\n",
       "REPARACION DE OTROS EFECTOS PERSONALES Y ARTICULOS DE USO DOMESTICO N.C.O.P.                       429\n",
       "COMERCIO AL POR MENOR DE  PASTELERIA, CONFITERIA, REPOSTERIA CON OBRADOR-SIN BARRA DEGUSTACION     399\n",
       "COMERCIO AL POR MENOR DE PASTELERIA, CONFITERIA, REPOSTERIA CON OBRADOR-BARRA DEGUSTACION          357\n",
       "COMERCIO AL POR MENOR DE ARTICULOS DEPORTIVOS                                                      324\n",
       "CENTROS DE BRONCEADO                                                                               254\n",
       "COMERCIO AL POR MENOR DE JUEGOS Y JUGUETES                                                         253\n",
       "CENTROS DE TATUAJE Y/O ANILLADO                                                                    248\n",
       "COMERCIO AL POR MAYOR FRUTAS, VERDURAS Y DERIVADOS                                                 246\n",
       "COMERCIO AL POR MENOR DE COMPLEMENTOS Y ALIMENTOS PARA ANIMALES DE COMPAÑIA                        240\n",
       "COMERCIO AL POR MENOR DE CARNICERIA-CHARCUTERIA                                                    232\n",
       "TRATAMIENTO HIGIENICO DE ANIMALES (PELUQUERIAS)                                                    217\n",
       "COMERCIO AL POR MENOR DE AVES, HUEVOS Y CAZA CON OBRADOR                                           172\n",
       "COMERCIO AL POR MENOR DE CASQUERIA                                                                 140\n",
       "CENTROS DE JUEGOS O CELEBRACIONES INFANTILES SIN COCINA                                            122\n",
       "CLINICA VETERINARIA SIN TRATAMIENTO HIGIENICO                                                      104\n",
       "CENTROS DE CUIDADO INFANTIL                                                                         89\n",
       "COMERCIO AL POR MENOR DE ANIMALES DE COMPAÑIA                                                       88\n",
       "Name: desc_epigrafe, dtype: int64"
      ]
     },
     "execution_count": 221,
     "metadata": {},
     "output_type": "execute_result"
    }
   ],
   "source": [
    "df_locals.desc_epigrafe.value_counts()"
   ]
  },
  {
   "cell_type": "markdown",
   "metadata": {},
   "source": [
    "New variable 'num_act': number of diferent activities licenced for a single local "
   ]
  },
  {
   "cell_type": "code",
   "execution_count": 223,
   "metadata": {
    "scrolled": true
   },
   "outputs": [
    {
     "data": {
      "text/html": [
       "<div>\n",
       "<style scoped>\n",
       "    .dataframe tbody tr th:only-of-type {\n",
       "        vertical-align: middle;\n",
       "    }\n",
       "\n",
       "    .dataframe tbody tr th {\n",
       "        vertical-align: top;\n",
       "    }\n",
       "\n",
       "    .dataframe thead th {\n",
       "        text-align: right;\n",
       "    }\n",
       "</style>\n",
       "<table border=\"1\" class=\"dataframe\">\n",
       "  <thead>\n",
       "    <tr style=\"text-align: right;\">\n",
       "      <th>desc_epigrafe</th>\n",
       "      <th>id_local</th>\n",
       "      <th>ACTIVIDADES DE LOS GIMNASIOS</th>\n",
       "      <th>CENTROS DE BRONCEADO</th>\n",
       "      <th>CENTROS DE CUIDADO INFANTIL</th>\n",
       "      <th>CENTROS DE JUEGOS O CELEBRACIONES INFANTILES SIN COCINA</th>\n",
       "      <th>CENTROS DE TATUAJE Y/O ANILLADO</th>\n",
       "      <th>CLINICA VETERINARIA SIN TRATAMIENTO HIGIENICO</th>\n",
       "      <th>COMERCIO AL POR MAYOR FRUTAS, VERDURAS Y DERIVADOS</th>\n",
       "      <th>COMERCIO AL POR MENOR DE  PASTELERIA, CONFITERIA, REPOSTERIA CON OBRADOR-SIN BARRA DEGUSTACION</th>\n",
       "      <th>COMERCIO AL POR MENOR DE ANIMALES DE COMPAÑIA</th>\n",
       "      <th>COMERCIO AL POR MENOR DE ARTICULOS DEPORTIVOS</th>\n",
       "      <th>COMERCIO AL POR MENOR DE AVES, HUEVOS Y CAZA CON OBRADOR</th>\n",
       "      <th>COMERCIO AL POR MENOR DE AVES, HUEVOS Y CAZA SIN OBRADOR</th>\n",
       "      <th>COMERCIO AL POR MENOR DE CARNICERIA</th>\n",
       "      <th>COMERCIO AL POR MENOR DE CARNICERIA-CHARCUTERIA</th>\n",
       "      <th>COMERCIO AL POR MENOR DE CARNICERIA-SALCHICHERIA</th>\n",
       "      <th>COMERCIO AL POR MENOR DE CASQUERIA</th>\n",
       "      <th>COMERCIO AL POR MENOR DE CHARCUTERIA</th>\n",
       "      <th>COMERCIO AL POR MENOR DE COMPLEMENTOS Y ALIMENTOS PARA ANIMALES DE COMPAÑIA</th>\n",
       "      <th>COMERCIO AL POR MENOR DE JUEGOS Y JUGUETES</th>\n",
       "      <th>COMERCIO AL POR MENOR DE PAN Y PRODUCTOS DE PANADERIA Y BOLLERIA SIN OBRADOR</th>\n",
       "      <th>COMERCIO AL POR MENOR DE PASTELERIA, CONFITERIA, REPOSTERIA CON OBRADOR-BARRA DEGUSTACION</th>\n",
       "      <th>COMERCIO AL POR MENOR DE PESCADOS Y MARISCOS SIN OBRADOR</th>\n",
       "      <th>ESTABLECIMIENTOS DE VENTA DE PLATOS PREPARADOS CON OBRADOR</th>\n",
       "      <th>REPARACION DE OTROS EFECTOS PERSONALES Y ARTICULOS DE USO DOMESTICO N.C.O.P.</th>\n",
       "      <th>TRATAMIENTO HIGIENICO DE ANIMALES (PELUQUERIAS)</th>\n",
       "      <th>num_act</th>\n",
       "    </tr>\n",
       "  </thead>\n",
       "  <tbody>\n",
       "    <tr>\n",
       "      <th>0</th>\n",
       "      <td>10000102</td>\n",
       "      <td>0</td>\n",
       "      <td>0</td>\n",
       "      <td>0</td>\n",
       "      <td>0</td>\n",
       "      <td>0</td>\n",
       "      <td>0</td>\n",
       "      <td>0</td>\n",
       "      <td>0</td>\n",
       "      <td>0</td>\n",
       "      <td>0</td>\n",
       "      <td>0</td>\n",
       "      <td>0</td>\n",
       "      <td>0</td>\n",
       "      <td>0</td>\n",
       "      <td>0</td>\n",
       "      <td>0</td>\n",
       "      <td>0</td>\n",
       "      <td>0</td>\n",
       "      <td>0</td>\n",
       "      <td>0</td>\n",
       "      <td>1</td>\n",
       "      <td>0</td>\n",
       "      <td>0</td>\n",
       "      <td>0</td>\n",
       "      <td>0</td>\n",
       "      <td>1</td>\n",
       "    </tr>\n",
       "    <tr>\n",
       "      <th>1</th>\n",
       "      <td>10000162</td>\n",
       "      <td>0</td>\n",
       "      <td>0</td>\n",
       "      <td>0</td>\n",
       "      <td>0</td>\n",
       "      <td>0</td>\n",
       "      <td>0</td>\n",
       "      <td>0</td>\n",
       "      <td>0</td>\n",
       "      <td>0</td>\n",
       "      <td>0</td>\n",
       "      <td>0</td>\n",
       "      <td>1</td>\n",
       "      <td>0</td>\n",
       "      <td>0</td>\n",
       "      <td>0</td>\n",
       "      <td>0</td>\n",
       "      <td>0</td>\n",
       "      <td>0</td>\n",
       "      <td>0</td>\n",
       "      <td>0</td>\n",
       "      <td>0</td>\n",
       "      <td>0</td>\n",
       "      <td>0</td>\n",
       "      <td>0</td>\n",
       "      <td>0</td>\n",
       "      <td>1</td>\n",
       "    </tr>\n",
       "    <tr>\n",
       "      <th>2</th>\n",
       "      <td>10000224</td>\n",
       "      <td>0</td>\n",
       "      <td>0</td>\n",
       "      <td>0</td>\n",
       "      <td>0</td>\n",
       "      <td>0</td>\n",
       "      <td>0</td>\n",
       "      <td>0</td>\n",
       "      <td>0</td>\n",
       "      <td>0</td>\n",
       "      <td>0</td>\n",
       "      <td>0</td>\n",
       "      <td>0</td>\n",
       "      <td>1</td>\n",
       "      <td>0</td>\n",
       "      <td>0</td>\n",
       "      <td>0</td>\n",
       "      <td>0</td>\n",
       "      <td>0</td>\n",
       "      <td>0</td>\n",
       "      <td>0</td>\n",
       "      <td>0</td>\n",
       "      <td>0</td>\n",
       "      <td>0</td>\n",
       "      <td>0</td>\n",
       "      <td>0</td>\n",
       "      <td>1</td>\n",
       "    </tr>\n",
       "    <tr>\n",
       "      <th>3</th>\n",
       "      <td>10000226</td>\n",
       "      <td>0</td>\n",
       "      <td>0</td>\n",
       "      <td>0</td>\n",
       "      <td>0</td>\n",
       "      <td>0</td>\n",
       "      <td>0</td>\n",
       "      <td>0</td>\n",
       "      <td>0</td>\n",
       "      <td>0</td>\n",
       "      <td>0</td>\n",
       "      <td>0</td>\n",
       "      <td>0</td>\n",
       "      <td>1</td>\n",
       "      <td>0</td>\n",
       "      <td>0</td>\n",
       "      <td>0</td>\n",
       "      <td>0</td>\n",
       "      <td>0</td>\n",
       "      <td>0</td>\n",
       "      <td>0</td>\n",
       "      <td>0</td>\n",
       "      <td>0</td>\n",
       "      <td>0</td>\n",
       "      <td>0</td>\n",
       "      <td>0</td>\n",
       "      <td>1</td>\n",
       "    </tr>\n",
       "    <tr>\n",
       "      <th>4</th>\n",
       "      <td>10000238</td>\n",
       "      <td>0</td>\n",
       "      <td>0</td>\n",
       "      <td>0</td>\n",
       "      <td>0</td>\n",
       "      <td>0</td>\n",
       "      <td>0</td>\n",
       "      <td>0</td>\n",
       "      <td>0</td>\n",
       "      <td>0</td>\n",
       "      <td>0</td>\n",
       "      <td>0</td>\n",
       "      <td>0</td>\n",
       "      <td>1</td>\n",
       "      <td>0</td>\n",
       "      <td>0</td>\n",
       "      <td>0</td>\n",
       "      <td>0</td>\n",
       "      <td>0</td>\n",
       "      <td>0</td>\n",
       "      <td>0</td>\n",
       "      <td>0</td>\n",
       "      <td>0</td>\n",
       "      <td>0</td>\n",
       "      <td>0</td>\n",
       "      <td>0</td>\n",
       "      <td>1</td>\n",
       "    </tr>\n",
       "  </tbody>\n",
       "</table>\n",
       "</div>"
      ],
      "text/plain": [
       "desc_epigrafe  id_local  ACTIVIDADES DE LOS GIMNASIOS  CENTROS DE BRONCEADO  \\\n",
       "0              10000102                             0                     0   \n",
       "1              10000162                             0                     0   \n",
       "2              10000224                             0                     0   \n",
       "3              10000226                             0                     0   \n",
       "4              10000238                             0                     0   \n",
       "\n",
       "desc_epigrafe  CENTROS DE CUIDADO INFANTIL  \\\n",
       "0                                        0   \n",
       "1                                        0   \n",
       "2                                        0   \n",
       "3                                        0   \n",
       "4                                        0   \n",
       "\n",
       "desc_epigrafe  CENTROS DE JUEGOS O CELEBRACIONES INFANTILES SIN COCINA  \\\n",
       "0                                                              0         \n",
       "1                                                              0         \n",
       "2                                                              0         \n",
       "3                                                              0         \n",
       "4                                                              0         \n",
       "\n",
       "desc_epigrafe  CENTROS DE TATUAJE Y/O ANILLADO  \\\n",
       "0                                            0   \n",
       "1                                            0   \n",
       "2                                            0   \n",
       "3                                            0   \n",
       "4                                            0   \n",
       "\n",
       "desc_epigrafe  CLINICA VETERINARIA SIN TRATAMIENTO HIGIENICO  \\\n",
       "0                                                          0   \n",
       "1                                                          0   \n",
       "2                                                          0   \n",
       "3                                                          0   \n",
       "4                                                          0   \n",
       "\n",
       "desc_epigrafe  COMERCIO AL POR MAYOR FRUTAS, VERDURAS Y DERIVADOS  \\\n",
       "0                                                              0    \n",
       "1                                                              0    \n",
       "2                                                              0    \n",
       "3                                                              0    \n",
       "4                                                              0    \n",
       "\n",
       "desc_epigrafe  COMERCIO AL POR MENOR DE  PASTELERIA, CONFITERIA, REPOSTERIA CON OBRADOR-SIN BARRA DEGUSTACION  \\\n",
       "0                                                              0                                                \n",
       "1                                                              0                                                \n",
       "2                                                              0                                                \n",
       "3                                                              0                                                \n",
       "4                                                              0                                                \n",
       "\n",
       "desc_epigrafe  COMERCIO AL POR MENOR DE ANIMALES DE COMPAÑIA  \\\n",
       "0                                                          0   \n",
       "1                                                          0   \n",
       "2                                                          0   \n",
       "3                                                          0   \n",
       "4                                                          0   \n",
       "\n",
       "desc_epigrafe  COMERCIO AL POR MENOR DE ARTICULOS DEPORTIVOS  \\\n",
       "0                                                          0   \n",
       "1                                                          0   \n",
       "2                                                          0   \n",
       "3                                                          0   \n",
       "4                                                          0   \n",
       "\n",
       "desc_epigrafe  COMERCIO AL POR MENOR DE AVES, HUEVOS Y CAZA CON OBRADOR  \\\n",
       "0                                                              0          \n",
       "1                                                              0          \n",
       "2                                                              0          \n",
       "3                                                              0          \n",
       "4                                                              0          \n",
       "\n",
       "desc_epigrafe  COMERCIO AL POR MENOR DE AVES, HUEVOS Y CAZA SIN OBRADOR  \\\n",
       "0                                                              0          \n",
       "1                                                              1          \n",
       "2                                                              0          \n",
       "3                                                              0          \n",
       "4                                                              0          \n",
       "\n",
       "desc_epigrafe  COMERCIO AL POR MENOR DE CARNICERIA  \\\n",
       "0                                                0   \n",
       "1                                                0   \n",
       "2                                                1   \n",
       "3                                                1   \n",
       "4                                                1   \n",
       "\n",
       "desc_epigrafe  COMERCIO AL POR MENOR DE CARNICERIA-CHARCUTERIA  \\\n",
       "0                                                            0   \n",
       "1                                                            0   \n",
       "2                                                            0   \n",
       "3                                                            0   \n",
       "4                                                            0   \n",
       "\n",
       "desc_epigrafe  COMERCIO AL POR MENOR DE CARNICERIA-SALCHICHERIA  \\\n",
       "0                                                             0   \n",
       "1                                                             0   \n",
       "2                                                             0   \n",
       "3                                                             0   \n",
       "4                                                             0   \n",
       "\n",
       "desc_epigrafe  COMERCIO AL POR MENOR DE CASQUERIA  \\\n",
       "0                                               0   \n",
       "1                                               0   \n",
       "2                                               0   \n",
       "3                                               0   \n",
       "4                                               0   \n",
       "\n",
       "desc_epigrafe  COMERCIO AL POR MENOR DE CHARCUTERIA  \\\n",
       "0                                                 0   \n",
       "1                                                 0   \n",
       "2                                                 0   \n",
       "3                                                 0   \n",
       "4                                                 0   \n",
       "\n",
       "desc_epigrafe  COMERCIO AL POR MENOR DE COMPLEMENTOS Y ALIMENTOS PARA ANIMALES DE COMPAÑIA  \\\n",
       "0                                                              0                             \n",
       "1                                                              0                             \n",
       "2                                                              0                             \n",
       "3                                                              0                             \n",
       "4                                                              0                             \n",
       "\n",
       "desc_epigrafe  COMERCIO AL POR MENOR DE JUEGOS Y JUGUETES  \\\n",
       "0                                                       0   \n",
       "1                                                       0   \n",
       "2                                                       0   \n",
       "3                                                       0   \n",
       "4                                                       0   \n",
       "\n",
       "desc_epigrafe  COMERCIO AL POR MENOR DE PAN Y PRODUCTOS DE PANADERIA Y BOLLERIA SIN OBRADOR  \\\n",
       "0                                                              0                              \n",
       "1                                                              0                              \n",
       "2                                                              0                              \n",
       "3                                                              0                              \n",
       "4                                                              0                              \n",
       "\n",
       "desc_epigrafe  COMERCIO AL POR MENOR DE PASTELERIA, CONFITERIA, REPOSTERIA CON OBRADOR-BARRA DEGUSTACION  \\\n",
       "0                                                              1                                           \n",
       "1                                                              0                                           \n",
       "2                                                              0                                           \n",
       "3                                                              0                                           \n",
       "4                                                              0                                           \n",
       "\n",
       "desc_epigrafe  COMERCIO AL POR MENOR DE PESCADOS Y MARISCOS SIN OBRADOR  \\\n",
       "0                                                              0          \n",
       "1                                                              0          \n",
       "2                                                              0          \n",
       "3                                                              0          \n",
       "4                                                              0          \n",
       "\n",
       "desc_epigrafe  ESTABLECIMIENTOS DE VENTA DE PLATOS PREPARADOS CON OBRADOR  \\\n",
       "0                                                              0            \n",
       "1                                                              0            \n",
       "2                                                              0            \n",
       "3                                                              0            \n",
       "4                                                              0            \n",
       "\n",
       "desc_epigrafe  REPARACION DE OTROS EFECTOS PERSONALES Y ARTICULOS DE USO DOMESTICO N.C.O.P.  \\\n",
       "0                                                              0                              \n",
       "1                                                              0                              \n",
       "2                                                              0                              \n",
       "3                                                              0                              \n",
       "4                                                              0                              \n",
       "\n",
       "desc_epigrafe  TRATAMIENTO HIGIENICO DE ANIMALES (PELUQUERIAS)  num_act  \n",
       "0                                                            0        1  \n",
       "1                                                            0        1  \n",
       "2                                                            0        1  \n",
       "3                                                            0        1  \n",
       "4                                                            0        1  "
      ]
     },
     "execution_count": 223,
     "metadata": {},
     "output_type": "execute_result"
    }
   ],
   "source": [
    "df_locals_v1 = pd.DataFrame(df_locals, columns=['id_local','desc_epigrafe'])\n",
    "df_locals_v1['act'] = int(1)\n",
    "df_locals_v1.drop_duplicates(inplace = True)\n",
    "\n",
    "df_locals_v2 = df_locals_v1.pivot(index='id_local', columns='desc_epigrafe', values='act')\n",
    "df_locals_v2.fillna(0, inplace=True)\n",
    "df_locals_v3 = df_locals_v2.astype(int).reset_index()\n",
    "df_locals_v3['num_act'] = df_locals_v3.sum(axis =1).astype(np.int64) - df_locals_v3['id_local']\n",
    "df_locals_v3.head(5)"
   ]
  },
  {
   "cell_type": "code",
   "execution_count": 225,
   "metadata": {
    "scrolled": true
   },
   "outputs": [
    {
     "data": {
      "text/plain": [
       "(8717, 1089)"
      ]
     },
     "execution_count": 225,
     "metadata": {},
     "output_type": "execute_result"
    }
   ],
   "source": [
    "#out of the 8717 unique locals, 1089 have multiple activities\n",
    "len(df_locals_v3), len(df_locals_v3[df_locals_v3.num_act > 1])"
   ]
  },
  {
   "cell_type": "markdown",
   "metadata": {},
   "source": [
    "For the locals with more than one activity, I unify all the activities in one (the first)"
   ]
  },
  {
   "cell_type": "code",
   "execution_count": 226,
   "metadata": {},
   "outputs": [],
   "source": [
    "df_locals_v3['desc_epigrafe'] = cl.new_col2(df_locals_v3)"
   ]
  },
  {
   "cell_type": "markdown",
   "metadata": {},
   "source": [
    "I merge the new column with the initial dataframe. There are locals with same id_local but different state rows ('Agrupaciones' mainly). I will drop this columns later so I will avoid duplicated rows with the same id"
   ]
  },
  {
   "cell_type": "code",
   "execution_count": 228,
   "metadata": {},
   "outputs": [
    {
     "data": {
      "text/plain": [
       "(8717, 46)"
      ]
     },
     "execution_count": 228,
     "metadata": {},
     "output_type": "execute_result"
    }
   ],
   "source": [
    "columns_of_interest = ['id_local','num_act','desc_epigrafe']\n",
    "df_locals_v4 = pd.DataFrame(df_locals_v3, columns = columns_of_interest)\n",
    "df_locals_v5 = pd.DataFrame.merge(df_locals_v4,df_locals, how='left', on=['id_local','desc_epigrafe'])\n",
    "cl.reset(df_locals_v5)\n",
    "df_locals_v5.shape"
   ]
  },
  {
   "cell_type": "markdown",
   "metadata": {},
   "source": [
    "Now I convert UTM into geographical coordinates and count the number of locals of the same activity within a range (this function requires a lot of compute capacity, I will apply it only for analysis of one local each time). \n",
    "First I have to unify colective groups coordinate with single commerce coordinates in the same variable"
   ]
  },
  {
   "cell_type": "code",
   "execution_count": 229,
   "metadata": {},
   "outputs": [],
   "source": [
    "df_locals_v5['coord_x_f'] = [c.replace(',', '.') for c in df_locals_v5['coordenada_x_local'].values]\n",
    "df_locals_v5['coord_y_f'] = [c.replace(',', '.') for c in df_locals_v5['coordenada_y_local'].values]\n",
    "df_locals_v5['coord_x_af'] = [c.replace(',', '.') for c in df_locals_v5['coordenada_x_agrupacion'].astype(str).values]\n",
    "df_locals_v5['coord_y_af'] = [c.replace(',', '.') for c in df_locals_v5['coordenada_y_agrup'].astype(str).values]\n",
    "\n",
    "df_locals_v5['coord_x_f'] = df_locals_v5['coord_x_f'].map(float)\n",
    "df_locals_v5['coord_y_f'] = df_locals_v5['coord_y_f'].map(float)\n",
    "df_locals_v5['coord_x_af'] = df_locals_v5['coord_x_af'].map(float)\n",
    "df_locals_v5['coord_y_af'] = df_locals_v5['coord_y_af'].map(float)\n",
    "\n",
    "df_locals_v5['coord_x_final'] = np.where(df_locals_v5['desc_tipo_acceso_local'] == 'Agrupado', df_locals_v5['coord_x_af'] , df_locals_v5['coord_x_f'])\n",
    "df_locals_v5['coord_y_final'] = np.where(df_locals_v5['desc_tipo_acceso_local'] == 'Agrupado', df_locals_v5['coord_y_af'] , df_locals_v5['coord_y_f'])"
   ]
  },
  {
   "cell_type": "markdown",
   "metadata": {},
   "source": [
    "Now I generate lat and lon. I have to remove coordinates with coord_x_final (UTM easting) == 0\n",
    "Madrid is in zone 30 T"
   ]
  },
  {
   "cell_type": "code",
   "execution_count": 230,
   "metadata": {},
   "outputs": [],
   "source": [
    "import geopy\n",
    "import utm"
   ]
  },
  {
   "cell_type": "markdown",
   "metadata": {},
   "source": [
    "I have to drop coor_x == 0 because can't not be converted into geographic coordinates. They are less than 3% of the samples"
   ]
  },
  {
   "cell_type": "code",
   "execution_count": 231,
   "metadata": {},
   "outputs": [
    {
     "data": {
      "text/plain": [
       "0.02879430996902604"
      ]
     },
     "execution_count": 231,
     "metadata": {},
     "output_type": "execute_result"
    }
   ],
   "source": [
    "len(df_locals_v5[df_locals_v5['coord_x_final'] == 0])/len(df_locals_v5)"
   ]
  },
  {
   "cell_type": "code",
   "execution_count": 233,
   "metadata": {},
   "outputs": [],
   "source": [
    "df_locals_v6 = df_locals_v5[df_locals_v5.coord_x_final != 0]\n",
    "cl.reset(df_locals_v6);"
   ]
  },
  {
   "cell_type": "markdown",
   "metadata": {},
   "source": [
    "After previous transformations, I convert UTM lo latlon"
   ]
  },
  {
   "cell_type": "code",
   "execution_count": 234,
   "metadata": {
    "scrolled": false
   },
   "outputs": [
    {
     "name": "stderr",
     "output_type": "stream",
     "text": [
      "/home/dsc/.local/lib/python3.7/site-packages/ipykernel_launcher.py:1: SettingWithCopyWarning: \n",
      "A value is trying to be set on a copy of a slice from a DataFrame.\n",
      "Try using .loc[row_indexer,col_indexer] = value instead\n",
      "\n",
      "See the caveats in the documentation: http://pandas.pydata.org/pandas-docs/stable/indexing.html#indexing-view-versus-copy\n",
      "  \"\"\"Entry point for launching an IPython kernel.\n"
     ]
    }
   ],
   "source": [
    "df_locals_v6['lat'],df_locals_v6['lon'] = utm.to_latlon(df_locals_v6.coord_x_final,df_locals_v6.coord_y_final,30,'T')"
   ]
  },
  {
   "cell_type": "code",
   "execution_count": 235,
   "metadata": {
    "scrolled": true
   },
   "outputs": [
    {
     "data": {
      "text/plain": [
       "Index(['id_local', 'num_act', 'desc_epigrafe', 'id_distrito_local',\n",
       "       'desc_distrito_local', 'id_barrio_local', 'desc_barrio_local',\n",
       "       'coordenada_x_local', 'coordenada_y_local', 'desc_tipo_acceso_local',\n",
       "       'id_situacion_local', 'desc_situacion_local', 'clase_vial_acceso',\n",
       "       'desc_vial_acceso', 'nom_acceso', 'num_acceso', 'cal_acceso',\n",
       "       'coordenada_x_agrupacion', 'coordenada_y_agrup', 'id_agrupacion',\n",
       "       'nombre_agrupacion', 'id_tipo_agrup', 'desc_tipo_agrup', 'rotulo',\n",
       "       'id_seccion', 'desc_seccion', 'id_division', 'desc_division',\n",
       "       'id_epigrafe', 'conc', 'desc_sit_loc_modif_19', 'desc_sit_loc_modif_18',\n",
       "       'desc_sit_loc_modif_17', 'desc_sit_loc_modif_16',\n",
       "       'desc_sit_loc_modif_15', 'cerrado_19', 'abierto_19', 'cerrado_18',\n",
       "       'abierto_18', 'cerrado_17', 'abierto_17', 'cerrado_16', 'abierto_16',\n",
       "       'target', 'desc_act_norm', 'id_act_norm', 'coord_x_f', 'coord_y_f',\n",
       "       'coord_x_af', 'coord_y_af', 'coord_x_final', 'coord_y_final', 'lat',\n",
       "       'lon'],\n",
       "      dtype='object')"
      ]
     },
     "execution_count": 235,
     "metadata": {},
     "output_type": "execute_result"
    }
   ],
   "source": [
    "df_locals_v6.columns"
   ]
  },
  {
   "cell_type": "code",
   "execution_count": 236,
   "metadata": {},
   "outputs": [
    {
     "data": {
      "text/plain": [
       "(8466, 54)"
      ]
     },
     "execution_count": 236,
     "metadata": {},
     "output_type": "execute_result"
    }
   ],
   "source": [
    "df_locals_v6.shape"
   ]
  },
  {
   "cell_type": "markdown",
   "metadata": {},
   "source": [
    "I generate new variables:\n",
    "- Total number of locals/district\n",
    "- Total number of locals with the same activity of the ones in the study\n",
    "- Total opened since 2017/district: total and partial in the study"
   ]
  },
  {
   "cell_type": "code",
   "execution_count": 238,
   "metadata": {},
   "outputs": [
    {
     "data": {
      "text/html": [
       "<div>\n",
       "<style scoped>\n",
       "    .dataframe tbody tr th:only-of-type {\n",
       "        vertical-align: middle;\n",
       "    }\n",
       "\n",
       "    .dataframe tbody tr th {\n",
       "        vertical-align: top;\n",
       "    }\n",
       "\n",
       "    .dataframe thead th {\n",
       "        text-align: right;\n",
       "    }\n",
       "</style>\n",
       "<table border=\"1\" class=\"dataframe\">\n",
       "  <thead>\n",
       "    <tr style=\"text-align: right;\">\n",
       "      <th></th>\n",
       "      <th>id_distrito_local</th>\n",
       "      <th>total_local_act</th>\n",
       "      <th>total_locales</th>\n",
       "      <th>total_ab_dist_17_19</th>\n",
       "      <th>part_ab_dist_17_19</th>\n",
       "    </tr>\n",
       "  </thead>\n",
       "  <tbody>\n",
       "    <tr>\n",
       "      <th>0</th>\n",
       "      <td>1</td>\n",
       "      <td>819</td>\n",
       "      <td>12178</td>\n",
       "      <td>2847</td>\n",
       "      <td>288</td>\n",
       "    </tr>\n",
       "    <tr>\n",
       "      <th>1</th>\n",
       "      <td>2</td>\n",
       "      <td>394</td>\n",
       "      <td>5522</td>\n",
       "      <td>1306</td>\n",
       "      <td>108</td>\n",
       "    </tr>\n",
       "    <tr>\n",
       "      <th>2</th>\n",
       "      <td>3</td>\n",
       "      <td>287</td>\n",
       "      <td>4050</td>\n",
       "      <td>865</td>\n",
       "      <td>76</td>\n",
       "    </tr>\n",
       "    <tr>\n",
       "      <th>3</th>\n",
       "      <td>4</td>\n",
       "      <td>521</td>\n",
       "      <td>8511</td>\n",
       "      <td>2058</td>\n",
       "      <td>126</td>\n",
       "    </tr>\n",
       "    <tr>\n",
       "      <th>4</th>\n",
       "      <td>5</td>\n",
       "      <td>344</td>\n",
       "      <td>6351</td>\n",
       "      <td>1180</td>\n",
       "      <td>55</td>\n",
       "    </tr>\n",
       "  </tbody>\n",
       "</table>\n",
       "</div>"
      ],
      "text/plain": [
       "   id_distrito_local  total_local_act  total_locales  total_ab_dist_17_19  \\\n",
       "0                  1              819          12178                 2847   \n",
       "1                  2              394           5522                 1306   \n",
       "2                  3              287           4050                  865   \n",
       "3                  4              521           8511                 2058   \n",
       "4                  5              344           6351                 1180   \n",
       "\n",
       "   part_ab_dist_17_19  \n",
       "0                 288  \n",
       "1                 108  \n",
       "2                  76  \n",
       "3                 126  \n",
       "4                  55  "
      ]
     },
     "execution_count": 238,
     "metadata": {},
     "output_type": "execute_result"
    }
   ],
   "source": [
    "ids = sort(df_locals_v6.id_distrito_local.unique())\n",
    "total_local_act = df_locals_v6.groupby('id_distrito_local').count().id_local.values\n",
    "total_locales = df_local19_ft.groupby('id_distrito_local').count().id_local.values\n",
    "total_ab_dist_19 = df_local19_ft[df_local19_ft['abierto_19'] ==1].groupby('id_distrito_local').count()['abierto_19'].values\n",
    "total_ab_dist_18 = df_local19_ft[df_local19_ft['abierto_18'] ==1].groupby('id_distrito_local').count()['abierto_18'].values\n",
    "total_ab_dist_17 = df_local19_ft[df_local19_ft['abierto_17'] ==1].groupby('id_distrito_local').count()['abierto_17'].values\n",
    "total_ab_dist_17_19 = total_ab_dist_19 + total_ab_dist_18 + total_ab_dist_17\n",
    "part_ab_dist_19 = df_locals_v6[df_locals_v6['abierto_19'] ==1].groupby('id_distrito_local').count()['abierto_19'].values\n",
    "part_ab_dist_18 = df_locals_v6[df_locals_v6['abierto_18'] ==1].groupby('id_distrito_local').count()['abierto_18'].values\n",
    "part_ab_dist_17 = df_locals_v6[df_locals_v6['abierto_17'] ==1].groupby('id_distrito_local').count()['abierto_17'].values\n",
    "part_ab_dist_17_19 = part_ab_dist_19 + part_ab_dist_18 + part_ab_dist_17\n",
    "dict = {'id_distrito_local': ids, \n",
    "        'total_local_act': total_local_act, \n",
    "        'total_locales': total_locales,\n",
    "        'total_ab_dist_17_19': total_ab_dist_17_19,\n",
    "        'part_ab_dist_17_19': part_ab_dist_17_19\n",
    "       }\n",
    "kpis_loc = pd.DataFrame(dict)\n",
    "kpis_loc.head()"
   ]
  },
  {
   "cell_type": "code",
   "execution_count": 240,
   "metadata": {},
   "outputs": [
    {
     "data": {
      "text/plain": [
       "Index(['id_local', 'num_act', 'desc_epigrafe', 'id_distrito_local',\n",
       "       'desc_distrito_local', 'id_barrio_local', 'desc_barrio_local',\n",
       "       'coordenada_x_local', 'coordenada_y_local', 'desc_tipo_acceso_local',\n",
       "       'id_situacion_local', 'desc_situacion_local', 'clase_vial_acceso',\n",
       "       'desc_vial_acceso', 'nom_acceso', 'num_acceso', 'cal_acceso',\n",
       "       'coordenada_x_agrupacion', 'coordenada_y_agrup', 'id_agrupacion',\n",
       "       'nombre_agrupacion', 'id_tipo_agrup', 'desc_tipo_agrup', 'rotulo',\n",
       "       'id_seccion', 'desc_seccion', 'id_division', 'desc_division',\n",
       "       'id_epigrafe', 'conc', 'desc_sit_loc_modif_19', 'desc_sit_loc_modif_18',\n",
       "       'desc_sit_loc_modif_17', 'desc_sit_loc_modif_16',\n",
       "       'desc_sit_loc_modif_15', 'cerrado_19', 'abierto_19', 'cerrado_18',\n",
       "       'abierto_18', 'cerrado_17', 'abierto_17', 'cerrado_16', 'abierto_16',\n",
       "       'target', 'desc_act_norm', 'id_act_norm', 'coord_x_f', 'coord_y_f',\n",
       "       'coord_x_af', 'coord_y_af', 'coord_x_final', 'coord_y_final', 'lat',\n",
       "       'lon'],\n",
       "      dtype='object')"
      ]
     },
     "execution_count": 240,
     "metadata": {},
     "output_type": "execute_result"
    }
   ],
   "source": [
    "df_locals_v6.columns"
   ]
  },
  {
   "cell_type": "markdown",
   "metadata": {},
   "source": [
    "Merge the new KPIs and the locals file"
   ]
  },
  {
   "cell_type": "code",
   "execution_count": 245,
   "metadata": {
    "scrolled": true
   },
   "outputs": [
    {
     "data": {
      "text/plain": [
       "8466"
      ]
     },
     "execution_count": 245,
     "metadata": {},
     "output_type": "execute_result"
    }
   ],
   "source": [
    "columns_of_interest = ['id_local','id_epigrafe','desc_epigrafe','id_distrito_local','desc_distrito_local','total_local_act', 'total_locales', \n",
    "                        'target', 'total_ab_dist_17_19','part_ab_dist_17_19','desc_tipo_agrup','lat','lon','id_act_norm'\n",
    "                       'desc_act_norm','rotulo']\n",
    "df_locals_v7 = df_locals_v6.merge(kpis_loc,how='left', on='id_distrito_local')\n",
    "df_locals_v7 = pd.DataFrame(df_locals_v7, columns = columns_of_interest)\n",
    "cl.reset(df_locals_v7)\n",
    "df_locals_v7.head(2)\n",
    "len(df_locals_v7)"
   ]
  },
  {
   "cell_type": "code",
   "execution_count": 246,
   "metadata": {
    "scrolled": true
   },
   "outputs": [
    {
     "data": {
      "text/html": [
       "<div>\n",
       "<style scoped>\n",
       "    .dataframe tbody tr th:only-of-type {\n",
       "        vertical-align: middle;\n",
       "    }\n",
       "\n",
       "    .dataframe tbody tr th {\n",
       "        vertical-align: top;\n",
       "    }\n",
       "\n",
       "    .dataframe thead th {\n",
       "        text-align: right;\n",
       "    }\n",
       "</style>\n",
       "<table border=\"1\" class=\"dataframe\">\n",
       "  <thead>\n",
       "    <tr style=\"text-align: right;\">\n",
       "      <th></th>\n",
       "      <th>id_local</th>\n",
       "      <th>id_epigrafe</th>\n",
       "      <th>desc_epigrafe</th>\n",
       "      <th>id_distrito_local</th>\n",
       "      <th>desc_distrito_local</th>\n",
       "      <th>total_local_act</th>\n",
       "      <th>total_locales</th>\n",
       "      <th>target</th>\n",
       "      <th>total_ab_dist_17_19</th>\n",
       "      <th>part_ab_dist_17_19</th>\n",
       "      <th>desc_tipo_agrup</th>\n",
       "      <th>lat</th>\n",
       "      <th>lon</th>\n",
       "      <th>id_act_normdesc_act_norm</th>\n",
       "      <th>rotulo</th>\n",
       "    </tr>\n",
       "  </thead>\n",
       "  <tbody>\n",
       "    <tr>\n",
       "      <th>0</th>\n",
       "      <td>10000102</td>\n",
       "      <td>472403</td>\n",
       "      <td>COMERCIO AL POR MENOR DE PASTELERIA, CONFITERI...</td>\n",
       "      <td>1</td>\n",
       "      <td>CENTRO</td>\n",
       "      <td>819</td>\n",
       "      <td>12178</td>\n",
       "      <td>0</td>\n",
       "      <td>2847</td>\n",
       "      <td>288</td>\n",
       "      <td>SIN AGRUPACION</td>\n",
       "      <td>40.416642</td>\n",
       "      <td>-3.704763</td>\n",
       "      <td>NaN</td>\n",
       "      <td>LA MALLORQUINA</td>\n",
       "    </tr>\n",
       "    <tr>\n",
       "      <th>1</th>\n",
       "      <td>10000162</td>\n",
       "      <td>472206</td>\n",
       "      <td>COMERCIO AL POR MENOR DE AVES, HUEVOS Y CAZA S...</td>\n",
       "      <td>1</td>\n",
       "      <td>CENTRO</td>\n",
       "      <td>819</td>\n",
       "      <td>12178</td>\n",
       "      <td>0</td>\n",
       "      <td>2847</td>\n",
       "      <td>288</td>\n",
       "      <td>Mercado Municipal</td>\n",
       "      <td>40.426848</td>\n",
       "      <td>-3.699164</td>\n",
       "      <td>NaN</td>\n",
       "      <td>POLLERIAS RODRIGUEZ &amp; MARTINEZ</td>\n",
       "    </tr>\n",
       "  </tbody>\n",
       "</table>\n",
       "</div>"
      ],
      "text/plain": [
       "   id_local  id_epigrafe                                      desc_epigrafe  \\\n",
       "0  10000102       472403  COMERCIO AL POR MENOR DE PASTELERIA, CONFITERI...   \n",
       "1  10000162       472206  COMERCIO AL POR MENOR DE AVES, HUEVOS Y CAZA S...   \n",
       "\n",
       "   id_distrito_local   desc_distrito_local  total_local_act  total_locales  \\\n",
       "0                  1  CENTRO                            819          12178   \n",
       "1                  1  CENTRO                            819          12178   \n",
       "\n",
       "   target  total_ab_dist_17_19  part_ab_dist_17_19    desc_tipo_agrup  \\\n",
       "0       0                 2847                 288     SIN AGRUPACION   \n",
       "1       0                 2847                 288  Mercado Municipal   \n",
       "\n",
       "         lat       lon  id_act_normdesc_act_norm  \\\n",
       "0  40.416642 -3.704763                       NaN   \n",
       "1  40.426848 -3.699164                       NaN   \n",
       "\n",
       "                           rotulo  \n",
       "0                  LA MALLORQUINA  \n",
       "1  POLLERIAS RODRIGUEZ & MARTINEZ  "
      ]
     },
     "execution_count": 246,
     "metadata": {},
     "output_type": "execute_result"
    }
   ],
   "source": [
    "df_locals_v7.head(2)"
   ]
  },
  {
   "cell_type": "markdown",
   "metadata": {},
   "source": [
    "I calculate the number of local with the same activity within a radius"
   ]
  },
  {
   "cell_type": "code",
   "execution_count": 247,
   "metadata": {},
   "outputs": [],
   "source": [
    "from geopy.distance import geodesic\n",
    "\n",
    "def points_in_radius(point1, point2,radius):\n",
    "    return geodesic(point1, point2).meters < radius\n",
    "\n",
    "df_ = df_locals_v7.copy()\n",
    "df_['point'] = list(zip(df_.loc[:,'lat'],df_.loc[:,'lon']))\n",
    "df_ = (df_.groupby('desc_epigrafe')['point']\n",
    "       .agg(list)\n",
    "       .reset_index(name='tipo_puntos')\n",
    "       .merge(df_, on='desc_epigrafe',how='inner'))\n",
    "df_['points_in_radius'] = df_.apply(lambda x: len([punto for punto in x['tipo_puntos'] \n",
    "                                                   if points_in_radius(x['point'],punto,radius=500)]),axis=1)-1\n",
    "\n",
    "df_locals_v8 = df_.copy()"
   ]
  },
  {
   "cell_type": "markdown",
   "metadata": {},
   "source": [
    "df_test = df_locals_v6.copy()\n",
    "df_test['num_loc_d'] = cl.num_loc_dist(df_test,500)\n",
    "#num_loc_d = cl.num_loc_dist(df_locals_v6,500)\n",
    "#df_locals_v6['num_loc_d'] = num_loc_d"
   ]
  },
  {
   "cell_type": "code",
   "execution_count": 264,
   "metadata": {
    "scrolled": true
   },
   "outputs": [
    {
     "data": {
      "text/plain": [
       "(Index(['desc_epigrafe', 'id_local', 'id_epigrafe', 'id_distrito_local',\n",
       "        'desc_distrito_local', 'total_local_act', 'total_locales', 'target',\n",
       "        'total_ab_dist_17_19', 'part_ab_dist_17_19', 'desc_tipo_agrup', 'lat',\n",
       "        'lon', 'id_act_normdesc_act_norm', 'rotulo', 'points_in_radius'],\n",
       "       dtype='object'), 8466)"
      ]
     },
     "execution_count": 264,
     "metadata": {},
     "output_type": "execute_result"
    }
   ],
   "source": [
    "df_locals_v8 = df_.copy()\n",
    "df_locals_v8.drop(columns=['tipo_puntos','point'],inplace=True)\n",
    "cl.reset(df_locals_v8)\n",
    "df_locals_v8.columns, len(df_locals_v8)"
   ]
  },
  {
   "cell_type": "markdown",
   "metadata": {},
   "source": [
    "### Population info"
   ]
  },
  {
   "cell_type": "markdown",
   "metadata": {},
   "source": [
    "With information of population"
   ]
  },
  {
   "cell_type": "code",
   "execution_count": 252,
   "metadata": {
    "scrolled": true
   },
   "outputs": [
    {
     "data": {
      "text/plain": [
       "Index(['id_distrito_local', 'Población', 'Hombre', 'Mujeres',\n",
       "       'Densidad (Habitantes / Ha.)', 'Edad promedio', 'Total Hogares',\n",
       "       'Españoles', 'Extranjeros', 'Mixtos', 'España fuera barrio dia laboral',\n",
       "       'Extranjero fuera barrio dia laboral', 'Total fuera barrio dia laboral',\n",
       "       'España fuera barrio fin semana', 'Extranjero fuera barrio fin semana',\n",
       "       'Total fuera barrio fin semana', 'Total barrio dia laboral',\n",
       "       'Total barrio fin semana', 'Total trabajo dia laboral',\n",
       "       'Total trabajo fin semana'],\n",
       "      dtype='object')"
      ]
     },
     "execution_count": 252,
     "metadata": {},
     "output_type": "execute_result"
    }
   ],
   "source": [
    "censo = df1.merge(df2,how='left', on='id_distrito_local')\n",
    "censo = censo.drop(columns=['distrito','Una mujer sola de 16 a 64 años ', 'Un hombre solo de 16 a 64 años',\n",
    "       'Una mujer sola de 65 o más años', 'Un hombre solo de 65 o más años',\n",
    "       'Una mujer adulta  con uno o más menores',\n",
    "       'Un hombre adulto  con uno o más menores',\n",
    "       'Dos adultos de 16 a 64 años, sin menores',\n",
    "       'Dos adultos, uno al menos de 65 o más años, sin menores',\n",
    "       'Dos adultos y un menor', 'Dos adultos y dos menores',\n",
    "       'Dos adultos y tres o más menores',\n",
    "       'Dos adultos de 35 años o más, otro de 16 a 34 años, sin menores',\n",
    "       'Dos adultos de 35 años o más, otro de 16 a 34 años y un menor',\n",
    "       'Dos adultos de 35 años o más, otro de 16 a 34 años y dos o más menores',\n",
    "       'Otro hogar de tres adultos, con o sin menores',\n",
    "       'Dos adultos de 35 años o más, dos de 16 a 34 años, sin menores',\n",
    "       'Dos adultos de 35 años o más, dos de 16 a 34 años y un menor',\n",
    "       'Dos adultos de 35 años o más, dos  de 16 a 34 años y dos o más menores',\n",
    "       'Otro hogar de cuatro adultos, con o sin menores',\n",
    "       'Cinco o más adultos, con o sin menores',\n",
    "       'Hogar con 15 ó más habitantes', 'Hogares con menores solos'])\n",
    "censo.columns"
   ]
  },
  {
   "cell_type": "code",
   "execution_count": 253,
   "metadata": {},
   "outputs": [],
   "source": [
    "censo['total_TF_week']= (censo['Total trabajo fin semana']\n",
    "                         + censo['Total fuera barrio fin semana']\n",
    "                         + censo['Total barrio fin semana']\n",
    "                         + censo['Total trabajo dia laboral']\n",
    "                         + censo['Total fuera barrio dia laboral']\n",
    "                         + censo['Total barrio dia laboral'])\n",
    "\n",
    "censo['ratio_t_total'] = (censo['Total trabajo fin semana']\n",
    "                          +censo['Total trabajo dia laboral'])/censo['total_TF_week']\n",
    "censo['ratio_fb_total'] = (censo['Total fuera barrio fin semana']\n",
    "                           +censo['Total fuera barrio dia laboral'])/censo['total_TF_week']\n",
    "censo['ratio_b_total'] = (censo['Total barrio fin semana']\n",
    "                          +censo['Total barrio dia laboral'])/censo['total_TF_week']"
   ]
  },
  {
   "cell_type": "markdown",
   "metadata": {},
   "source": [
    "I create a new variable 'dist_type' to codify the type of district:\n",
    "- 'Commercial' == 1\n",
    "- 'Residential' == 2\n",
    "- 'Mix' == 3 "
   ]
  },
  {
   "cell_type": "code",
   "execution_count": 265,
   "metadata": {},
   "outputs": [],
   "source": [
    "fb_75 = np.percentile(censo['ratio_fb_total'], 75)\n",
    "b_75 = np.percentile(censo['ratio_b_total'], 75)\n",
    "\n",
    "def dist_type(ratio_fb,ratio_b):\n",
    "    if ratio_fb > fb_75:\n",
    "        return 1\n",
    "    elif ratio_b > b_75:\n",
    "        return 2\n",
    "    else:\n",
    "        return 3\n",
    "censo['dist_type'] = censo.apply(lambda x: dist_type(x['ratio_fb_total'],x['ratio_b_total']),axis=1)"
   ]
  },
  {
   "cell_type": "code",
   "execution_count": 266,
   "metadata": {
    "scrolled": false
   },
   "outputs": [
    {
     "data": {
      "text/html": [
       "<div>\n",
       "<style scoped>\n",
       "    .dataframe tbody tr th:only-of-type {\n",
       "        vertical-align: middle;\n",
       "    }\n",
       "\n",
       "    .dataframe tbody tr th {\n",
       "        vertical-align: top;\n",
       "    }\n",
       "\n",
       "    .dataframe thead th {\n",
       "        text-align: right;\n",
       "    }\n",
       "</style>\n",
       "<table border=\"1\" class=\"dataframe\">\n",
       "  <thead>\n",
       "    <tr style=\"text-align: right;\">\n",
       "      <th></th>\n",
       "      <th>id_distrito_local</th>\n",
       "      <th>Población</th>\n",
       "      <th>Hombre</th>\n",
       "      <th>Mujeres</th>\n",
       "      <th>Densidad (Habitantes / Ha.)</th>\n",
       "      <th>Edad promedio</th>\n",
       "      <th>Total Hogares</th>\n",
       "      <th>Españoles</th>\n",
       "      <th>Extranjeros</th>\n",
       "      <th>Mixtos</th>\n",
       "      <th>España fuera barrio dia laboral</th>\n",
       "      <th>Extranjero fuera barrio dia laboral</th>\n",
       "      <th>Total fuera barrio dia laboral</th>\n",
       "      <th>España fuera barrio fin semana</th>\n",
       "      <th>Extranjero fuera barrio fin semana</th>\n",
       "      <th>Total fuera barrio fin semana</th>\n",
       "      <th>Total barrio dia laboral</th>\n",
       "      <th>Total barrio fin semana</th>\n",
       "      <th>Total trabajo dia laboral</th>\n",
       "      <th>Total trabajo fin semana</th>\n",
       "      <th>total_TF_week</th>\n",
       "      <th>ratio_t_total</th>\n",
       "      <th>ratio_fb_total</th>\n",
       "      <th>ratio_b_total</th>\n",
       "      <th>dist_type</th>\n",
       "    </tr>\n",
       "  </thead>\n",
       "  <tbody>\n",
       "    <tr>\n",
       "      <th>0</th>\n",
       "      <td>1</td>\n",
       "      <td>115198</td>\n",
       "      <td>58027</td>\n",
       "      <td>57171</td>\n",
       "      <td>257.985172</td>\n",
       "      <td>44.026383</td>\n",
       "      <td>67296</td>\n",
       "      <td>50164</td>\n",
       "      <td>8979</td>\n",
       "      <td>8153</td>\n",
       "      <td>1956512</td>\n",
       "      <td>348482</td>\n",
       "      <td>2304994</td>\n",
       "      <td>960027</td>\n",
       "      <td>169516</td>\n",
       "      <td>1129543</td>\n",
       "      <td>623007</td>\n",
       "      <td>241830</td>\n",
       "      <td>363775</td>\n",
       "      <td>110026</td>\n",
       "      <td>4773175</td>\n",
       "      <td>0.099263</td>\n",
       "      <td>0.719550</td>\n",
       "      <td>0.181187</td>\n",
       "      <td>1</td>\n",
       "    </tr>\n",
       "    <tr>\n",
       "      <th>1</th>\n",
       "      <td>2</td>\n",
       "      <td>123013</td>\n",
       "      <td>56064</td>\n",
       "      <td>66949</td>\n",
       "      <td>238.046748</td>\n",
       "      <td>44.545401</td>\n",
       "      <td>65005</td>\n",
       "      <td>56759</td>\n",
       "      <td>2798</td>\n",
       "      <td>5448</td>\n",
       "      <td>900033</td>\n",
       "      <td>45873</td>\n",
       "      <td>945906</td>\n",
       "      <td>359245</td>\n",
       "      <td>18421</td>\n",
       "      <td>377666</td>\n",
       "      <td>655916</td>\n",
       "      <td>254049</td>\n",
       "      <td>190696</td>\n",
       "      <td>55740</td>\n",
       "      <td>2479973</td>\n",
       "      <td>0.099370</td>\n",
       "      <td>0.533704</td>\n",
       "      <td>0.366925</td>\n",
       "      <td>3</td>\n",
       "    </tr>\n",
       "    <tr>\n",
       "      <th>2</th>\n",
       "      <td>3</td>\n",
       "      <td>95784</td>\n",
       "      <td>42275</td>\n",
       "      <td>53509</td>\n",
       "      <td>218.394417</td>\n",
       "      <td>47.041636</td>\n",
       "      <td>48673</td>\n",
       "      <td>43211</td>\n",
       "      <td>1881</td>\n",
       "      <td>3581</td>\n",
       "      <td>1085546</td>\n",
       "      <td>115080</td>\n",
       "      <td>1200626</td>\n",
       "      <td>423688</td>\n",
       "      <td>52559</td>\n",
       "      <td>476247</td>\n",
       "      <td>512972</td>\n",
       "      <td>197762</td>\n",
       "      <td>222149</td>\n",
       "      <td>64114</td>\n",
       "      <td>2673870</td>\n",
       "      <td>0.107059</td>\n",
       "      <td>0.627133</td>\n",
       "      <td>0.265807</td>\n",
       "      <td>1</td>\n",
       "    </tr>\n",
       "    <tr>\n",
       "      <th>3</th>\n",
       "      <td>4</td>\n",
       "      <td>117988</td>\n",
       "      <td>50420</td>\n",
       "      <td>67568</td>\n",
       "      <td>271.025704</td>\n",
       "      <td>46.241563</td>\n",
       "      <td>62951</td>\n",
       "      <td>51490</td>\n",
       "      <td>5405</td>\n",
       "      <td>6056</td>\n",
       "      <td>1299023</td>\n",
       "      <td>122121</td>\n",
       "      <td>1421144</td>\n",
       "      <td>517838</td>\n",
       "      <td>55491</td>\n",
       "      <td>573329</td>\n",
       "      <td>625927</td>\n",
       "      <td>241789</td>\n",
       "      <td>377950</td>\n",
       "      <td>111528</td>\n",
       "      <td>3351667</td>\n",
       "      <td>0.146040</td>\n",
       "      <td>0.595069</td>\n",
       "      <td>0.258891</td>\n",
       "      <td>3</td>\n",
       "    </tr>\n",
       "    <tr>\n",
       "      <th>4</th>\n",
       "      <td>5</td>\n",
       "      <td>114571</td>\n",
       "      <td>49918</td>\n",
       "      <td>64653</td>\n",
       "      <td>158.972579</td>\n",
       "      <td>45.388980</td>\n",
       "      <td>58240</td>\n",
       "      <td>49825</td>\n",
       "      <td>3021</td>\n",
       "      <td>5394</td>\n",
       "      <td>1482648</td>\n",
       "      <td>112338</td>\n",
       "      <td>1594986</td>\n",
       "      <td>530814</td>\n",
       "      <td>41799</td>\n",
       "      <td>572613</td>\n",
       "      <td>629355</td>\n",
       "      <td>242013</td>\n",
       "      <td>389699</td>\n",
       "      <td>106530</td>\n",
       "      <td>3535196</td>\n",
       "      <td>0.140368</td>\n",
       "      <td>0.613148</td>\n",
       "      <td>0.246484</td>\n",
       "      <td>1</td>\n",
       "    </tr>\n",
       "  </tbody>\n",
       "</table>\n",
       "</div>"
      ],
      "text/plain": [
       "   id_distrito_local  Población  Hombre  Mujeres  Densidad (Habitantes / Ha.)  \\\n",
       "0                  1     115198   58027    57171                   257.985172   \n",
       "1                  2     123013   56064    66949                   238.046748   \n",
       "2                  3      95784   42275    53509                   218.394417   \n",
       "3                  4     117988   50420    67568                   271.025704   \n",
       "4                  5     114571   49918    64653                   158.972579   \n",
       "\n",
       "   Edad promedio  Total Hogares  Españoles  Extranjeros  Mixtos  \\\n",
       "0      44.026383          67296      50164         8979    8153   \n",
       "1      44.545401          65005      56759         2798    5448   \n",
       "2      47.041636          48673      43211         1881    3581   \n",
       "3      46.241563          62951      51490         5405    6056   \n",
       "4      45.388980          58240      49825         3021    5394   \n",
       "\n",
       "   España fuera barrio dia laboral  Extranjero fuera barrio dia laboral  \\\n",
       "0                          1956512                               348482   \n",
       "1                           900033                                45873   \n",
       "2                          1085546                               115080   \n",
       "3                          1299023                               122121   \n",
       "4                          1482648                               112338   \n",
       "\n",
       "   Total fuera barrio dia laboral  España fuera barrio fin semana  \\\n",
       "0                         2304994                          960027   \n",
       "1                          945906                          359245   \n",
       "2                         1200626                          423688   \n",
       "3                         1421144                          517838   \n",
       "4                         1594986                          530814   \n",
       "\n",
       "   Extranjero fuera barrio fin semana  Total fuera barrio fin semana  \\\n",
       "0                              169516                        1129543   \n",
       "1                               18421                         377666   \n",
       "2                               52559                         476247   \n",
       "3                               55491                         573329   \n",
       "4                               41799                         572613   \n",
       "\n",
       "   Total barrio dia laboral  Total barrio fin semana  \\\n",
       "0                    623007                   241830   \n",
       "1                    655916                   254049   \n",
       "2                    512972                   197762   \n",
       "3                    625927                   241789   \n",
       "4                    629355                   242013   \n",
       "\n",
       "   Total trabajo dia laboral  Total trabajo fin semana  total_TF_week  \\\n",
       "0                     363775                    110026        4773175   \n",
       "1                     190696                     55740        2479973   \n",
       "2                     222149                     64114        2673870   \n",
       "3                     377950                    111528        3351667   \n",
       "4                     389699                    106530        3535196   \n",
       "\n",
       "   ratio_t_total  ratio_fb_total  ratio_b_total  dist_type  \n",
       "0       0.099263        0.719550       0.181187          1  \n",
       "1       0.099370        0.533704       0.366925          3  \n",
       "2       0.107059        0.627133       0.265807          1  \n",
       "3       0.146040        0.595069       0.258891          3  \n",
       "4       0.140368        0.613148       0.246484          1  "
      ]
     },
     "execution_count": 266,
     "metadata": {},
     "output_type": "execute_result"
    }
   ],
   "source": [
    "censo.head()"
   ]
  },
  {
   "cell_type": "code",
   "execution_count": 267,
   "metadata": {
    "scrolled": true
   },
   "outputs": [
    {
     "name": "stdout",
     "output_type": "stream",
     "text": [
      "<class 'pandas.core.frame.DataFrame'>\n",
      "Int64Index: 21 entries, 0 to 20\n",
      "Data columns (total 25 columns):\n",
      "id_distrito_local                      21 non-null int64\n",
      "Población                              21 non-null int64\n",
      "Hombre                                 21 non-null int64\n",
      "Mujeres                                21 non-null int64\n",
      "Densidad (Habitantes / Ha.)            21 non-null float64\n",
      "Edad promedio                          21 non-null float64\n",
      "Total Hogares                          21 non-null int64\n",
      "Españoles                              21 non-null int64\n",
      "Extranjeros                            21 non-null int64\n",
      "Mixtos                                 21 non-null int64\n",
      "España fuera barrio dia laboral        21 non-null int64\n",
      "Extranjero fuera barrio dia laboral    21 non-null int64\n",
      "Total fuera barrio dia laboral         21 non-null int64\n",
      "España fuera barrio fin semana         21 non-null int64\n",
      "Extranjero fuera barrio fin semana     21 non-null int64\n",
      "Total fuera barrio fin semana          21 non-null int64\n",
      "Total barrio dia laboral               21 non-null int64\n",
      "Total barrio fin semana                21 non-null int64\n",
      "Total trabajo dia laboral              21 non-null int64\n",
      "Total trabajo fin semana               21 non-null int64\n",
      "total_TF_week                          21 non-null int64\n",
      "ratio_t_total                          21 non-null float64\n",
      "ratio_fb_total                         21 non-null float64\n",
      "ratio_b_total                          21 non-null float64\n",
      "dist_type                              21 non-null int64\n",
      "dtypes: float64(5), int64(20)\n",
      "memory usage: 4.3 KB\n"
     ]
    }
   ],
   "source": [
    "censo.info()"
   ]
  },
  {
   "cell_type": "markdown",
   "metadata": {},
   "source": [
    "I check the statistics. The extreme values are in the differences between floating traffic within districts mainly"
   ]
  },
  {
   "cell_type": "code",
   "execution_count": 268,
   "metadata": {
    "scrolled": true
   },
   "outputs": [
    {
     "data": {
      "text/html": [
       "<div>\n",
       "<style scoped>\n",
       "    .dataframe tbody tr th:only-of-type {\n",
       "        vertical-align: middle;\n",
       "    }\n",
       "\n",
       "    .dataframe tbody tr th {\n",
       "        vertical-align: top;\n",
       "    }\n",
       "\n",
       "    .dataframe thead th {\n",
       "        text-align: right;\n",
       "    }\n",
       "</style>\n",
       "<table border=\"1\" class=\"dataframe\">\n",
       "  <thead>\n",
       "    <tr style=\"text-align: right;\">\n",
       "      <th></th>\n",
       "      <th>id_distrito_local</th>\n",
       "      <th>Población</th>\n",
       "      <th>Hombre</th>\n",
       "      <th>Mujeres</th>\n",
       "      <th>Densidad (Habitantes / Ha.)</th>\n",
       "      <th>Edad promedio</th>\n",
       "      <th>Total Hogares</th>\n",
       "      <th>Españoles</th>\n",
       "      <th>Extranjeros</th>\n",
       "      <th>Mixtos</th>\n",
       "      <th>España fuera barrio dia laboral</th>\n",
       "      <th>Extranjero fuera barrio dia laboral</th>\n",
       "      <th>Total fuera barrio dia laboral</th>\n",
       "      <th>España fuera barrio fin semana</th>\n",
       "      <th>Extranjero fuera barrio fin semana</th>\n",
       "      <th>Total fuera barrio fin semana</th>\n",
       "      <th>Total barrio dia laboral</th>\n",
       "      <th>Total barrio fin semana</th>\n",
       "      <th>Total trabajo dia laboral</th>\n",
       "      <th>Total trabajo fin semana</th>\n",
       "      <th>total_TF_week</th>\n",
       "      <th>ratio_t_total</th>\n",
       "      <th>ratio_fb_total</th>\n",
       "      <th>ratio_b_total</th>\n",
       "      <th>dist_type</th>\n",
       "    </tr>\n",
       "  </thead>\n",
       "  <tbody>\n",
       "    <tr>\n",
       "      <th>count</th>\n",
       "      <td>21.000000</td>\n",
       "      <td>21.000000</td>\n",
       "      <td>21.000000</td>\n",
       "      <td>21.000000</td>\n",
       "      <td>21.000000</td>\n",
       "      <td>21.000000</td>\n",
       "      <td>21.000000</td>\n",
       "      <td>21.000000</td>\n",
       "      <td>21.000000</td>\n",
       "      <td>21.000000</td>\n",
       "      <td>2.100000e+01</td>\n",
       "      <td>21.000000</td>\n",
       "      <td>2.100000e+01</td>\n",
       "      <td>21.000000</td>\n",
       "      <td>21.000000</td>\n",
       "      <td>2.100000e+01</td>\n",
       "      <td>2.100000e+01</td>\n",
       "      <td>21.000000</td>\n",
       "      <td>21.000000</td>\n",
       "      <td>21.000000</td>\n",
       "      <td>2.100000e+01</td>\n",
       "      <td>21.000000</td>\n",
       "      <td>21.000000</td>\n",
       "      <td>21.000000</td>\n",
       "      <td>21.000000</td>\n",
       "    </tr>\n",
       "    <tr>\n",
       "      <th>mean</th>\n",
       "      <td>11.000000</td>\n",
       "      <td>120238.523810</td>\n",
       "      <td>54560.952381</td>\n",
       "      <td>65677.571429</td>\n",
       "      <td>142.549481</td>\n",
       "      <td>43.907969</td>\n",
       "      <td>61436.380952</td>\n",
       "      <td>51351.142857</td>\n",
       "      <td>3957.523810</td>\n",
       "      <td>6127.714286</td>\n",
       "      <td>9.139553e+05</td>\n",
       "      <td>69671.047619</td>\n",
       "      <td>9.836263e+05</td>\n",
       "      <td>363881.047619</td>\n",
       "      <td>29698.857143</td>\n",
       "      <td>3.935799e+05</td>\n",
       "      <td>6.680512e+05</td>\n",
       "      <td>259142.714286</td>\n",
       "      <td>234471.761905</td>\n",
       "      <td>66906.761905</td>\n",
       "      <td>2.605779e+06</td>\n",
       "      <td>0.113124</td>\n",
       "      <td>0.514946</td>\n",
       "      <td>0.371930</td>\n",
       "      <td>2.285714</td>\n",
       "    </tr>\n",
       "    <tr>\n",
       "      <th>std</th>\n",
       "      <td>6.204837</td>\n",
       "      <td>43415.307389</td>\n",
       "      <td>19672.393300</td>\n",
       "      <td>23920.862130</td>\n",
       "      <td>98.207354</td>\n",
       "      <td>2.243709</td>\n",
       "      <td>21613.443271</td>\n",
       "      <td>17825.203798</td>\n",
       "      <td>2117.751228</td>\n",
       "      <td>2728.174191</td>\n",
       "      <td>3.967712e+05</td>\n",
       "      <td>77584.497180</td>\n",
       "      <td>4.596726e+05</td>\n",
       "      <td>181078.054614</td>\n",
       "      <td>37716.764627</td>\n",
       "      <td>2.139075e+05</td>\n",
       "      <td>2.354600e+05</td>\n",
       "      <td>91519.726899</td>\n",
       "      <td>100183.333120</td>\n",
       "      <td>27777.790499</td>\n",
       "      <td>8.601518e+05</td>\n",
       "      <td>0.021090</td>\n",
       "      <td>0.108750</td>\n",
       "      <td>0.120509</td>\n",
       "      <td>0.845154</td>\n",
       "    </tr>\n",
       "    <tr>\n",
       "      <th>min</th>\n",
       "      <td>1.000000</td>\n",
       "      <td>35949.000000</td>\n",
       "      <td>16869.000000</td>\n",
       "      <td>19080.000000</td>\n",
       "      <td>10.344042</td>\n",
       "      <td>38.825609</td>\n",
       "      <td>18269.000000</td>\n",
       "      <td>15912.000000</td>\n",
       "      <td>815.000000</td>\n",
       "      <td>1542.000000</td>\n",
       "      <td>3.065860e+05</td>\n",
       "      <td>4929.000000</td>\n",
       "      <td>3.115150e+05</td>\n",
       "      <td>122010.000000</td>\n",
       "      <td>2035.000000</td>\n",
       "      <td>1.240450e+05</td>\n",
       "      <td>2.020600e+05</td>\n",
       "      <td>78679.000000</td>\n",
       "      <td>80461.000000</td>\n",
       "      <td>24059.000000</td>\n",
       "      <td>1.124201e+06</td>\n",
       "      <td>0.083173</td>\n",
       "      <td>0.356969</td>\n",
       "      <td>0.172583</td>\n",
       "      <td>1.000000</td>\n",
       "    </tr>\n",
       "    <tr>\n",
       "      <th>25%</th>\n",
       "      <td>6.000000</td>\n",
       "      <td>95784.000000</td>\n",
       "      <td>42275.000000</td>\n",
       "      <td>53509.000000</td>\n",
       "      <td>68.661063</td>\n",
       "      <td>42.279377</td>\n",
       "      <td>48673.000000</td>\n",
       "      <td>39013.000000</td>\n",
       "      <td>2346.000000</td>\n",
       "      <td>4341.000000</td>\n",
       "      <td>6.301550e+05</td>\n",
       "      <td>17628.000000</td>\n",
       "      <td>6.476170e+05</td>\n",
       "      <td>246339.000000</td>\n",
       "      <td>7104.000000</td>\n",
       "      <td>2.526670e+05</td>\n",
       "      <td>5.337300e+05</td>\n",
       "      <td>205283.000000</td>\n",
       "      <td>153482.000000</td>\n",
       "      <td>42229.000000</td>\n",
       "      <td>1.901033e+06</td>\n",
       "      <td>0.092973</td>\n",
       "      <td>0.430957</td>\n",
       "      <td>0.264063</td>\n",
       "      <td>2.000000</td>\n",
       "    </tr>\n",
       "    <tr>\n",
       "      <th>50%</th>\n",
       "      <td>11.000000</td>\n",
       "      <td>115198.000000</td>\n",
       "      <td>51143.000000</td>\n",
       "      <td>64653.000000</td>\n",
       "      <td>156.841593</td>\n",
       "      <td>44.026383</td>\n",
       "      <td>62013.000000</td>\n",
       "      <td>51347.000000</td>\n",
       "      <td>3361.000000</td>\n",
       "      <td>5817.000000</td>\n",
       "      <td>8.655940e+05</td>\n",
       "      <td>53443.000000</td>\n",
       "      <td>8.995260e+05</td>\n",
       "      <td>326400.000000</td>\n",
       "      <td>19866.000000</td>\n",
       "      <td>3.439330e+05</td>\n",
       "      <td>6.293550e+05</td>\n",
       "      <td>242013.000000</td>\n",
       "      <td>222149.000000</td>\n",
       "      <td>64114.000000</td>\n",
       "      <td>2.643653e+06</td>\n",
       "      <td>0.114327</td>\n",
       "      <td>0.499644</td>\n",
       "      <td>0.377971</td>\n",
       "      <td>3.000000</td>\n",
       "    </tr>\n",
       "    <tr>\n",
       "      <th>75%</th>\n",
       "      <td>16.000000</td>\n",
       "      <td>139147.000000</td>\n",
       "      <td>64183.000000</td>\n",
       "      <td>74964.000000</td>\n",
       "      <td>218.394417</td>\n",
       "      <td>45.783141</td>\n",
       "      <td>70099.000000</td>\n",
       "      <td>60925.000000</td>\n",
       "      <td>5405.000000</td>\n",
       "      <td>8153.000000</td>\n",
       "      <td>1.156001e+06</td>\n",
       "      <td>86168.000000</td>\n",
       "      <td>1.216536e+06</td>\n",
       "      <td>423688.000000</td>\n",
       "      <td>39454.000000</td>\n",
       "      <td>4.762470e+05</td>\n",
       "      <td>7.651690e+05</td>\n",
       "      <td>293485.000000</td>\n",
       "      <td>317615.000000</td>\n",
       "      <td>90215.000000</td>\n",
       "      <td>3.152694e+06</td>\n",
       "      <td>0.129359</td>\n",
       "      <td>0.606578</td>\n",
       "      <td>0.473789</td>\n",
       "      <td>3.000000</td>\n",
       "    </tr>\n",
       "    <tr>\n",
       "      <th>max</th>\n",
       "      <td>21.000000</td>\n",
       "      <td>192933.000000</td>\n",
       "      <td>87414.000000</td>\n",
       "      <td>105519.000000</td>\n",
       "      <td>298.017711</td>\n",
       "      <td>47.545059</td>\n",
       "      <td>95680.000000</td>\n",
       "      <td>80186.000000</td>\n",
       "      <td>8979.000000</td>\n",
       "      <td>11865.000000</td>\n",
       "      <td>1.956512e+06</td>\n",
       "      <td>348482.000000</td>\n",
       "      <td>2.304994e+06</td>\n",
       "      <td>960027.000000</td>\n",
       "      <td>169516.000000</td>\n",
       "      <td>1.129543e+06</td>\n",
       "      <td>1.093869e+06</td>\n",
       "      <td>427359.000000</td>\n",
       "      <td>389699.000000</td>\n",
       "      <td>111528.000000</td>\n",
       "      <td>4.773175e+06</td>\n",
       "      <td>0.146505</td>\n",
       "      <td>0.719550</td>\n",
       "      <td>0.553191</td>\n",
       "      <td>3.000000</td>\n",
       "    </tr>\n",
       "  </tbody>\n",
       "</table>\n",
       "</div>"
      ],
      "text/plain": [
       "       id_distrito_local      Población        Hombre        Mujeres  \\\n",
       "count          21.000000      21.000000     21.000000      21.000000   \n",
       "mean           11.000000  120238.523810  54560.952381   65677.571429   \n",
       "std             6.204837   43415.307389  19672.393300   23920.862130   \n",
       "min             1.000000   35949.000000  16869.000000   19080.000000   \n",
       "25%             6.000000   95784.000000  42275.000000   53509.000000   \n",
       "50%            11.000000  115198.000000  51143.000000   64653.000000   \n",
       "75%            16.000000  139147.000000  64183.000000   74964.000000   \n",
       "max            21.000000  192933.000000  87414.000000  105519.000000   \n",
       "\n",
       "       Densidad (Habitantes / Ha.)  Edad promedio  Total Hogares  \\\n",
       "count                    21.000000      21.000000      21.000000   \n",
       "mean                    142.549481      43.907969   61436.380952   \n",
       "std                      98.207354       2.243709   21613.443271   \n",
       "min                      10.344042      38.825609   18269.000000   \n",
       "25%                      68.661063      42.279377   48673.000000   \n",
       "50%                     156.841593      44.026383   62013.000000   \n",
       "75%                     218.394417      45.783141   70099.000000   \n",
       "max                     298.017711      47.545059   95680.000000   \n",
       "\n",
       "          Españoles  Extranjeros        Mixtos  \\\n",
       "count     21.000000    21.000000     21.000000   \n",
       "mean   51351.142857  3957.523810   6127.714286   \n",
       "std    17825.203798  2117.751228   2728.174191   \n",
       "min    15912.000000   815.000000   1542.000000   \n",
       "25%    39013.000000  2346.000000   4341.000000   \n",
       "50%    51347.000000  3361.000000   5817.000000   \n",
       "75%    60925.000000  5405.000000   8153.000000   \n",
       "max    80186.000000  8979.000000  11865.000000   \n",
       "\n",
       "       España fuera barrio dia laboral  Extranjero fuera barrio dia laboral  \\\n",
       "count                     2.100000e+01                            21.000000   \n",
       "mean                      9.139553e+05                         69671.047619   \n",
       "std                       3.967712e+05                         77584.497180   \n",
       "min                       3.065860e+05                          4929.000000   \n",
       "25%                       6.301550e+05                         17628.000000   \n",
       "50%                       8.655940e+05                         53443.000000   \n",
       "75%                       1.156001e+06                         86168.000000   \n",
       "max                       1.956512e+06                        348482.000000   \n",
       "\n",
       "       Total fuera barrio dia laboral  España fuera barrio fin semana  \\\n",
       "count                    2.100000e+01                       21.000000   \n",
       "mean                     9.836263e+05                   363881.047619   \n",
       "std                      4.596726e+05                   181078.054614   \n",
       "min                      3.115150e+05                   122010.000000   \n",
       "25%                      6.476170e+05                   246339.000000   \n",
       "50%                      8.995260e+05                   326400.000000   \n",
       "75%                      1.216536e+06                   423688.000000   \n",
       "max                      2.304994e+06                   960027.000000   \n",
       "\n",
       "       Extranjero fuera barrio fin semana  Total fuera barrio fin semana  \\\n",
       "count                           21.000000                   2.100000e+01   \n",
       "mean                         29698.857143                   3.935799e+05   \n",
       "std                          37716.764627                   2.139075e+05   \n",
       "min                           2035.000000                   1.240450e+05   \n",
       "25%                           7104.000000                   2.526670e+05   \n",
       "50%                          19866.000000                   3.439330e+05   \n",
       "75%                          39454.000000                   4.762470e+05   \n",
       "max                         169516.000000                   1.129543e+06   \n",
       "\n",
       "       Total barrio dia laboral  Total barrio fin semana  \\\n",
       "count              2.100000e+01                21.000000   \n",
       "mean               6.680512e+05            259142.714286   \n",
       "std                2.354600e+05             91519.726899   \n",
       "min                2.020600e+05             78679.000000   \n",
       "25%                5.337300e+05            205283.000000   \n",
       "50%                6.293550e+05            242013.000000   \n",
       "75%                7.651690e+05            293485.000000   \n",
       "max                1.093869e+06            427359.000000   \n",
       "\n",
       "       Total trabajo dia laboral  Total trabajo fin semana  total_TF_week  \\\n",
       "count                  21.000000                 21.000000   2.100000e+01   \n",
       "mean               234471.761905              66906.761905   2.605779e+06   \n",
       "std                100183.333120              27777.790499   8.601518e+05   \n",
       "min                 80461.000000              24059.000000   1.124201e+06   \n",
       "25%                153482.000000              42229.000000   1.901033e+06   \n",
       "50%                222149.000000              64114.000000   2.643653e+06   \n",
       "75%                317615.000000              90215.000000   3.152694e+06   \n",
       "max                389699.000000             111528.000000   4.773175e+06   \n",
       "\n",
       "       ratio_t_total  ratio_fb_total  ratio_b_total  dist_type  \n",
       "count      21.000000       21.000000      21.000000  21.000000  \n",
       "mean        0.113124        0.514946       0.371930   2.285714  \n",
       "std         0.021090        0.108750       0.120509   0.845154  \n",
       "min         0.083173        0.356969       0.172583   1.000000  \n",
       "25%         0.092973        0.430957       0.264063   2.000000  \n",
       "50%         0.114327        0.499644       0.377971   3.000000  \n",
       "75%         0.129359        0.606578       0.473789   3.000000  \n",
       "max         0.146505        0.719550       0.553191   3.000000  "
      ]
     },
     "execution_count": 268,
     "metadata": {},
     "output_type": "execute_result"
    }
   ],
   "source": [
    "censo.describe()"
   ]
  },
  {
   "cell_type": "code",
   "execution_count": 269,
   "metadata": {
    "scrolled": true
   },
   "outputs": [
    {
     "data": {
      "text/html": [
       "<div>\n",
       "<style scoped>\n",
       "    .dataframe tbody tr th:only-of-type {\n",
       "        vertical-align: middle;\n",
       "    }\n",
       "\n",
       "    .dataframe tbody tr th {\n",
       "        vertical-align: top;\n",
       "    }\n",
       "\n",
       "    .dataframe thead th {\n",
       "        text-align: right;\n",
       "    }\n",
       "</style>\n",
       "<table border=\"1\" class=\"dataframe\">\n",
       "  <thead>\n",
       "    <tr style=\"text-align: right;\">\n",
       "      <th></th>\n",
       "      <th>desc_epigrafe</th>\n",
       "      <th>id_local</th>\n",
       "      <th>id_epigrafe</th>\n",
       "      <th>id_distrito_local</th>\n",
       "      <th>desc_distrito_local</th>\n",
       "      <th>total_local_act</th>\n",
       "      <th>total_locales</th>\n",
       "      <th>target</th>\n",
       "      <th>total_ab_dist_17_19</th>\n",
       "      <th>part_ab_dist_17_19</th>\n",
       "      <th>desc_tipo_agrup</th>\n",
       "      <th>lat</th>\n",
       "      <th>lon</th>\n",
       "      <th>id_act_normdesc_act_norm</th>\n",
       "      <th>rotulo</th>\n",
       "      <th>points_in_radius</th>\n",
       "      <th>Población</th>\n",
       "      <th>Hombre</th>\n",
       "      <th>Mujeres</th>\n",
       "      <th>Densidad (Habitantes / Ha.)</th>\n",
       "      <th>Edad promedio</th>\n",
       "      <th>Total Hogares</th>\n",
       "      <th>Españoles</th>\n",
       "      <th>Extranjeros</th>\n",
       "      <th>Mixtos</th>\n",
       "      <th>España fuera barrio dia laboral</th>\n",
       "      <th>Extranjero fuera barrio dia laboral</th>\n",
       "      <th>Total fuera barrio dia laboral</th>\n",
       "      <th>España fuera barrio fin semana</th>\n",
       "      <th>Extranjero fuera barrio fin semana</th>\n",
       "      <th>Total fuera barrio fin semana</th>\n",
       "      <th>Total barrio dia laboral</th>\n",
       "      <th>Total barrio fin semana</th>\n",
       "      <th>Total trabajo dia laboral</th>\n",
       "      <th>Total trabajo fin semana</th>\n",
       "      <th>total_TF_week</th>\n",
       "      <th>ratio_t_total</th>\n",
       "      <th>ratio_fb_total</th>\n",
       "      <th>ratio_b_total</th>\n",
       "      <th>dist_type</th>\n",
       "    </tr>\n",
       "  </thead>\n",
       "  <tbody>\n",
       "    <tr>\n",
       "      <th>0</th>\n",
       "      <td>COMERCIO AL POR MENOR DE PASTELERIA, CONFITERI...</td>\n",
       "      <td>10000102</td>\n",
       "      <td>472403</td>\n",
       "      <td>1</td>\n",
       "      <td>CENTRO</td>\n",
       "      <td>819</td>\n",
       "      <td>12178</td>\n",
       "      <td>0</td>\n",
       "      <td>2847</td>\n",
       "      <td>288</td>\n",
       "      <td>SIN AGRUPACION</td>\n",
       "      <td>40.416642</td>\n",
       "      <td>-3.704763</td>\n",
       "      <td>NaN</td>\n",
       "      <td>LA MALLORQUINA</td>\n",
       "      <td>13</td>\n",
       "      <td>115198</td>\n",
       "      <td>58027</td>\n",
       "      <td>57171</td>\n",
       "      <td>257.985172</td>\n",
       "      <td>44.026383</td>\n",
       "      <td>67296</td>\n",
       "      <td>50164</td>\n",
       "      <td>8979</td>\n",
       "      <td>8153</td>\n",
       "      <td>1956512</td>\n",
       "      <td>348482</td>\n",
       "      <td>2304994</td>\n",
       "      <td>960027</td>\n",
       "      <td>169516</td>\n",
       "      <td>1129543</td>\n",
       "      <td>623007</td>\n",
       "      <td>241830</td>\n",
       "      <td>363775</td>\n",
       "      <td>110026</td>\n",
       "      <td>4773175</td>\n",
       "      <td>0.099263</td>\n",
       "      <td>0.71955</td>\n",
       "      <td>0.181187</td>\n",
       "      <td>1</td>\n",
       "    </tr>\n",
       "    <tr>\n",
       "      <th>1</th>\n",
       "      <td>COMERCIO AL POR MENOR DE AVES, HUEVOS Y CAZA S...</td>\n",
       "      <td>10000162</td>\n",
       "      <td>472206</td>\n",
       "      <td>1</td>\n",
       "      <td>CENTRO</td>\n",
       "      <td>819</td>\n",
       "      <td>12178</td>\n",
       "      <td>0</td>\n",
       "      <td>2847</td>\n",
       "      <td>288</td>\n",
       "      <td>Mercado Municipal</td>\n",
       "      <td>40.426848</td>\n",
       "      <td>-3.699164</td>\n",
       "      <td>NaN</td>\n",
       "      <td>POLLERIAS RODRIGUEZ &amp; MARTINEZ</td>\n",
       "      <td>5</td>\n",
       "      <td>115198</td>\n",
       "      <td>58027</td>\n",
       "      <td>57171</td>\n",
       "      <td>257.985172</td>\n",
       "      <td>44.026383</td>\n",
       "      <td>67296</td>\n",
       "      <td>50164</td>\n",
       "      <td>8979</td>\n",
       "      <td>8153</td>\n",
       "      <td>1956512</td>\n",
       "      <td>348482</td>\n",
       "      <td>2304994</td>\n",
       "      <td>960027</td>\n",
       "      <td>169516</td>\n",
       "      <td>1129543</td>\n",
       "      <td>623007</td>\n",
       "      <td>241830</td>\n",
       "      <td>363775</td>\n",
       "      <td>110026</td>\n",
       "      <td>4773175</td>\n",
       "      <td>0.099263</td>\n",
       "      <td>0.71955</td>\n",
       "      <td>0.181187</td>\n",
       "      <td>1</td>\n",
       "    </tr>\n",
       "    <tr>\n",
       "      <th>2</th>\n",
       "      <td>COMERCIO AL POR MENOR DE CARNICERIA</td>\n",
       "      <td>10000224</td>\n",
       "      <td>472201</td>\n",
       "      <td>1</td>\n",
       "      <td>CENTRO</td>\n",
       "      <td>819</td>\n",
       "      <td>12178</td>\n",
       "      <td>0</td>\n",
       "      <td>2847</td>\n",
       "      <td>288</td>\n",
       "      <td>Mercado Municipal</td>\n",
       "      <td>40.407694</td>\n",
       "      <td>-3.703645</td>\n",
       "      <td>NaN</td>\n",
       "      <td>SIN ROTULO</td>\n",
       "      <td>15</td>\n",
       "      <td>115198</td>\n",
       "      <td>58027</td>\n",
       "      <td>57171</td>\n",
       "      <td>257.985172</td>\n",
       "      <td>44.026383</td>\n",
       "      <td>67296</td>\n",
       "      <td>50164</td>\n",
       "      <td>8979</td>\n",
       "      <td>8153</td>\n",
       "      <td>1956512</td>\n",
       "      <td>348482</td>\n",
       "      <td>2304994</td>\n",
       "      <td>960027</td>\n",
       "      <td>169516</td>\n",
       "      <td>1129543</td>\n",
       "      <td>623007</td>\n",
       "      <td>241830</td>\n",
       "      <td>363775</td>\n",
       "      <td>110026</td>\n",
       "      <td>4773175</td>\n",
       "      <td>0.099263</td>\n",
       "      <td>0.71955</td>\n",
       "      <td>0.181187</td>\n",
       "      <td>1</td>\n",
       "    </tr>\n",
       "    <tr>\n",
       "      <th>3</th>\n",
       "      <td>COMERCIO AL POR MENOR DE CARNICERIA</td>\n",
       "      <td>10000226</td>\n",
       "      <td>472201</td>\n",
       "      <td>1</td>\n",
       "      <td>CENTRO</td>\n",
       "      <td>819</td>\n",
       "      <td>12178</td>\n",
       "      <td>0</td>\n",
       "      <td>2847</td>\n",
       "      <td>288</td>\n",
       "      <td>Mercado Municipal</td>\n",
       "      <td>40.411444</td>\n",
       "      <td>-3.698840</td>\n",
       "      <td>NaN</td>\n",
       "      <td>CARNICERIA M LOPEZ</td>\n",
       "      <td>12</td>\n",
       "      <td>115198</td>\n",
       "      <td>58027</td>\n",
       "      <td>57171</td>\n",
       "      <td>257.985172</td>\n",
       "      <td>44.026383</td>\n",
       "      <td>67296</td>\n",
       "      <td>50164</td>\n",
       "      <td>8979</td>\n",
       "      <td>8153</td>\n",
       "      <td>1956512</td>\n",
       "      <td>348482</td>\n",
       "      <td>2304994</td>\n",
       "      <td>960027</td>\n",
       "      <td>169516</td>\n",
       "      <td>1129543</td>\n",
       "      <td>623007</td>\n",
       "      <td>241830</td>\n",
       "      <td>363775</td>\n",
       "      <td>110026</td>\n",
       "      <td>4773175</td>\n",
       "      <td>0.099263</td>\n",
       "      <td>0.71955</td>\n",
       "      <td>0.181187</td>\n",
       "      <td>1</td>\n",
       "    </tr>\n",
       "    <tr>\n",
       "      <th>4</th>\n",
       "      <td>COMERCIO AL POR MENOR DE CARNICERIA</td>\n",
       "      <td>10000238</td>\n",
       "      <td>472201</td>\n",
       "      <td>1</td>\n",
       "      <td>CENTRO</td>\n",
       "      <td>819</td>\n",
       "      <td>12178</td>\n",
       "      <td>0</td>\n",
       "      <td>2847</td>\n",
       "      <td>288</td>\n",
       "      <td>Mercado Municipal</td>\n",
       "      <td>40.411444</td>\n",
       "      <td>-3.698840</td>\n",
       "      <td>NaN</td>\n",
       "      <td>CARNICERIA MARIANO ARAUJO</td>\n",
       "      <td>12</td>\n",
       "      <td>115198</td>\n",
       "      <td>58027</td>\n",
       "      <td>57171</td>\n",
       "      <td>257.985172</td>\n",
       "      <td>44.026383</td>\n",
       "      <td>67296</td>\n",
       "      <td>50164</td>\n",
       "      <td>8979</td>\n",
       "      <td>8153</td>\n",
       "      <td>1956512</td>\n",
       "      <td>348482</td>\n",
       "      <td>2304994</td>\n",
       "      <td>960027</td>\n",
       "      <td>169516</td>\n",
       "      <td>1129543</td>\n",
       "      <td>623007</td>\n",
       "      <td>241830</td>\n",
       "      <td>363775</td>\n",
       "      <td>110026</td>\n",
       "      <td>4773175</td>\n",
       "      <td>0.099263</td>\n",
       "      <td>0.71955</td>\n",
       "      <td>0.181187</td>\n",
       "      <td>1</td>\n",
       "    </tr>\n",
       "  </tbody>\n",
       "</table>\n",
       "</div>"
      ],
      "text/plain": [
       "                                       desc_epigrafe  id_local  id_epigrafe  \\\n",
       "0  COMERCIO AL POR MENOR DE PASTELERIA, CONFITERI...  10000102       472403   \n",
       "1  COMERCIO AL POR MENOR DE AVES, HUEVOS Y CAZA S...  10000162       472206   \n",
       "2                COMERCIO AL POR MENOR DE CARNICERIA  10000224       472201   \n",
       "3                COMERCIO AL POR MENOR DE CARNICERIA  10000226       472201   \n",
       "4                COMERCIO AL POR MENOR DE CARNICERIA  10000238       472201   \n",
       "\n",
       "   id_distrito_local   desc_distrito_local  total_local_act  total_locales  \\\n",
       "0                  1  CENTRO                            819          12178   \n",
       "1                  1  CENTRO                            819          12178   \n",
       "2                  1  CENTRO                            819          12178   \n",
       "3                  1  CENTRO                            819          12178   \n",
       "4                  1  CENTRO                            819          12178   \n",
       "\n",
       "   target  total_ab_dist_17_19  part_ab_dist_17_19    desc_tipo_agrup  \\\n",
       "0       0                 2847                 288     SIN AGRUPACION   \n",
       "1       0                 2847                 288  Mercado Municipal   \n",
       "2       0                 2847                 288  Mercado Municipal   \n",
       "3       0                 2847                 288  Mercado Municipal   \n",
       "4       0                 2847                 288  Mercado Municipal   \n",
       "\n",
       "         lat       lon  id_act_normdesc_act_norm  \\\n",
       "0  40.416642 -3.704763                       NaN   \n",
       "1  40.426848 -3.699164                       NaN   \n",
       "2  40.407694 -3.703645                       NaN   \n",
       "3  40.411444 -3.698840                       NaN   \n",
       "4  40.411444 -3.698840                       NaN   \n",
       "\n",
       "                           rotulo  points_in_radius  Población  Hombre  \\\n",
       "0                  LA MALLORQUINA                13     115198   58027   \n",
       "1  POLLERIAS RODRIGUEZ & MARTINEZ                 5     115198   58027   \n",
       "2                      SIN ROTULO                15     115198   58027   \n",
       "3              CARNICERIA M LOPEZ                12     115198   58027   \n",
       "4       CARNICERIA MARIANO ARAUJO                12     115198   58027   \n",
       "\n",
       "   Mujeres  Densidad (Habitantes / Ha.)  Edad promedio  Total Hogares  \\\n",
       "0    57171                   257.985172      44.026383          67296   \n",
       "1    57171                   257.985172      44.026383          67296   \n",
       "2    57171                   257.985172      44.026383          67296   \n",
       "3    57171                   257.985172      44.026383          67296   \n",
       "4    57171                   257.985172      44.026383          67296   \n",
       "\n",
       "   Españoles  Extranjeros  Mixtos  España fuera barrio dia laboral  \\\n",
       "0      50164         8979    8153                          1956512   \n",
       "1      50164         8979    8153                          1956512   \n",
       "2      50164         8979    8153                          1956512   \n",
       "3      50164         8979    8153                          1956512   \n",
       "4      50164         8979    8153                          1956512   \n",
       "\n",
       "   Extranjero fuera barrio dia laboral  Total fuera barrio dia laboral  \\\n",
       "0                               348482                         2304994   \n",
       "1                               348482                         2304994   \n",
       "2                               348482                         2304994   \n",
       "3                               348482                         2304994   \n",
       "4                               348482                         2304994   \n",
       "\n",
       "   España fuera barrio fin semana  Extranjero fuera barrio fin semana  \\\n",
       "0                          960027                              169516   \n",
       "1                          960027                              169516   \n",
       "2                          960027                              169516   \n",
       "3                          960027                              169516   \n",
       "4                          960027                              169516   \n",
       "\n",
       "   Total fuera barrio fin semana  Total barrio dia laboral  \\\n",
       "0                        1129543                    623007   \n",
       "1                        1129543                    623007   \n",
       "2                        1129543                    623007   \n",
       "3                        1129543                    623007   \n",
       "4                        1129543                    623007   \n",
       "\n",
       "   Total barrio fin semana  Total trabajo dia laboral  \\\n",
       "0                   241830                     363775   \n",
       "1                   241830                     363775   \n",
       "2                   241830                     363775   \n",
       "3                   241830                     363775   \n",
       "4                   241830                     363775   \n",
       "\n",
       "   Total trabajo fin semana  total_TF_week  ratio_t_total  ratio_fb_total  \\\n",
       "0                    110026        4773175       0.099263         0.71955   \n",
       "1                    110026        4773175       0.099263         0.71955   \n",
       "2                    110026        4773175       0.099263         0.71955   \n",
       "3                    110026        4773175       0.099263         0.71955   \n",
       "4                    110026        4773175       0.099263         0.71955   \n",
       "\n",
       "   ratio_b_total  dist_type  \n",
       "0       0.181187          1  \n",
       "1       0.181187          1  \n",
       "2       0.181187          1  \n",
       "3       0.181187          1  \n",
       "4       0.181187          1  "
      ]
     },
     "execution_count": 269,
     "metadata": {},
     "output_type": "execute_result"
    }
   ],
   "source": [
    "df_locals_v8 = df_locals_v8.merge(censo, how='left', on='id_distrito_local').sort_values('id_local').reset_index(drop=True)\n",
    "df_locals_v8.head()"
   ]
  },
  {
   "cell_type": "code",
   "execution_count": 270,
   "metadata": {},
   "outputs": [],
   "source": [
    "df_locals_v8.to_csv('Data/censolocales/locals.csv',index=None, header=True)"
   ]
  },
  {
   "cell_type": "markdown",
   "metadata": {},
   "source": [
    "It is not balanced. We have commerces typologies with more than 5000k entries and other with just 500 We will just have to go with it"
   ]
  },
  {
   "cell_type": "markdown",
   "metadata": {},
   "source": [
    "### Data visualization"
   ]
  },
  {
   "cell_type": "code",
   "execution_count": 421,
   "metadata": {
    "scrolled": true
   },
   "outputs": [
    {
     "name": "stdout",
     "output_type": "stream",
     "text": [
      "total 3156\r\n",
      "-rw-rw-r-- 1 dsc dsc   13423 nov 10 21:39 clean_functions.py\r\n",
      "drwxrwxr-x 5 dsc dsc    4096 nov 16 18:03 \u001b[0m\u001b[01;34mData\u001b[0m/\r\n",
      "-rw-rw-r-- 1 dsc dsc 1249958 nov 16 23:45 locals.csv\r\n",
      "-rw-rw-r-- 1 dsc dsc   14171 nov  3 18:29 norm_id_all.py\r\n",
      "-rw-rw-r-- 1 dsc dsc  135539 nov 16 19:06 Otros_files_censopob.ipynb\r\n",
      "drwxrwxr-x 2 dsc dsc    4096 nov 11 19:41 \u001b[01;34m__pycache__\u001b[0m/\r\n",
      "drwxrwxr-x 2 dsc dsc    4096 nov  4 06:37 \u001b[01;34mscripts\u001b[0m/\r\n",
      "-rw-rw-r-- 1 dsc dsc  404313 nov 17 09:49 TBVv1.ipynb\r\n",
      "-rw-rw-r-- 1 dsc dsc  523478 nov 15 21:18 TBVv2.ipynb\r\n",
      "-rw-rw-r-- 1 dsc dsc  416748 nov 13 22:15 TBVv3.ipynb\r\n",
      "-rw-rw-r-- 1 dsc dsc  443552 nov 16 11:49 TBVv4.ipynb\r\n"
     ]
    }
   ],
   "source": [
    "ls -l"
   ]
  },
  {
   "cell_type": "code",
   "execution_count": 261,
   "metadata": {},
   "outputs": [],
   "source": [
    "df_locals = pd.read_csv('Data/censolocales/locals.csv')"
   ]
  },
  {
   "cell_type": "code",
   "execution_count": 424,
   "metadata": {},
   "outputs": [
    {
     "data": {
      "text/html": [
       "<div>\n",
       "<style scoped>\n",
       "    .dataframe tbody tr th:only-of-type {\n",
       "        vertical-align: middle;\n",
       "    }\n",
       "\n",
       "    .dataframe tbody tr th {\n",
       "        vertical-align: top;\n",
       "    }\n",
       "\n",
       "    .dataframe thead th {\n",
       "        text-align: right;\n",
       "    }\n",
       "</style>\n",
       "<table border=\"1\" class=\"dataframe\">\n",
       "  <thead>\n",
       "    <tr style=\"text-align: right;\">\n",
       "      <th></th>\n",
       "      <th>desc_epigrafe</th>\n",
       "      <th>id_local</th>\n",
       "      <th>id_distrito_local</th>\n",
       "      <th>desc_distrito_local</th>\n",
       "      <th>total_local_act</th>\n",
       "      <th>total_locales</th>\n",
       "      <th>target</th>\n",
       "      <th>total_ab_dist_17_19</th>\n",
       "      <th>part_ab_dist_17_19</th>\n",
       "      <th>desc_tipo_agrup</th>\n",
       "      <th>lat</th>\n",
       "      <th>lon</th>\n",
       "      <th>points_in_radius</th>\n",
       "      <th>Población</th>\n",
       "      <th>Hombre</th>\n",
       "      <th>Mujeres</th>\n",
       "      <th>Densidad (Habitantes / Ha.)</th>\n",
       "      <th>Edad promedio</th>\n",
       "      <th>Total Hogares</th>\n",
       "      <th>Españoles</th>\n",
       "      <th>Extranjeros</th>\n",
       "      <th>Mixtos</th>\n",
       "      <th>España fuera barrio dia laboral</th>\n",
       "      <th>Extranjero fuera barrio dia laboral</th>\n",
       "      <th>Total fuera barrio dia laboral</th>\n",
       "      <th>España fuera barrio fin semana</th>\n",
       "      <th>Extranjero fuera barrio fin semana</th>\n",
       "      <th>Total fuera barrio fin semana</th>\n",
       "      <th>Total barrio dia laboral</th>\n",
       "      <th>Total barrio fin semana</th>\n",
       "      <th>Total trabajo dia laboral</th>\n",
       "      <th>Total trabajo fin semana</th>\n",
       "      <th>total_TF_week</th>\n",
       "      <th>ratio_t_total</th>\n",
       "      <th>ratio_fb_total</th>\n",
       "      <th>ratio_b_total</th>\n",
       "      <th>dist_type</th>\n",
       "    </tr>\n",
       "  </thead>\n",
       "  <tbody>\n",
       "    <tr>\n",
       "      <th>0</th>\n",
       "      <td>COMERCIO AL POR MENOR DE AVES, HUEVOS Y CAZA S...</td>\n",
       "      <td>10000162</td>\n",
       "      <td>1</td>\n",
       "      <td>CENTRO</td>\n",
       "      <td>857</td>\n",
       "      <td>12178</td>\n",
       "      <td>0</td>\n",
       "      <td>2847</td>\n",
       "      <td>252</td>\n",
       "      <td>Mercado Municipal</td>\n",
       "      <td>40.426848</td>\n",
       "      <td>-3.699164</td>\n",
       "      <td>5</td>\n",
       "      <td>115198</td>\n",
       "      <td>58027</td>\n",
       "      <td>57171</td>\n",
       "      <td>257.985172</td>\n",
       "      <td>44.026383</td>\n",
       "      <td>67296</td>\n",
       "      <td>50164</td>\n",
       "      <td>8979</td>\n",
       "      <td>8153</td>\n",
       "      <td>1956512</td>\n",
       "      <td>348482</td>\n",
       "      <td>2304994</td>\n",
       "      <td>960027</td>\n",
       "      <td>169516</td>\n",
       "      <td>1129543</td>\n",
       "      <td>623007</td>\n",
       "      <td>241830</td>\n",
       "      <td>363775</td>\n",
       "      <td>110026</td>\n",
       "      <td>4773175</td>\n",
       "      <td>0.099263</td>\n",
       "      <td>0.71955</td>\n",
       "      <td>0.181187</td>\n",
       "      <td>Commercial</td>\n",
       "    </tr>\n",
       "    <tr>\n",
       "      <th>1</th>\n",
       "      <td>COMERCIO AL POR MENOR DE CARNICERIA</td>\n",
       "      <td>10000224</td>\n",
       "      <td>1</td>\n",
       "      <td>CENTRO</td>\n",
       "      <td>857</td>\n",
       "      <td>12178</td>\n",
       "      <td>0</td>\n",
       "      <td>2847</td>\n",
       "      <td>252</td>\n",
       "      <td>Mercado Municipal</td>\n",
       "      <td>40.407694</td>\n",
       "      <td>-3.703645</td>\n",
       "      <td>9</td>\n",
       "      <td>115198</td>\n",
       "      <td>58027</td>\n",
       "      <td>57171</td>\n",
       "      <td>257.985172</td>\n",
       "      <td>44.026383</td>\n",
       "      <td>67296</td>\n",
       "      <td>50164</td>\n",
       "      <td>8979</td>\n",
       "      <td>8153</td>\n",
       "      <td>1956512</td>\n",
       "      <td>348482</td>\n",
       "      <td>2304994</td>\n",
       "      <td>960027</td>\n",
       "      <td>169516</td>\n",
       "      <td>1129543</td>\n",
       "      <td>623007</td>\n",
       "      <td>241830</td>\n",
       "      <td>363775</td>\n",
       "      <td>110026</td>\n",
       "      <td>4773175</td>\n",
       "      <td>0.099263</td>\n",
       "      <td>0.71955</td>\n",
       "      <td>0.181187</td>\n",
       "      <td>Commercial</td>\n",
       "    </tr>\n",
       "    <tr>\n",
       "      <th>2</th>\n",
       "      <td>COMERCIO AL POR MENOR DE CARNICERIA</td>\n",
       "      <td>10000226</td>\n",
       "      <td>1</td>\n",
       "      <td>CENTRO</td>\n",
       "      <td>857</td>\n",
       "      <td>12178</td>\n",
       "      <td>0</td>\n",
       "      <td>2847</td>\n",
       "      <td>252</td>\n",
       "      <td>Mercado Municipal</td>\n",
       "      <td>40.411444</td>\n",
       "      <td>-3.698840</td>\n",
       "      <td>7</td>\n",
       "      <td>115198</td>\n",
       "      <td>58027</td>\n",
       "      <td>57171</td>\n",
       "      <td>257.985172</td>\n",
       "      <td>44.026383</td>\n",
       "      <td>67296</td>\n",
       "      <td>50164</td>\n",
       "      <td>8979</td>\n",
       "      <td>8153</td>\n",
       "      <td>1956512</td>\n",
       "      <td>348482</td>\n",
       "      <td>2304994</td>\n",
       "      <td>960027</td>\n",
       "      <td>169516</td>\n",
       "      <td>1129543</td>\n",
       "      <td>623007</td>\n",
       "      <td>241830</td>\n",
       "      <td>363775</td>\n",
       "      <td>110026</td>\n",
       "      <td>4773175</td>\n",
       "      <td>0.099263</td>\n",
       "      <td>0.71955</td>\n",
       "      <td>0.181187</td>\n",
       "      <td>Commercial</td>\n",
       "    </tr>\n",
       "    <tr>\n",
       "      <th>3</th>\n",
       "      <td>COMERCIO AL POR MENOR DE CARNICERIA</td>\n",
       "      <td>10000238</td>\n",
       "      <td>1</td>\n",
       "      <td>CENTRO</td>\n",
       "      <td>857</td>\n",
       "      <td>12178</td>\n",
       "      <td>0</td>\n",
       "      <td>2847</td>\n",
       "      <td>252</td>\n",
       "      <td>Mercado Municipal</td>\n",
       "      <td>40.411444</td>\n",
       "      <td>-3.698840</td>\n",
       "      <td>7</td>\n",
       "      <td>115198</td>\n",
       "      <td>58027</td>\n",
       "      <td>57171</td>\n",
       "      <td>257.985172</td>\n",
       "      <td>44.026383</td>\n",
       "      <td>67296</td>\n",
       "      <td>50164</td>\n",
       "      <td>8979</td>\n",
       "      <td>8153</td>\n",
       "      <td>1956512</td>\n",
       "      <td>348482</td>\n",
       "      <td>2304994</td>\n",
       "      <td>960027</td>\n",
       "      <td>169516</td>\n",
       "      <td>1129543</td>\n",
       "      <td>623007</td>\n",
       "      <td>241830</td>\n",
       "      <td>363775</td>\n",
       "      <td>110026</td>\n",
       "      <td>4773175</td>\n",
       "      <td>0.099263</td>\n",
       "      <td>0.71955</td>\n",
       "      <td>0.181187</td>\n",
       "      <td>Commercial</td>\n",
       "    </tr>\n",
       "    <tr>\n",
       "      <th>4</th>\n",
       "      <td>ESTABLECIMIENTOS DE VENTA DE PLATOS PREPARADOS...</td>\n",
       "      <td>10000258</td>\n",
       "      <td>1</td>\n",
       "      <td>CENTRO</td>\n",
       "      <td>857</td>\n",
       "      <td>12178</td>\n",
       "      <td>0</td>\n",
       "      <td>2847</td>\n",
       "      <td>252</td>\n",
       "      <td>SIN AGRUPACION</td>\n",
       "      <td>40.416970</td>\n",
       "      <td>-3.705722</td>\n",
       "      <td>34</td>\n",
       "      <td>115198</td>\n",
       "      <td>58027</td>\n",
       "      <td>57171</td>\n",
       "      <td>257.985172</td>\n",
       "      <td>44.026383</td>\n",
       "      <td>67296</td>\n",
       "      <td>50164</td>\n",
       "      <td>8979</td>\n",
       "      <td>8153</td>\n",
       "      <td>1956512</td>\n",
       "      <td>348482</td>\n",
       "      <td>2304994</td>\n",
       "      <td>960027</td>\n",
       "      <td>169516</td>\n",
       "      <td>1129543</td>\n",
       "      <td>623007</td>\n",
       "      <td>241830</td>\n",
       "      <td>363775</td>\n",
       "      <td>110026</td>\n",
       "      <td>4773175</td>\n",
       "      <td>0.099263</td>\n",
       "      <td>0.71955</td>\n",
       "      <td>0.181187</td>\n",
       "      <td>Commercial</td>\n",
       "    </tr>\n",
       "  </tbody>\n",
       "</table>\n",
       "</div>"
      ],
      "text/plain": [
       "                                       desc_epigrafe  id_local  \\\n",
       "0  COMERCIO AL POR MENOR DE AVES, HUEVOS Y CAZA S...  10000162   \n",
       "1                COMERCIO AL POR MENOR DE CARNICERIA  10000224   \n",
       "2                COMERCIO AL POR MENOR DE CARNICERIA  10000226   \n",
       "3                COMERCIO AL POR MENOR DE CARNICERIA  10000238   \n",
       "4  ESTABLECIMIENTOS DE VENTA DE PLATOS PREPARADOS...  10000258   \n",
       "\n",
       "   id_distrito_local   desc_distrito_local  total_local_act  total_locales  \\\n",
       "0                  1  CENTRO                            857          12178   \n",
       "1                  1  CENTRO                            857          12178   \n",
       "2                  1  CENTRO                            857          12178   \n",
       "3                  1  CENTRO                            857          12178   \n",
       "4                  1  CENTRO                            857          12178   \n",
       "\n",
       "   target  total_ab_dist_17_19  part_ab_dist_17_19    desc_tipo_agrup  \\\n",
       "0       0                 2847                 252  Mercado Municipal   \n",
       "1       0                 2847                 252  Mercado Municipal   \n",
       "2       0                 2847                 252  Mercado Municipal   \n",
       "3       0                 2847                 252  Mercado Municipal   \n",
       "4       0                 2847                 252     SIN AGRUPACION   \n",
       "\n",
       "         lat       lon  points_in_radius  Población  Hombre  Mujeres  \\\n",
       "0  40.426848 -3.699164                 5     115198   58027    57171   \n",
       "1  40.407694 -3.703645                 9     115198   58027    57171   \n",
       "2  40.411444 -3.698840                 7     115198   58027    57171   \n",
       "3  40.411444 -3.698840                 7     115198   58027    57171   \n",
       "4  40.416970 -3.705722                34     115198   58027    57171   \n",
       "\n",
       "   Densidad (Habitantes / Ha.)  Edad promedio  Total Hogares  Españoles  \\\n",
       "0                   257.985172      44.026383          67296      50164   \n",
       "1                   257.985172      44.026383          67296      50164   \n",
       "2                   257.985172      44.026383          67296      50164   \n",
       "3                   257.985172      44.026383          67296      50164   \n",
       "4                   257.985172      44.026383          67296      50164   \n",
       "\n",
       "   Extranjeros  Mixtos  España fuera barrio dia laboral  \\\n",
       "0         8979    8153                          1956512   \n",
       "1         8979    8153                          1956512   \n",
       "2         8979    8153                          1956512   \n",
       "3         8979    8153                          1956512   \n",
       "4         8979    8153                          1956512   \n",
       "\n",
       "   Extranjero fuera barrio dia laboral  Total fuera barrio dia laboral  \\\n",
       "0                               348482                         2304994   \n",
       "1                               348482                         2304994   \n",
       "2                               348482                         2304994   \n",
       "3                               348482                         2304994   \n",
       "4                               348482                         2304994   \n",
       "\n",
       "   España fuera barrio fin semana  Extranjero fuera barrio fin semana  \\\n",
       "0                          960027                              169516   \n",
       "1                          960027                              169516   \n",
       "2                          960027                              169516   \n",
       "3                          960027                              169516   \n",
       "4                          960027                              169516   \n",
       "\n",
       "   Total fuera barrio fin semana  Total barrio dia laboral  \\\n",
       "0                        1129543                    623007   \n",
       "1                        1129543                    623007   \n",
       "2                        1129543                    623007   \n",
       "3                        1129543                    623007   \n",
       "4                        1129543                    623007   \n",
       "\n",
       "   Total barrio fin semana  Total trabajo dia laboral  \\\n",
       "0                   241830                     363775   \n",
       "1                   241830                     363775   \n",
       "2                   241830                     363775   \n",
       "3                   241830                     363775   \n",
       "4                   241830                     363775   \n",
       "\n",
       "   Total trabajo fin semana  total_TF_week  ratio_t_total  ratio_fb_total  \\\n",
       "0                    110026        4773175       0.099263         0.71955   \n",
       "1                    110026        4773175       0.099263         0.71955   \n",
       "2                    110026        4773175       0.099263         0.71955   \n",
       "3                    110026        4773175       0.099263         0.71955   \n",
       "4                    110026        4773175       0.099263         0.71955   \n",
       "\n",
       "   ratio_b_total   dist_type  \n",
       "0       0.181187  Commercial  \n",
       "1       0.181187  Commercial  \n",
       "2       0.181187  Commercial  \n",
       "3       0.181187  Commercial  \n",
       "4       0.181187  Commercial  "
      ]
     },
     "execution_count": 424,
     "metadata": {},
     "output_type": "execute_result"
    }
   ],
   "source": [
    "df_locals.head()"
   ]
  },
  {
   "cell_type": "markdown",
   "metadata": {},
   "source": [
    "It is not balanced. We have commerces typologies with more than 5000k entries and other with just 500 We will just have to go with it"
   ]
  },
  {
   "cell_type": "code",
   "execution_count": 262,
   "metadata": {
    "scrolled": true
   },
   "outputs": [
    {
     "data": {
      "image/png": "[encoded data removed]",
      "text/plain": [
       "<Figure size 432x288 with 1 Axes>"
      ]
     },
     "metadata": {
      "needs_background": "light"
     },
     "output_type": "display_data"
    }
   ],
   "source": [
    "#Distribución muy desbalanceada\n",
    "plot = df_locals['target'].value_counts().plot(kind='bar',\n",
    "                                            title='Target distribution')"
   ]
  },
  {
   "cell_type": "code",
   "execution_count": 263,
   "metadata": {
    "scrolled": false
   },
   "outputs": [
    {
     "data": {
      "text/plain": [
       "0.0650838648712497"
      ]
     },
     "execution_count": 263,
     "metadata": {},
     "output_type": "execute_result"
    }
   ],
   "source": [
    "len(df_locals[df_locals['target']==1])/len(df_locals)"
   ]
  },
  {
   "cell_type": "markdown",
   "metadata": {},
   "source": [
    "## Base model\n",
    "Onehot enconding   \n",
    "Logistic regression   \n",
    "Metrics: AUC, Precision, Recall   "
   ]
  },
  {
   "cell_type": "code",
   "execution_count": 14,
   "metadata": {},
   "outputs": [],
   "source": [
    "# Load the library\n",
    "from sklearn.linear_model import LogisticRegression\n",
    "from sklearn.model_selection import cross_val_score\n",
    "from sklearn.model_selection import GridSearchCV\n",
    "from sklearn.model_selection import train_test_split\n",
    "from sklearn.metrics import classification_report\n",
    "from sklearn.metrics import confusion_matrix, roc_curve, auc\n",
    "from sklearn.preprocessing import StandardScaler, OneHotEncoder\n",
    "from sklearn.impute import SimpleImputer\n",
    "from sklearn.compose import ColumnTransformer\n",
    "from sklearn.pipeline import Pipeline"
   ]
  },
  {
   "cell_type": "code",
   "execution_count": 15,
   "metadata": {},
   "outputs": [
    {
     "data": {
      "text/plain": [
       "Index(['id_distrito_local', 'desc_distrito_local', 'total_local_act',\n",
       "       'total_locales', 'target', 'num_loc_d', 'desc_tipo_agrup'],\n",
       "      dtype='object')"
      ]
     },
     "execution_count": 15,
     "metadata": {},
     "output_type": "execute_result"
    }
   ],
   "source": [
    "df_locals.columns"
   ]
  },
  {
   "cell_type": "code",
   "execution_count": 16,
   "metadata": {},
   "outputs": [
    {
     "name": "stdout",
     "output_type": "stream",
     "text": [
      "<class 'pandas.core.frame.DataFrame'>\n",
      "RangeIndex: 692 entries, 0 to 691\n",
      "Data columns (total 7 columns):\n",
      "id_distrito_local      692 non-null int64\n",
      "desc_distrito_local    692 non-null object\n",
      "total_local_act        692 non-null int64\n",
      "total_locales          692 non-null int64\n",
      "target                 692 non-null int64\n",
      "num_loc_d              692 non-null int64\n",
      "desc_tipo_agrup        692 non-null object\n",
      "dtypes: int64(5), object(2)\n",
      "memory usage: 37.9+ KB\n"
     ]
    }
   ],
   "source": [
    "#indicar lo que pierdo con respecto al total cuando quito coordenadas x = '0'\n",
    "df_locals.info()"
   ]
  },
  {
   "cell_type": "code",
   "execution_count": 17,
   "metadata": {},
   "outputs": [],
   "source": [
    "feature_names=['desc_distrito_local','total_local_act', 'total_locales', \n",
    "                        'num_loc_d','desc_tipo_agrup']\n",
    "X = df_locals[feature_names]\n",
    "y = df_locals['target']"
   ]
  },
  {
   "cell_type": "markdown",
   "metadata": {},
   "source": [
    "Train and test"
   ]
  },
  {
   "cell_type": "code",
   "execution_count": 124,
   "metadata": {},
   "outputs": [
    {
     "data": {
      "text/html": [
       "<div>\n",
       "<style scoped>\n",
       "    .dataframe tbody tr th:only-of-type {\n",
       "        vertical-align: middle;\n",
       "    }\n",
       "\n",
       "    .dataframe tbody tr th {\n",
       "        vertical-align: top;\n",
       "    }\n",
       "\n",
       "    .dataframe thead th {\n",
       "        text-align: right;\n",
       "    }\n",
       "</style>\n",
       "<table border=\"1\" class=\"dataframe\">\n",
       "  <thead>\n",
       "    <tr style=\"text-align: right;\">\n",
       "      <th></th>\n",
       "      <th>desc_distrito_local</th>\n",
       "      <th>total_local_act</th>\n",
       "      <th>total_locales</th>\n",
       "      <th>num_loc_d</th>\n",
       "      <th>desc_tipo_agrup</th>\n",
       "    </tr>\n",
       "  </thead>\n",
       "  <tbody>\n",
       "    <tr>\n",
       "      <th>265</th>\n",
       "      <td>CENTRO</td>\n",
       "      <td>61</td>\n",
       "      <td>12178</td>\n",
       "      <td>13</td>\n",
       "      <td>SIN AGRUPACION</td>\n",
       "    </tr>\n",
       "    <tr>\n",
       "      <th>355</th>\n",
       "      <td>CARABANCHEL</td>\n",
       "      <td>81</td>\n",
       "      <td>8645</td>\n",
       "      <td>19</td>\n",
       "      <td>Centro Comercial</td>\n",
       "    </tr>\n",
       "    <tr>\n",
       "      <th>499</th>\n",
       "      <td>LATINA</td>\n",
       "      <td>40</td>\n",
       "      <td>6847</td>\n",
       "      <td>8</td>\n",
       "      <td>SIN AGRUPACION</td>\n",
       "    </tr>\n",
       "    <tr>\n",
       "      <th>289</th>\n",
       "      <td>ARGANZUELA</td>\n",
       "      <td>39</td>\n",
       "      <td>5522</td>\n",
       "      <td>25</td>\n",
       "      <td>SIN AGRUPACION</td>\n",
       "    </tr>\n",
       "    <tr>\n",
       "      <th>417</th>\n",
       "      <td>ARGANZUELA</td>\n",
       "      <td>39</td>\n",
       "      <td>5522</td>\n",
       "      <td>21</td>\n",
       "      <td>SIN AGRUPACION</td>\n",
       "    </tr>\n",
       "  </tbody>\n",
       "</table>\n",
       "</div>"
      ],
      "text/plain": [
       "      desc_distrito_local  total_local_act  total_locales  num_loc_d  \\\n",
       "265  CENTRO                             61          12178         13   \n",
       "355  CARABANCHEL                        81           8645         19   \n",
       "499  LATINA                             40           6847          8   \n",
       "289  ARGANZUELA                         39           5522         25   \n",
       "417  ARGANZUELA                         39           5522         21   \n",
       "\n",
       "      desc_tipo_agrup  \n",
       "265    SIN AGRUPACION  \n",
       "355  Centro Comercial  \n",
       "499    SIN AGRUPACION  \n",
       "289    SIN AGRUPACION  \n",
       "417    SIN AGRUPACION  "
      ]
     },
     "execution_count": 124,
     "metadata": {},
     "output_type": "execute_result"
    }
   ],
   "source": [
    "X_train.head()"
   ]
  },
  {
   "cell_type": "code",
   "execution_count": 18,
   "metadata": {},
   "outputs": [],
   "source": [
    "X_train, X_test, y_train, y_test = train_test_split(X,y,test_size=0.3,random_state=42)"
   ]
  },
  {
   "cell_type": "markdown",
   "metadata": {},
   "source": [
    "Onehot encoding and scaling"
   ]
  },
  {
   "cell_type": "code",
   "execution_count": 19,
   "metadata": {},
   "outputs": [],
   "source": [
    "# We create the preprocessing pipelines for both numeric and categorical data.\n",
    "numeric_features = ['total_local_act', 'total_locales','num_loc_d']\n",
    "numeric_transformer = Pipeline(steps=[\n",
    "    ('imputer', SimpleImputer(strategy='median')),\n",
    "    ('scaler', StandardScaler())])\n",
    "\n",
    "categorical_features = ['desc_distrito_local', 'desc_tipo_agrup']\n",
    "categorical_transformer = Pipeline(steps=[\n",
    "    ('imputer', SimpleImputer(strategy='constant', fill_value='missing')),\n",
    "    ('onehot', OneHotEncoder(handle_unknown='ignore',sparse=False))])\n",
    "\n",
    "preprocessor = ColumnTransformer(\n",
    "    transformers=[\n",
    "        ('num', numeric_transformer, numeric_features),\n",
    "        ('cat', categorical_transformer, categorical_features)])"
   ]
  },
  {
   "cell_type": "markdown",
   "metadata": {},
   "source": [
    "X_test_p = preprocessor.transform(X_test)"
   ]
  },
  {
   "cell_type": "markdown",
   "metadata": {},
   "source": [
    "Classifier"
   ]
  },
  {
   "cell_type": "code",
   "execution_count": 21,
   "metadata": {},
   "outputs": [],
   "source": [
    "# Append classifier to preprocessing pipeline.\n",
    "# Now we have a full prediction pipeline.\n",
    "logreg = Pipeline(steps=[('preprocessor', preprocessor),\n",
    "                      ('classifier', LogisticRegression(class_weight={1:9,0:1}))])"
   ]
  },
  {
   "cell_type": "markdown",
   "metadata": {},
   "source": [
    "Fit & metrics"
   ]
  },
  {
   "cell_type": "code",
   "execution_count": 22,
   "metadata": {
    "scrolled": true
   },
   "outputs": [
    {
     "name": "stderr",
     "output_type": "stream",
     "text": [
      "/home/dsc/anaconda3/lib/python3.7/site-packages/sklearn/linear_model/logistic.py:433: FutureWarning: Default solver will be changed to 'lbfgs' in 0.22. Specify a solver to silence this warning.\n",
      "  FutureWarning)\n"
     ]
    },
    {
     "data": {
      "text/plain": [
       "Pipeline(memory=None,\n",
       "     steps=[('preprocessor', ColumnTransformer(n_jobs=None, remainder='drop', sparse_threshold=0.3,\n",
       "         transformer_weights=None,\n",
       "         transformers=[('num', Pipeline(memory=None,\n",
       "     steps=[('imputer', SimpleImputer(copy=True, fill_value=None, missing_values=nan,\n",
       "       strategy='median', verbo...penalty='l2', random_state=None,\n",
       "          solver='warn', tol=0.0001, verbose=0, warm_start=False))])"
      ]
     },
     "execution_count": 22,
     "metadata": {},
     "output_type": "execute_result"
    }
   ],
   "source": [
    "logreg.fit(X_train,y_train)"
   ]
  },
  {
   "cell_type": "code",
   "execution_count": 23,
   "metadata": {
    "scrolled": true
   },
   "outputs": [
    {
     "name": "stdout",
     "output_type": "stream",
     "text": [
      "[[119  68]\n",
      " [  8  13]]\n",
      "              precision    recall  f1-score   support\n",
      "\n",
      "           0       0.94      0.64      0.76       187\n",
      "           1       0.16      0.62      0.25        21\n",
      "\n",
      "   micro avg       0.63      0.63      0.63       208\n",
      "   macro avg       0.55      0.63      0.51       208\n",
      "weighted avg       0.86      0.63      0.71       208\n",
      "\n"
     ]
    }
   ],
   "source": [
    "pred = logreg.predict(X_test)\n",
    "print(confusion_matrix(y_test,pred))\n",
    "print(classification_report(y_test,pred))"
   ]
  },
  {
   "cell_type": "code",
   "execution_count": 24,
   "metadata": {},
   "outputs": [],
   "source": [
    "pred = logreg.predict_proba(X_test)\n",
    "#pred"
   ]
  },
  {
   "cell_type": "markdown",
   "metadata": {},
   "source": [
    "# Predecir lo locales que con seguridad se cerraran X_test predic_proba > 0.9"
   ]
  },
  {
   "cell_type": "code",
   "execution_count": 134,
   "metadata": {},
   "outputs": [
    {
     "data": {
      "text/html": [
       "<div>\n",
       "<style scoped>\n",
       "    .dataframe tbody tr th:only-of-type {\n",
       "        vertical-align: middle;\n",
       "    }\n",
       "\n",
       "    .dataframe tbody tr th {\n",
       "        vertical-align: top;\n",
       "    }\n",
       "\n",
       "    .dataframe thead th {\n",
       "        text-align: right;\n",
       "    }\n",
       "</style>\n",
       "<table border=\"1\" class=\"dataframe\">\n",
       "  <thead>\n",
       "    <tr style=\"text-align: right;\">\n",
       "      <th></th>\n",
       "      <th>desc_distrito_local</th>\n",
       "      <th>total_local_act</th>\n",
       "      <th>total_locales</th>\n",
       "      <th>num_loc_d</th>\n",
       "      <th>desc_tipo_agrup</th>\n",
       "    </tr>\n",
       "  </thead>\n",
       "  <tbody>\n",
       "    <tr>\n",
       "      <th>420</th>\n",
       "      <td>ARGANZUELA</td>\n",
       "      <td>39</td>\n",
       "      <td>5522</td>\n",
       "      <td>17</td>\n",
       "      <td>Mercado Municipal</td>\n",
       "    </tr>\n",
       "    <tr>\n",
       "      <th>294</th>\n",
       "      <td>TETUAN</td>\n",
       "      <td>55</td>\n",
       "      <td>7351</td>\n",
       "      <td>18</td>\n",
       "      <td>Mercado Municipal</td>\n",
       "    </tr>\n",
       "  </tbody>\n",
       "</table>\n",
       "</div>"
      ],
      "text/plain": [
       "      desc_distrito_local  total_local_act  total_locales  num_loc_d  \\\n",
       "420  ARGANZUELA                         39           5522         17   \n",
       "294  TETUAN                             55           7351         18   \n",
       "\n",
       "       desc_tipo_agrup  \n",
       "420  Mercado Municipal  \n",
       "294  Mercado Municipal  "
      ]
     },
     "execution_count": 134,
     "metadata": {},
     "output_type": "execute_result"
    }
   ],
   "source": [
    "X_test[pred[:,1]>.9]"
   ]
  },
  {
   "cell_type": "code",
   "execution_count": 25,
   "metadata": {},
   "outputs": [
    {
     "data": {
      "text/plain": [
       "Text(0, 0.5, 'true_positives')"
      ]
     },
     "execution_count": 25,
     "metadata": {},
     "output_type": "execute_result"
    },
    {
     "data": {
      "image/png": "[encoded data removed]",
      "text/plain": [
       "<Figure size 432x288 with 1 Axes>"
      ]
     },
     "metadata": {
      "needs_background": "light"
     },
     "output_type": "display_data"
    }
   ],
   "source": [
    "target_pos = 1 # Or 0 for the other class\n",
    "fp,tp,_ = roc_curve(y_test,pred[:,target_pos])\n",
    "plt.plot(fp,tp)\n",
    "plt.xlabel(\"false_positives\")\n",
    "plt.ylabel(\"true_positives\")"
   ]
  },
  {
   "cell_type": "code",
   "execution_count": 26,
   "metadata": {},
   "outputs": [
    {
     "data": {
      "text/plain": [
       "0.6387827858416094"
      ]
     },
     "execution_count": 26,
     "metadata": {},
     "output_type": "execute_result"
    }
   ],
   "source": [
    "auc_logreg = auc(fp,tp)\n",
    "auc_logreg"
   ]
  },
  {
   "cell_type": "code",
   "execution_count": 109,
   "metadata": {},
   "outputs": [
    {
     "data": {
      "text/plain": [
       "Index(['desc_distrito_local', 'total_local_act', 'total_locales', 'num_loc_d',\n",
       "       'desc_tipo_agrup'],\n",
       "      dtype='object')"
      ]
     },
     "execution_count": 109,
     "metadata": {},
     "output_type": "execute_result"
    }
   ],
   "source": [
    "X_train.columns"
   ]
  },
  {
   "cell_type": "code",
   "execution_count": 125,
   "metadata": {},
   "outputs": [
    {
     "data": {
      "text/plain": [
       "desc_distrito_local    CENTRO              \n",
       "total_local_act                          61\n",
       "total_locales                         12178\n",
       "num_loc_d                                13\n",
       "desc_tipo_agrup              SIN AGRUPACION\n",
       "Name: 265, dtype: object"
      ]
     },
     "execution_count": 125,
     "metadata": {},
     "output_type": "execute_result"
    }
   ],
   "source": [
    "X_train.iloc[0]"
   ]
  },
  {
   "cell_type": "code",
   "execution_count": 120,
   "metadata": {},
   "outputs": [
    {
     "data": {
      "text/plain": [
       "array([0.91340003, 2.25134411, 0.42485948, 0.        , 0.        ,\n",
       "       0.        , 1.        , 0.        , 0.        , 0.        ,\n",
       "       0.        , 0.        , 0.        , 0.        , 0.        ,\n",
       "       0.        , 0.        , 0.        , 0.        , 0.        ,\n",
       "       0.        , 0.        , 0.        , 0.        , 0.        ,\n",
       "       0.        , 0.        , 0.        , 0.        , 1.        ])"
      ]
     },
     "execution_count": 120,
     "metadata": {},
     "output_type": "execute_result"
    }
   ],
   "source": [
    "logreg.steps[0][1].transform(X_train)[0]"
   ]
  },
  {
   "cell_type": "code",
   "execution_count": 116,
   "metadata": {},
   "outputs": [
    {
     "data": {
      "text/plain": [
       "array([[ 0.38784839, -0.06886098,  0.4987171 ,  1.76182786, -0.18558672,\n",
       "        -0.76090376,  0.36716139, -1.32112654, -0.10020123,  0.81543648,\n",
       "        -0.69120108,  0.65607667,  0.66565176,  0.28486242,  1.97024362,\n",
       "        -2.57755568,  0.5434851 ,  1.14919669, -1.61412069,  1.72661285,\n",
       "        -1.39103908,  0.93457378, -1.64907069, -1.20282674,  1.01103856,\n",
       "        -0.69175912, -0.69908969, -0.68025811,  0.75101022, -0.30944547]])"
      ]
     },
     "execution_count": 116,
     "metadata": {},
     "output_type": "execute_result"
    }
   ],
   "source": [
    "logreg.steps[1][1].coef_"
   ]
  },
  {
   "cell_type": "code",
   "execution_count": 122,
   "metadata": {},
   "outputs": [
    {
     "data": {
      "text/plain": [
       "[<matplotlib.lines.Line2D at 0x7f80a8a15400>]"
      ]
     },
     "execution_count": 122,
     "metadata": {},
     "output_type": "execute_result"
    },
    {
     "data": {
      "image/png": "[encoded data removed]",
      "text/plain": [
       "<Figure size 432x288 with 1 Axes>"
      ]
     },
     "metadata": {
      "needs_background": "light"
     },
     "output_type": "display_data"
    }
   ],
   "source": [
    "plt.plot(logreg.steps[1][1].coef_[0])"
   ]
  },
  {
   "cell_type": "code",
   "execution_count": null,
   "metadata": {},
   "outputs": [],
   "source": [
    "logreg.predict"
   ]
  },
  {
   "cell_type": "code",
   "execution_count": 27,
   "metadata": {},
   "outputs": [
    {
     "name": "stderr",
     "output_type": "stream",
     "text": [
      "/home/dsc/anaconda3/lib/python3.7/site-packages/sklearn/model_selection/_split.py:2053: FutureWarning: You should specify a value for 'cv' instead of relying on the default value. The default value will change from 3 to 5 in version 0.22.\n",
      "  warnings.warn(CV_WARNING, FutureWarning)\n",
      "/home/dsc/anaconda3/lib/python3.7/site-packages/sklearn/linear_model/logistic.py:433: FutureWarning: Default solver will be changed to 'lbfgs' in 0.22. Specify a solver to silence this warning.\n",
      "  FutureWarning)\n",
      "/home/dsc/anaconda3/lib/python3.7/site-packages/sklearn/linear_model/logistic.py:433: FutureWarning: Default solver will be changed to 'lbfgs' in 0.22. Specify a solver to silence this warning.\n",
      "  FutureWarning)\n",
      "/home/dsc/anaconda3/lib/python3.7/site-packages/sklearn/linear_model/logistic.py:433: FutureWarning: Default solver will be changed to 'lbfgs' in 0.22. Specify a solver to silence this warning.\n",
      "  FutureWarning)\n"
     ]
    }
   ],
   "source": [
    "result = pd.DataFrame(index=['recall','auc'])\n",
    "result['logreg'] = [cross_val_score(logreg,X,y,scoring='recall').mean(),auc_logreg]"
   ]
  },
  {
   "cell_type": "code",
   "execution_count": 28,
   "metadata": {},
   "outputs": [
    {
     "data": {
      "text/html": [
       "<div>\n",
       "<style scoped>\n",
       "    .dataframe tbody tr th:only-of-type {\n",
       "        vertical-align: middle;\n",
       "    }\n",
       "\n",
       "    .dataframe tbody tr th {\n",
       "        vertical-align: top;\n",
       "    }\n",
       "\n",
       "    .dataframe thead th {\n",
       "        text-align: right;\n",
       "    }\n",
       "</style>\n",
       "<table border=\"1\" class=\"dataframe\">\n",
       "  <thead>\n",
       "    <tr style=\"text-align: right;\">\n",
       "      <th></th>\n",
       "      <th>logreg</th>\n",
       "    </tr>\n",
       "  </thead>\n",
       "  <tbody>\n",
       "    <tr>\n",
       "      <th>recall</th>\n",
       "      <td>0.492754</td>\n",
       "    </tr>\n",
       "    <tr>\n",
       "      <th>auc</th>\n",
       "      <td>0.638783</td>\n",
       "    </tr>\n",
       "  </tbody>\n",
       "</table>\n",
       "</div>"
      ],
      "text/plain": [
       "          logreg\n",
       "recall  0.492754\n",
       "auc     0.638783"
      ]
     },
     "execution_count": 28,
     "metadata": {},
     "output_type": "execute_result"
    }
   ],
   "source": [
    "result"
   ]
  },
  {
   "cell_type": "markdown",
   "metadata": {},
   "source": [
    "## Modeling\n",
    "- KNN   \n",
    "- Decission tree   \n",
    "- Randon forest  \n",
    "- XGboost"
   ]
  },
  {
   "cell_type": "markdown",
   "metadata": {},
   "source": [
    "### Kneighbourg"
   ]
  },
  {
   "cell_type": "code",
   "execution_count": 29,
   "metadata": {},
   "outputs": [],
   "source": [
    "from sklearn.neighbors import KNeighborsClassifier"
   ]
  },
  {
   "cell_type": "code",
   "execution_count": 30,
   "metadata": {},
   "outputs": [],
   "source": [
    "pipe = Pipeline(steps=[('preprocessor', preprocessor),\n",
    "                      ('classifier', KNeighborsClassifier())])\n",
    "\n",
    "param_grid={'classifier__n_neighbors':np.arange(4,100)}\n",
    "\n",
    "clfk = GridSearchCV(pipe,param_grid,\n",
    "                   cv = 5,\n",
    "                   scoring = 'recall')"
   ]
  },
  {
   "cell_type": "code",
   "execution_count": 31,
   "metadata": {},
   "outputs": [
    {
     "data": {
      "text/plain": [
       "GridSearchCV(cv=5, error_score='raise-deprecating',\n",
       "       estimator=Pipeline(memory=None,\n",
       "     steps=[('preprocessor', ColumnTransformer(n_jobs=None, remainder='drop', sparse_threshold=0.3,\n",
       "         transformer_weights=None,\n",
       "         transformers=[('num', Pipeline(memory=None,\n",
       "     steps=[('imputer', SimpleImputer(copy=True, fill_value=None, missing_values=nan,\n",
       "       strategy='median', verbo...ki',\n",
       "           metric_params=None, n_jobs=None, n_neighbors=5, p=2,\n",
       "           weights='uniform'))]),\n",
       "       fit_params=None, iid='warn', n_jobs=None,\n",
       "       param_grid={'classifier__n_neighbors': array([ 4,  5, ..., 98, 99])},\n",
       "       pre_dispatch='2*n_jobs', refit=True, return_train_score='warn',\n",
       "       scoring='recall', verbose=0)"
      ]
     },
     "execution_count": 31,
     "metadata": {},
     "output_type": "execute_result"
    }
   ],
   "source": [
    "clfk.fit(X_train,y_train)"
   ]
  },
  {
   "cell_type": "code",
   "execution_count": 32,
   "metadata": {
    "scrolled": true
   },
   "outputs": [
    {
     "data": {
      "text/plain": [
       "0.10440771349862259"
      ]
     },
     "execution_count": 32,
     "metadata": {},
     "output_type": "execute_result"
    }
   ],
   "source": [
    "clfk.best_score_"
   ]
  },
  {
   "cell_type": "code",
   "execution_count": 33,
   "metadata": {},
   "outputs": [
    {
     "data": {
      "text/plain": [
       "{'classifier__n_neighbors': 5}"
      ]
     },
     "execution_count": 33,
     "metadata": {},
     "output_type": "execute_result"
    }
   ],
   "source": [
    "clfk.best_params_"
   ]
  },
  {
   "cell_type": "code",
   "execution_count": 34,
   "metadata": {
    "scrolled": true
   },
   "outputs": [
    {
     "name": "stdout",
     "output_type": "stream",
     "text": [
      "[[186   1]\n",
      " [ 20   1]]\n",
      "              precision    recall  f1-score   support\n",
      "\n",
      "           0       0.90      0.99      0.95       187\n",
      "           1       0.50      0.05      0.09        21\n",
      "\n",
      "   micro avg       0.90      0.90      0.90       208\n",
      "   macro avg       0.70      0.52      0.52       208\n",
      "weighted avg       0.86      0.90      0.86       208\n",
      "\n"
     ]
    }
   ],
   "source": [
    "preds2 = clfk.predict(X_test)\n",
    "print(confusion_matrix(y_test,preds2))\n",
    "print(classification_report(y_test,preds2))"
   ]
  },
  {
   "cell_type": "code",
   "execution_count": 35,
   "metadata": {},
   "outputs": [],
   "source": [
    "pred2 = clfk.predict_proba(X_test)\n",
    "#pred2"
   ]
  },
  {
   "cell_type": "code",
   "execution_count": 36,
   "metadata": {},
   "outputs": [
    {
     "data": {
      "text/plain": [
       "Text(0, 0.5, 'true_positives')"
      ]
     },
     "execution_count": 36,
     "metadata": {},
     "output_type": "execute_result"
    },
    {
     "data": {
      "image/png": "[encoded data removed]",
      "text/plain": [
       "<Figure size 432x288 with 1 Axes>"
      ]
     },
     "metadata": {
      "needs_background": "light"
     },
     "output_type": "display_data"
    }
   ],
   "source": [
    "target_pos = 1 # Or 0 for the other class\n",
    "fp,tp,_ = roc_curve(y_test,pred2[:,target_pos])\n",
    "plt.plot(fp,tp)\n",
    "plt.xlabel(\"false_positives\")\n",
    "plt.ylabel(\"true_positives\")"
   ]
  },
  {
   "cell_type": "code",
   "execution_count": 37,
   "metadata": {},
   "outputs": [
    {
     "data": {
      "text/plain": [
       "0.6334351922587217"
      ]
     },
     "execution_count": 37,
     "metadata": {},
     "output_type": "execute_result"
    }
   ],
   "source": [
    "auc_clfk = auc(fp,tp)\n",
    "auc_clfk"
   ]
  },
  {
   "cell_type": "code",
   "execution_count": 38,
   "metadata": {},
   "outputs": [],
   "source": [
    "result['clfknn'] = [clfk.best_score_,auc_clfk]"
   ]
  },
  {
   "cell_type": "code",
   "execution_count": 39,
   "metadata": {},
   "outputs": [
    {
     "data": {
      "text/html": [
       "<div>\n",
       "<style scoped>\n",
       "    .dataframe tbody tr th:only-of-type {\n",
       "        vertical-align: middle;\n",
       "    }\n",
       "\n",
       "    .dataframe tbody tr th {\n",
       "        vertical-align: top;\n",
       "    }\n",
       "\n",
       "    .dataframe thead th {\n",
       "        text-align: right;\n",
       "    }\n",
       "</style>\n",
       "<table border=\"1\" class=\"dataframe\">\n",
       "  <thead>\n",
       "    <tr style=\"text-align: right;\">\n",
       "      <th></th>\n",
       "      <th>logreg</th>\n",
       "      <th>clfknn</th>\n",
       "    </tr>\n",
       "  </thead>\n",
       "  <tbody>\n",
       "    <tr>\n",
       "      <th>recall</th>\n",
       "      <td>0.492754</td>\n",
       "      <td>0.104408</td>\n",
       "    </tr>\n",
       "    <tr>\n",
       "      <th>auc</th>\n",
       "      <td>0.638783</td>\n",
       "      <td>0.633435</td>\n",
       "    </tr>\n",
       "  </tbody>\n",
       "</table>\n",
       "</div>"
      ],
      "text/plain": [
       "          logreg    clfknn\n",
       "recall  0.492754  0.104408\n",
       "auc     0.638783  0.633435"
      ]
     },
     "execution_count": 39,
     "metadata": {},
     "output_type": "execute_result"
    }
   ],
   "source": [
    "result"
   ]
  },
  {
   "cell_type": "markdown",
   "metadata": {},
   "source": [
    "### Decission Tree"
   ]
  },
  {
   "cell_type": "code",
   "execution_count": 40,
   "metadata": {},
   "outputs": [],
   "source": [
    "from sklearn.tree import DecisionTreeClassifier"
   ]
  },
  {
   "cell_type": "code",
   "execution_count": 41,
   "metadata": {},
   "outputs": [],
   "source": [
    "pipe = Pipeline(steps=[('preprocessor', preprocessor),\n",
    "                      ('classifier', DecisionTreeClassifier(class_weight={1:9,0:1}))])\n",
    "\n",
    "param_grid={'classifier__max_depth':np.arange(3,10),\n",
    "            'classifier__min_samples_leaf': np.arange(10,30)\n",
    "                         }\n",
    "\n",
    "clf_dt = GridSearchCV(pipe,param_grid,\n",
    "                   cv = 5,\n",
    "                   scoring = 'recall')"
   ]
  },
  {
   "cell_type": "code",
   "execution_count": 42,
   "metadata": {
    "scrolled": true
   },
   "outputs": [
    {
     "name": "stderr",
     "output_type": "stream",
     "text": [
      "/home/dsc/anaconda3/lib/python3.7/site-packages/sklearn/model_selection/_search.py:841: DeprecationWarning: The default of the `iid` parameter will change from True to False in version 0.22 and will be removed in 0.24. This will change numeric results when test-set sizes are unequal.\n",
      "  DeprecationWarning)\n"
     ]
    },
    {
     "data": {
      "text/plain": [
       "GridSearchCV(cv=5, error_score='raise-deprecating',\n",
       "       estimator=Pipeline(memory=None,\n",
       "     steps=[('preprocessor', ColumnTransformer(n_jobs=None, remainder='drop', sparse_threshold=0.3,\n",
       "         transformer_weights=None,\n",
       "         transformers=[('num', Pipeline(memory=None,\n",
       "     steps=[('imputer', SimpleImputer(copy=True, fill_value=None, missing_values=nan,\n",
       "       strategy='median', verbo...      min_weight_fraction_leaf=0.0, presort=False, random_state=None,\n",
       "            splitter='best'))]),\n",
       "       fit_params=None, iid='warn', n_jobs=None,\n",
       "       param_grid={'classifier__max_depth': array([3, 4, 5, 6, 7, 8, 9]), 'classifier__min_samples_leaf': array([10, 11, 12, 13, 14, 15, 16, 17, 18, 19, 20, 21, 22, 23, 24, 25, 26,\n",
       "       27, 28, 29])},\n",
       "       pre_dispatch='2*n_jobs', refit=True, return_train_score='warn',\n",
       "       scoring='recall', verbose=0)"
      ]
     },
     "execution_count": 42,
     "metadata": {},
     "output_type": "execute_result"
    }
   ],
   "source": [
    "clf_dt.fit(X_train,y_train)"
   ]
  },
  {
   "cell_type": "code",
   "execution_count": 43,
   "metadata": {
    "scrolled": true
   },
   "outputs": [
    {
     "data": {
      "text/plain": [
       "0.6885674931129476"
      ]
     },
     "execution_count": 43,
     "metadata": {},
     "output_type": "execute_result"
    }
   ],
   "source": [
    "clf_dt.best_score_"
   ]
  },
  {
   "cell_type": "code",
   "execution_count": 44,
   "metadata": {},
   "outputs": [
    {
     "data": {
      "text/plain": [
       "{'classifier__max_depth': 3, 'classifier__min_samples_leaf': 27}"
      ]
     },
     "execution_count": 44,
     "metadata": {},
     "output_type": "execute_result"
    }
   ],
   "source": [
    "clf_dt.best_params_"
   ]
  },
  {
   "cell_type": "code",
   "execution_count": 45,
   "metadata": {
    "scrolled": true
   },
   "outputs": [
    {
     "name": "stdout",
     "output_type": "stream",
     "text": [
      "[[143  44]\n",
      " [ 11  10]]\n",
      "              precision    recall  f1-score   support\n",
      "\n",
      "           0       0.93      0.76      0.84       187\n",
      "           1       0.19      0.48      0.27        21\n",
      "\n",
      "   micro avg       0.74      0.74      0.74       208\n",
      "   macro avg       0.56      0.62      0.55       208\n",
      "weighted avg       0.85      0.74      0.78       208\n",
      "\n"
     ]
    }
   ],
   "source": [
    "preds4 = clf_dt.predict(X_test)\n",
    "print(confusion_matrix(y_test,preds4))\n",
    "print(classification_report(y_test,preds4))"
   ]
  },
  {
   "cell_type": "code",
   "execution_count": 46,
   "metadata": {},
   "outputs": [
    {
     "data": {
      "text/plain": [
       "array([[0.5890411 , 0.4109589 ],\n",
       "       [0.90425532, 0.09574468],\n",
       "       [0.5890411 , 0.4109589 ],\n",
       "       [0.5890411 , 0.4109589 ],\n",
       "       [0.5890411 , 0.4109589 ],\n",
       "       [0.5890411 , 0.4109589 ],\n",
       "       [0.1980198 , 0.8019802 ],\n",
       "       [0.90425532, 0.09574468],\n",
       "       [0.5890411 , 0.4109589 ],\n",
       "       [0.5890411 , 0.4109589 ],\n",
       "       [0.5890411 , 0.4109589 ],\n",
       "       [0.5890411 , 0.4109589 ],\n",
       "       [0.5890411 , 0.4109589 ],\n",
       "       [0.5890411 , 0.4109589 ],\n",
       "       [0.5890411 , 0.4109589 ],\n",
       "       [0.90425532, 0.09574468],\n",
       "       [0.26744186, 0.73255814],\n",
       "       [0.5890411 , 0.4109589 ],\n",
       "       [0.5890411 , 0.4109589 ],\n",
       "       [0.1980198 , 0.8019802 ],\n",
       "       [0.90425532, 0.09574468],\n",
       "       [0.25882353, 0.74117647],\n",
       "       [0.5890411 , 0.4109589 ],\n",
       "       [0.5890411 , 0.4109589 ],\n",
       "       [0.5890411 , 0.4109589 ],\n",
       "       [0.90425532, 0.09574468],\n",
       "       [0.5890411 , 0.4109589 ],\n",
       "       [0.4375    , 0.5625    ],\n",
       "       [0.5890411 , 0.4109589 ],\n",
       "       [0.5890411 , 0.4109589 ],\n",
       "       [0.90425532, 0.09574468],\n",
       "       [0.5890411 , 0.4109589 ],\n",
       "       [0.4375    , 0.5625    ],\n",
       "       [0.26744186, 0.73255814],\n",
       "       [0.1980198 , 0.8019802 ],\n",
       "       [0.1980198 , 0.8019802 ],\n",
       "       [0.5890411 , 0.4109589 ],\n",
       "       [0.5890411 , 0.4109589 ],\n",
       "       [0.26744186, 0.73255814],\n",
       "       [0.90425532, 0.09574468],\n",
       "       [0.5890411 , 0.4109589 ],\n",
       "       [0.5890411 , 0.4109589 ],\n",
       "       [0.5890411 , 0.4109589 ],\n",
       "       [0.90425532, 0.09574468],\n",
       "       [0.5890411 , 0.4109589 ],\n",
       "       [0.5890411 , 0.4109589 ],\n",
       "       [0.90425532, 0.09574468],\n",
       "       [0.4375    , 0.5625    ],\n",
       "       [0.5890411 , 0.4109589 ],\n",
       "       [0.5890411 , 0.4109589 ],\n",
       "       [0.90425532, 0.09574468],\n",
       "       [0.26744186, 0.73255814],\n",
       "       [0.5890411 , 0.4109589 ],\n",
       "       [0.5890411 , 0.4109589 ],\n",
       "       [0.5890411 , 0.4109589 ],\n",
       "       [0.5890411 , 0.4109589 ],\n",
       "       [0.90425532, 0.09574468],\n",
       "       [0.90425532, 0.09574468],\n",
       "       [0.26744186, 0.73255814],\n",
       "       [0.5890411 , 0.4109589 ],\n",
       "       [0.5890411 , 0.4109589 ],\n",
       "       [0.5890411 , 0.4109589 ],\n",
       "       [0.90425532, 0.09574468],\n",
       "       [0.5890411 , 0.4109589 ],\n",
       "       [0.5890411 , 0.4109589 ],\n",
       "       [0.90425532, 0.09574468],\n",
       "       [0.5890411 , 0.4109589 ],\n",
       "       [0.90425532, 0.09574468],\n",
       "       [0.4375    , 0.5625    ],\n",
       "       [0.5890411 , 0.4109589 ],\n",
       "       [0.5890411 , 0.4109589 ],\n",
       "       [0.90425532, 0.09574468],\n",
       "       [0.5890411 , 0.4109589 ],\n",
       "       [0.5890411 , 0.4109589 ],\n",
       "       [0.5890411 , 0.4109589 ],\n",
       "       [0.5890411 , 0.4109589 ],\n",
       "       [0.90425532, 0.09574468],\n",
       "       [0.5890411 , 0.4109589 ],\n",
       "       [0.5890411 , 0.4109589 ],\n",
       "       [0.5890411 , 0.4109589 ],\n",
       "       [0.26744186, 0.73255814],\n",
       "       [0.90425532, 0.09574468],\n",
       "       [0.90425532, 0.09574468],\n",
       "       [0.5890411 , 0.4109589 ],\n",
       "       [0.5890411 , 0.4109589 ],\n",
       "       [0.4375    , 0.5625    ],\n",
       "       [0.5890411 , 0.4109589 ],\n",
       "       [0.26744186, 0.73255814],\n",
       "       [0.25882353, 0.74117647],\n",
       "       [0.5890411 , 0.4109589 ],\n",
       "       [0.1980198 , 0.8019802 ],\n",
       "       [0.5890411 , 0.4109589 ],\n",
       "       [0.90425532, 0.09574468],\n",
       "       [0.1980198 , 0.8019802 ],\n",
       "       [0.5890411 , 0.4109589 ],\n",
       "       [0.90425532, 0.09574468],\n",
       "       [0.1980198 , 0.8019802 ],\n",
       "       [0.4375    , 0.5625    ],\n",
       "       [0.26744186, 0.73255814],\n",
       "       [0.5890411 , 0.4109589 ],\n",
       "       [0.5890411 , 0.4109589 ],\n",
       "       [0.90425532, 0.09574468],\n",
       "       [0.5890411 , 0.4109589 ],\n",
       "       [0.5890411 , 0.4109589 ],\n",
       "       [0.5890411 , 0.4109589 ],\n",
       "       [0.26744186, 0.73255814],\n",
       "       [0.26744186, 0.73255814],\n",
       "       [0.5890411 , 0.4109589 ],\n",
       "       [0.4375    , 0.5625    ],\n",
       "       [0.5890411 , 0.4109589 ],\n",
       "       [0.5890411 , 0.4109589 ],\n",
       "       [0.26744186, 0.73255814],\n",
       "       [0.4375    , 0.5625    ],\n",
       "       [0.1980198 , 0.8019802 ],\n",
       "       [0.5890411 , 0.4109589 ],\n",
       "       [0.5890411 , 0.4109589 ],\n",
       "       [0.5890411 , 0.4109589 ],\n",
       "       [0.4375    , 0.5625    ],\n",
       "       [0.90425532, 0.09574468],\n",
       "       [0.5890411 , 0.4109589 ],\n",
       "       [0.25882353, 0.74117647],\n",
       "       [0.5890411 , 0.4109589 ],\n",
       "       [0.25882353, 0.74117647],\n",
       "       [0.5890411 , 0.4109589 ],\n",
       "       [0.5890411 , 0.4109589 ],\n",
       "       [0.5890411 , 0.4109589 ],\n",
       "       [0.5890411 , 0.4109589 ],\n",
       "       [0.5890411 , 0.4109589 ],\n",
       "       [0.25882353, 0.74117647],\n",
       "       [0.5890411 , 0.4109589 ],\n",
       "       [0.5890411 , 0.4109589 ],\n",
       "       [0.4375    , 0.5625    ],\n",
       "       [0.5890411 , 0.4109589 ],\n",
       "       [0.5890411 , 0.4109589 ],\n",
       "       [0.90425532, 0.09574468],\n",
       "       [0.5890411 , 0.4109589 ],\n",
       "       [0.4375    , 0.5625    ],\n",
       "       [0.5890411 , 0.4109589 ],\n",
       "       [0.4375    , 0.5625    ],\n",
       "       [0.90425532, 0.09574468],\n",
       "       [0.5890411 , 0.4109589 ],\n",
       "       [0.1980198 , 0.8019802 ],\n",
       "       [0.5890411 , 0.4109589 ],\n",
       "       [0.90425532, 0.09574468],\n",
       "       [0.25882353, 0.74117647],\n",
       "       [0.5890411 , 0.4109589 ],\n",
       "       [0.5890411 , 0.4109589 ],\n",
       "       [0.1980198 , 0.8019802 ],\n",
       "       [0.5890411 , 0.4109589 ],\n",
       "       [0.1980198 , 0.8019802 ],\n",
       "       [0.5890411 , 0.4109589 ],\n",
       "       [0.26744186, 0.73255814],\n",
       "       [0.5890411 , 0.4109589 ],\n",
       "       [0.5890411 , 0.4109589 ],\n",
       "       [0.4375    , 0.5625    ],\n",
       "       [0.90425532, 0.09574468],\n",
       "       [0.25882353, 0.74117647],\n",
       "       [0.5890411 , 0.4109589 ],\n",
       "       [0.5890411 , 0.4109589 ],\n",
       "       [0.5890411 , 0.4109589 ],\n",
       "       [0.5890411 , 0.4109589 ],\n",
       "       [0.25882353, 0.74117647],\n",
       "       [0.90425532, 0.09574468],\n",
       "       [0.5890411 , 0.4109589 ],\n",
       "       [0.90425532, 0.09574468],\n",
       "       [0.5890411 , 0.4109589 ],\n",
       "       [0.5890411 , 0.4109589 ],\n",
       "       [0.90425532, 0.09574468],\n",
       "       [0.5890411 , 0.4109589 ],\n",
       "       [0.90425532, 0.09574468],\n",
       "       [0.90425532, 0.09574468],\n",
       "       [0.26744186, 0.73255814],\n",
       "       [0.5890411 , 0.4109589 ],\n",
       "       [0.5890411 , 0.4109589 ],\n",
       "       [0.1980198 , 0.8019802 ],\n",
       "       [0.5890411 , 0.4109589 ],\n",
       "       [0.5890411 , 0.4109589 ],\n",
       "       [0.4375    , 0.5625    ],\n",
       "       [0.5890411 , 0.4109589 ],\n",
       "       [0.5890411 , 0.4109589 ],\n",
       "       [0.90425532, 0.09574468],\n",
       "       [0.25882353, 0.74117647],\n",
       "       [0.90425532, 0.09574468],\n",
       "       [0.5890411 , 0.4109589 ],\n",
       "       [0.5890411 , 0.4109589 ],\n",
       "       [0.5890411 , 0.4109589 ],\n",
       "       [0.5890411 , 0.4109589 ],\n",
       "       [0.4375    , 0.5625    ],\n",
       "       [0.26744186, 0.73255814],\n",
       "       [0.90425532, 0.09574468],\n",
       "       [0.5890411 , 0.4109589 ],\n",
       "       [0.5890411 , 0.4109589 ],\n",
       "       [0.90425532, 0.09574468],\n",
       "       [0.90425532, 0.09574468],\n",
       "       [0.5890411 , 0.4109589 ],\n",
       "       [0.4375    , 0.5625    ],\n",
       "       [0.5890411 , 0.4109589 ],\n",
       "       [0.5890411 , 0.4109589 ],\n",
       "       [0.5890411 , 0.4109589 ],\n",
       "       [0.5890411 , 0.4109589 ],\n",
       "       [0.5890411 , 0.4109589 ],\n",
       "       [0.4375    , 0.5625    ],\n",
       "       [0.5890411 , 0.4109589 ],\n",
       "       [0.5890411 , 0.4109589 ],\n",
       "       [0.5890411 , 0.4109589 ],\n",
       "       [0.25882353, 0.74117647],\n",
       "       [0.90425532, 0.09574468],\n",
       "       [0.26744186, 0.73255814]])"
      ]
     },
     "execution_count": 46,
     "metadata": {},
     "output_type": "execute_result"
    }
   ],
   "source": [
    "prob4 = clf_dt.predict_proba(X_test)\n",
    "prob4"
   ]
  },
  {
   "cell_type": "code",
   "execution_count": 47,
   "metadata": {},
   "outputs": [
    {
     "data": {
      "text/plain": [
       "Text(0, 0.5, 'true_positives')"
      ]
     },
     "execution_count": 47,
     "metadata": {},
     "output_type": "execute_result"
    },
    {
     "data": {
      "image/png": "[encoded data removed]",
      "text/plain": [
       "<Figure size 432x288 with 1 Axes>"
      ]
     },
     "metadata": {
      "needs_background": "light"
     },
     "output_type": "display_data"
    }
   ],
   "source": [
    "target_pos = 1 # Or 0 for the other class\n",
    "fp,tp,_ = roc_curve(y_test,prob4[:,target_pos])\n",
    "plt.plot(fp,tp)\n",
    "plt.xlabel(\"false_positives\")\n",
    "plt.ylabel(\"true_positives\")"
   ]
  },
  {
   "cell_type": "code",
   "execution_count": 48,
   "metadata": {},
   "outputs": [
    {
     "data": {
      "text/plain": [
       "0.636236312706901"
      ]
     },
     "execution_count": 48,
     "metadata": {},
     "output_type": "execute_result"
    }
   ],
   "source": [
    "auc_clf_dt = auc(fp,tp)\n",
    "auc_clf_dt"
   ]
  },
  {
   "cell_type": "code",
   "execution_count": 49,
   "metadata": {},
   "outputs": [],
   "source": [
    "result['clf_dt'] = [clf_dt.best_score_,auc_clf_dt]"
   ]
  },
  {
   "cell_type": "code",
   "execution_count": 50,
   "metadata": {},
   "outputs": [
    {
     "data": {
      "text/html": [
       "<div>\n",
       "<style scoped>\n",
       "    .dataframe tbody tr th:only-of-type {\n",
       "        vertical-align: middle;\n",
       "    }\n",
       "\n",
       "    .dataframe tbody tr th {\n",
       "        vertical-align: top;\n",
       "    }\n",
       "\n",
       "    .dataframe thead th {\n",
       "        text-align: right;\n",
       "    }\n",
       "</style>\n",
       "<table border=\"1\" class=\"dataframe\">\n",
       "  <thead>\n",
       "    <tr style=\"text-align: right;\">\n",
       "      <th></th>\n",
       "      <th>logreg</th>\n",
       "      <th>clfknn</th>\n",
       "      <th>clf_dt</th>\n",
       "    </tr>\n",
       "  </thead>\n",
       "  <tbody>\n",
       "    <tr>\n",
       "      <th>recall</th>\n",
       "      <td>0.492754</td>\n",
       "      <td>0.104408</td>\n",
       "      <td>0.688567</td>\n",
       "    </tr>\n",
       "    <tr>\n",
       "      <th>auc</th>\n",
       "      <td>0.638783</td>\n",
       "      <td>0.633435</td>\n",
       "      <td>0.636236</td>\n",
       "    </tr>\n",
       "  </tbody>\n",
       "</table>\n",
       "</div>"
      ],
      "text/plain": [
       "          logreg    clfknn    clf_dt\n",
       "recall  0.492754  0.104408  0.688567\n",
       "auc     0.638783  0.633435  0.636236"
      ]
     },
     "execution_count": 50,
     "metadata": {},
     "output_type": "execute_result"
    }
   ],
   "source": [
    "result"
   ]
  },
  {
   "cell_type": "markdown",
   "metadata": {},
   "source": [
    "### Random Forest"
   ]
  },
  {
   "cell_type": "code",
   "execution_count": 51,
   "metadata": {},
   "outputs": [],
   "source": [
    "from sklearn.ensemble import RandomForestClassifier"
   ]
  },
  {
   "cell_type": "code",
   "execution_count": 52,
   "metadata": {},
   "outputs": [],
   "source": [
    "pipe = Pipeline(steps=[('preprocessor', preprocessor),\n",
    "                      ('classifier', RandomForestClassifier(n_estimators=100,class_weight={1:9,0:1}))])\n",
    "\n",
    "param_grid={'classifier__max_depth':np.arange(3,10),\n",
    "            'classifier__min_samples_leaf': np.arange(10,30)\n",
    "                         }\n",
    "\n",
    "clf_rf = GridSearchCV(pipe,param_grid,\n",
    "                   cv = 5,\n",
    "                   scoring = 'recall')"
   ]
  },
  {
   "cell_type": "code",
   "execution_count": 53,
   "metadata": {
    "scrolled": true
   },
   "outputs": [
    {
     "name": "stderr",
     "output_type": "stream",
     "text": [
      "/home/dsc/anaconda3/lib/python3.7/site-packages/sklearn/model_selection/_search.py:841: DeprecationWarning: The default of the `iid` parameter will change from True to False in version 0.22 and will be removed in 0.24. This will change numeric results when test-set sizes are unequal.\n",
      "  DeprecationWarning)\n"
     ]
    },
    {
     "data": {
      "text/plain": [
       "GridSearchCV(cv=5, error_score='raise-deprecating',\n",
       "       estimator=Pipeline(memory=None,\n",
       "     steps=[('preprocessor', ColumnTransformer(n_jobs=None, remainder='drop', sparse_threshold=0.3,\n",
       "         transformer_weights=None,\n",
       "         transformers=[('num', Pipeline(memory=None,\n",
       "     steps=[('imputer', SimpleImputer(copy=True, fill_value=None, missing_values=nan,\n",
       "       strategy='median', verbo...ors=100, n_jobs=None, oob_score=False,\n",
       "            random_state=None, verbose=0, warm_start=False))]),\n",
       "       fit_params=None, iid='warn', n_jobs=None,\n",
       "       param_grid={'classifier__max_depth': array([3, 4, 5, 6, 7, 8, 9]), 'classifier__min_samples_leaf': array([10, 11, 12, 13, 14, 15, 16, 17, 18, 19, 20, 21, 22, 23, 24, 25, 26,\n",
       "       27, 28, 29])},\n",
       "       pre_dispatch='2*n_jobs', refit=True, return_train_score='warn',\n",
       "       scoring='recall', verbose=0)"
      ]
     },
     "execution_count": 53,
     "metadata": {},
     "output_type": "execute_result"
    }
   ],
   "source": [
    "clf_rf.fit(X_train,y_train)"
   ]
  },
  {
   "cell_type": "code",
   "execution_count": 54,
   "metadata": {
    "scrolled": true
   },
   "outputs": [
    {
     "data": {
      "text/plain": [
       "0.5879476584022039"
      ]
     },
     "execution_count": 54,
     "metadata": {},
     "output_type": "execute_result"
    }
   ],
   "source": [
    "clf_rf.best_score_"
   ]
  },
  {
   "cell_type": "code",
   "execution_count": 55,
   "metadata": {},
   "outputs": [
    {
     "data": {
      "text/plain": [
       "{'classifier__max_depth': 5, 'classifier__min_samples_leaf': 25}"
      ]
     },
     "execution_count": 55,
     "metadata": {},
     "output_type": "execute_result"
    }
   ],
   "source": [
    "clf_rf.best_params_"
   ]
  },
  {
   "cell_type": "code",
   "execution_count": 56,
   "metadata": {
    "scrolled": true
   },
   "outputs": [
    {
     "name": "stdout",
     "output_type": "stream",
     "text": [
      "[[142  45]\n",
      " [ 11  10]]\n",
      "              precision    recall  f1-score   support\n",
      "\n",
      "           0       0.93      0.76      0.84       187\n",
      "           1       0.18      0.48      0.26        21\n",
      "\n",
      "   micro avg       0.73      0.73      0.73       208\n",
      "   macro avg       0.55      0.62      0.55       208\n",
      "weighted avg       0.85      0.73      0.78       208\n",
      "\n"
     ]
    }
   ],
   "source": [
    "preds3 = clf_rf.predict(X_test)\n",
    "print(confusion_matrix(y_test,preds3))\n",
    "print(classification_report(y_test,preds3))"
   ]
  },
  {
   "cell_type": "code",
   "execution_count": 57,
   "metadata": {},
   "outputs": [],
   "source": [
    "prob3 = clf_rf.predict_proba(X_test)\n",
    "#prob3"
   ]
  },
  {
   "cell_type": "code",
   "execution_count": 58,
   "metadata": {},
   "outputs": [
    {
     "data": {
      "text/plain": [
       "Text(0, 0.5, 'true_positives')"
      ]
     },
     "execution_count": 58,
     "metadata": {},
     "output_type": "execute_result"
    },
    {
     "data": {
      "image/png": "[encoded data removed]",
      "text/plain": [
       "<Figure size 432x288 with 1 Axes>"
      ]
     },
     "metadata": {
      "needs_background": "light"
     },
     "output_type": "display_data"
    }
   ],
   "source": [
    "target_pos = 1 # Or 0 for the other class\n",
    "fp,tp,thresholds = roc_curve(y_test,prob3[:,target_pos])\n",
    "plt.plot(fp,tp)\n",
    "plt.xlabel(\"false_positives\")\n",
    "plt.ylabel(\"true_positives\")"
   ]
  },
  {
   "cell_type": "code",
   "execution_count": 59,
   "metadata": {},
   "outputs": [
    {
     "data": {
      "text/plain": [
       "0.6152279093455565"
      ]
     },
     "execution_count": 59,
     "metadata": {},
     "output_type": "execute_result"
    }
   ],
   "source": [
    "auc_clf_rf = auc(fp,tp)\n",
    "auc_clf_rf"
   ]
  },
  {
   "cell_type": "code",
   "execution_count": 60,
   "metadata": {},
   "outputs": [
    {
     "data": {
      "text/plain": [
       "0.6152279093455565"
      ]
     },
     "execution_count": 60,
     "metadata": {},
     "output_type": "execute_result"
    }
   ],
   "source": [
    "auc_clf_rf"
   ]
  },
  {
   "cell_type": "code",
   "execution_count": 61,
   "metadata": {},
   "outputs": [
    {
     "data": {
      "text/plain": [
       "[]"
      ]
     },
     "execution_count": 61,
     "metadata": {},
     "output_type": "execute_result"
    },
    {
     "data": {
      "image/png": "[encoded data removed]",
      "text/plain": [
       "<Figure size 432x288 with 1 Axes>"
      ]
     },
     "metadata": {
      "needs_background": "light"
     },
     "output_type": "display_data"
    }
   ],
   "source": [
    "####################################\n",
    "# The optimal cut off would be where tpr is high and fpr is low\n",
    "# tpr - (1-fpr) is zero or near to zero is the optimal cut off point\n",
    "####################################\n",
    "i = np.arange(len(tp)) # index for df\n",
    "roc = pd.DataFrame({'fp' : pd.Series(fp, index=i),'tp' : pd.Series(tp, index = i), '1-fp' : pd.Series(1-fp, index = i), 'tf' : pd.Series(tp - (1-fp), index = i), 'thresholds' : pd.Series(thresholds, index = i)})\n",
    "roc.loc[(roc.tf-0).abs().argsort()[:1]]\n",
    "\n",
    "# Plot tpr vs 1-fpr\n",
    "fig, ax = plt.subplots()\n",
    "plt.plot(roc['tp'])\n",
    "plt.plot(roc['1-fp'], color = 'red')\n",
    "plt.xlabel('1-False Positive Rate')\n",
    "plt.ylabel('True Positive Rate')\n",
    "plt.title('Receiver operating characteristic')\n",
    "ax.set_xticklabels([])"
   ]
  },
  {
   "cell_type": "code",
   "execution_count": 108,
   "metadata": {},
   "outputs": [
    {
     "name": "stdout",
     "output_type": "stream",
     "text": [
      "0.45847088218979387\n",
      "[[109  78]\n",
      " [  9  12]]\n",
      "              precision    recall  f1-score   support\n",
      "\n",
      "           0       0.92      0.58      0.71       187\n",
      "           1       0.13      0.57      0.22        21\n",
      "\n",
      "   micro avg       0.58      0.58      0.58       208\n",
      "   macro avg       0.53      0.58      0.47       208\n",
      "weighted avg       0.84      0.58      0.66       208\n",
      "\n"
     ]
    }
   ],
   "source": [
    "def Find_Optimal_Cutoff(target, predicted):\n",
    "    \"\"\" Find the optimal probability cutoff point for a classification model related to event rate\n",
    "    Parameters\n",
    "    ----------\n",
    "    target : Matrix with dependent or target data, where rows are observations\n",
    "\n",
    "    predicted : Matrix with predicted data, where rows are observations\n",
    "\n",
    "    Returns\n",
    "    -------     \n",
    "    list type, with optimal cutoff value\n",
    "\n",
    "    \"\"\"\n",
    "    fp, tp, thresholds = roc_curve(target, predicted)\n",
    "    i = np.arange(len(tp)) \n",
    "    roc = pd.DataFrame({'tf' : pd.Series(tp-(1-fp), index=i), 'thresholds' : pd.Series(thresholds, index=i)})\n",
    "    roc_t = roc.loc[(roc.tf-0).abs().argsort()[:1]]\n",
    "\n",
    "  #  return list(roc_t['thresholds'])\n",
    "    return float(roc_t['thresholds'])\n",
    "  \n",
    "\n",
    "# Add prediction probability to dataframe\n",
    "data = pd.DataFrame()\n",
    "data['pred_proba'] = pd.Series(prob3[:,target_pos])\n",
    "#data['target'] = pd.Series(y_test)\n",
    "\n",
    "# Find optimal probability threshold\n",
    "threshold = Find_Optimal_Cutoff(y_test,data['pred_proba'])\n",
    "print(threshold)\n",
    "\n",
    "\n",
    "# Find prediction to the dataframe applying threshold\n",
    "data['pred'] = data['pred_proba'].map(lambda x: 1 if x > threshold else 0)\n",
    "\n",
    "# Print confusion Matrix\n",
    "from sklearn.metrics import confusion_matrix\n",
    "print(confusion_matrix(y_test, data['pred']))\n",
    "print(classification_report(y_test,data['pred']))"
   ]
  },
  {
   "cell_type": "code",
   "execution_count": 105,
   "metadata": {},
   "outputs": [
    {
     "data": {
      "text/plain": [
       "float"
      ]
     },
     "execution_count": 105,
     "metadata": {},
     "output_type": "execute_result"
    }
   ],
   "source": [
    "type(threshold)"
   ]
  },
  {
   "cell_type": "code",
   "execution_count": 78,
   "metadata": {},
   "outputs": [
    {
     "data": {
      "text/plain": [
       "3"
      ]
     },
     "execution_count": 78,
     "metadata": {},
     "output_type": "execute_result"
    }
   ],
   "source": [
    "len(tp)"
   ]
  },
  {
   "cell_type": "code",
   "execution_count": 96,
   "metadata": {},
   "outputs": [
    {
     "data": {
      "text/html": [
       "<div>\n",
       "<style scoped>\n",
       "    .dataframe tbody tr th:only-of-type {\n",
       "        vertical-align: middle;\n",
       "    }\n",
       "\n",
       "    .dataframe tbody tr th {\n",
       "        vertical-align: top;\n",
       "    }\n",
       "\n",
       "    .dataframe thead th {\n",
       "        text-align: right;\n",
       "    }\n",
       "</style>\n",
       "<table border=\"1\" class=\"dataframe\">\n",
       "  <thead>\n",
       "    <tr style=\"text-align: right;\">\n",
       "      <th></th>\n",
       "      <th>tf</th>\n",
       "      <th>thresholds</th>\n",
       "    </tr>\n",
       "  </thead>\n",
       "  <tbody>\n",
       "    <tr>\n",
       "      <th>32</th>\n",
       "      <td>-0.006112</td>\n",
       "      <td>0.458471</td>\n",
       "    </tr>\n",
       "    <tr>\n",
       "      <th>33</th>\n",
       "      <td>0.009931</td>\n",
       "      <td>0.457514</td>\n",
       "    </tr>\n",
       "    <tr>\n",
       "      <th>31</th>\n",
       "      <td>-0.011459</td>\n",
       "      <td>0.459288</td>\n",
       "    </tr>\n",
       "    <tr>\n",
       "      <th>34</th>\n",
       "      <td>0.020626</td>\n",
       "      <td>0.457322</td>\n",
       "    </tr>\n",
       "    <tr>\n",
       "      <th>30</th>\n",
       "      <td>-0.022154</td>\n",
       "      <td>0.459467</td>\n",
       "    </tr>\n",
       "    <tr>\n",
       "      <th>35</th>\n",
       "      <td>0.036669</td>\n",
       "      <td>0.449352</td>\n",
       "    </tr>\n",
       "    <tr>\n",
       "      <th>29</th>\n",
       "      <td>-0.043545</td>\n",
       "      <td>0.459759</td>\n",
       "    </tr>\n",
       "    <tr>\n",
       "      <th>36</th>\n",
       "      <td>0.047364</td>\n",
       "      <td>0.446400</td>\n",
       "    </tr>\n",
       "    <tr>\n",
       "      <th>28</th>\n",
       "      <td>-0.054240</td>\n",
       "      <td>0.464356</td>\n",
       "    </tr>\n",
       "    <tr>\n",
       "      <th>27</th>\n",
       "      <td>-0.064935</td>\n",
       "      <td>0.468211</td>\n",
       "    </tr>\n",
       "    <tr>\n",
       "      <th>37</th>\n",
       "      <td>0.074102</td>\n",
       "      <td>0.441187</td>\n",
       "    </tr>\n",
       "    <tr>\n",
       "      <th>38</th>\n",
       "      <td>0.084798</td>\n",
       "      <td>0.440698</td>\n",
       "    </tr>\n",
       "    <tr>\n",
       "      <th>26</th>\n",
       "      <td>-0.086325</td>\n",
       "      <td>0.471653</td>\n",
       "    </tr>\n",
       "    <tr>\n",
       "      <th>39</th>\n",
       "      <td>0.095493</td>\n",
       "      <td>0.437240</td>\n",
       "    </tr>\n",
       "    <tr>\n",
       "      <th>40</th>\n",
       "      <td>0.106188</td>\n",
       "      <td>0.437006</td>\n",
       "    </tr>\n",
       "    <tr>\n",
       "      <th>41</th>\n",
       "      <td>0.122231</td>\n",
       "      <td>0.436734</td>\n",
       "    </tr>\n",
       "    <tr>\n",
       "      <th>42</th>\n",
       "      <td>0.127578</td>\n",
       "      <td>0.435629</td>\n",
       "    </tr>\n",
       "    <tr>\n",
       "      <th>25</th>\n",
       "      <td>-0.133944</td>\n",
       "      <td>0.472327</td>\n",
       "    </tr>\n",
       "    <tr>\n",
       "      <th>43</th>\n",
       "      <td>0.138273</td>\n",
       "      <td>0.435387</td>\n",
       "    </tr>\n",
       "    <tr>\n",
       "      <th>24</th>\n",
       "      <td>-0.149987</td>\n",
       "      <td>0.472703</td>\n",
       "    </tr>\n",
       "    <tr>\n",
       "      <th>23</th>\n",
       "      <td>-0.160682</td>\n",
       "      <td>0.475158</td>\n",
       "    </tr>\n",
       "    <tr>\n",
       "      <th>22</th>\n",
       "      <td>-0.171378</td>\n",
       "      <td>0.478206</td>\n",
       "    </tr>\n",
       "    <tr>\n",
       "      <th>21</th>\n",
       "      <td>-0.192768</td>\n",
       "      <td>0.479697</td>\n",
       "    </tr>\n",
       "    <tr>\n",
       "      <th>20</th>\n",
       "      <td>-0.251082</td>\n",
       "      <td>0.483196</td>\n",
       "    </tr>\n",
       "    <tr>\n",
       "      <th>44</th>\n",
       "      <td>0.276292</td>\n",
       "      <td>0.430219</td>\n",
       "    </tr>\n",
       "    <tr>\n",
       "      <th>19</th>\n",
       "      <td>-0.283168</td>\n",
       "      <td>0.504619</td>\n",
       "    </tr>\n",
       "    <tr>\n",
       "      <th>45</th>\n",
       "      <td>0.286988</td>\n",
       "      <td>0.429723</td>\n",
       "    </tr>\n",
       "    <tr>\n",
       "      <th>18</th>\n",
       "      <td>-0.299211</td>\n",
       "      <td>0.506117</td>\n",
       "    </tr>\n",
       "    <tr>\n",
       "      <th>46</th>\n",
       "      <td>0.308378</td>\n",
       "      <td>0.426547</td>\n",
       "    </tr>\n",
       "    <tr>\n",
       "      <th>47</th>\n",
       "      <td>0.329768</td>\n",
       "      <td>0.425966</td>\n",
       "    </tr>\n",
       "    <tr>\n",
       "      <th>...</th>\n",
       "      <td>...</td>\n",
       "      <td>...</td>\n",
       "    </tr>\n",
       "    <tr>\n",
       "      <th>10</th>\n",
       "      <td>-0.517443</td>\n",
       "      <td>0.555999</td>\n",
       "    </tr>\n",
       "    <tr>\n",
       "      <th>9</th>\n",
       "      <td>-0.522791</td>\n",
       "      <td>0.559884</td>\n",
       "    </tr>\n",
       "    <tr>\n",
       "      <th>59</th>\n",
       "      <td>0.564044</td>\n",
       "      <td>0.373020</td>\n",
       "    </tr>\n",
       "    <tr>\n",
       "      <th>60</th>\n",
       "      <td>0.569391</td>\n",
       "      <td>0.372996</td>\n",
       "    </tr>\n",
       "    <tr>\n",
       "      <th>8</th>\n",
       "      <td>-0.570410</td>\n",
       "      <td>0.561215</td>\n",
       "    </tr>\n",
       "    <tr>\n",
       "      <th>7</th>\n",
       "      <td>-0.581105</td>\n",
       "      <td>0.563672</td>\n",
       "    </tr>\n",
       "    <tr>\n",
       "      <th>6</th>\n",
       "      <td>-0.607843</td>\n",
       "      <td>0.576402</td>\n",
       "    </tr>\n",
       "    <tr>\n",
       "      <th>61</th>\n",
       "      <td>0.622358</td>\n",
       "      <td>0.372851</td>\n",
       "    </tr>\n",
       "    <tr>\n",
       "      <th>62</th>\n",
       "      <td>0.669977</td>\n",
       "      <td>0.366720</td>\n",
       "    </tr>\n",
       "    <tr>\n",
       "      <th>63</th>\n",
       "      <td>0.686020</td>\n",
       "      <td>0.366551</td>\n",
       "    </tr>\n",
       "    <tr>\n",
       "      <th>64</th>\n",
       "      <td>0.691367</td>\n",
       "      <td>0.361342</td>\n",
       "    </tr>\n",
       "    <tr>\n",
       "      <th>5</th>\n",
       "      <td>-0.692895</td>\n",
       "      <td>0.576846</td>\n",
       "    </tr>\n",
       "    <tr>\n",
       "      <th>4</th>\n",
       "      <td>-0.698243</td>\n",
       "      <td>0.592242</td>\n",
       "    </tr>\n",
       "    <tr>\n",
       "      <th>65</th>\n",
       "      <td>0.707410</td>\n",
       "      <td>0.357247</td>\n",
       "    </tr>\n",
       "    <tr>\n",
       "      <th>66</th>\n",
       "      <td>0.760377</td>\n",
       "      <td>0.356163</td>\n",
       "    </tr>\n",
       "    <tr>\n",
       "      <th>67</th>\n",
       "      <td>0.771072</td>\n",
       "      <td>0.355325</td>\n",
       "    </tr>\n",
       "    <tr>\n",
       "      <th>68</th>\n",
       "      <td>0.824039</td>\n",
       "      <td>0.354729</td>\n",
       "    </tr>\n",
       "    <tr>\n",
       "      <th>69</th>\n",
       "      <td>0.840081</td>\n",
       "      <td>0.353366</td>\n",
       "    </tr>\n",
       "    <tr>\n",
       "      <th>70</th>\n",
       "      <td>0.850777</td>\n",
       "      <td>0.352839</td>\n",
       "    </tr>\n",
       "    <tr>\n",
       "      <th>71</th>\n",
       "      <td>0.861472</td>\n",
       "      <td>0.347999</td>\n",
       "    </tr>\n",
       "    <tr>\n",
       "      <th>72</th>\n",
       "      <td>0.872167</td>\n",
       "      <td>0.347066</td>\n",
       "    </tr>\n",
       "    <tr>\n",
       "      <th>3</th>\n",
       "      <td>-0.899414</td>\n",
       "      <td>0.622206</td>\n",
       "    </tr>\n",
       "    <tr>\n",
       "      <th>2</th>\n",
       "      <td>-0.904762</td>\n",
       "      <td>0.627866</td>\n",
       "    </tr>\n",
       "    <tr>\n",
       "      <th>73</th>\n",
       "      <td>0.930481</td>\n",
       "      <td>0.346791</td>\n",
       "    </tr>\n",
       "    <tr>\n",
       "      <th>74</th>\n",
       "      <td>0.946524</td>\n",
       "      <td>0.343274</td>\n",
       "    </tr>\n",
       "    <tr>\n",
       "      <th>1</th>\n",
       "      <td>-0.952381</td>\n",
       "      <td>0.630743</td>\n",
       "    </tr>\n",
       "    <tr>\n",
       "      <th>75</th>\n",
       "      <td>0.967914</td>\n",
       "      <td>0.342482</td>\n",
       "    </tr>\n",
       "    <tr>\n",
       "      <th>76</th>\n",
       "      <td>0.978610</td>\n",
       "      <td>0.340821</td>\n",
       "    </tr>\n",
       "    <tr>\n",
       "      <th>0</th>\n",
       "      <td>-1.000000</td>\n",
       "      <td>1.630743</td>\n",
       "    </tr>\n",
       "    <tr>\n",
       "      <th>77</th>\n",
       "      <td>1.000000</td>\n",
       "      <td>0.335609</td>\n",
       "    </tr>\n",
       "  </tbody>\n",
       "</table>\n",
       "<p>78 rows × 2 columns</p>\n",
       "</div>"
      ],
      "text/plain": [
       "          tf  thresholds\n",
       "32 -0.006112    0.458471\n",
       "33  0.009931    0.457514\n",
       "31 -0.011459    0.459288\n",
       "34  0.020626    0.457322\n",
       "30 -0.022154    0.459467\n",
       "35  0.036669    0.449352\n",
       "29 -0.043545    0.459759\n",
       "36  0.047364    0.446400\n",
       "28 -0.054240    0.464356\n",
       "27 -0.064935    0.468211\n",
       "37  0.074102    0.441187\n",
       "38  0.084798    0.440698\n",
       "26 -0.086325    0.471653\n",
       "39  0.095493    0.437240\n",
       "40  0.106188    0.437006\n",
       "41  0.122231    0.436734\n",
       "42  0.127578    0.435629\n",
       "25 -0.133944    0.472327\n",
       "43  0.138273    0.435387\n",
       "24 -0.149987    0.472703\n",
       "23 -0.160682    0.475158\n",
       "22 -0.171378    0.478206\n",
       "21 -0.192768    0.479697\n",
       "20 -0.251082    0.483196\n",
       "44  0.276292    0.430219\n",
       "19 -0.283168    0.504619\n",
       "45  0.286988    0.429723\n",
       "18 -0.299211    0.506117\n",
       "46  0.308378    0.426547\n",
       "47  0.329768    0.425966\n",
       "..       ...         ...\n",
       "10 -0.517443    0.555999\n",
       "9  -0.522791    0.559884\n",
       "59  0.564044    0.373020\n",
       "60  0.569391    0.372996\n",
       "8  -0.570410    0.561215\n",
       "7  -0.581105    0.563672\n",
       "6  -0.607843    0.576402\n",
       "61  0.622358    0.372851\n",
       "62  0.669977    0.366720\n",
       "63  0.686020    0.366551\n",
       "64  0.691367    0.361342\n",
       "5  -0.692895    0.576846\n",
       "4  -0.698243    0.592242\n",
       "65  0.707410    0.357247\n",
       "66  0.760377    0.356163\n",
       "67  0.771072    0.355325\n",
       "68  0.824039    0.354729\n",
       "69  0.840081    0.353366\n",
       "70  0.850777    0.352839\n",
       "71  0.861472    0.347999\n",
       "72  0.872167    0.347066\n",
       "3  -0.899414    0.622206\n",
       "2  -0.904762    0.627866\n",
       "73  0.930481    0.346791\n",
       "74  0.946524    0.343274\n",
       "1  -0.952381    0.630743\n",
       "75  0.967914    0.342482\n",
       "76  0.978610    0.340821\n",
       "0  -1.000000    1.630743\n",
       "77  1.000000    0.335609\n",
       "\n",
       "[78 rows x 2 columns]"
      ]
     },
     "execution_count": 96,
     "metadata": {},
     "output_type": "execute_result"
    }
   ],
   "source": [
    "fp, tp, thresholds = roc_curve(y_test,prob3[:,target_pos])\n",
    "i = np.arange(len(tp)) \n",
    "roc = pd.DataFrame({'tf' : pd.Series(tp-(1-fp), index=i), 'thresholds' : pd.Series(thresholds, index=i)})\n",
    "#roc_t = roc.loc[(roc.tf-0).abs().argsort()[:1]]\n",
    "#roc_t\n",
    "roc.loc[(roc.tf-0).abs().argsort()[::]]"
   ]
  },
  {
   "cell_type": "code",
   "execution_count": 71,
   "metadata": {},
   "outputs": [
    {
     "data": {
      "text/plain": [
       "array([0, 0, 0, 0, 0, 0, 1, 0, 0, 0, 0, 0, 0, 0, 0, 0, 1, 0, 0, 1, 0, 1,\n",
       "       0, 0, 1, 0, 0, 0, 0, 0, 0, 0, 0, 1, 1, 1, 0, 0, 1, 0, 0, 0, 0, 0,\n",
       "       0, 0, 0, 0, 0, 0, 0, 1, 1, 0, 0, 0, 0, 0, 1, 0, 0, 0, 0, 0, 1, 0,\n",
       "       0, 0, 1, 0, 0, 0, 0, 0, 0, 0, 0, 0, 0, 0, 1, 0, 0, 0, 0, 1, 0, 1,\n",
       "       1, 0, 1, 0, 0, 1, 0, 0, 1, 1, 1, 0, 1, 0, 0, 0, 0, 1, 1, 0, 0, 0,\n",
       "       0, 1, 1, 1, 1, 0, 0, 1, 0, 0, 1, 0, 1, 0, 0, 0, 0, 1, 1, 0, 0, 1,\n",
       "       0, 0, 0, 1, 1, 0, 1, 0, 0, 1, 0, 0, 1, 0, 0, 1, 0, 1, 0, 1, 0, 0,\n",
       "       1, 0, 1, 0, 0, 0, 0, 1, 0, 0, 0, 0, 0, 0, 0, 0, 0, 1, 0, 0, 1, 0,\n",
       "       0, 0, 0, 0, 0, 1, 0, 0, 0, 0, 0, 1, 1, 0, 0, 0, 0, 0, 0, 0, 0, 0,\n",
       "       0, 0, 0, 1, 0, 0, 0, 1, 0, 1])"
      ]
     },
     "execution_count": 71,
     "metadata": {},
     "output_type": "execute_result"
    }
   ],
   "source": [
    "preds3"
   ]
  },
  {
   "cell_type": "code",
   "execution_count": 63,
   "metadata": {},
   "outputs": [
    {
     "data": {
      "text/html": [
       "<div>\n",
       "<style scoped>\n",
       "    .dataframe tbody tr th:only-of-type {\n",
       "        vertical-align: middle;\n",
       "    }\n",
       "\n",
       "    .dataframe tbody tr th {\n",
       "        vertical-align: top;\n",
       "    }\n",
       "\n",
       "    .dataframe thead th {\n",
       "        text-align: right;\n",
       "    }\n",
       "</style>\n",
       "<table border=\"1\" class=\"dataframe\">\n",
       "  <thead>\n",
       "    <tr style=\"text-align: right;\">\n",
       "      <th></th>\n",
       "      <th>fp</th>\n",
       "      <th>tp</th>\n",
       "      <th>1-fp</th>\n",
       "      <th>tf</th>\n",
       "      <th>thresholds</th>\n",
       "    </tr>\n",
       "  </thead>\n",
       "  <tbody>\n",
       "    <tr>\n",
       "      <th>32</th>\n",
       "      <td>0.42246</td>\n",
       "      <td>0.571429</td>\n",
       "      <td>0.57754</td>\n",
       "      <td>-0.006112</td>\n",
       "      <td>0.458471</td>\n",
       "    </tr>\n",
       "  </tbody>\n",
       "</table>\n",
       "</div>"
      ],
      "text/plain": [
       "         fp        tp     1-fp        tf  thresholds\n",
       "32  0.42246  0.571429  0.57754 -0.006112    0.458471"
      ]
     },
     "execution_count": 63,
     "metadata": {},
     "output_type": "execute_result"
    }
   ],
   "source": [
    "roc.loc[(roc.tf-0).abs().argsort()[:1]]"
   ]
  },
  {
   "cell_type": "code",
   "execution_count": 64,
   "metadata": {},
   "outputs": [],
   "source": [
    "result['clf_rf'] = [clf_rf.best_score_,auc_clf_rf]"
   ]
  },
  {
   "cell_type": "code",
   "execution_count": 65,
   "metadata": {},
   "outputs": [
    {
     "data": {
      "text/html": [
       "<div>\n",
       "<style scoped>\n",
       "    .dataframe tbody tr th:only-of-type {\n",
       "        vertical-align: middle;\n",
       "    }\n",
       "\n",
       "    .dataframe tbody tr th {\n",
       "        vertical-align: top;\n",
       "    }\n",
       "\n",
       "    .dataframe thead th {\n",
       "        text-align: right;\n",
       "    }\n",
       "</style>\n",
       "<table border=\"1\" class=\"dataframe\">\n",
       "  <thead>\n",
       "    <tr style=\"text-align: right;\">\n",
       "      <th></th>\n",
       "      <th>logreg</th>\n",
       "      <th>clfknn</th>\n",
       "      <th>clf_dt</th>\n",
       "      <th>clf_rf</th>\n",
       "    </tr>\n",
       "  </thead>\n",
       "  <tbody>\n",
       "    <tr>\n",
       "      <th>recall</th>\n",
       "      <td>0.492754</td>\n",
       "      <td>0.104408</td>\n",
       "      <td>0.688567</td>\n",
       "      <td>0.587948</td>\n",
       "    </tr>\n",
       "    <tr>\n",
       "      <th>auc</th>\n",
       "      <td>0.638783</td>\n",
       "      <td>0.633435</td>\n",
       "      <td>0.636236</td>\n",
       "      <td>0.615228</td>\n",
       "    </tr>\n",
       "  </tbody>\n",
       "</table>\n",
       "</div>"
      ],
      "text/plain": [
       "          logreg    clfknn    clf_dt    clf_rf\n",
       "recall  0.492754  0.104408  0.688567  0.587948\n",
       "auc     0.638783  0.633435  0.636236  0.615228"
      ]
     },
     "execution_count": 65,
     "metadata": {},
     "output_type": "execute_result"
    }
   ],
   "source": [
    "result"
   ]
  },
  {
   "cell_type": "code",
   "execution_count": 66,
   "metadata": {},
   "outputs": [
    {
     "data": {
      "text/plain": [
       "RandomForestClassifier(bootstrap=True, class_weight={1: 9, 0: 1},\n",
       "            criterion='gini', max_depth=3, max_features='auto',\n",
       "            max_leaf_nodes=None, min_impurity_decrease=0.0,\n",
       "            min_impurity_split=None, min_samples_leaf=20,\n",
       "            min_samples_split=2, min_weight_fraction_leaf=0.0,\n",
       "            n_estimators=100, n_jobs=None, oob_score=False,\n",
       "            random_state=None, verbose=0, warm_start=False)"
      ]
     },
     "execution_count": 66,
     "metadata": {},
     "output_type": "execute_result"
    }
   ],
   "source": [
    "X_train_p = preprocessor.fit_transform(X_train)\n",
    "clf_rf2 = RandomForestClassifier(n_estimators=100,max_depth = 3,\n",
    "                                                            min_samples_leaf=20,class_weight={1:9,0:1})\n",
    "\n",
    "clf_rf2.fit(X_train_p,y_train)"
   ]
  },
  {
   "cell_type": "code",
   "execution_count": 67,
   "metadata": {
    "scrolled": true
   },
   "outputs": [
    {
     "ename": "NameError",
     "evalue": "name 'X_test_p' is not defined",
     "output_type": "error",
     "traceback": [
      "\u001b[0;31m---------------------------------------------------------------------------\u001b[0m",
      "\u001b[0;31mNameError\u001b[0m                                 Traceback (most recent call last)",
      "\u001b[0;32m<ipython-input-67-dd76f267f090>\u001b[0m in \u001b[0;36m<module>\u001b[0;34m\u001b[0m\n\u001b[0;32m----> 1\u001b[0;31m \u001b[0mpred5\u001b[0m \u001b[0;34m=\u001b[0m \u001b[0mclf_rf2\u001b[0m\u001b[0;34m.\u001b[0m\u001b[0mpredict\u001b[0m\u001b[0;34m(\u001b[0m\u001b[0mX_test_p\u001b[0m\u001b[0;34m)\u001b[0m\u001b[0;34m\u001b[0m\u001b[0;34m\u001b[0m\u001b[0m\n\u001b[0m\u001b[1;32m      2\u001b[0m \u001b[0mprint\u001b[0m\u001b[0;34m(\u001b[0m\u001b[0mconfusion_matrix\u001b[0m\u001b[0;34m(\u001b[0m\u001b[0my_test\u001b[0m\u001b[0;34m,\u001b[0m\u001b[0mpred5\u001b[0m\u001b[0;34m)\u001b[0m\u001b[0;34m)\u001b[0m\u001b[0;34m\u001b[0m\u001b[0;34m\u001b[0m\u001b[0m\n\u001b[1;32m      3\u001b[0m \u001b[0mprint\u001b[0m\u001b[0;34m(\u001b[0m\u001b[0mclassification_report\u001b[0m\u001b[0;34m(\u001b[0m\u001b[0my_test\u001b[0m\u001b[0;34m,\u001b[0m\u001b[0mpred5\u001b[0m\u001b[0;34m)\u001b[0m\u001b[0;34m)\u001b[0m\u001b[0;34m\u001b[0m\u001b[0;34m\u001b[0m\u001b[0m\n",
      "\u001b[0;31mNameError\u001b[0m: name 'X_test_p' is not defined"
     ]
    }
   ],
   "source": [
    "pred5 = clf_rf2.predict(X_test_p)\n",
    "print(confusion_matrix(y_test,pred5))\n",
    "print(classification_report(y_test,pred5))"
   ]
  },
  {
   "cell_type": "code",
   "execution_count": null,
   "metadata": {},
   "outputs": [],
   "source": [
    "prob5 = clf_rf2.predict_proba(X_test_p)\n",
    "prob5"
   ]
  },
  {
   "cell_type": "code",
   "execution_count": null,
   "metadata": {},
   "outputs": [],
   "source": [
    "target_pos = 1 # Or 0 for the other class\n",
    "fp,tp,_ = roc_curve(y_test,prob5[:,target_pos])\n",
    "plt.plot(fp,tp)\n",
    "plt.xlabel(\"false_positives\")\n",
    "plt.ylabel(\"true_positives\")"
   ]
  },
  {
   "cell_type": "code",
   "execution_count": null,
   "metadata": {},
   "outputs": [],
   "source": [
    "auc_clf_rf2 = auc(fp,tp)\n",
    "auc_clf_rf2"
   ]
  },
  {
   "cell_type": "code",
   "execution_count": null,
   "metadata": {},
   "outputs": [],
   "source": [
    "X_p = preprocessor.transform(X)\n",
    "result['clf_rf2'] = [cross_val_score(clf_rf2,X_p,y,scoring='recall').mean(),auc_clf_rf2]"
   ]
  },
  {
   "cell_type": "code",
   "execution_count": null,
   "metadata": {},
   "outputs": [],
   "source": [
    "result"
   ]
  },
  {
   "cell_type": "code",
   "execution_count": null,
   "metadata": {},
   "outputs": [],
   "source": [
    "X_p"
   ]
  },
  {
   "cell_type": "code",
   "execution_count": null,
   "metadata": {
    "scrolled": false
   },
   "outputs": [],
   "source": [
    "#no funciona cuando escalo los valores de X. Y una vez escalados, X ya se ha convertido en un array. Ver si se puede mantener Dataframe\n",
    "#importantes = pd.DataFrame(clf_rf2.feature_importances_,index=X.columns,columns=['importance']).sort_values('importance', ascending=False)\n",
    "importantes = pd.DataFrame(clf_rf2.feature_importances_,columns=['importance']).sort_values('importance', ascending=False)"
   ]
  },
  {
   "cell_type": "code",
   "execution_count": null,
   "metadata": {
    "scrolled": true
   },
   "outputs": [],
   "source": [
    "importantes"
   ]
  },
  {
   "cell_type": "code",
   "execution_count": null,
   "metadata": {},
   "outputs": [],
   "source": [
    "def plot_categorical(df, var_name, target_name, width=7, height=5, color='#13A844'):\n",
    " \n",
    "\n",
    "    # crea el ratio de target por categoria:\n",
    "\n",
    "    proporcion_target =  df.loc[:, [target_name, var_name]].groupby([var_name]).mean()\n",
    "\n",
    " \n",
    "\n",
    "    # realiza un conteo por categoria\n",
    "\n",
    "    distribucion_categoria = df.loc[:, [target_name, var_name]].groupby([var_name]).count()\n",
    "\n",
    " \n",
    "\n",
    "    # genera el gráfico\n",
    "\n",
    "    fig = plt.figure(figsize=(width, height))\n",
    "\n",
    "    ax = distribucion_categoria[target_name].plot(kind='bar', color=color)\n",
    "\n",
    "    ax.set_ylabel('Numero de samples', color=color)\n",
    "\n",
    "    ax2 = ax.twinx()\n",
    "\n",
    "    ax2.grid(False)\n",
    "\n",
    "    ax2.plot(proporcion_target[target_name].values, color='r', linestyle='-', alpha=0.9, marker = '.', markeredgewidth = 2, linewidth=1.0)\n",
    "\n",
    "    ax2.set_ylabel('ratio target', color='r')\n",
    "\n",
    "    plt.title('Descripción de variable ' + var_name)\n",
    "\n",
    "    plt.show()"
   ]
  },
  {
   "cell_type": "code",
   "execution_count": null,
   "metadata": {
    "scrolled": true
   },
   "outputs": [],
   "source": [
    "plot_categorical(df_locals_p, 'desc_distrito_local_VILLAVERDE          ', 'target', width=7, height=5, color='#13A844')"
   ]
  },
  {
   "cell_type": "code",
   "execution_count": null,
   "metadata": {},
   "outputs": [],
   "source": [
    "X.columns"
   ]
  },
  {
   "cell_type": "markdown",
   "metadata": {},
   "source": [
    "### XGBoost"
   ]
  },
  {
   "cell_type": "code",
   "execution_count": null,
   "metadata": {},
   "outputs": [],
   "source": [
    "import xgboost as xgb"
   ]
  },
  {
   "cell_type": "code",
   "execution_count": null,
   "metadata": {},
   "outputs": [],
   "source": [
    "pipe = Pipeline(steps=[('preprocessor', preprocessor),\n",
    "                      ('classifier', xgb.XGBClassifier(n_estimators=100,\n",
    "                                       colsample_bytree=0.3))])\n",
    "\n",
    "param_grid={'classifier__max_depth':np.arange(3,10),\n",
    "            'classifier__learning_rate': np.arange(1,10)/10}\n",
    "\n",
    "clf_xgb = GridSearchCV(pipe,param_grid,\n",
    "                   cv = 5,\n",
    "                   scoring = 'recall')"
   ]
  },
  {
   "cell_type": "code",
   "execution_count": null,
   "metadata": {
    "scrolled": true
   },
   "outputs": [],
   "source": [
    "clf_xgb.fit(X_train,y_train)"
   ]
  },
  {
   "cell_type": "code",
   "execution_count": null,
   "metadata": {
    "scrolled": true
   },
   "outputs": [],
   "source": [
    "clf_xgb.best_score_"
   ]
  },
  {
   "cell_type": "code",
   "execution_count": null,
   "metadata": {},
   "outputs": [],
   "source": [
    "clf_xgb.best_params_"
   ]
  },
  {
   "cell_type": "code",
   "execution_count": null,
   "metadata": {
    "scrolled": true
   },
   "outputs": [],
   "source": [
    "preds4 = clf_xgb.predict(X_test)\n",
    "print(confusion_matrix(y_test,preds4))\n",
    "print(classification_report(y_test,preds4))"
   ]
  },
  {
   "cell_type": "code",
   "execution_count": null,
   "metadata": {},
   "outputs": [],
   "source": [
    "prob4 = clf_xgb.predict_proba(X_test)\n",
    "prob4"
   ]
  },
  {
   "cell_type": "code",
   "execution_count": null,
   "metadata": {},
   "outputs": [],
   "source": [
    "target_pos = 1 # Or 0 for the other class\n",
    "fp,tp,_ = roc_curve(y_test,prob4[:,target_pos])\n",
    "plt.plot(fp,tp)\n",
    "plt.xlabel(\"false_positives\")\n",
    "plt.ylabel(\"true_positives\")"
   ]
  },
  {
   "cell_type": "code",
   "execution_count": null,
   "metadata": {},
   "outputs": [],
   "source": [
    "auc_clf_xgb = auc(fp,tp)\n",
    "auc_clf_xgb"
   ]
  },
  {
   "cell_type": "code",
   "execution_count": null,
   "metadata": {},
   "outputs": [],
   "source": [
    "result['clf_xgb'] = [clf_xgb.best_score_,auc_clf_xgb]"
   ]
  },
  {
   "cell_type": "code",
   "execution_count": null,
   "metadata": {},
   "outputs": [],
   "source": [
    "result"
   ]
  },
  {
   "cell_type": "markdown",
   "metadata": {},
   "source": [
    "## Compare Metrics"
   ]
  },
  {
   "cell_type": "markdown",
   "metadata": {},
   "source": [
    "## Interpretabilitiy"
   ]
  },
  {
   "cell_type": "markdown",
   "metadata": {},
   "source": [
    "### Permutations importance\n",
    "\n",
    "with ELI5\n",
    "To understand the features that are important for a model\n",
    "If I shuffle the values of a feature and the result of the model doesn't change, it means that the feature is not relevant for the model\n",
    "It is calculated after the model has been fit"
   ]
  },
  {
   "cell_type": "code",
   "execution_count": null,
   "metadata": {},
   "outputs": [],
   "source": [
    "import eli5\n",
    "from eli5.sklearn import PermutationImportance\n",
    "perm = PermutationImportance(clfk.best_estimator_,random_state=1).fit(X_test_p,y_test)\n",
    "eli5.show_weights(perm, feature_names= X_test_p.columns.tolist())"
   ]
  },
  {
   "cell_type": "code",
   "execution_count": null,
   "metadata": {
    "scrolled": true
   },
   "outputs": [],
   "source": [
    "clfk.best_estimator_"
   ]
  },
  {
   "cell_type": "code",
   "execution_count": null,
   "metadata": {},
   "outputs": [],
   "source": [
    "import eli5\n",
    "from eli5.sklearn import PermutationImportance\n",
    "#X_test_p = preprocessor.fit_transform(X_test).toarray()\n",
    "X_test_p = preprocessor.transform(X_test)\n",
    "perms = PermutationImportance(clfk.best_estimator_,random_state=1).fit(X_test_p.toarray(),y_test)\n",
    "#eli5.show_weights(perms)"
   ]
  },
  {
   "cell_type": "code",
   "execution_count": 128,
   "metadata": {},
   "outputs": [
    {
     "data": {
      "text/html": [
       "<div>\n",
       "<style scoped>\n",
       "    .dataframe tbody tr th:only-of-type {\n",
       "        vertical-align: middle;\n",
       "    }\n",
       "\n",
       "    .dataframe tbody tr th {\n",
       "        vertical-align: top;\n",
       "    }\n",
       "\n",
       "    .dataframe thead th {\n",
       "        text-align: right;\n",
       "    }\n",
       "</style>\n",
       "<table border=\"1\" class=\"dataframe\">\n",
       "  <thead>\n",
       "    <tr style=\"text-align: right;\">\n",
       "      <th></th>\n",
       "      <th>0</th>\n",
       "      <th>1</th>\n",
       "      <th>2</th>\n",
       "      <th>3</th>\n",
       "      <th>4</th>\n",
       "    </tr>\n",
       "  </thead>\n",
       "  <tbody>\n",
       "    <tr>\n",
       "      <th>0</th>\n",
       "      <td>CENTRO</td>\n",
       "      <td>61</td>\n",
       "      <td>12178</td>\n",
       "      <td>13</td>\n",
       "      <td>SIN AGRUPACION</td>\n",
       "    </tr>\n",
       "    <tr>\n",
       "      <th>1</th>\n",
       "      <td>CARABANCHEL</td>\n",
       "      <td>81</td>\n",
       "      <td>8645</td>\n",
       "      <td>19</td>\n",
       "      <td>Centro Comercial</td>\n",
       "    </tr>\n",
       "    <tr>\n",
       "      <th>2</th>\n",
       "      <td>LATINA</td>\n",
       "      <td>40</td>\n",
       "      <td>6847</td>\n",
       "      <td>8</td>\n",
       "      <td>SIN AGRUPACION</td>\n",
       "    </tr>\n",
       "    <tr>\n",
       "      <th>3</th>\n",
       "      <td>ARGANZUELA</td>\n",
       "      <td>39</td>\n",
       "      <td>5522</td>\n",
       "      <td>25</td>\n",
       "      <td>SIN AGRUPACION</td>\n",
       "    </tr>\n",
       "    <tr>\n",
       "      <th>4</th>\n",
       "      <td>ARGANZUELA</td>\n",
       "      <td>39</td>\n",
       "      <td>5522</td>\n",
       "      <td>21</td>\n",
       "      <td>SIN AGRUPACION</td>\n",
       "    </tr>\n",
       "    <tr>\n",
       "      <th>5</th>\n",
       "      <td>PUENTE DE VALLECAS</td>\n",
       "      <td>56</td>\n",
       "      <td>6800</td>\n",
       "      <td>8</td>\n",
       "      <td>Centro Comercial</td>\n",
       "    </tr>\n",
       "    <tr>\n",
       "      <th>6</th>\n",
       "      <td>TETUAN</td>\n",
       "      <td>55</td>\n",
       "      <td>7351</td>\n",
       "      <td>20</td>\n",
       "      <td>SIN AGRUPACION</td>\n",
       "    </tr>\n",
       "    <tr>\n",
       "      <th>7</th>\n",
       "      <td>CARABANCHEL</td>\n",
       "      <td>81</td>\n",
       "      <td>8645</td>\n",
       "      <td>19</td>\n",
       "      <td>Centro Comercial</td>\n",
       "    </tr>\n",
       "    <tr>\n",
       "      <th>8</th>\n",
       "      <td>SAN BLAS-CANILLEJAS</td>\n",
       "      <td>26</td>\n",
       "      <td>4839</td>\n",
       "      <td>6</td>\n",
       "      <td>Centro Comercial</td>\n",
       "    </tr>\n",
       "    <tr>\n",
       "      <th>9</th>\n",
       "      <td>MONCLOA-ARAVACA</td>\n",
       "      <td>24</td>\n",
       "      <td>4381</td>\n",
       "      <td>11</td>\n",
       "      <td>Centro Comercial</td>\n",
       "    </tr>\n",
       "    <tr>\n",
       "      <th>10</th>\n",
       "      <td>LATINA</td>\n",
       "      <td>40</td>\n",
       "      <td>6847</td>\n",
       "      <td>9</td>\n",
       "      <td>Centro Comercial</td>\n",
       "    </tr>\n",
       "    <tr>\n",
       "      <th>11</th>\n",
       "      <td>TETUAN</td>\n",
       "      <td>55</td>\n",
       "      <td>7351</td>\n",
       "      <td>12</td>\n",
       "      <td>SIN AGRUPACION</td>\n",
       "    </tr>\n",
       "    <tr>\n",
       "      <th>12</th>\n",
       "      <td>SAN BLAS-CANILLEJAS</td>\n",
       "      <td>26</td>\n",
       "      <td>4839</td>\n",
       "      <td>1</td>\n",
       "      <td>SIN AGRUPACION</td>\n",
       "    </tr>\n",
       "    <tr>\n",
       "      <th>13</th>\n",
       "      <td>SALAMANCA</td>\n",
       "      <td>45</td>\n",
       "      <td>8511</td>\n",
       "      <td>11</td>\n",
       "      <td>SIN AGRUPACION</td>\n",
       "    </tr>\n",
       "    <tr>\n",
       "      <th>14</th>\n",
       "      <td>RETIRO</td>\n",
       "      <td>23</td>\n",
       "      <td>4050</td>\n",
       "      <td>10</td>\n",
       "      <td>SIN AGRUPACION</td>\n",
       "    </tr>\n",
       "    <tr>\n",
       "      <th>15</th>\n",
       "      <td>MORATALAZ</td>\n",
       "      <td>13</td>\n",
       "      <td>2268</td>\n",
       "      <td>5</td>\n",
       "      <td>SIN AGRUPACION</td>\n",
       "    </tr>\n",
       "    <tr>\n",
       "      <th>16</th>\n",
       "      <td>CHAMBERI</td>\n",
       "      <td>39</td>\n",
       "      <td>7476</td>\n",
       "      <td>5</td>\n",
       "      <td>SIN AGRUPACION</td>\n",
       "    </tr>\n",
       "    <tr>\n",
       "      <th>17</th>\n",
       "      <td>CHAMBERI</td>\n",
       "      <td>39</td>\n",
       "      <td>7476</td>\n",
       "      <td>8</td>\n",
       "      <td>SIN AGRUPACION</td>\n",
       "    </tr>\n",
       "    <tr>\n",
       "      <th>18</th>\n",
       "      <td>SALAMANCA</td>\n",
       "      <td>45</td>\n",
       "      <td>8511</td>\n",
       "      <td>1</td>\n",
       "      <td>Centro Comercial</td>\n",
       "    </tr>\n",
       "    <tr>\n",
       "      <th>19</th>\n",
       "      <td>LATINA</td>\n",
       "      <td>40</td>\n",
       "      <td>6847</td>\n",
       "      <td>3</td>\n",
       "      <td>SIN AGRUPACION</td>\n",
       "    </tr>\n",
       "    <tr>\n",
       "      <th>20</th>\n",
       "      <td>CIUDAD LINEAL</td>\n",
       "      <td>40</td>\n",
       "      <td>7866</td>\n",
       "      <td>10</td>\n",
       "      <td>SIN AGRUPACION</td>\n",
       "    </tr>\n",
       "    <tr>\n",
       "      <th>21</th>\n",
       "      <td>CHAMARTIN</td>\n",
       "      <td>28</td>\n",
       "      <td>6351</td>\n",
       "      <td>2</td>\n",
       "      <td>SIN AGRUPACION</td>\n",
       "    </tr>\n",
       "    <tr>\n",
       "      <th>22</th>\n",
       "      <td>VILLA DE VALLECAS</td>\n",
       "      <td>19</td>\n",
       "      <td>3969</td>\n",
       "      <td>10</td>\n",
       "      <td>Centro Comercial</td>\n",
       "    </tr>\n",
       "    <tr>\n",
       "      <th>23</th>\n",
       "      <td>RETIRO</td>\n",
       "      <td>23</td>\n",
       "      <td>4050</td>\n",
       "      <td>1</td>\n",
       "      <td>SIN AGRUPACION</td>\n",
       "    </tr>\n",
       "    <tr>\n",
       "      <th>24</th>\n",
       "      <td>CHAMBERI</td>\n",
       "      <td>39</td>\n",
       "      <td>7476</td>\n",
       "      <td>6</td>\n",
       "      <td>SIN AGRUPACION</td>\n",
       "    </tr>\n",
       "    <tr>\n",
       "      <th>25</th>\n",
       "      <td>CHAMARTIN</td>\n",
       "      <td>28</td>\n",
       "      <td>6351</td>\n",
       "      <td>8</td>\n",
       "      <td>Interc. transportes</td>\n",
       "    </tr>\n",
       "    <tr>\n",
       "      <th>26</th>\n",
       "      <td>ARGANZUELA</td>\n",
       "      <td>39</td>\n",
       "      <td>5522</td>\n",
       "      <td>14</td>\n",
       "      <td>Estacion tren</td>\n",
       "    </tr>\n",
       "    <tr>\n",
       "      <th>27</th>\n",
       "      <td>ARGANZUELA</td>\n",
       "      <td>39</td>\n",
       "      <td>5522</td>\n",
       "      <td>15</td>\n",
       "      <td>SIN AGRUPACION</td>\n",
       "    </tr>\n",
       "    <tr>\n",
       "      <th>28</th>\n",
       "      <td>RETIRO</td>\n",
       "      <td>23</td>\n",
       "      <td>4050</td>\n",
       "      <td>5</td>\n",
       "      <td>SIN AGRUPACION</td>\n",
       "    </tr>\n",
       "    <tr>\n",
       "      <th>29</th>\n",
       "      <td>LATINA</td>\n",
       "      <td>40</td>\n",
       "      <td>6847</td>\n",
       "      <td>9</td>\n",
       "      <td>Centro Comercial</td>\n",
       "    </tr>\n",
       "    <tr>\n",
       "      <th>...</th>\n",
       "      <td>...</td>\n",
       "      <td>...</td>\n",
       "      <td>...</td>\n",
       "      <td>...</td>\n",
       "      <td>...</td>\n",
       "    </tr>\n",
       "    <tr>\n",
       "      <th>454</th>\n",
       "      <td>FUENCARRAL-EL PARDO</td>\n",
       "      <td>26</td>\n",
       "      <td>6319</td>\n",
       "      <td>19</td>\n",
       "      <td>Centro Comercial</td>\n",
       "    </tr>\n",
       "    <tr>\n",
       "      <th>455</th>\n",
       "      <td>RETIRO</td>\n",
       "      <td>23</td>\n",
       "      <td>4050</td>\n",
       "      <td>11</td>\n",
       "      <td>SIN AGRUPACION</td>\n",
       "    </tr>\n",
       "    <tr>\n",
       "      <th>456</th>\n",
       "      <td>VILLA DE VALLECAS</td>\n",
       "      <td>19</td>\n",
       "      <td>3969</td>\n",
       "      <td>10</td>\n",
       "      <td>Centro Comercial</td>\n",
       "    </tr>\n",
       "    <tr>\n",
       "      <th>457</th>\n",
       "      <td>TETUAN</td>\n",
       "      <td>55</td>\n",
       "      <td>7351</td>\n",
       "      <td>11</td>\n",
       "      <td>SIN AGRUPACION</td>\n",
       "    </tr>\n",
       "    <tr>\n",
       "      <th>458</th>\n",
       "      <td>VICALVARO</td>\n",
       "      <td>13</td>\n",
       "      <td>1657</td>\n",
       "      <td>8</td>\n",
       "      <td>SIN AGRUPACION</td>\n",
       "    </tr>\n",
       "    <tr>\n",
       "      <th>459</th>\n",
       "      <td>HORTALEZA</td>\n",
       "      <td>22</td>\n",
       "      <td>4554</td>\n",
       "      <td>4</td>\n",
       "      <td>Centro Comercial</td>\n",
       "    </tr>\n",
       "    <tr>\n",
       "      <th>460</th>\n",
       "      <td>CHAMBERI</td>\n",
       "      <td>39</td>\n",
       "      <td>7476</td>\n",
       "      <td>17</td>\n",
       "      <td>SIN AGRUPACION</td>\n",
       "    </tr>\n",
       "    <tr>\n",
       "      <th>461</th>\n",
       "      <td>CENTRO</td>\n",
       "      <td>61</td>\n",
       "      <td>12178</td>\n",
       "      <td>5</td>\n",
       "      <td>SIN AGRUPACION</td>\n",
       "    </tr>\n",
       "    <tr>\n",
       "      <th>462</th>\n",
       "      <td>ARGANZUELA</td>\n",
       "      <td>39</td>\n",
       "      <td>5522</td>\n",
       "      <td>10</td>\n",
       "      <td>SIN AGRUPACION</td>\n",
       "    </tr>\n",
       "    <tr>\n",
       "      <th>463</th>\n",
       "      <td>LATINA</td>\n",
       "      <td>40</td>\n",
       "      <td>6847</td>\n",
       "      <td>3</td>\n",
       "      <td>SIN AGRUPACION</td>\n",
       "    </tr>\n",
       "    <tr>\n",
       "      <th>464</th>\n",
       "      <td>VILLA DE VALLECAS</td>\n",
       "      <td>19</td>\n",
       "      <td>3969</td>\n",
       "      <td>10</td>\n",
       "      <td>Centro Comercial</td>\n",
       "    </tr>\n",
       "    <tr>\n",
       "      <th>465</th>\n",
       "      <td>VILLAVERDE</td>\n",
       "      <td>15</td>\n",
       "      <td>5187</td>\n",
       "      <td>6</td>\n",
       "      <td>Centro Comercial</td>\n",
       "    </tr>\n",
       "    <tr>\n",
       "      <th>466</th>\n",
       "      <td>CARABANCHEL</td>\n",
       "      <td>81</td>\n",
       "      <td>8645</td>\n",
       "      <td>21</td>\n",
       "      <td>SIN AGRUPACION</td>\n",
       "    </tr>\n",
       "    <tr>\n",
       "      <th>467</th>\n",
       "      <td>SALAMANCA</td>\n",
       "      <td>45</td>\n",
       "      <td>8511</td>\n",
       "      <td>14</td>\n",
       "      <td>SIN AGRUPACION</td>\n",
       "    </tr>\n",
       "    <tr>\n",
       "      <th>468</th>\n",
       "      <td>CARABANCHEL</td>\n",
       "      <td>81</td>\n",
       "      <td>8645</td>\n",
       "      <td>18</td>\n",
       "      <td>SIN AGRUPACION</td>\n",
       "    </tr>\n",
       "    <tr>\n",
       "      <th>469</th>\n",
       "      <td>SALAMANCA</td>\n",
       "      <td>45</td>\n",
       "      <td>8511</td>\n",
       "      <td>12</td>\n",
       "      <td>SIN AGRUPACION</td>\n",
       "    </tr>\n",
       "    <tr>\n",
       "      <th>470</th>\n",
       "      <td>SALAMANCA</td>\n",
       "      <td>45</td>\n",
       "      <td>8511</td>\n",
       "      <td>10</td>\n",
       "      <td>SIN AGRUPACION</td>\n",
       "    </tr>\n",
       "    <tr>\n",
       "      <th>471</th>\n",
       "      <td>HORTALEZA</td>\n",
       "      <td>22</td>\n",
       "      <td>4554</td>\n",
       "      <td>11</td>\n",
       "      <td>Centro Comercial</td>\n",
       "    </tr>\n",
       "    <tr>\n",
       "      <th>472</th>\n",
       "      <td>TETUAN</td>\n",
       "      <td>55</td>\n",
       "      <td>7351</td>\n",
       "      <td>6</td>\n",
       "      <td>SIN AGRUPACION</td>\n",
       "    </tr>\n",
       "    <tr>\n",
       "      <th>473</th>\n",
       "      <td>CENTRO</td>\n",
       "      <td>61</td>\n",
       "      <td>12178</td>\n",
       "      <td>25</td>\n",
       "      <td>SIN AGRUPACION</td>\n",
       "    </tr>\n",
       "    <tr>\n",
       "      <th>474</th>\n",
       "      <td>CENTRO</td>\n",
       "      <td>61</td>\n",
       "      <td>12178</td>\n",
       "      <td>25</td>\n",
       "      <td>SIN AGRUPACION</td>\n",
       "    </tr>\n",
       "    <tr>\n",
       "      <th>475</th>\n",
       "      <td>CHAMBERI</td>\n",
       "      <td>39</td>\n",
       "      <td>7476</td>\n",
       "      <td>17</td>\n",
       "      <td>SIN AGRUPACION</td>\n",
       "    </tr>\n",
       "    <tr>\n",
       "      <th>476</th>\n",
       "      <td>USERA</td>\n",
       "      <td>22</td>\n",
       "      <td>4315</td>\n",
       "      <td>16</td>\n",
       "      <td>SIN AGRUPACION</td>\n",
       "    </tr>\n",
       "    <tr>\n",
       "      <th>477</th>\n",
       "      <td>CIUDAD LINEAL</td>\n",
       "      <td>40</td>\n",
       "      <td>7866</td>\n",
       "      <td>4</td>\n",
       "      <td>SIN AGRUPACION</td>\n",
       "    </tr>\n",
       "    <tr>\n",
       "      <th>478</th>\n",
       "      <td>RETIRO</td>\n",
       "      <td>23</td>\n",
       "      <td>4050</td>\n",
       "      <td>3</td>\n",
       "      <td>SIN AGRUPACION</td>\n",
       "    </tr>\n",
       "    <tr>\n",
       "      <th>479</th>\n",
       "      <td>VILLA DE VALLECAS</td>\n",
       "      <td>19</td>\n",
       "      <td>3969</td>\n",
       "      <td>5</td>\n",
       "      <td>SIN AGRUPACION</td>\n",
       "    </tr>\n",
       "    <tr>\n",
       "      <th>480</th>\n",
       "      <td>FUENCARRAL-EL PARDO</td>\n",
       "      <td>26</td>\n",
       "      <td>6319</td>\n",
       "      <td>19</td>\n",
       "      <td>SIN AGRUPACION</td>\n",
       "    </tr>\n",
       "    <tr>\n",
       "      <th>481</th>\n",
       "      <td>CIUDAD LINEAL</td>\n",
       "      <td>40</td>\n",
       "      <td>7866</td>\n",
       "      <td>5</td>\n",
       "      <td>SIN AGRUPACION</td>\n",
       "    </tr>\n",
       "    <tr>\n",
       "      <th>482</th>\n",
       "      <td>TETUAN</td>\n",
       "      <td>55</td>\n",
       "      <td>7351</td>\n",
       "      <td>13</td>\n",
       "      <td>Galeria de Alimentacion</td>\n",
       "    </tr>\n",
       "    <tr>\n",
       "      <th>483</th>\n",
       "      <td>TETUAN</td>\n",
       "      <td>55</td>\n",
       "      <td>7351</td>\n",
       "      <td>18</td>\n",
       "      <td>SIN AGRUPACION</td>\n",
       "    </tr>\n",
       "  </tbody>\n",
       "</table>\n",
       "<p>484 rows × 5 columns</p>\n",
       "</div>"
      ],
      "text/plain": [
       "                        0   1      2   3                        4\n",
       "0    CENTRO                61  12178  13           SIN AGRUPACION\n",
       "1    CARABANCHEL           81   8645  19         Centro Comercial\n",
       "2    LATINA                40   6847   8           SIN AGRUPACION\n",
       "3    ARGANZUELA            39   5522  25           SIN AGRUPACION\n",
       "4    ARGANZUELA            39   5522  21           SIN AGRUPACION\n",
       "5    PUENTE DE VALLECAS    56   6800   8         Centro Comercial\n",
       "6    TETUAN                55   7351  20           SIN AGRUPACION\n",
       "7    CARABANCHEL           81   8645  19         Centro Comercial\n",
       "8    SAN BLAS-CANILLEJAS   26   4839   6         Centro Comercial\n",
       "9    MONCLOA-ARAVACA       24   4381  11         Centro Comercial\n",
       "10   LATINA                40   6847   9         Centro Comercial\n",
       "11   TETUAN                55   7351  12           SIN AGRUPACION\n",
       "12   SAN BLAS-CANILLEJAS   26   4839   1           SIN AGRUPACION\n",
       "13   SALAMANCA             45   8511  11           SIN AGRUPACION\n",
       "14   RETIRO                23   4050  10           SIN AGRUPACION\n",
       "15   MORATALAZ             13   2268   5           SIN AGRUPACION\n",
       "16   CHAMBERI              39   7476   5           SIN AGRUPACION\n",
       "17   CHAMBERI              39   7476   8           SIN AGRUPACION\n",
       "18   SALAMANCA             45   8511   1         Centro Comercial\n",
       "19   LATINA                40   6847   3           SIN AGRUPACION\n",
       "20   CIUDAD LINEAL         40   7866  10           SIN AGRUPACION\n",
       "21   CHAMARTIN             28   6351   2           SIN AGRUPACION\n",
       "22   VILLA DE VALLECAS     19   3969  10         Centro Comercial\n",
       "23   RETIRO                23   4050   1           SIN AGRUPACION\n",
       "24   CHAMBERI              39   7476   6           SIN AGRUPACION\n",
       "25   CHAMARTIN             28   6351   8      Interc. transportes\n",
       "26   ARGANZUELA            39   5522  14            Estacion tren\n",
       "27   ARGANZUELA            39   5522  15           SIN AGRUPACION\n",
       "28   RETIRO                23   4050   5           SIN AGRUPACION\n",
       "29   LATINA                40   6847   9         Centro Comercial\n",
       "..                    ...  ..    ...  ..                      ...\n",
       "454  FUENCARRAL-EL PARDO   26   6319  19         Centro Comercial\n",
       "455  RETIRO                23   4050  11           SIN AGRUPACION\n",
       "456  VILLA DE VALLECAS     19   3969  10         Centro Comercial\n",
       "457  TETUAN                55   7351  11           SIN AGRUPACION\n",
       "458  VICALVARO             13   1657   8           SIN AGRUPACION\n",
       "459  HORTALEZA             22   4554   4         Centro Comercial\n",
       "460  CHAMBERI              39   7476  17           SIN AGRUPACION\n",
       "461  CENTRO                61  12178   5           SIN AGRUPACION\n",
       "462  ARGANZUELA            39   5522  10           SIN AGRUPACION\n",
       "463  LATINA                40   6847   3           SIN AGRUPACION\n",
       "464  VILLA DE VALLECAS     19   3969  10         Centro Comercial\n",
       "465  VILLAVERDE            15   5187   6         Centro Comercial\n",
       "466  CARABANCHEL           81   8645  21           SIN AGRUPACION\n",
       "467  SALAMANCA             45   8511  14           SIN AGRUPACION\n",
       "468  CARABANCHEL           81   8645  18           SIN AGRUPACION\n",
       "469  SALAMANCA             45   8511  12           SIN AGRUPACION\n",
       "470  SALAMANCA             45   8511  10           SIN AGRUPACION\n",
       "471  HORTALEZA             22   4554  11         Centro Comercial\n",
       "472  TETUAN                55   7351   6           SIN AGRUPACION\n",
       "473  CENTRO                61  12178  25           SIN AGRUPACION\n",
       "474  CENTRO                61  12178  25           SIN AGRUPACION\n",
       "475  CHAMBERI              39   7476  17           SIN AGRUPACION\n",
       "476  USERA                 22   4315  16           SIN AGRUPACION\n",
       "477  CIUDAD LINEAL         40   7866   4           SIN AGRUPACION\n",
       "478  RETIRO                23   4050   3           SIN AGRUPACION\n",
       "479  VILLA DE VALLECAS     19   3969   5           SIN AGRUPACION\n",
       "480  FUENCARRAL-EL PARDO   26   6319  19           SIN AGRUPACION\n",
       "481  CIUDAD LINEAL         40   7866   5           SIN AGRUPACION\n",
       "482  TETUAN                55   7351  13  Galeria de Alimentacion\n",
       "483  TETUAN                55   7351  18           SIN AGRUPACION\n",
       "\n",
       "[484 rows x 5 columns]"
      ]
     },
     "execution_count": 128,
     "metadata": {},
     "output_type": "execute_result"
    }
   ],
   "source": [
    "pd.DataFrame(X_train.values)"
   ]
  },
  {
   "cell_type": "code",
   "execution_count": null,
   "metadata": {},
   "outputs": [],
   "source": []
  }
 ],
 "metadata": {
  "kernelspec": {
   "display_name": "Python 3",
   "language": "python",
   "name": "python3"
  },
  "language_info": {
   "codemirror_mode": {
    "name": "ipython",
    "version": 3
   },
   "file_extension": ".py",
   "mimetype": "text/x-python",
   "name": "python",
   "nbconvert_exporter": "python",
   "pygments_lexer": "ipython3",
   "version": "3.7.3"
  }
 },
 "nbformat": 4,
 "nbformat_minor": 2
}
