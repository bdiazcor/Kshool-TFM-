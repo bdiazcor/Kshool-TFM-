{
 "cells": [
  {
   "cell_type": "code",
   "execution_count": 1,
   "metadata": {},
   "outputs": [
    {
     "data": {
      "text/html": [
       "<script>\n",
       "\n",
       "code_show=true;\n",
       "\n",
       "function code_toggle() {\n",
       "\n",
       "if (code_show){\n",
       "\n",
       "$('div.input').hide();\n",
       "\n",
       "} else {\n",
       "\n",
       "$('div.input').show();\n",
       "\n",
       "}\n",
       "\n",
       "code_show = !code_show\n",
       "\n",
       "}\n",
       "\n",
       "$( document ).ready(code_toggle);\n",
       "\n",
       "</script>\n",
       "\n",
       "<form action=\"javascript:code_toggle()\"><input type=\"submit\" value=\"Click here to toggle on/off the raw code.\"></form>"
      ],
      "text/plain": [
       "<IPython.core.display.HTML object>"
      ]
     },
     "execution_count": 1,
     "metadata": {},
     "output_type": "execute_result"
    }
   ],
   "source": [
    "from IPython.display import HTML\n",
    "HTML('''<script>\n",
    "\n",
    "code_show=true;\n",
    "\n",
    "function code_toggle() {\n",
    "\n",
    "if (code_show){\n",
    "\n",
    "$('div.input').hide();\n",
    "\n",
    "} else {\n",
    "\n",
    "$('div.input').show();\n",
    "\n",
    "}\n",
    "\n",
    "code_show = !code_show\n",
    "\n",
    "}\n",
    "\n",
    "$( document ).ready(code_toggle);\n",
    "\n",
    "</script>\n",
    "\n",
    "<form action=\"javascript:code_toggle()\"><input type=\"submit\" value=\"Click here to toggle on/off the raw code.\"></form>''')"
   ]
  },
  {
   "cell_type": "markdown",
   "metadata": {},
   "source": [
    "## 1. Import libraries"
   ]
  },
  {
   "cell_type": "code",
   "execution_count": 2,
   "metadata": {
    "scrolled": true,
    "slideshow": {
     "slide_type": "notes"
    }
   },
   "outputs": [
    {
     "name": "stdout",
     "output_type": "stream",
     "text": [
      "Populating the interactive namespace from numpy and matplotlib\n",
      "Populating the interactive namespace from numpy and matplotlib\n"
     ]
    }
   ],
   "source": [
    "import pandas as pd\n",
    "import numpy as np\n",
    "import matplotlib.pyplot as plt\n",
    "import os\n",
    "import sys\n",
    "import importlib\n",
    "from sklearn.ensemble import RandomForestClassifier\n",
    "from sklearn.model_selection import cross_val_score\n",
    "from sklearn.model_selection import GridSearchCV,RandomizedSearchCV\n",
    "from sklearn.preprocessing import StandardScaler\n",
    "from sklearn.metrics import classification_report\n",
    "from sklearn.metrics import confusion_matrix, roc_curve, auc, precision_recall_curve \n",
    "from sklearn.metrics import roc_auc_score, f1_score, recall_score, precision_score\n",
    "from sklearn.pipeline import Pipeline\n",
    "import metrics\n",
    "import pickle\n",
    "%pylab inline\n",
    "pd.set_option('display.max_column',None)"
   ]
  },
  {
   "cell_type": "markdown",
   "metadata": {},
   "source": [
    "## 2. Generate dataset\n",
    "I will use the script [dataset_for_modeling.py](./dataset_for_modeling.py) that prepares the data as explained in the Exploratory Data Analysis ([Data_modeling_notebook chapter 2](./TBV1_classification_model.ipynb))"
   ]
  },
  {
   "cell_type": "code",
   "execution_count": 3,
   "metadata": {},
   "outputs": [
    {
     "name": "stdout",
     "output_type": "stream",
     "text": [
      "Total sample reserved: 445\n",
      "Total population before train and test split: 8448\n",
      "X_train, y_train, X_test, y_test and data_reserved returned\n"
     ]
    }
   ],
   "source": [
    "import dataset_for_modeling"
   ]
  },
  {
   "cell_type": "code",
   "execution_count": 4,
   "metadata": {},
   "outputs": [],
   "source": [
    "X_train = dataset_for_modeling.X_train\n",
    "y_train = dataset_for_modeling.y_train\n",
    "X_test = dataset_for_modeling.X_test\n",
    "y_test = dataset_for_modeling.y_test"
   ]
  },
  {
   "cell_type": "markdown",
   "metadata": {},
   "source": [
    "## 3.  Random Forest tuning\n",
    "**This part is composed of following chapters:**  \n",
    "1) Random Forest with Randomized Search     \n",
    "2) Random Forest with Gridsearch, score = recall  \n",
    "3) Random Forest with Gridsearch, score = AUC     \n",
    " \n",
    "\n",
    "Next, there are general assumptions for all the models:   \n",
    "\n",
    "**Managing imabalanced data**:  with class_weight \n",
    "  \n",
    "\n",
    "**Metrics**: AUC, Recall, Precision & Recal curve, f1_score, Cummulative Gain and Lift (only with best estimator)\n",
    "\n",
    "\n",
    "**Modeling Steps**:   \n",
    "1) Generate Classifier (Gridsearch for Random Forest and XGboost)   \n",
    "2) Fit   \n",
    "3) Metrics  \n",
    "4) Compare results   "
   ]
  },
  {
   "cell_type": "markdown",
   "metadata": {},
   "source": [
    "### 1) Random Forest with Randomized search (clf_rft_rs)"
   ]
  },
  {
   "cell_type": "markdown",
   "metadata": {},
   "source": [
    "#### 1) Classifier"
   ]
  },
  {
   "cell_type": "code",
   "execution_count": 5,
   "metadata": {},
   "outputs": [],
   "source": [
    "# Pipeline: scaler and classifier\n",
    "pipe_rft = Pipeline([('scaler',StandardScaler()),\n",
    "                    ('classifier', RandomForestClassifier(class_weight='balanced'))])\n",
    "\n",
    "# params to be tuned\n",
    "param_grid={'classifier__n_estimators':np.arange(20,50,10),\n",
    "            'classifier__max_features':['log2','auto',3,5,10,20],\n",
    "            'classifier__max_depth':np.arange(3,10),          \n",
    "            'classifier__min_samples_leaf': np.arange(10,30),\n",
    "            'classifier__bootstrap': [True,False],\n",
    "            'classifier__criterion': ['gini','entropy']\n",
    "                         }\n",
    "#classifier\n",
    "clf_rft_rs = RandomizedSearchCV(pipe_rft,param_grid,n_iter=20,cv = 5,\n",
    "                            iid=True,verbose=2,random_state=42,\n",
    "                            n_jobs = -1, scoring = 'recall')"
   ]
  },
  {
   "cell_type": "markdown",
   "metadata": {},
   "source": [
    "#### **2) Fit the model**"
   ]
  },
  {
   "cell_type": "code",
   "execution_count": 6,
   "metadata": {
    "scrolled": true
   },
   "outputs": [
    {
     "name": "stdout",
     "output_type": "stream",
     "text": [
      "Fitting 5 folds for each of 20 candidates, totalling 100 fits\n"
     ]
    },
    {
     "name": "stderr",
     "output_type": "stream",
     "text": [
      "[Parallel(n_jobs=-1)]: Using backend LokyBackend with 2 concurrent workers.\n",
      "[Parallel(n_jobs=-1)]: Done  37 tasks      | elapsed:   17.1s\n",
      "[Parallel(n_jobs=-1)]: Done 100 out of 100 | elapsed:   33.3s finished\n"
     ]
    },
    {
     "data": {
      "text/plain": [
       "RandomizedSearchCV(cv=5, error_score='raise-deprecating',\n",
       "                   estimator=Pipeline(memory=None,\n",
       "                                      steps=[('scaler',\n",
       "                                              StandardScaler(copy=True,\n",
       "                                                             with_mean=True,\n",
       "                                                             with_std=True)),\n",
       "                                             ('classifier',\n",
       "                                              RandomForestClassifier(bootstrap=True,\n",
       "                                                                     class_weight='balanced',\n",
       "                                                                     criterion='gini',\n",
       "                                                                     max_depth=None,\n",
       "                                                                     max_features='auto',\n",
       "                                                                     max_leaf_nodes=None,\n",
       "                                                                     min_impurity_decrease=0.0,\n",
       "                                                                     min_impurity_spl...\n",
       "                                                                  'entropy'],\n",
       "                                        'classifier__max_depth': array([3, 4, 5, 6, 7, 8, 9]),\n",
       "                                        'classifier__max_features': ['log2',\n",
       "                                                                     'auto', 3,\n",
       "                                                                     5, 10,\n",
       "                                                                     20],\n",
       "                                        'classifier__min_samples_leaf': array([10, 11, 12, 13, 14, 15, 16, 17, 18, 19, 20, 21, 22, 23, 24, 25, 26,\n",
       "       27, 28, 29]),\n",
       "                                        'classifier__n_estimators': array([20, 30, 40])},\n",
       "                   pre_dispatch='2*n_jobs', random_state=42, refit=True,\n",
       "                   return_train_score=False, scoring='recall', verbose=2)"
      ]
     },
     "execution_count": 6,
     "metadata": {},
     "output_type": "execute_result"
    }
   ],
   "source": [
    "clf_rft_rs.fit(X_train,y_train)"
   ]
  },
  {
   "cell_type": "markdown",
   "metadata": {},
   "source": [
    "**Best_parameters and score ('recall')**"
   ]
  },
  {
   "cell_type": "code",
   "execution_count": 7,
   "metadata": {
    "scrolled": false
   },
   "outputs": [
    {
     "data": {
      "text/plain": [
       "({'classifier__n_estimators': 40,\n",
       "  'classifier__min_samples_leaf': 26,\n",
       "  'classifier__max_features': 20,\n",
       "  'classifier__max_depth': 3,\n",
       "  'classifier__criterion': 'gini',\n",
       "  'classifier__bootstrap': False},\n",
       " 0.6757529634241962)"
      ]
     },
     "execution_count": 7,
     "metadata": {},
     "output_type": "execute_result"
    }
   ],
   "source": [
    "# hiperparámetros\n",
    "clf_rft_rs.best_params_, clf_rft_rs.best_score_"
   ]
  },
  {
   "cell_type": "markdown",
   "metadata": {},
   "source": [
    "**3) Metrics**  \n",
    "**Confussion matrix and classification report**  \n",
    "I this case the 'closed' recall is **0.67** (higher than random forest basic that was 0.60).  \n",
    "Although precision is lower than random forest basic: **0.11** vs 0.12   \n",
    "Anyhow, this outperforms baseline in all metrics"
   ]
  },
  {
   "cell_type": "code",
   "execution_count": 8,
   "metadata": {
    "scrolled": true
   },
   "outputs": [
    {
     "name": "stdout",
     "output_type": "stream",
     "text": [
      "Confusion matrix:\n",
      "[[1415  971]\n",
      " [  45  104]]\n",
      "Classification report:\n",
      "              precision    recall  f1-score   support\n",
      "\n",
      "           0       0.97      0.59      0.74      2386\n",
      "           1       0.10      0.70      0.17       149\n",
      "\n",
      "    accuracy                           0.60      2535\n",
      "   macro avg       0.53      0.65      0.45      2535\n",
      "weighted avg       0.92      0.60      0.70      2535\n",
      "\n"
     ]
    }
   ],
   "source": [
    "#predict class values\n",
    "pred_rft_rs = clf_rft_rs.best_estimator_.predict(X_test)\n",
    "\n",
    "#confussion matrix\n",
    "metrics.plot_cm(y_test,pred_rft_rs)"
   ]
  },
  {
   "cell_type": "markdown",
   "metadata": {},
   "source": [
    "**Roc - Auc**   "
   ]
  },
  {
   "cell_type": "code",
   "execution_count": 9,
   "metadata": {
    "scrolled": true
   },
   "outputs": [
    {
     "name": "stdout",
     "output_type": "stream",
     "text": [
      "No Skill: ROC AUC=0.500\n",
      "Random Forest RS: ROC AUC=0.703\n"
     ]
    },
    {
     "data": {
      "image/png": "[encoded data removed]",
      "text/plain": [
       "<Figure size 432x288 with 1 Axes>"
      ]
     },
     "metadata": {
      "needs_background": "light"
     },
     "output_type": "display_data"
    }
   ],
   "source": [
    "# predict probabilities\n",
    "rft_rs_prob = clf_rft_rs.best_estimator_.predict_proba(X_test)\n",
    "\n",
    "# keep probabilities for the positive outcome only\n",
    "rft_rs_prob = rft_rs_prob[:,1]\n",
    "\n",
    "# calculate AUC and ROC curve\n",
    "rft_rs_auc_roc, rft_rs_fpr, rft_rs_tpr, _rft_rs_th = metrics.plot_roc_curve(y_test,rft_rs_prob\n",
    "                                                                            ,'Random Forest RS')"
   ]
  },
  {
   "cell_type": "markdown",
   "metadata": {},
   "source": [
    "**Precision-recall curve**  "
   ]
  },
  {
   "cell_type": "code",
   "execution_count": 10,
   "metadata": {
    "scrolled": false
   },
   "outputs": [
    {
     "name": "stdout",
     "output_type": "stream",
     "text": [
      "Random Forest RS: f1=0.170 auc=0.211\n"
     ]
    },
    {
     "data": {
      "image/png": "[encoded data removed]",
      "text/plain": [
       "<Figure size 432x288 with 1 Axes>"
      ]
     },
     "metadata": {
      "needs_background": "light"
     },
     "output_type": "display_data"
    }
   ],
   "source": [
    "# precision, recall and f1\n",
    "rft_rs_f1, rft_rs_precision, rft_rs_recall = metrics.plot_prec_rec(y_test,pred_rft_rs,rft_rs_prob,\n",
    "                                                                   'Random Forest RS')"
   ]
  },
  {
   "cell_type": "markdown",
   "metadata": {},
   "source": [
    "**4) Results**  \n",
    "I load the results in the results DataFrame to compare the outputs of different models.\n",
    "Here I don't need to perform crossvalidation since the best estimator has been selected with Gridsearch"
   ]
  },
  {
   "cell_type": "code",
   "execution_count": 11,
   "metadata": {
    "scrolled": true
   },
   "outputs": [],
   "source": [
    "result = pd.DataFrame(index=['recall', 'auc_roc','f1'])\n",
    "result['clf_rf_tuned_rs'] = [recall_score(y_test,pred_rft_rs),\n",
    "                             rft_rs_auc_roc,\n",
    "                             rft_rs_f1]"
   ]
  },
  {
   "cell_type": "code",
   "execution_count": 12,
   "metadata": {
    "scrolled": false
   },
   "outputs": [
    {
     "data": {
      "text/html": [
       "<div>\n",
       "<style scoped>\n",
       "    .dataframe tbody tr th:only-of-type {\n",
       "        vertical-align: middle;\n",
       "    }\n",
       "\n",
       "    .dataframe tbody tr th {\n",
       "        vertical-align: top;\n",
       "    }\n",
       "\n",
       "    .dataframe thead th {\n",
       "        text-align: right;\n",
       "    }\n",
       "</style>\n",
       "<table border=\"1\" class=\"dataframe\">\n",
       "  <thead>\n",
       "    <tr style=\"text-align: right;\">\n",
       "      <th></th>\n",
       "      <th>clf_rf_tuned_rs</th>\n",
       "    </tr>\n",
       "  </thead>\n",
       "  <tbody>\n",
       "    <tr>\n",
       "      <th>recall</th>\n",
       "      <td>0.697987</td>\n",
       "    </tr>\n",
       "    <tr>\n",
       "      <th>auc_roc</th>\n",
       "      <td>0.703173</td>\n",
       "    </tr>\n",
       "    <tr>\n",
       "      <th>f1</th>\n",
       "      <td>0.169935</td>\n",
       "    </tr>\n",
       "  </tbody>\n",
       "</table>\n",
       "</div>"
      ],
      "text/plain": [
       "         clf_rf_tuned_rs\n",
       "recall          0.697987\n",
       "auc_roc         0.703173\n",
       "f1              0.169935"
      ]
     },
     "execution_count": 12,
     "metadata": {},
     "output_type": "execute_result"
    }
   ],
   "source": [
    "result"
   ]
  },
  {
   "cell_type": "markdown",
   "metadata": {},
   "source": [
    "### 2) Gridsearch - optimize recall (clf_rft_gsr)"
   ]
  },
  {
   "cell_type": "markdown",
   "metadata": {},
   "source": [
    "#### 1) Classifier"
   ]
  },
  {
   "cell_type": "code",
   "execution_count": 13,
   "metadata": {},
   "outputs": [],
   "source": [
    "# Pipeline: scaler and classifier\n",
    "pipe_rft = Pipeline([('scaler',StandardScaler()),\n",
    "                    ('classifier', RandomForestClassifier(class_weight='balanced'))])\n",
    "\n",
    "# params to be tuned\n",
    "param_grid={'classifier__n_estimators':np.arange(20,50,10),\n",
    "            'classifier__max_features':['auto','log2'],\n",
    "            'classifier__max_depth':np.arange(3,10),          \n",
    "            'classifier__min_samples_leaf': np.arange(10,30),\n",
    "            'classifier__bootstrap': [True,False],\n",
    "            'classifier__criterion': ['gini','entropy']\n",
    "                         }\n",
    "#classifier\n",
    "clf_rft_gsr = GridSearchCV(pipe_rft,param_grid,cv = 5,\n",
    "                            iid=True,verbose=2,\n",
    "                            n_jobs = -1, scoring = 'recall')"
   ]
  },
  {
   "cell_type": "markdown",
   "metadata": {},
   "source": [
    "#### **2) Fit the model**"
   ]
  },
  {
   "cell_type": "code",
   "execution_count": null,
   "metadata": {
    "scrolled": true
   },
   "outputs": [
    {
     "name": "stdout",
     "output_type": "stream",
     "text": [
      "Fitting 5 folds for each of 3360 candidates, totalling 16800 fits\n"
     ]
    },
    {
     "name": "stderr",
     "output_type": "stream",
     "text": [
      "[Parallel(n_jobs=-1)]: Using backend LokyBackend with 2 concurrent workers.\n",
      "[Parallel(n_jobs=-1)]: Done  37 tasks      | elapsed:    7.5s\n",
      "[Parallel(n_jobs=-1)]: Done 158 tasks      | elapsed:   31.5s\n",
      "[Parallel(n_jobs=-1)]: Done 361 tasks      | elapsed:  1.2min\n",
      "[Parallel(n_jobs=-1)]: Done 644 tasks      | elapsed:  2.3min\n",
      "[Parallel(n_jobs=-1)]: Done 1009 tasks      | elapsed:  3.4min\n",
      "[Parallel(n_jobs=-1)]: Done 1454 tasks      | elapsed:  4.7min\n",
      "[Parallel(n_jobs=-1)]: Done 1981 tasks      | elapsed:  6.1min\n",
      "[Parallel(n_jobs=-1)]: Done 2588 tasks      | elapsed:  7.1min\n",
      "[Parallel(n_jobs=-1)]: Done 3277 tasks      | elapsed:  8.3min\n",
      "[Parallel(n_jobs=-1)]: Done 4046 tasks      | elapsed:  9.6min\n",
      "[Parallel(n_jobs=-1)]: Done 4897 tasks      | elapsed: 10.8min\n",
      "[Parallel(n_jobs=-1)]: Done 5828 tasks      | elapsed: 12.2min\n",
      "[Parallel(n_jobs=-1)]: Done 6841 tasks      | elapsed: 13.8min\n"
     ]
    }
   ],
   "source": [
    "clf_rft_gsr.fit(X_train,y_train)"
   ]
  },
  {
   "cell_type": "markdown",
   "metadata": {},
   "source": [
    "**Best_parameters and score ('recall')**"
   ]
  },
  {
   "cell_type": "code",
   "execution_count": null,
   "metadata": {
    "scrolled": true
   },
   "outputs": [],
   "source": [
    "# hiperparámetros\n",
    "clf_rft_gsr.best_params_, clf_rft_gsr.best_score_"
   ]
  },
  {
   "cell_type": "markdown",
   "metadata": {},
   "source": [
    "**3) Metrics**  \n",
    "**Confussion matrix and classification report**  "
   ]
  },
  {
   "cell_type": "code",
   "execution_count": null,
   "metadata": {
    "scrolled": true
   },
   "outputs": [],
   "source": [
    "#predict class values\n",
    "pred_rft_gsr = clf_rft_gsr.best_estimator_.predict(X_test)\n",
    "\n",
    "#confussion matrix\n",
    "metrics.plot_cm(y_test,pred_rft_gsr)"
   ]
  },
  {
   "cell_type": "markdown",
   "metadata": {},
   "source": [
    "**Roc - Auc**   "
   ]
  },
  {
   "cell_type": "code",
   "execution_count": null,
   "metadata": {
    "scrolled": true
   },
   "outputs": [],
   "source": [
    "# predict probabilities\n",
    "rft_gsr_prob = clf_rft_gsr.best_estimator_.predict_proba(X_test)\n",
    "\n",
    "# keep probabilities for the positive outcome only\n",
    "rft_gsr_prob = rft_gsr_prob[:,1]\n",
    "\n",
    "# calculate AUC and ROC curve\n",
    "rft_gsr_auc_roc, rft_gsr_fpr, rft_gsr_tpr, _rft_gsr_th = metrics.plot_roc_curve(y_test,rft_gsr_prob\n",
    "                                                                                ,'Random Forest GS_recall')"
   ]
  },
  {
   "cell_type": "markdown",
   "metadata": {},
   "source": [
    "**Precision-recall curve**  "
   ]
  },
  {
   "cell_type": "code",
   "execution_count": null,
   "metadata": {
    "scrolled": true
   },
   "outputs": [],
   "source": [
    "# precision, recall and f1\n",
    "rft_gsr_f1, rft_gsr_precision, rft_gsr_recall = metrics.plot_prec_rec(y_test,pred_rft_gsr,rft_gsr_prob,\n",
    "                                                                      'Random Forest GS_recall')"
   ]
  },
  {
   "cell_type": "markdown",
   "metadata": {},
   "source": [
    "**Roc and precision and recall curves** to check possible overfitting   \n",
    "The AUC is lower in training than in test!! The same that with Xgboost. In this case I have used Gridsearch with cv. I have been reading that the hyperparameters could be overfitted also. I need to analyse this effect a bit more."
   ]
  },
  {
   "cell_type": "code",
   "execution_count": null,
   "metadata": {},
   "outputs": [],
   "source": [
    "# AUC and Roc curve for training set\n",
    "pred_train_rf = clf_rft_gsr.best_estimator_.predict(X_train)\n",
    "predic_prob_train_rf =  clf_rft_gsr.best_estimator_.predict_proba(X_train)[:,1]\n",
    "a,b,c,d = metrics.plot_roc_curve(y_train,pred_train_rf, 'Random Forest train')"
   ]
  },
  {
   "cell_type": "code",
   "execution_count": null,
   "metadata": {},
   "outputs": [],
   "source": [
    "# Precision and recall curve for training set\n",
    "x, y, z = metrics.plot_prec_rec(y_train,pred_train_rf,predic_prob_train_rf, \n",
    "                              'Random Forest train')"
   ]
  },
  {
   "cell_type": "markdown",
   "metadata": {},
   "source": [
    "**4) Results on test set**  \n",
    "I load the results in the results DataFrame to compare the outputs of different models.\n",
    "Here I don't need to perform crossvalidation since the best estimator has been selected with Gridsearch and cv"
   ]
  },
  {
   "cell_type": "code",
   "execution_count": null,
   "metadata": {
    "scrolled": true
   },
   "outputs": [],
   "source": [
    "result['clf_rf_tuned_gsr'] = [recall_score(y_test,pred_rft_gsr),\n",
    "                             rft_gsr_auc_roc,\n",
    "                             rft_gsr_f1]"
   ]
  },
  {
   "cell_type": "code",
   "execution_count": null,
   "metadata": {
    "scrolled": false
   },
   "outputs": [],
   "source": [
    "result"
   ]
  },
  {
   "cell_type": "markdown",
   "metadata": {},
   "source": [
    "### 3) Gridsearch - optimize AUC (clf_rft_gsa)"
   ]
  },
  {
   "cell_type": "code",
   "execution_count": null,
   "metadata": {
    "scrolled": true
   },
   "outputs": [],
   "source": [
    "# Pipeline: scaler and classifier\n",
    "pipe_rft = Pipeline([('scaler',StandardScaler()),\n",
    "                    ('classifier', RandomForestClassifier(class_weight='balanced'))])\n",
    "\n",
    "# params to be tuned\n",
    "param_grid={'classifier__n_estimators':np.arange(10,40,10),\n",
    "            'classifier__max_features':['auto','log2'],\n",
    "            'classifier__max_depth':np.arange(3,10),          \n",
    "            'classifier__min_samples_leaf': np.arange(10,30),\n",
    "            'classifier__bootstrap': [True,False],\n",
    "            'classifier__criterion': ['gini','entropy']\n",
    "                         }\n",
    "# With Gridsearch\n",
    "clf_rft_gsa = GridSearchCV(pipe_rft,param_grid,cv = 5,\n",
    "                            iid=True,verbose=2,\n",
    "                            n_jobs = -1, scoring = 'roc_auc')"
   ]
  },
  {
   "cell_type": "markdown",
   "metadata": {},
   "source": [
    "#### **2) Fit the model**"
   ]
  },
  {
   "cell_type": "code",
   "execution_count": null,
   "metadata": {
    "scrolled": false
   },
   "outputs": [],
   "source": [
    "clf_rft_gsa.fit(X_train,y_train)"
   ]
  },
  {
   "cell_type": "markdown",
   "metadata": {},
   "source": [
    "**Best_parameters and score ('auc')**"
   ]
  },
  {
   "cell_type": "code",
   "execution_count": null,
   "metadata": {
    "scrolled": true
   },
   "outputs": [],
   "source": [
    "# hiperparámetros\n",
    "clf_rft_gsa.best_params_, clf_rft_gsa.best_score_"
   ]
  },
  {
   "cell_type": "markdown",
   "metadata": {},
   "source": [
    "**3) Metrics**  \n",
    "**Confussion matrix and classification report**  "
   ]
  },
  {
   "cell_type": "code",
   "execution_count": null,
   "metadata": {
    "scrolled": true
   },
   "outputs": [],
   "source": [
    "#predict class values\n",
    "pred_rft_gsa = clf_rft_gsa.best_estimator_.predict(X_test)\n",
    "\n",
    "#confussion matrix\n",
    "metrics.plot_cm(y_test,pred_rft_gsa)"
   ]
  },
  {
   "cell_type": "markdown",
   "metadata": {},
   "source": [
    "**Roc - Auc**   "
   ]
  },
  {
   "cell_type": "code",
   "execution_count": null,
   "metadata": {
    "scrolled": true
   },
   "outputs": [],
   "source": [
    "# predict probabilities\n",
    "rft_gsa_prob = clf_rft_gsa.best_estimator_.predict_proba(X_test)\n",
    "\n",
    "# keep probabilities for the positive outcome only\n",
    "rft_gsa_prob = rft_gsa_prob[:,1]\n",
    "\n",
    "# calculate AUC and ROC curve\n",
    "rft_gsa_auc_roc, rft_gsa_fpr, rft_gsa_tpr, _rft_gsa_th = metrics.plot_roc_curve(y_test,rft_gsa_prob\n",
    "                                                                                ,'Random Forest GS_auc')"
   ]
  },
  {
   "cell_type": "markdown",
   "metadata": {},
   "source": [
    "**Precision-recall curve**  "
   ]
  },
  {
   "cell_type": "code",
   "execution_count": null,
   "metadata": {
    "scrolled": false
   },
   "outputs": [],
   "source": [
    "# precision, recall and f1\n",
    "rft_gsa_f1, rft_gsa_precision, rft_gsa_recall = metrics.plot_prec_rec(y_test,pred_rft_gsa,rft_gsa_prob,\n",
    "                                                                      'Random Forest GS_auc')"
   ]
  },
  {
   "cell_type": "markdown",
   "metadata": {},
   "source": [
    "**4) Results**  \n",
    "I load the results in the results DataFrame to compare the outputs of different models.\n",
    "Here I don't need to perform crossvalidation since the best estimator has been selected with Gridsearch"
   ]
  },
  {
   "cell_type": "code",
   "execution_count": null,
   "metadata": {
    "scrolled": true
   },
   "outputs": [],
   "source": [
    "result['clf_rf_tuned_gsa'] = [recall_score(y_test,pred_rft_gsa),\n",
    "                             rft_gsa_auc_roc,\n",
    "                             rft_gsa_f1]"
   ]
  },
  {
   "cell_type": "code",
   "execution_count": null,
   "metadata": {
    "scrolled": false
   },
   "outputs": [],
   "source": [
    "result"
   ]
  },
  {
   "cell_type": "code",
   "execution_count": null,
   "metadata": {},
   "outputs": [],
   "source": []
  },
  {
   "cell_type": "markdown",
   "metadata": {},
   "source": [
    "**Find Optimal cut-off**  \n",
    "The clf_rf_tuned_gsa gives us the best AUC (not a surprise, we have optimized this score). To improve the recall I am going to try to look for an optimum threshold. To calculate the optimal cut-off (true positive rate - false positive rate == 0) I use the function **metrics.Find_Optimal_Cutoff**.\n",
    "This gives me an optimal cut-off at 0.4286\n",
    "If I recalculate the "
   ]
  },
  {
   "cell_type": "code",
   "execution_count": null,
   "metadata": {
    "scrolled": true
   },
   "outputs": [],
   "source": [
    "# Add prediction probability to dataframe\n",
    "data = pd.DataFrame()\n",
    "data['pred_proba'] = pd.Series(rft_gsa_prob)\n",
    "\n",
    "# Find optimal probability threshold\n",
    "threshold = metrics.Find_Optimal_Cutoff(y_test,data['pred_proba'])\n",
    "print(threshold)\n",
    "\n",
    "# Find prediction to the dataframe applying threshold\n",
    "data['pred'] = data['pred_proba'].map(lambda x: 1 if x > threshold else 0)\n",
    "\n",
    "# Print confusion Matrix\n",
    "metrics.plot_cm(y_test,data['pred'])"
   ]
  },
  {
   "cell_type": "code",
   "execution_count": null,
   "metadata": {
    "scrolled": true
   },
   "outputs": [],
   "source": [
    "rft_gsa_new_co_f1, rft_gsa__new_co_precision, rft_gsa_new_co_recall = metrics.plot_prec_rec(y_test,data['pred'],\n",
    "                                                                                            rft_gsa_prob,\n",
    "                                                                                            'Random Forest GS_auc_new_cutoff')"
   ]
  },
  {
   "cell_type": "markdown",
   "metadata": {},
   "source": [
    "**The results are not fully comparable** since I have not used cross-validation for recall and f1 in this second scenario but it gives us an clue of improvement by selecting a more appropriate cut-off"
   ]
  },
  {
   "cell_type": "code",
   "execution_count": null,
   "metadata": {},
   "outputs": [],
   "source": [
    "result['clf_rf_tuned_gsa_new_co'] = [recall_score(y_test,data['pred']),\n",
    "                                     rft_gsa_auc_roc,\n",
    "                                     rft_gsa_new_co_f1]"
   ]
  },
  {
   "cell_type": "code",
   "execution_count": null,
   "metadata": {
    "scrolled": false
   },
   "outputs": [],
   "source": [
    "result"
   ]
  },
  {
   "cell_type": "code",
   "execution_count": null,
   "metadata": {
    "scrolled": false
   },
   "outputs": [],
   "source": [
    "importlib.reload(metrics)"
   ]
  },
  {
   "cell_type": "markdown",
   "metadata": {},
   "source": [
    "**Optimal cut off for classifier that optimizes recall (clf_rft_gsr)**   \n",
    "This is the Random Forest classifier applied for the global modeling scenarios comparison. See [Data_modeling_notebook](./TBV1_classification_model.ipynb)"
   ]
  },
  {
   "cell_type": "code",
   "execution_count": null,
   "metadata": {},
   "outputs": [],
   "source": [
    "# Add prediction probability to dataframe\n",
    "data = pd.DataFrame()\n",
    "data['pred_proba'] = pd.Series(rft_gsr_prob)\n",
    "\n",
    "# Find optimal probability threshold\n",
    "threshold = metrics.Find_Optimal_Cutoff(y_test,data['pred_proba'])\n",
    "\n",
    "# Find prediction to the dataframe applying threshold\n",
    "data['pred'] = data['pred_proba'].map(lambda x: 1 if x > threshold else 0)\n",
    "\n",
    "# Print confusion Matrix\n",
    "metrics.plot_cm(y_test,data['pred'])"
   ]
  },
  {
   "cell_type": "code",
   "execution_count": null,
   "metadata": {
    "scrolled": true
   },
   "outputs": [],
   "source": [
    "#Save the model\n",
    "import pickle\n",
    "# save models to disk (tined RF and tuned xgb)\n",
    "pickle.dump(clf_rft_rs,open('clf_rft_rs.pkl','wb'))\n",
    "pickle.dump(clf_rft_gsr,open('clf_rft_gsr.pkl','wb'))\n",
    "pickle.dump(clf_rft_gsa,open('clf_rft_gsa.pkl','wb'))"
   ]
  }
 ],
 "metadata": {
  "kernelspec": {
   "display_name": "Python 3",
   "language": "python",
   "name": "python3"
  },
  "language_info": {
   "codemirror_mode": {
    "name": "ipython",
    "version": 3
   },
   "file_extension": ".py",
   "mimetype": "text/x-python",
   "name": "python",
   "nbconvert_exporter": "python",
   "pygments_lexer": "ipython3",
   "version": "3.7.3"
  }
 },
 "nbformat": 4,
 "nbformat_minor": 2
}
