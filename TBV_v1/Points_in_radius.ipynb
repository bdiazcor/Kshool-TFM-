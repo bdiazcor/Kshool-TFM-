{
 "cells": [
  {
   "cell_type": "markdown",
   "metadata": {},
   "source": [
    "I calculate the number of local with the same activity within a radius"
   ]
  },
  {
   "cell_type": "code",
   "execution_count": 1,
   "metadata": {},
   "outputs": [],
   "source": [
    "import pandas as pd\n",
    "import clean_functions as cl"
   ]
  },
  {
   "cell_type": "code",
   "execution_count": 2,
   "metadata": {},
   "outputs": [],
   "source": [
    "df_locals_short = pd.read_csv('Data/censolocales/locals_sh.csv')"
   ]
  },
  {
   "cell_type": "code",
   "execution_count": 3,
   "metadata": {},
   "outputs": [
    {
     "data": {
      "text/plain": [
       "Index(['id_local', 'id_distrito_local', 'desc_distrito_local',\n",
       "       'id_barrio_local', 'desc_barrio_local', 'desc_tipo_acceso_local',\n",
       "       'id_situacion_local', 'desc_situacion_local', 'clase_vial_acceso',\n",
       "       'desc_vial_acceso', 'nom_acceso', 'num_acceso', 'cal_acceso',\n",
       "       'id_agrupacion', 'nombre_agrupacion', 'id_tipo_agrup',\n",
       "       'desc_tipo_agrup', 'rotulo', 'id_seccion', 'desc_seccion',\n",
       "       'id_division', 'desc_division', 'id_epigrafe', 'desc_epigrafe', 'conc',\n",
       "       'desc_sit_loc_modif_19', 'desc_sit_loc_modif_18',\n",
       "       'desc_sit_loc_modif_17', 'desc_sit_loc_modif_16',\n",
       "       'desc_sit_loc_modif_15', 'cerrado_19', 'abierto_19', 'cerrado_18',\n",
       "       'abierto_18', 'cerrado_17', 'abierto_17', 'cerrado_16', 'abierto_16',\n",
       "       'target', 'desc_act_norm', 'id_act_norm', 'ab_17_19', 'loc_dist_act',\n",
       "       'ab_dist_act_17_19', 'total_loc_act', 'total_ab_act_17_19', 'loc_dist',\n",
       "       'ab_dist_17_19', 'loc_na_dist', 'ab_dist_act_17_19_rate',\n",
       "       'total_ab_act_17_19_rate', 'total_ab_dist_17_19_rate',\n",
       "       'total_na_dist_rate', 'loc_barrio_act', 'ab_barrio_act_17_19',\n",
       "       'loc_barrio', 'ab_barrio_17_19', 'loc_na_barrio',\n",
       "       'ab_barrio_act_17_19_rate', 'total_ab_barr_17_19_rate',\n",
       "       'total_na_barr_rate', 'num_act', 'coord_x_final', 'coord_y_final',\n",
       "       'lat', 'lon', 'Población', 'Hombre', 'Mujeres',\n",
       "       'Densidad (Habitantes / Ha.)', 'Edad promedio', 'Edad mediana',\n",
       "       'Renta media/persona (euros)', 'Total Hogares', 'Españoles',\n",
       "       'Extranjeros', 'Mixtos', 'España fuera barrio dia laboral',\n",
       "       'Extranjero fuera barrio dia laboral', 'Total fuera barrio dia laboral',\n",
       "       'España fuera barrio fin semana', 'Extranjero fuera barrio fin semana',\n",
       "       'Total fuera barrio fin semana', 'Total barrio dia laboral',\n",
       "       'Total barrio fin semana', 'Total trabajo dia laboral',\n",
       "       'Total trabajo fin semana', 'total_TF_week', 'ratio_t_total',\n",
       "       'ratio_fb_total', 'ratio_b_total', 'dist_type'],\n",
       "      dtype='object')"
      ]
     },
     "execution_count": 3,
     "metadata": {},
     "output_type": "execute_result"
    }
   ],
   "source": [
    "df_locals_short.columns"
   ]
  },
  {
   "cell_type": "code",
   "execution_count": 4,
   "metadata": {},
   "outputs": [],
   "source": [
    "df_locals_short = df_locals_short[['id_local','desc_epigrafe','lat','lon']]"
   ]
  },
  {
   "cell_type": "code",
   "execution_count": 5,
   "metadata": {},
   "outputs": [
    {
     "data": {
      "text/plain": [
       "Index(['id_local', 'desc_epigrafe', 'lat', 'lon'], dtype='object')"
      ]
     },
     "execution_count": 5,
     "metadata": {},
     "output_type": "execute_result"
    }
   ],
   "source": [
    "df_locals_short.columns"
   ]
  },
  {
   "cell_type": "code",
   "execution_count": 6,
   "metadata": {},
   "outputs": [],
   "source": [
    "from geopy.distance import geodesic\n",
    "\n",
    "def points_in_radius(point1, point2,radius):\n",
    "    return geodesic(point1, point2).meters < radius\n",
    "\n",
    "df_ = df_locals_short.copy()\n",
    "df_['point'] = list(zip(df_.loc[:,'lat'],df_.loc[:,'lon']))\n",
    "df_ = (df_.groupby('desc_epigrafe')['point']\n",
    "       .agg(list)\n",
    "       .reset_index(name='tipo_puntos')\n",
    "       .merge(df_, on='desc_epigrafe',how='inner'))\n",
    "df_['points_in_radius'] = df_.apply(lambda x: len([punto for punto in x['tipo_puntos'] \n",
    "                                                   if points_in_radius(x['point'],punto,radius=500)]),axis=1)-1\n",
    "\n",
    "df_.drop(columns=['tipo_puntos','point'],inplace=True)\n",
    "cl.reset(df_)\n",
    "df__ = df_.copy()"
   ]
  },
  {
   "cell_type": "code",
   "execution_count": 7,
   "metadata": {},
   "outputs": [
    {
     "data": {
      "text/html": [
       "<div>\n",
       "<style scoped>\n",
       "    .dataframe tbody tr th:only-of-type {\n",
       "        vertical-align: middle;\n",
       "    }\n",
       "\n",
       "    .dataframe tbody tr th {\n",
       "        vertical-align: top;\n",
       "    }\n",
       "\n",
       "    .dataframe thead th {\n",
       "        text-align: right;\n",
       "    }\n",
       "</style>\n",
       "<table border=\"1\" class=\"dataframe\">\n",
       "  <thead>\n",
       "    <tr style=\"text-align: right;\">\n",
       "      <th></th>\n",
       "      <th>desc_epigrafe</th>\n",
       "      <th>id_local</th>\n",
       "      <th>lat</th>\n",
       "      <th>lon</th>\n",
       "      <th>points_in_radius</th>\n",
       "    </tr>\n",
       "  </thead>\n",
       "  <tbody>\n",
       "    <tr>\n",
       "      <th>0</th>\n",
       "      <td>ACTIVIDADES DE LOS GIMNASIOS</td>\n",
       "      <td>10001889</td>\n",
       "      <td>40.407625</td>\n",
       "      <td>-3.697174</td>\n",
       "      <td>6</td>\n",
       "    </tr>\n",
       "    <tr>\n",
       "      <th>1</th>\n",
       "      <td>ACTIVIDADES DE LOS GIMNASIOS</td>\n",
       "      <td>10003512</td>\n",
       "      <td>40.429504</td>\n",
       "      <td>-3.706725</td>\n",
       "      <td>9</td>\n",
       "    </tr>\n",
       "    <tr>\n",
       "      <th>2</th>\n",
       "      <td>ACTIVIDADES DE LOS GIMNASIOS</td>\n",
       "      <td>20001385</td>\n",
       "      <td>40.402848</td>\n",
       "      <td>-3.713764</td>\n",
       "      <td>5</td>\n",
       "    </tr>\n",
       "    <tr>\n",
       "      <th>3</th>\n",
       "      <td>ACTIVIDADES DE LOS GIMNASIOS</td>\n",
       "      <td>20001865</td>\n",
       "      <td>40.404550</td>\n",
       "      <td>-3.703706</td>\n",
       "      <td>8</td>\n",
       "    </tr>\n",
       "    <tr>\n",
       "      <th>4</th>\n",
       "      <td>ACTIVIDADES DE LOS GIMNASIOS</td>\n",
       "      <td>20002001</td>\n",
       "      <td>40.398537</td>\n",
       "      <td>-3.701275</td>\n",
       "      <td>11</td>\n",
       "    </tr>\n",
       "  </tbody>\n",
       "</table>\n",
       "</div>"
      ],
      "text/plain": [
       "                  desc_epigrafe  id_local        lat       lon  \\\n",
       "0  ACTIVIDADES DE LOS GIMNASIOS  10001889  40.407625 -3.697174   \n",
       "1  ACTIVIDADES DE LOS GIMNASIOS  10003512  40.429504 -3.706725   \n",
       "2  ACTIVIDADES DE LOS GIMNASIOS  20001385  40.402848 -3.713764   \n",
       "3  ACTIVIDADES DE LOS GIMNASIOS  20001865  40.404550 -3.703706   \n",
       "4  ACTIVIDADES DE LOS GIMNASIOS  20002001  40.398537 -3.701275   \n",
       "\n",
       "   points_in_radius  \n",
       "0                 6  \n",
       "1                 9  \n",
       "2                 5  \n",
       "3                 8  \n",
       "4                11  "
      ]
     },
     "execution_count": 7,
     "metadata": {},
     "output_type": "execute_result"
    }
   ],
   "source": [
    "df__.head()"
   ]
  },
  {
   "cell_type": "code",
   "execution_count": 8,
   "metadata": {},
   "outputs": [],
   "source": [
    "df__.to_csv('Data/censolocales/point_in_radius_short.csv',index=None, header=True)"
   ]
  },
  {
   "cell_type": "code",
   "execution_count": 9,
   "metadata": {},
   "outputs": [
    {
     "name": "stdout",
     "output_type": "stream",
     "text": [
      "<class 'pandas.core.frame.DataFrame'>\n",
      "Int64Index: 8893 entries, 0 to 8892\n",
      "Data columns (total 5 columns):\n",
      "desc_epigrafe       8893 non-null object\n",
      "id_local            8893 non-null int64\n",
      "lat                 8893 non-null float64\n",
      "lon                 8893 non-null float64\n",
      "points_in_radius    8893 non-null int64\n",
      "dtypes: float64(2), int64(2), object(1)\n",
      "memory usage: 416.9+ KB\n"
     ]
    }
   ],
   "source": [
    "df__.info()"
   ]
  },
  {
   "cell_type": "code",
   "execution_count": null,
   "metadata": {},
   "outputs": [],
   "source": []
  }
 ],
 "metadata": {
  "kernelspec": {
   "display_name": "Python 3",
   "language": "python",
   "name": "python3"
  },
  "language_info": {
   "codemirror_mode": {
    "name": "ipython",
    "version": 3
   },
   "file_extension": ".py",
   "mimetype": "text/x-python",
   "name": "python",
   "nbconvert_exporter": "python",
   "pygments_lexer": "ipython3",
   "version": "3.7.3"
  }
 },
 "nbformat": 4,
 "nbformat_minor": 2
}
